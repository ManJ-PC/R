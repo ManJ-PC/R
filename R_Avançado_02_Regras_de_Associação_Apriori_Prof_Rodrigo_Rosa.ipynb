{
  "nbformat": 4,
  "nbformat_minor": 0,
  "metadata": {
    "colab": {
      "provenance": []
    },
    "kernelspec": {
      "name": "ir",
      "display_name": "R"
    },
    "language_info": {
      "name": "R"
    }
  },
  "cells": [
    {
      "cell_type": "code",
      "source": [
        "mask_airDB = 'https://raw.githubusercontent.com/ManJ-PC/FMUPBioestatistica/master/mask_air.csv?token=GHSAT0AAAAAAB4H7ZCAUB3YRDZUTRAYC5OYY6WXHYQ'"
      ],
      "metadata": {
        "id": "K_CDel9Niz2S"
      },
      "execution_count": 65,
      "outputs": []
    },
    {
      "cell_type": "code",
      "source": [
        "symptoms_medicationDB = \"https://raw.githubusercontent.com/ManJ-PC/FMUPBioestatistica/master/sample_symptoms_medication.csv?token=GHSAT0AAAAAAB4H7ZCAOBL23JGF2GCE77TYY6WXYOQ\""
      ],
      "metadata": {
        "id": "YXGGd6pInzKG"
      },
      "execution_count": 66,
      "outputs": []
    },
    {
      "cell_type": "code",
      "source": [
        "sample_usersDB = \"https://raw.githubusercontent.com/ManJ-PC/FMUPBioestatistica/master/sample_users.csv?token=GHSAT0AAAAAAB4H7ZCBDW4CTYZQ3PQGWK2EY6WXZPA\""
      ],
      "metadata": {
        "id": "TyMDhkrZn9rO"
      },
      "execution_count": 67,
      "outputs": []
    },
    {
      "cell_type": "code",
      "source": [
        "ma_df <- read.csv(file = mask_airDB)"
      ],
      "metadata": {
        "colab": {
          "base_uri": "https://localhost:8080/",
          "height": 256
        },
        "id": "tjR7acx1hZYB",
        "outputId": "0712f904-2c8d-4a59-8b05-6154de04e83c"
      },
      "execution_count": 68,
      "outputs": [
        {
          "output_type": "stream",
          "name": "stderr",
          "text": [
            "Warning message in file(file, \"rt\"):\n",
            "“cannot open URL 'https://raw.githubusercontent.com/ManJ-PC/FMUPBioestatistica/master/mask_air.csv?token=GHSAT0AAAAAAB4H7ZCAUB3YRDZUTRAYC5OYY6WXHYQ': HTTP status was '404 Not Found'”\n"
          ]
        },
        {
          "output_type": "error",
          "ename": "ERROR",
          "evalue": "ignored",
          "traceback": [
            "Error in file(file, \"rt\"): cannot open the connection to 'https://raw.githubusercontent.com/ManJ-PC/FMUPBioestatistica/master/mask_air.csv?token=GHSAT0AAAAAAB4H7ZCAUB3YRDZUTRAYC5OYY6WXHYQ'\nTraceback:\n",
            "1. read.csv(file = mask_airDB)",
            "2. read.table(file = file, header = header, sep = sep, quote = quote, \n .     dec = dec, fill = fill, comment.char = comment.char, ...)",
            "3. file(file, \"rt\")"
          ]
        }
      ]
    },
    {
      "cell_type": "code",
      "source": [
        "ma_df"
      ],
      "metadata": {
        "id": "CnjXzhoVxubc",
        "outputId": "a7eabeaa-e2d8-4cf7-f14f-4dc2b0ad1b64",
        "colab": {
          "base_uri": "https://localhost:8080/",
          "height": 1000
        }
      },
      "execution_count": 69,
      "outputs": [
        {
          "output_type": "display_data",
          "data": {
            "text/html": [
              "<table class=\"dataframe\">\n",
              "<caption>A data.frame: 1000 × 14</caption>\n",
              "<thead>\n",
              "\t<tr><th scope=col>X</th><th scope=col>user_id</th><th scope=col>member_id</th><th scope=col>age</th><th scope=col>country</th><th scope=col>asthma</th><th scope=col>sex</th><th scope=col>symptoms_id</th><th scope=col>date</th><th scope=col>vas_nose</th><th scope=col>vas_eye</th><th scope=col>vas_asthma</th><th scope=col>rhinitis_medication</th><th scope=col>asthma_medication</th></tr>\n",
              "\t<tr><th scope=col>&lt;int&gt;</th><th scope=col>&lt;int&gt;</th><th scope=col>&lt;int&gt;</th><th scope=col>&lt;int&gt;</th><th scope=col>&lt;chr&gt;</th><th scope=col>&lt;int&gt;</th><th scope=col>&lt;chr&gt;</th><th scope=col>&lt;int&gt;</th><th scope=col>&lt;chr&gt;</th><th scope=col>&lt;int&gt;</th><th scope=col>&lt;int&gt;</th><th scope=col>&lt;int&gt;</th><th scope=col>&lt;chr&gt;</th><th scope=col>&lt;chr&gt;</th></tr>\n",
              "</thead>\n",
              "<tbody>\n",
              "\t<tr><td> 1</td><td> 1</td><td>  48</td><td>56</td><td>NL</td><td>0</td><td>M</td><td>111007</td><td>08/04/2016</td><td>77</td><td>81</td><td>NA</td><td>B_single_medication</td><td>A_no_medication    </td></tr>\n",
              "\t<tr><td> 2</td><td> 2</td><td>1026</td><td>19</td><td>GB</td><td>1</td><td>M</td><td>290424</td><td>06/10/2015</td><td>59</td><td>38</td><td>NA</td><td>C_comedication     </td><td>A_no_medication    </td></tr>\n",
              "\t<tr><td> 3</td><td> 3</td><td>1638</td><td>47</td><td>FR</td><td>0</td><td>F</td><td>368522</td><td>18/02/2019</td><td>52</td><td> 5</td><td> 0</td><td>A_no_medication    </td><td>A_no_medication    </td></tr>\n",
              "\t<tr><td> 4</td><td> 3</td><td>1638</td><td>47</td><td>FR</td><td>0</td><td>F</td><td>367628</td><td>20/11/2015</td><td> 0</td><td> 0</td><td> 6</td><td>A_no_medication    </td><td>A_no_medication    </td></tr>\n",
              "\t<tr><td> 5</td><td> 3</td><td>1638</td><td>47</td><td>FR</td><td>0</td><td>F</td><td>367798</td><td>17/09/2016</td><td> 8</td><td> 0</td><td> 2</td><td>A_no_medication    </td><td>A_no_medication    </td></tr>\n",
              "\t<tr><td> 6</td><td> 4</td><td>2064</td><td>51</td><td>FR</td><td>1</td><td>F</td><td>393432</td><td>25/12/2015</td><td>40</td><td>25</td><td>NA</td><td>A_no_medication    </td><td>A_no_medication    </td></tr>\n",
              "\t<tr><td> 7</td><td> 5</td><td>2076</td><td>23</td><td>GB</td><td>1</td><td>F</td><td>393928</td><td>26/12/2015</td><td> 3</td><td> 3</td><td>NA</td><td>A_no_medication    </td><td>A_no_medication    </td></tr>\n",
              "\t<tr><td> 8</td><td> 5</td><td>2076</td><td>23</td><td>GB</td><td>1</td><td>F</td><td>394299</td><td>21/01/2017</td><td> 9</td><td> 0</td><td> 0</td><td>A_no_medication    </td><td>A_no_medication    </td></tr>\n",
              "\t<tr><td> 9</td><td> 5</td><td>2076</td><td>23</td><td>GB</td><td>1</td><td>F</td><td>394107</td><td>02/07/2016</td><td>15</td><td> 0</td><td> 0</td><td>A_no_medication    </td><td>A_no_medication    </td></tr>\n",
              "\t<tr><td>10</td><td> 6</td><td>2082</td><td>72</td><td>PL</td><td>0</td><td>F</td><td>394940</td><td>12/01/2016</td><td>21</td><td>24</td><td>NA</td><td>A_no_medication    </td><td>A_no_medication    </td></tr>\n",
              "\t<tr><td>11</td><td> 7</td><td>3138</td><td>67</td><td>DK</td><td>0</td><td>F</td><td> 16242</td><td>08/05/2016</td><td>18</td><td>31</td><td> 8</td><td>A_no_medication    </td><td>B_single_medication</td></tr>\n",
              "\t<tr><td>12</td><td> 8</td><td>3192</td><td>32</td><td>IT</td><td>1</td><td>F</td><td> 16996</td><td>01/08/2017</td><td> 0</td><td> 1</td><td> 0</td><td>A_no_medication    </td><td>A_no_medication    </td></tr>\n",
              "\t<tr><td>13</td><td> 8</td><td>3192</td><td>32</td><td>IT</td><td>1</td><td>F</td><td> 17030</td><td>14/09/2017</td><td> 0</td><td> 0</td><td> 0</td><td>A_no_medication    </td><td>A_no_medication    </td></tr>\n",
              "\t<tr><td>14</td><td> 8</td><td>3192</td><td>32</td><td>IT</td><td>1</td><td>F</td><td> 16721</td><td>28/10/2016</td><td> 2</td><td> 0</td><td> 0</td><td>A_no_medication    </td><td>A_no_medication    </td></tr>\n",
              "\t<tr><td>15</td><td> 9</td><td>3954</td><td>38</td><td>BE</td><td>0</td><td>M</td><td> 25433</td><td>09/08/2016</td><td> 9</td><td>10</td><td>16</td><td>C_comedication     </td><td>A_no_medication    </td></tr>\n",
              "\t<tr><td>16</td><td>10</td><td>4206</td><td>32</td><td>IT</td><td>1</td><td>F</td><td> 28641</td><td>19/03/2016</td><td> 1</td><td> 0</td><td> 1</td><td>A_no_medication    </td><td>A_no_medication    </td></tr>\n",
              "\t<tr><td>17</td><td>10</td><td>4206</td><td>32</td><td>IT</td><td>1</td><td>F</td><td> 28649</td><td>27/03/2016</td><td> 0</td><td> 4</td><td>NA</td><td>A_no_medication    </td><td>A_no_medication    </td></tr>\n",
              "\t<tr><td>18</td><td>11</td><td>4458</td><td>40</td><td>IT</td><td>0</td><td>F</td><td> 32663</td><td>15/09/2016</td><td> 8</td><td> 3</td><td> 0</td><td>B_single_medication</td><td>A_no_medication    </td></tr>\n",
              "\t<tr><td>19</td><td>11</td><td>4458</td><td>40</td><td>IT</td><td>0</td><td>F</td><td> 33290</td><td>14/06/2018</td><td>14</td><td> 9</td><td> 1</td><td>A_no_medication    </td><td>A_no_medication    </td></tr>\n",
              "\t<tr><td>20</td><td>11</td><td>4458</td><td>40</td><td>IT</td><td>0</td><td>F</td><td> 32873</td><td>13/04/2017</td><td>33</td><td>19</td><td> 0</td><td>C_comedication     </td><td>A_no_medication    </td></tr>\n",
              "\t<tr><td>21</td><td>12</td><td>4650</td><td>21</td><td>DE</td><td>0</td><td>F</td><td> 41087</td><td>06/06/2016</td><td>24</td><td> 1</td><td> 0</td><td>C_comedication     </td><td>A_no_medication    </td></tr>\n",
              "\t<tr><td>22</td><td>13</td><td>4890</td><td>36</td><td>ES</td><td>0</td><td>F</td><td> 46851</td><td>01/04/2016</td><td>19</td><td> 1</td><td>NA</td><td>B_single_medication</td><td>A_no_medication    </td></tr>\n",
              "\t<tr><td>23</td><td>14</td><td>6000</td><td>37</td><td>PL</td><td>1</td><td>F</td><td> 62618</td><td>28/04/2019</td><td>51</td><td>53</td><td>35</td><td>C_comedication     </td><td>C_comedication     </td></tr>\n",
              "\t<tr><td>24</td><td>14</td><td>6000</td><td>37</td><td>PL</td><td>1</td><td>F</td><td> 62772</td><td>26/05/2021</td><td>25</td><td>61</td><td>14</td><td>C_comedication     </td><td>C_comedication     </td></tr>\n",
              "\t<tr><td>25</td><td>14</td><td>6000</td><td>37</td><td>PL</td><td>1</td><td>F</td><td> 62529</td><td>03/05/2016</td><td>75</td><td>64</td><td>49</td><td>C_comedication     </td><td>C_comedication     </td></tr>\n",
              "\t<tr><td>26</td><td>14</td><td>6000</td><td>37</td><td>PL</td><td>1</td><td>F</td><td> 62635</td><td>25/05/2019</td><td>13</td><td> 7</td><td> 6</td><td>B_single_medication</td><td>B_single_medication</td></tr>\n",
              "\t<tr><td>27</td><td>14</td><td>6000</td><td>37</td><td>PL</td><td>1</td><td>F</td><td> 62708</td><td>19/10/2019</td><td>71</td><td>18</td><td>41</td><td>C_comedication     </td><td>C_comedication     </td></tr>\n",
              "\t<tr><td>28</td><td>15</td><td>6936</td><td>23</td><td>DE</td><td>0</td><td>F</td><td> 81783</td><td>04/05/2016</td><td>17</td><td> 9</td><td>NA</td><td>B_single_medication</td><td>A_no_medication    </td></tr>\n",
              "\t<tr><td>29</td><td>15</td><td>6936</td><td>23</td><td>DE</td><td>0</td><td>F</td><td> 81777</td><td>14/04/2016</td><td>35</td><td> 0</td><td>NA</td><td>A_no_medication    </td><td>A_no_medication    </td></tr>\n",
              "\t<tr><td>30</td><td>16</td><td>6942</td><td>51</td><td>PL</td><td>1</td><td>F</td><td> 81834</td><td>29/04/2016</td><td> 0</td><td> 3</td><td> 0</td><td>C_comedication     </td><td>A_no_medication    </td></tr>\n",
              "\t<tr><td>⋮</td><td>⋮</td><td>⋮</td><td>⋮</td><td>⋮</td><td>⋮</td><td>⋮</td><td>⋮</td><td>⋮</td><td>⋮</td><td>⋮</td><td>⋮</td><td>⋮</td><td>⋮</td></tr>\n",
              "\t<tr><td> 971</td><td>760</td><td>263985</td><td>33</td><td>FR</td><td>0</td><td>F</td><td>377802</td><td>01/10/2021</td><td>52</td><td> 9</td><td>19</td><td>B_single_medication</td><td>B_single_medication</td></tr>\n",
              "\t<tr><td> 972</td><td>761</td><td>264003</td><td>48</td><td>FR</td><td>1</td><td>F</td><td>377929</td><td>07/10/2021</td><td>14</td><td>24</td><td> 5</td><td>B_single_medication</td><td>A_no_medication    </td></tr>\n",
              "\t<tr><td> 973</td><td>761</td><td>264003</td><td>48</td><td>FR</td><td>1</td><td>F</td><td>377895</td><td>27/07/2021</td><td>11</td><td> 6</td><td> 3</td><td>A_no_medication    </td><td>A_no_medication    </td></tr>\n",
              "\t<tr><td> 974</td><td>762</td><td>264081</td><td>22</td><td>BR</td><td>1</td><td>M</td><td>378257</td><td>11/08/2021</td><td> 1</td><td> 0</td><td> 0</td><td>B_single_medication</td><td>A_no_medication    </td></tr>\n",
              "\t<tr><td> 975</td><td>763</td><td>266259</td><td>49</td><td>LT</td><td>1</td><td>M</td><td>380224</td><td>22/07/2021</td><td>13</td><td> 1</td><td> 3</td><td>B_single_medication</td><td>A_no_medication    </td></tr>\n",
              "\t<tr><td> 976</td><td>764</td><td>267471</td><td>29</td><td>ES</td><td>1</td><td>M</td><td>381235</td><td>31/10/2021</td><td>27</td><td>11</td><td> 1</td><td>B_single_medication</td><td>A_no_medication    </td></tr>\n",
              "\t<tr><td> 977</td><td>765</td><td>267519</td><td>18</td><td>MX</td><td>0</td><td>M</td><td>381312</td><td>02/08/2021</td><td>44</td><td>18</td><td> 3</td><td>C_comedication     </td><td>A_no_medication    </td></tr>\n",
              "\t<tr><td> 978</td><td>766</td><td>271545</td><td>39</td><td>FR</td><td>0</td><td>M</td><td>382976</td><td>11/11/2021</td><td> 6</td><td> 0</td><td> 4</td><td>A_no_medication    </td><td>A_no_medication    </td></tr>\n",
              "\t<tr><td> 979</td><td>767</td><td>272127</td><td>31</td><td>TR</td><td>0</td><td>M</td><td>383202</td><td>28/08/2021</td><td>98</td><td> 6</td><td>92</td><td>B_single_medication</td><td>C_comedication     </td></tr>\n",
              "\t<tr><td> 980</td><td>768</td><td>272745</td><td>15</td><td>MX</td><td>0</td><td>F</td><td>383586</td><td>19/09/2021</td><td>43</td><td>32</td><td> 0</td><td>B_single_medication</td><td>A_no_medication    </td></tr>\n",
              "\t<tr><td> 981</td><td>769</td><td>272985</td><td>23</td><td>FR</td><td>0</td><td>F</td><td>383662</td><td>18/10/2021</td><td> 2</td><td> 2</td><td> 4</td><td>A_no_medication    </td><td>A_no_medication    </td></tr>\n",
              "\t<tr><td> 982</td><td>770</td><td>273675</td><td>38</td><td>PT</td><td>1</td><td>F</td><td>383970</td><td>18/10/2021</td><td> 0</td><td> 0</td><td> 1</td><td>A_no_medication    </td><td>A_no_medication    </td></tr>\n",
              "\t<tr><td> 983</td><td>771</td><td>274869</td><td>22</td><td>PT</td><td>0</td><td>M</td><td>384455</td><td>29/11/2021</td><td>69</td><td>15</td><td> 0</td><td>B_single_medication</td><td>A_no_medication    </td></tr>\n",
              "\t<tr><td> 984</td><td>772</td><td>276699</td><td>31</td><td>ES</td><td>0</td><td>F</td><td>385216</td><td>26/09/2021</td><td> 6</td><td> 7</td><td>19</td><td>A_no_medication    </td><td>A_no_medication    </td></tr>\n",
              "\t<tr><td> 985</td><td>773</td><td>276927</td><td>27</td><td>IT</td><td>0</td><td>F</td><td>385300</td><td>12/09/2021</td><td>97</td><td> 1</td><td> 0</td><td>A_no_medication    </td><td>A_no_medication    </td></tr>\n",
              "\t<tr><td> 986</td><td>774</td><td>277785</td><td>19</td><td>PT</td><td>0</td><td>F</td><td>385739</td><td>01/10/2021</td><td> 2</td><td> 5</td><td> 3</td><td>A_no_medication    </td><td>A_no_medication    </td></tr>\n",
              "\t<tr><td> 987</td><td>775</td><td>278181</td><td>48</td><td>PT</td><td>1</td><td>F</td><td>385847</td><td>19/09/2021</td><td>32</td><td>21</td><td>25</td><td>A_no_medication    </td><td>A_no_medication    </td></tr>\n",
              "\t<tr><td> 988</td><td>776</td><td>280647</td><td>50</td><td>PL</td><td>0</td><td>F</td><td>386646</td><td>01/10/2021</td><td>51</td><td>18</td><td> 2</td><td>A_no_medication    </td><td>A_no_medication    </td></tr>\n",
              "\t<tr><td> 989</td><td>777</td><td>284667</td><td>43</td><td>FR</td><td>0</td><td>F</td><td>388625</td><td>26/10/2021</td><td>56</td><td>47</td><td>60</td><td>B_single_medication</td><td>B_single_medication</td></tr>\n",
              "\t<tr><td> 990</td><td>778</td><td>285267</td><td>21</td><td>AR</td><td>0</td><td>M</td><td>389133</td><td>27/10/2021</td><td>69</td><td>49</td><td>39</td><td>C_comedication     </td><td>A_no_medication    </td></tr>\n",
              "\t<tr><td> 991</td><td>779</td><td>285627</td><td>49</td><td>FR</td><td>0</td><td>M</td><td>389280</td><td>04/11/2021</td><td> 2</td><td> 0</td><td> 1</td><td>A_no_medication    </td><td>A_no_medication    </td></tr>\n",
              "\t<tr><td> 992</td><td>780</td><td>285777</td><td>28</td><td>FR</td><td>0</td><td>M</td><td>389380</td><td>27/12/2021</td><td> 1</td><td> 0</td><td> 5</td><td>A_no_medication    </td><td>A_no_medication    </td></tr>\n",
              "\t<tr><td> 993</td><td>781</td><td>287973</td><td>33</td><td>PT</td><td>0</td><td>F</td><td>390065</td><td>13/11/2021</td><td>28</td><td>29</td><td> 0</td><td>A_no_medication    </td><td>A_no_medication    </td></tr>\n",
              "\t<tr><td> 994</td><td>782</td><td>291231</td><td>25</td><td>FR</td><td>0</td><td>F</td><td>391706</td><td>25/11/2021</td><td>19</td><td> 1</td><td> 4</td><td>A_no_medication    </td><td>A_no_medication    </td></tr>\n",
              "\t<tr><td> 995</td><td>783</td><td>291441</td><td>22</td><td>FR</td><td>1</td><td>M</td><td>391855</td><td>27/11/2021</td><td> 7</td><td> 2</td><td> 1</td><td>A_no_medication    </td><td>A_no_medication    </td></tr>\n",
              "\t<tr><td> 996</td><td>784</td><td>292287</td><td>60</td><td>IT</td><td>0</td><td>M</td><td>392163</td><td>27/11/2021</td><td>14</td><td> 2</td><td> 4</td><td>C_comedication     </td><td>A_no_medication    </td></tr>\n",
              "\t<tr><td> 997</td><td>785</td><td>292737</td><td>25</td><td>FR</td><td>0</td><td>M</td><td>392249</td><td>19/12/2021</td><td> 4</td><td> 2</td><td> 2</td><td>A_no_medication    </td><td>A_no_medication    </td></tr>\n",
              "\t<tr><td> 998</td><td>786</td><td>297285</td><td>28</td><td>FR</td><td>1</td><td>M</td><td>394921</td><td>25/12/2021</td><td>65</td><td> 3</td><td> 7</td><td>A_no_medication    </td><td>A_no_medication    </td></tr>\n",
              "\t<tr><td> 999</td><td>787</td><td>302223</td><td>37</td><td>IT</td><td>1</td><td>F</td><td>   449</td><td>23/12/2021</td><td>86</td><td>62</td><td> 3</td><td>A_no_medication    </td><td>A_no_medication    </td></tr>\n",
              "\t<tr><td>1000</td><td>788</td><td>304299</td><td>23</td><td>IT</td><td>1</td><td>F</td><td>  1096</td><td>29/12/2021</td><td>96</td><td>35</td><td>12</td><td>A_no_medication    </td><td>A_no_medication    </td></tr>\n",
              "</tbody>\n",
              "</table>\n"
            ],
            "text/markdown": "\nA data.frame: 1000 × 14\n\n| X &lt;int&gt; | user_id &lt;int&gt; | member_id &lt;int&gt; | age &lt;int&gt; | country &lt;chr&gt; | asthma &lt;int&gt; | sex &lt;chr&gt; | symptoms_id &lt;int&gt; | date &lt;chr&gt; | vas_nose &lt;int&gt; | vas_eye &lt;int&gt; | vas_asthma &lt;int&gt; | rhinitis_medication &lt;chr&gt; | asthma_medication &lt;chr&gt; |\n|---|---|---|---|---|---|---|---|---|---|---|---|---|---|\n|  1 |  1 |   48 | 56 | NL | 0 | M | 111007 | 08/04/2016 | 77 | 81 | NA | B_single_medication | A_no_medication     |\n|  2 |  2 | 1026 | 19 | GB | 1 | M | 290424 | 06/10/2015 | 59 | 38 | NA | C_comedication      | A_no_medication     |\n|  3 |  3 | 1638 | 47 | FR | 0 | F | 368522 | 18/02/2019 | 52 |  5 |  0 | A_no_medication     | A_no_medication     |\n|  4 |  3 | 1638 | 47 | FR | 0 | F | 367628 | 20/11/2015 |  0 |  0 |  6 | A_no_medication     | A_no_medication     |\n|  5 |  3 | 1638 | 47 | FR | 0 | F | 367798 | 17/09/2016 |  8 |  0 |  2 | A_no_medication     | A_no_medication     |\n|  6 |  4 | 2064 | 51 | FR | 1 | F | 393432 | 25/12/2015 | 40 | 25 | NA | A_no_medication     | A_no_medication     |\n|  7 |  5 | 2076 | 23 | GB | 1 | F | 393928 | 26/12/2015 |  3 |  3 | NA | A_no_medication     | A_no_medication     |\n|  8 |  5 | 2076 | 23 | GB | 1 | F | 394299 | 21/01/2017 |  9 |  0 |  0 | A_no_medication     | A_no_medication     |\n|  9 |  5 | 2076 | 23 | GB | 1 | F | 394107 | 02/07/2016 | 15 |  0 |  0 | A_no_medication     | A_no_medication     |\n| 10 |  6 | 2082 | 72 | PL | 0 | F | 394940 | 12/01/2016 | 21 | 24 | NA | A_no_medication     | A_no_medication     |\n| 11 |  7 | 3138 | 67 | DK | 0 | F |  16242 | 08/05/2016 | 18 | 31 |  8 | A_no_medication     | B_single_medication |\n| 12 |  8 | 3192 | 32 | IT | 1 | F |  16996 | 01/08/2017 |  0 |  1 |  0 | A_no_medication     | A_no_medication     |\n| 13 |  8 | 3192 | 32 | IT | 1 | F |  17030 | 14/09/2017 |  0 |  0 |  0 | A_no_medication     | A_no_medication     |\n| 14 |  8 | 3192 | 32 | IT | 1 | F |  16721 | 28/10/2016 |  2 |  0 |  0 | A_no_medication     | A_no_medication     |\n| 15 |  9 | 3954 | 38 | BE | 0 | M |  25433 | 09/08/2016 |  9 | 10 | 16 | C_comedication      | A_no_medication     |\n| 16 | 10 | 4206 | 32 | IT | 1 | F |  28641 | 19/03/2016 |  1 |  0 |  1 | A_no_medication     | A_no_medication     |\n| 17 | 10 | 4206 | 32 | IT | 1 | F |  28649 | 27/03/2016 |  0 |  4 | NA | A_no_medication     | A_no_medication     |\n| 18 | 11 | 4458 | 40 | IT | 0 | F |  32663 | 15/09/2016 |  8 |  3 |  0 | B_single_medication | A_no_medication     |\n| 19 | 11 | 4458 | 40 | IT | 0 | F |  33290 | 14/06/2018 | 14 |  9 |  1 | A_no_medication     | A_no_medication     |\n| 20 | 11 | 4458 | 40 | IT | 0 | F |  32873 | 13/04/2017 | 33 | 19 |  0 | C_comedication      | A_no_medication     |\n| 21 | 12 | 4650 | 21 | DE | 0 | F |  41087 | 06/06/2016 | 24 |  1 |  0 | C_comedication      | A_no_medication     |\n| 22 | 13 | 4890 | 36 | ES | 0 | F |  46851 | 01/04/2016 | 19 |  1 | NA | B_single_medication | A_no_medication     |\n| 23 | 14 | 6000 | 37 | PL | 1 | F |  62618 | 28/04/2019 | 51 | 53 | 35 | C_comedication      | C_comedication      |\n| 24 | 14 | 6000 | 37 | PL | 1 | F |  62772 | 26/05/2021 | 25 | 61 | 14 | C_comedication      | C_comedication      |\n| 25 | 14 | 6000 | 37 | PL | 1 | F |  62529 | 03/05/2016 | 75 | 64 | 49 | C_comedication      | C_comedication      |\n| 26 | 14 | 6000 | 37 | PL | 1 | F |  62635 | 25/05/2019 | 13 |  7 |  6 | B_single_medication | B_single_medication |\n| 27 | 14 | 6000 | 37 | PL | 1 | F |  62708 | 19/10/2019 | 71 | 18 | 41 | C_comedication      | C_comedication      |\n| 28 | 15 | 6936 | 23 | DE | 0 | F |  81783 | 04/05/2016 | 17 |  9 | NA | B_single_medication | A_no_medication     |\n| 29 | 15 | 6936 | 23 | DE | 0 | F |  81777 | 14/04/2016 | 35 |  0 | NA | A_no_medication     | A_no_medication     |\n| 30 | 16 | 6942 | 51 | PL | 1 | F |  81834 | 29/04/2016 |  0 |  3 |  0 | C_comedication      | A_no_medication     |\n| ⋮ | ⋮ | ⋮ | ⋮ | ⋮ | ⋮ | ⋮ | ⋮ | ⋮ | ⋮ | ⋮ | ⋮ | ⋮ | ⋮ |\n|  971 | 760 | 263985 | 33 | FR | 0 | F | 377802 | 01/10/2021 | 52 |  9 | 19 | B_single_medication | B_single_medication |\n|  972 | 761 | 264003 | 48 | FR | 1 | F | 377929 | 07/10/2021 | 14 | 24 |  5 | B_single_medication | A_no_medication     |\n|  973 | 761 | 264003 | 48 | FR | 1 | F | 377895 | 27/07/2021 | 11 |  6 |  3 | A_no_medication     | A_no_medication     |\n|  974 | 762 | 264081 | 22 | BR | 1 | M | 378257 | 11/08/2021 |  1 |  0 |  0 | B_single_medication | A_no_medication     |\n|  975 | 763 | 266259 | 49 | LT | 1 | M | 380224 | 22/07/2021 | 13 |  1 |  3 | B_single_medication | A_no_medication     |\n|  976 | 764 | 267471 | 29 | ES | 1 | M | 381235 | 31/10/2021 | 27 | 11 |  1 | B_single_medication | A_no_medication     |\n|  977 | 765 | 267519 | 18 | MX | 0 | M | 381312 | 02/08/2021 | 44 | 18 |  3 | C_comedication      | A_no_medication     |\n|  978 | 766 | 271545 | 39 | FR | 0 | M | 382976 | 11/11/2021 |  6 |  0 |  4 | A_no_medication     | A_no_medication     |\n|  979 | 767 | 272127 | 31 | TR | 0 | M | 383202 | 28/08/2021 | 98 |  6 | 92 | B_single_medication | C_comedication      |\n|  980 | 768 | 272745 | 15 | MX | 0 | F | 383586 | 19/09/2021 | 43 | 32 |  0 | B_single_medication | A_no_medication     |\n|  981 | 769 | 272985 | 23 | FR | 0 | F | 383662 | 18/10/2021 |  2 |  2 |  4 | A_no_medication     | A_no_medication     |\n|  982 | 770 | 273675 | 38 | PT | 1 | F | 383970 | 18/10/2021 |  0 |  0 |  1 | A_no_medication     | A_no_medication     |\n|  983 | 771 | 274869 | 22 | PT | 0 | M | 384455 | 29/11/2021 | 69 | 15 |  0 | B_single_medication | A_no_medication     |\n|  984 | 772 | 276699 | 31 | ES | 0 | F | 385216 | 26/09/2021 |  6 |  7 | 19 | A_no_medication     | A_no_medication     |\n|  985 | 773 | 276927 | 27 | IT | 0 | F | 385300 | 12/09/2021 | 97 |  1 |  0 | A_no_medication     | A_no_medication     |\n|  986 | 774 | 277785 | 19 | PT | 0 | F | 385739 | 01/10/2021 |  2 |  5 |  3 | A_no_medication     | A_no_medication     |\n|  987 | 775 | 278181 | 48 | PT | 1 | F | 385847 | 19/09/2021 | 32 | 21 | 25 | A_no_medication     | A_no_medication     |\n|  988 | 776 | 280647 | 50 | PL | 0 | F | 386646 | 01/10/2021 | 51 | 18 |  2 | A_no_medication     | A_no_medication     |\n|  989 | 777 | 284667 | 43 | FR | 0 | F | 388625 | 26/10/2021 | 56 | 47 | 60 | B_single_medication | B_single_medication |\n|  990 | 778 | 285267 | 21 | AR | 0 | M | 389133 | 27/10/2021 | 69 | 49 | 39 | C_comedication      | A_no_medication     |\n|  991 | 779 | 285627 | 49 | FR | 0 | M | 389280 | 04/11/2021 |  2 |  0 |  1 | A_no_medication     | A_no_medication     |\n|  992 | 780 | 285777 | 28 | FR | 0 | M | 389380 | 27/12/2021 |  1 |  0 |  5 | A_no_medication     | A_no_medication     |\n|  993 | 781 | 287973 | 33 | PT | 0 | F | 390065 | 13/11/2021 | 28 | 29 |  0 | A_no_medication     | A_no_medication     |\n|  994 | 782 | 291231 | 25 | FR | 0 | F | 391706 | 25/11/2021 | 19 |  1 |  4 | A_no_medication     | A_no_medication     |\n|  995 | 783 | 291441 | 22 | FR | 1 | M | 391855 | 27/11/2021 |  7 |  2 |  1 | A_no_medication     | A_no_medication     |\n|  996 | 784 | 292287 | 60 | IT | 0 | M | 392163 | 27/11/2021 | 14 |  2 |  4 | C_comedication      | A_no_medication     |\n|  997 | 785 | 292737 | 25 | FR | 0 | M | 392249 | 19/12/2021 |  4 |  2 |  2 | A_no_medication     | A_no_medication     |\n|  998 | 786 | 297285 | 28 | FR | 1 | M | 394921 | 25/12/2021 | 65 |  3 |  7 | A_no_medication     | A_no_medication     |\n|  999 | 787 | 302223 | 37 | IT | 1 | F |    449 | 23/12/2021 | 86 | 62 |  3 | A_no_medication     | A_no_medication     |\n| 1000 | 788 | 304299 | 23 | IT | 1 | F |   1096 | 29/12/2021 | 96 | 35 | 12 | A_no_medication     | A_no_medication     |\n\n",
            "text/latex": "A data.frame: 1000 × 14\n\\begin{tabular}{llllllllllllll}\n X & user\\_id & member\\_id & age & country & asthma & sex & symptoms\\_id & date & vas\\_nose & vas\\_eye & vas\\_asthma & rhinitis\\_medication & asthma\\_medication\\\\\n <int> & <int> & <int> & <int> & <chr> & <int> & <chr> & <int> & <chr> & <int> & <int> & <int> & <chr> & <chr>\\\\\n\\hline\n\t  1 &  1 &   48 & 56 & NL & 0 & M & 111007 & 08/04/2016 & 77 & 81 & NA & B\\_single\\_medication & A\\_no\\_medication    \\\\\n\t  2 &  2 & 1026 & 19 & GB & 1 & M & 290424 & 06/10/2015 & 59 & 38 & NA & C\\_comedication      & A\\_no\\_medication    \\\\\n\t  3 &  3 & 1638 & 47 & FR & 0 & F & 368522 & 18/02/2019 & 52 &  5 &  0 & A\\_no\\_medication     & A\\_no\\_medication    \\\\\n\t  4 &  3 & 1638 & 47 & FR & 0 & F & 367628 & 20/11/2015 &  0 &  0 &  6 & A\\_no\\_medication     & A\\_no\\_medication    \\\\\n\t  5 &  3 & 1638 & 47 & FR & 0 & F & 367798 & 17/09/2016 &  8 &  0 &  2 & A\\_no\\_medication     & A\\_no\\_medication    \\\\\n\t  6 &  4 & 2064 & 51 & FR & 1 & F & 393432 & 25/12/2015 & 40 & 25 & NA & A\\_no\\_medication     & A\\_no\\_medication    \\\\\n\t  7 &  5 & 2076 & 23 & GB & 1 & F & 393928 & 26/12/2015 &  3 &  3 & NA & A\\_no\\_medication     & A\\_no\\_medication    \\\\\n\t  8 &  5 & 2076 & 23 & GB & 1 & F & 394299 & 21/01/2017 &  9 &  0 &  0 & A\\_no\\_medication     & A\\_no\\_medication    \\\\\n\t  9 &  5 & 2076 & 23 & GB & 1 & F & 394107 & 02/07/2016 & 15 &  0 &  0 & A\\_no\\_medication     & A\\_no\\_medication    \\\\\n\t 10 &  6 & 2082 & 72 & PL & 0 & F & 394940 & 12/01/2016 & 21 & 24 & NA & A\\_no\\_medication     & A\\_no\\_medication    \\\\\n\t 11 &  7 & 3138 & 67 & DK & 0 & F &  16242 & 08/05/2016 & 18 & 31 &  8 & A\\_no\\_medication     & B\\_single\\_medication\\\\\n\t 12 &  8 & 3192 & 32 & IT & 1 & F &  16996 & 01/08/2017 &  0 &  1 &  0 & A\\_no\\_medication     & A\\_no\\_medication    \\\\\n\t 13 &  8 & 3192 & 32 & IT & 1 & F &  17030 & 14/09/2017 &  0 &  0 &  0 & A\\_no\\_medication     & A\\_no\\_medication    \\\\\n\t 14 &  8 & 3192 & 32 & IT & 1 & F &  16721 & 28/10/2016 &  2 &  0 &  0 & A\\_no\\_medication     & A\\_no\\_medication    \\\\\n\t 15 &  9 & 3954 & 38 & BE & 0 & M &  25433 & 09/08/2016 &  9 & 10 & 16 & C\\_comedication      & A\\_no\\_medication    \\\\\n\t 16 & 10 & 4206 & 32 & IT & 1 & F &  28641 & 19/03/2016 &  1 &  0 &  1 & A\\_no\\_medication     & A\\_no\\_medication    \\\\\n\t 17 & 10 & 4206 & 32 & IT & 1 & F &  28649 & 27/03/2016 &  0 &  4 & NA & A\\_no\\_medication     & A\\_no\\_medication    \\\\\n\t 18 & 11 & 4458 & 40 & IT & 0 & F &  32663 & 15/09/2016 &  8 &  3 &  0 & B\\_single\\_medication & A\\_no\\_medication    \\\\\n\t 19 & 11 & 4458 & 40 & IT & 0 & F &  33290 & 14/06/2018 & 14 &  9 &  1 & A\\_no\\_medication     & A\\_no\\_medication    \\\\\n\t 20 & 11 & 4458 & 40 & IT & 0 & F &  32873 & 13/04/2017 & 33 & 19 &  0 & C\\_comedication      & A\\_no\\_medication    \\\\\n\t 21 & 12 & 4650 & 21 & DE & 0 & F &  41087 & 06/06/2016 & 24 &  1 &  0 & C\\_comedication      & A\\_no\\_medication    \\\\\n\t 22 & 13 & 4890 & 36 & ES & 0 & F &  46851 & 01/04/2016 & 19 &  1 & NA & B\\_single\\_medication & A\\_no\\_medication    \\\\\n\t 23 & 14 & 6000 & 37 & PL & 1 & F &  62618 & 28/04/2019 & 51 & 53 & 35 & C\\_comedication      & C\\_comedication     \\\\\n\t 24 & 14 & 6000 & 37 & PL & 1 & F &  62772 & 26/05/2021 & 25 & 61 & 14 & C\\_comedication      & C\\_comedication     \\\\\n\t 25 & 14 & 6000 & 37 & PL & 1 & F &  62529 & 03/05/2016 & 75 & 64 & 49 & C\\_comedication      & C\\_comedication     \\\\\n\t 26 & 14 & 6000 & 37 & PL & 1 & F &  62635 & 25/05/2019 & 13 &  7 &  6 & B\\_single\\_medication & B\\_single\\_medication\\\\\n\t 27 & 14 & 6000 & 37 & PL & 1 & F &  62708 & 19/10/2019 & 71 & 18 & 41 & C\\_comedication      & C\\_comedication     \\\\\n\t 28 & 15 & 6936 & 23 & DE & 0 & F &  81783 & 04/05/2016 & 17 &  9 & NA & B\\_single\\_medication & A\\_no\\_medication    \\\\\n\t 29 & 15 & 6936 & 23 & DE & 0 & F &  81777 & 14/04/2016 & 35 &  0 & NA & A\\_no\\_medication     & A\\_no\\_medication    \\\\\n\t 30 & 16 & 6942 & 51 & PL & 1 & F &  81834 & 29/04/2016 &  0 &  3 &  0 & C\\_comedication      & A\\_no\\_medication    \\\\\n\t ⋮ & ⋮ & ⋮ & ⋮ & ⋮ & ⋮ & ⋮ & ⋮ & ⋮ & ⋮ & ⋮ & ⋮ & ⋮ & ⋮\\\\\n\t  971 & 760 & 263985 & 33 & FR & 0 & F & 377802 & 01/10/2021 & 52 &  9 & 19 & B\\_single\\_medication & B\\_single\\_medication\\\\\n\t  972 & 761 & 264003 & 48 & FR & 1 & F & 377929 & 07/10/2021 & 14 & 24 &  5 & B\\_single\\_medication & A\\_no\\_medication    \\\\\n\t  973 & 761 & 264003 & 48 & FR & 1 & F & 377895 & 27/07/2021 & 11 &  6 &  3 & A\\_no\\_medication     & A\\_no\\_medication    \\\\\n\t  974 & 762 & 264081 & 22 & BR & 1 & M & 378257 & 11/08/2021 &  1 &  0 &  0 & B\\_single\\_medication & A\\_no\\_medication    \\\\\n\t  975 & 763 & 266259 & 49 & LT & 1 & M & 380224 & 22/07/2021 & 13 &  1 &  3 & B\\_single\\_medication & A\\_no\\_medication    \\\\\n\t  976 & 764 & 267471 & 29 & ES & 1 & M & 381235 & 31/10/2021 & 27 & 11 &  1 & B\\_single\\_medication & A\\_no\\_medication    \\\\\n\t  977 & 765 & 267519 & 18 & MX & 0 & M & 381312 & 02/08/2021 & 44 & 18 &  3 & C\\_comedication      & A\\_no\\_medication    \\\\\n\t  978 & 766 & 271545 & 39 & FR & 0 & M & 382976 & 11/11/2021 &  6 &  0 &  4 & A\\_no\\_medication     & A\\_no\\_medication    \\\\\n\t  979 & 767 & 272127 & 31 & TR & 0 & M & 383202 & 28/08/2021 & 98 &  6 & 92 & B\\_single\\_medication & C\\_comedication     \\\\\n\t  980 & 768 & 272745 & 15 & MX & 0 & F & 383586 & 19/09/2021 & 43 & 32 &  0 & B\\_single\\_medication & A\\_no\\_medication    \\\\\n\t  981 & 769 & 272985 & 23 & FR & 0 & F & 383662 & 18/10/2021 &  2 &  2 &  4 & A\\_no\\_medication     & A\\_no\\_medication    \\\\\n\t  982 & 770 & 273675 & 38 & PT & 1 & F & 383970 & 18/10/2021 &  0 &  0 &  1 & A\\_no\\_medication     & A\\_no\\_medication    \\\\\n\t  983 & 771 & 274869 & 22 & PT & 0 & M & 384455 & 29/11/2021 & 69 & 15 &  0 & B\\_single\\_medication & A\\_no\\_medication    \\\\\n\t  984 & 772 & 276699 & 31 & ES & 0 & F & 385216 & 26/09/2021 &  6 &  7 & 19 & A\\_no\\_medication     & A\\_no\\_medication    \\\\\n\t  985 & 773 & 276927 & 27 & IT & 0 & F & 385300 & 12/09/2021 & 97 &  1 &  0 & A\\_no\\_medication     & A\\_no\\_medication    \\\\\n\t  986 & 774 & 277785 & 19 & PT & 0 & F & 385739 & 01/10/2021 &  2 &  5 &  3 & A\\_no\\_medication     & A\\_no\\_medication    \\\\\n\t  987 & 775 & 278181 & 48 & PT & 1 & F & 385847 & 19/09/2021 & 32 & 21 & 25 & A\\_no\\_medication     & A\\_no\\_medication    \\\\\n\t  988 & 776 & 280647 & 50 & PL & 0 & F & 386646 & 01/10/2021 & 51 & 18 &  2 & A\\_no\\_medication     & A\\_no\\_medication    \\\\\n\t  989 & 777 & 284667 & 43 & FR & 0 & F & 388625 & 26/10/2021 & 56 & 47 & 60 & B\\_single\\_medication & B\\_single\\_medication\\\\\n\t  990 & 778 & 285267 & 21 & AR & 0 & M & 389133 & 27/10/2021 & 69 & 49 & 39 & C\\_comedication      & A\\_no\\_medication    \\\\\n\t  991 & 779 & 285627 & 49 & FR & 0 & M & 389280 & 04/11/2021 &  2 &  0 &  1 & A\\_no\\_medication     & A\\_no\\_medication    \\\\\n\t  992 & 780 & 285777 & 28 & FR & 0 & M & 389380 & 27/12/2021 &  1 &  0 &  5 & A\\_no\\_medication     & A\\_no\\_medication    \\\\\n\t  993 & 781 & 287973 & 33 & PT & 0 & F & 390065 & 13/11/2021 & 28 & 29 &  0 & A\\_no\\_medication     & A\\_no\\_medication    \\\\\n\t  994 & 782 & 291231 & 25 & FR & 0 & F & 391706 & 25/11/2021 & 19 &  1 &  4 & A\\_no\\_medication     & A\\_no\\_medication    \\\\\n\t  995 & 783 & 291441 & 22 & FR & 1 & M & 391855 & 27/11/2021 &  7 &  2 &  1 & A\\_no\\_medication     & A\\_no\\_medication    \\\\\n\t  996 & 784 & 292287 & 60 & IT & 0 & M & 392163 & 27/11/2021 & 14 &  2 &  4 & C\\_comedication      & A\\_no\\_medication    \\\\\n\t  997 & 785 & 292737 & 25 & FR & 0 & M & 392249 & 19/12/2021 &  4 &  2 &  2 & A\\_no\\_medication     & A\\_no\\_medication    \\\\\n\t  998 & 786 & 297285 & 28 & FR & 1 & M & 394921 & 25/12/2021 & 65 &  3 &  7 & A\\_no\\_medication     & A\\_no\\_medication    \\\\\n\t  999 & 787 & 302223 & 37 & IT & 1 & F &    449 & 23/12/2021 & 86 & 62 &  3 & A\\_no\\_medication     & A\\_no\\_medication    \\\\\n\t 1000 & 788 & 304299 & 23 & IT & 1 & F &   1096 & 29/12/2021 & 96 & 35 & 12 & A\\_no\\_medication     & A\\_no\\_medication    \\\\\n\\end{tabular}\n",
            "text/plain": [
              "     X    user_id member_id age country asthma sex symptoms_id date      \n",
              "1     1    1        48      56  NL      0      M   111007      08/04/2016\n",
              "2     2    2      1026      19  GB      1      M   290424      06/10/2015\n",
              "3     3    3      1638      47  FR      0      F   368522      18/02/2019\n",
              "4     4    3      1638      47  FR      0      F   367628      20/11/2015\n",
              "5     5    3      1638      47  FR      0      F   367798      17/09/2016\n",
              "6     6    4      2064      51  FR      1      F   393432      25/12/2015\n",
              "7     7    5      2076      23  GB      1      F   393928      26/12/2015\n",
              "8     8    5      2076      23  GB      1      F   394299      21/01/2017\n",
              "9     9    5      2076      23  GB      1      F   394107      02/07/2016\n",
              "10   10    6      2082      72  PL      0      F   394940      12/01/2016\n",
              "11   11    7      3138      67  DK      0      F    16242      08/05/2016\n",
              "12   12    8      3192      32  IT      1      F    16996      01/08/2017\n",
              "13   13    8      3192      32  IT      1      F    17030      14/09/2017\n",
              "14   14    8      3192      32  IT      1      F    16721      28/10/2016\n",
              "15   15    9      3954      38  BE      0      M    25433      09/08/2016\n",
              "16   16   10      4206      32  IT      1      F    28641      19/03/2016\n",
              "17   17   10      4206      32  IT      1      F    28649      27/03/2016\n",
              "18   18   11      4458      40  IT      0      F    32663      15/09/2016\n",
              "19   19   11      4458      40  IT      0      F    33290      14/06/2018\n",
              "20   20   11      4458      40  IT      0      F    32873      13/04/2017\n",
              "21   21   12      4650      21  DE      0      F    41087      06/06/2016\n",
              "22   22   13      4890      36  ES      0      F    46851      01/04/2016\n",
              "23   23   14      6000      37  PL      1      F    62618      28/04/2019\n",
              "24   24   14      6000      37  PL      1      F    62772      26/05/2021\n",
              "25   25   14      6000      37  PL      1      F    62529      03/05/2016\n",
              "26   26   14      6000      37  PL      1      F    62635      25/05/2019\n",
              "27   27   14      6000      37  PL      1      F    62708      19/10/2019\n",
              "28   28   15      6936      23  DE      0      F    81783      04/05/2016\n",
              "29   29   15      6936      23  DE      0      F    81777      14/04/2016\n",
              "30   30   16      6942      51  PL      1      F    81834      29/04/2016\n",
              "⋮    ⋮    ⋮       ⋮         ⋮   ⋮       ⋮      ⋮   ⋮           ⋮         \n",
              "971   971 760     263985    33  FR      0      F   377802      01/10/2021\n",
              "972   972 761     264003    48  FR      1      F   377929      07/10/2021\n",
              "973   973 761     264003    48  FR      1      F   377895      27/07/2021\n",
              "974   974 762     264081    22  BR      1      M   378257      11/08/2021\n",
              "975   975 763     266259    49  LT      1      M   380224      22/07/2021\n",
              "976   976 764     267471    29  ES      1      M   381235      31/10/2021\n",
              "977   977 765     267519    18  MX      0      M   381312      02/08/2021\n",
              "978   978 766     271545    39  FR      0      M   382976      11/11/2021\n",
              "979   979 767     272127    31  TR      0      M   383202      28/08/2021\n",
              "980   980 768     272745    15  MX      0      F   383586      19/09/2021\n",
              "981   981 769     272985    23  FR      0      F   383662      18/10/2021\n",
              "982   982 770     273675    38  PT      1      F   383970      18/10/2021\n",
              "983   983 771     274869    22  PT      0      M   384455      29/11/2021\n",
              "984   984 772     276699    31  ES      0      F   385216      26/09/2021\n",
              "985   985 773     276927    27  IT      0      F   385300      12/09/2021\n",
              "986   986 774     277785    19  PT      0      F   385739      01/10/2021\n",
              "987   987 775     278181    48  PT      1      F   385847      19/09/2021\n",
              "988   988 776     280647    50  PL      0      F   386646      01/10/2021\n",
              "989   989 777     284667    43  FR      0      F   388625      26/10/2021\n",
              "990   990 778     285267    21  AR      0      M   389133      27/10/2021\n",
              "991   991 779     285627    49  FR      0      M   389280      04/11/2021\n",
              "992   992 780     285777    28  FR      0      M   389380      27/12/2021\n",
              "993   993 781     287973    33  PT      0      F   390065      13/11/2021\n",
              "994   994 782     291231    25  FR      0      F   391706      25/11/2021\n",
              "995   995 783     291441    22  FR      1      M   391855      27/11/2021\n",
              "996   996 784     292287    60  IT      0      M   392163      27/11/2021\n",
              "997   997 785     292737    25  FR      0      M   392249      19/12/2021\n",
              "998   998 786     297285    28  FR      1      M   394921      25/12/2021\n",
              "999   999 787     302223    37  IT      1      F      449      23/12/2021\n",
              "1000 1000 788     304299    23  IT      1      F     1096      29/12/2021\n",
              "     vas_nose vas_eye vas_asthma rhinitis_medication asthma_medication  \n",
              "1    77       81      NA         B_single_medication A_no_medication    \n",
              "2    59       38      NA         C_comedication      A_no_medication    \n",
              "3    52        5       0         A_no_medication     A_no_medication    \n",
              "4     0        0       6         A_no_medication     A_no_medication    \n",
              "5     8        0       2         A_no_medication     A_no_medication    \n",
              "6    40       25      NA         A_no_medication     A_no_medication    \n",
              "7     3        3      NA         A_no_medication     A_no_medication    \n",
              "8     9        0       0         A_no_medication     A_no_medication    \n",
              "9    15        0       0         A_no_medication     A_no_medication    \n",
              "10   21       24      NA         A_no_medication     A_no_medication    \n",
              "11   18       31       8         A_no_medication     B_single_medication\n",
              "12    0        1       0         A_no_medication     A_no_medication    \n",
              "13    0        0       0         A_no_medication     A_no_medication    \n",
              "14    2        0       0         A_no_medication     A_no_medication    \n",
              "15    9       10      16         C_comedication      A_no_medication    \n",
              "16    1        0       1         A_no_medication     A_no_medication    \n",
              "17    0        4      NA         A_no_medication     A_no_medication    \n",
              "18    8        3       0         B_single_medication A_no_medication    \n",
              "19   14        9       1         A_no_medication     A_no_medication    \n",
              "20   33       19       0         C_comedication      A_no_medication    \n",
              "21   24        1       0         C_comedication      A_no_medication    \n",
              "22   19        1      NA         B_single_medication A_no_medication    \n",
              "23   51       53      35         C_comedication      C_comedication     \n",
              "24   25       61      14         C_comedication      C_comedication     \n",
              "25   75       64      49         C_comedication      C_comedication     \n",
              "26   13        7       6         B_single_medication B_single_medication\n",
              "27   71       18      41         C_comedication      C_comedication     \n",
              "28   17        9      NA         B_single_medication A_no_medication    \n",
              "29   35        0      NA         A_no_medication     A_no_medication    \n",
              "30    0        3       0         C_comedication      A_no_medication    \n",
              "⋮    ⋮        ⋮       ⋮          ⋮                   ⋮                  \n",
              "971  52        9      19         B_single_medication B_single_medication\n",
              "972  14       24       5         B_single_medication A_no_medication    \n",
              "973  11        6       3         A_no_medication     A_no_medication    \n",
              "974   1        0       0         B_single_medication A_no_medication    \n",
              "975  13        1       3         B_single_medication A_no_medication    \n",
              "976  27       11       1         B_single_medication A_no_medication    \n",
              "977  44       18       3         C_comedication      A_no_medication    \n",
              "978   6        0       4         A_no_medication     A_no_medication    \n",
              "979  98        6      92         B_single_medication C_comedication     \n",
              "980  43       32       0         B_single_medication A_no_medication    \n",
              "981   2        2       4         A_no_medication     A_no_medication    \n",
              "982   0        0       1         A_no_medication     A_no_medication    \n",
              "983  69       15       0         B_single_medication A_no_medication    \n",
              "984   6        7      19         A_no_medication     A_no_medication    \n",
              "985  97        1       0         A_no_medication     A_no_medication    \n",
              "986   2        5       3         A_no_medication     A_no_medication    \n",
              "987  32       21      25         A_no_medication     A_no_medication    \n",
              "988  51       18       2         A_no_medication     A_no_medication    \n",
              "989  56       47      60         B_single_medication B_single_medication\n",
              "990  69       49      39         C_comedication      A_no_medication    \n",
              "991   2        0       1         A_no_medication     A_no_medication    \n",
              "992   1        0       5         A_no_medication     A_no_medication    \n",
              "993  28       29       0         A_no_medication     A_no_medication    \n",
              "994  19        1       4         A_no_medication     A_no_medication    \n",
              "995   7        2       1         A_no_medication     A_no_medication    \n",
              "996  14        2       4         C_comedication      A_no_medication    \n",
              "997   4        2       2         A_no_medication     A_no_medication    \n",
              "998  65        3       7         A_no_medication     A_no_medication    \n",
              "999  86       62       3         A_no_medication     A_no_medication    \n",
              "1000 96       35      12         A_no_medication     A_no_medication    "
            ]
          },
          "metadata": {}
        }
      ]
    },
    {
      "cell_type": "code",
      "source": [
        "sm_df <- read.csv(file = symptoms_medicationDB)"
      ],
      "metadata": {
        "id": "MwFssJp3oWKa",
        "outputId": "2940141c-94de-4956-e3cf-2b3780ee3511",
        "colab": {
          "base_uri": "https://localhost:8080/",
          "height": 256
        }
      },
      "execution_count": 70,
      "outputs": [
        {
          "output_type": "stream",
          "name": "stderr",
          "text": [
            "Warning message in file(file, \"rt\"):\n",
            "“cannot open URL 'https://raw.githubusercontent.com/ManJ-PC/FMUPBioestatistica/master/sample_symptoms_medication.csv?token=GHSAT0AAAAAAB4H7ZCAOBL23JGF2GCE77TYY6WXYOQ': HTTP status was '404 Not Found'”\n"
          ]
        },
        {
          "output_type": "error",
          "ename": "ERROR",
          "evalue": "ignored",
          "traceback": [
            "Error in file(file, \"rt\"): cannot open the connection to 'https://raw.githubusercontent.com/ManJ-PC/FMUPBioestatistica/master/sample_symptoms_medication.csv?token=GHSAT0AAAAAAB4H7ZCAOBL23JGF2GCE77TYY6WXYOQ'\nTraceback:\n",
            "1. read.csv(file = symptoms_medicationDB)",
            "2. read.table(file = file, header = header, sep = sep, quote = quote, \n .     dec = dec, fill = fill, comment.char = comment.char, ...)",
            "3. file(file, \"rt\")"
          ]
        }
      ]
    },
    {
      "cell_type": "code",
      "source": [
        "su_df <- read.csv(file = sample_usersDB)"
      ],
      "metadata": {
        "id": "8tFJcETvoZkE",
        "outputId": "48af49bb-7f3c-4628-a797-a10170c85008",
        "colab": {
          "base_uri": "https://localhost:8080/",
          "height": 256
        }
      },
      "execution_count": 75,
      "outputs": [
        {
          "output_type": "stream",
          "name": "stderr",
          "text": [
            "Warning message in file(file, \"rt\"):\n",
            "“cannot open URL 'https://raw.githubusercontent.com/ManJ-PC/FMUPBioestatistica/master/sample_users.csv?token=GHSAT0AAAAAAB4H7ZCBDW4CTYZQ3PQGWK2EY6WXZPA': HTTP status was '404 Not Found'”\n"
          ]
        },
        {
          "output_type": "error",
          "ename": "ERROR",
          "evalue": "ignored",
          "traceback": [
            "Error in file(file, \"rt\"): cannot open the connection to 'https://raw.githubusercontent.com/ManJ-PC/FMUPBioestatistica/master/sample_users.csv?token=GHSAT0AAAAAAB4H7ZCBDW4CTYZQ3PQGWK2EY6WXZPA'\nTraceback:\n",
            "1. read.csv(file = sample_usersDB)",
            "2. read.table(file = file, header = header, sep = sep, quote = quote, \n .     dec = dec, fill = fill, comment.char = comment.char, ...)",
            "3. file(file, \"rt\")"
          ]
        }
      ]
    },
    {
      "cell_type": "code",
      "source": [
        "library(dplyr)"
      ],
      "metadata": {
        "id": "qrpAZK40kFsB"
      },
      "execution_count": 74,
      "outputs": []
    },
    {
      "cell_type": "code",
      "source": [
        "# 1.1\n",
        "n_distinct(ma_df$user_id)"
      ],
      "metadata": {
        "id": "nheDiu37oiy3",
        "outputId": "e8c2b051-d9b1-44e9-9a62-a6775336c614",
        "colab": {
          "base_uri": "https://localhost:8080/",
          "height": 34
        }
      },
      "execution_count": 76,
      "outputs": [
        {
          "output_type": "display_data",
          "data": {
            "text/html": [
              "788"
            ],
            "text/markdown": "788",
            "text/latex": "788",
            "text/plain": [
              "[1] 788"
            ]
          },
          "metadata": {}
        }
      ]
    },
    {
      "cell_type": "code",
      "source": [
        "# 1.1. Quantos utilizadores únicos existem em cada uma das bases de dados?\n",
        "\n",
        "n_distinct(sm_df$member_id)"
      ],
      "metadata": {
        "id": "Ng-NOmPsnUz9",
        "outputId": "52edeaf3-0426-4fd0-8de6-06898a783276",
        "colab": {
          "base_uri": "https://localhost:8080/",
          "height": 34
        }
      },
      "execution_count": 77,
      "outputs": [
        {
          "output_type": "display_data",
          "data": {
            "text/html": [
              "788"
            ],
            "text/markdown": "788",
            "text/latex": "788",
            "text/plain": [
              "[1] 788"
            ]
          },
          "metadata": {}
        }
      ]
    },
    {
      "cell_type": "code",
      "source": [
        "# 1.1\n",
        "n_distinct(su_df$user_id)"
      ],
      "metadata": {
        "id": "zPU0nEnsi5uU",
        "outputId": "58893b14-b233-4313-ef2e-3bc0be0f4ad5",
        "colab": {
          "base_uri": "https://localhost:8080/",
          "height": 34
        }
      },
      "execution_count": 78,
      "outputs": [
        {
          "output_type": "display_data",
          "data": {
            "text/html": [
              "788"
            ],
            "text/markdown": "788",
            "text/latex": "788",
            "text/plain": [
              "[1] 788"
            ]
          },
          "metadata": {}
        }
      ]
    },
    {
      "cell_type": "code",
      "source": [
        "# 1.2. Quantos registos distintos de sintomas existem?\n",
        "\n",
        "n_distinct(sm_df$symptoms_id)"
      ],
      "metadata": {
        "id": "HLHB5xNVlwpF",
        "outputId": "8e831a14-3d39-4228-94c6-4cc9875f1149",
        "colab": {
          "base_uri": "https://localhost:8080/",
          "height": 34
        }
      },
      "execution_count": 79,
      "outputs": [
        {
          "output_type": "display_data",
          "data": {
            "text/html": [
              "1000"
            ],
            "text/markdown": "1000",
            "text/latex": "1000",
            "text/plain": [
              "[1] 1000"
            ]
          },
          "metadata": {}
        }
      ]
    },
    {
      "cell_type": "code",
      "source": [
        "# 1.3. Una as duas bases de dados tendo como referência a variável que considerar mais adequada. Grave a união destas bases de dados num novo objeto intitulado “mask_air”. Por fim, guarde este objeto no computador, em formato .csv, com o nome “mask_air.csv”.\n",
        "\n",
        "mask_air = left_join(su_df, sm_df, by = 'member_id')"
      ],
      "metadata": {
        "id": "wth79RFsmwIC"
      },
      "execution_count": 80,
      "outputs": []
    },
    {
      "cell_type": "code",
      "source": [
        "mask_air2 = full_join(su_df, sm_df, by = 'member_id', all = true)"
      ],
      "metadata": {
        "id": "S71hPi7ZsZIS"
      },
      "execution_count": 81,
      "outputs": []
    },
    {
      "cell_type": "code",
      "source": [
        "mask_air2"
      ],
      "metadata": {
        "id": "A81iWkdhw0GR",
        "outputId": "01281330-56ae-4a13-9ca2-9aab1a1dd430",
        "colab": {
          "base_uri": "https://localhost:8080/",
          "height": 1000
        }
      },
      "execution_count": 82,
      "outputs": [
        {
          "output_type": "display_data",
          "data": {
            "text/html": [
              "<table class=\"dataframe\">\n",
              "<caption>A data.frame: 1000 × 13</caption>\n",
              "<thead>\n",
              "\t<tr><th scope=col>user_id</th><th scope=col>member_id</th><th scope=col>age</th><th scope=col>country</th><th scope=col>asthma</th><th scope=col>sex</th><th scope=col>symptoms_id</th><th scope=col>date</th><th scope=col>vas_nose</th><th scope=col>vas_eye</th><th scope=col>vas_asthma</th><th scope=col>rhinitis_medication</th><th scope=col>asthma_medication</th></tr>\n",
              "\t<tr><th scope=col>&lt;int&gt;</th><th scope=col>&lt;int&gt;</th><th scope=col>&lt;int&gt;</th><th scope=col>&lt;chr&gt;</th><th scope=col>&lt;int&gt;</th><th scope=col>&lt;chr&gt;</th><th scope=col>&lt;int&gt;</th><th scope=col>&lt;chr&gt;</th><th scope=col>&lt;int&gt;</th><th scope=col>&lt;int&gt;</th><th scope=col>&lt;int&gt;</th><th scope=col>&lt;chr&gt;</th><th scope=col>&lt;chr&gt;</th></tr>\n",
              "</thead>\n",
              "<tbody>\n",
              "\t<tr><td> 1</td><td>  48</td><td>56</td><td>NL</td><td>0</td><td>M</td><td>111007</td><td>08/04/2016</td><td>77</td><td>81</td><td>NA</td><td>B_single_medication</td><td>A_no_medication    </td></tr>\n",
              "\t<tr><td> 2</td><td>1026</td><td>19</td><td>GB</td><td>1</td><td>M</td><td>290424</td><td>06/10/2015</td><td>59</td><td>38</td><td>NA</td><td>C_comedication     </td><td>A_no_medication    </td></tr>\n",
              "\t<tr><td> 3</td><td>1638</td><td>47</td><td>FR</td><td>0</td><td>F</td><td>368522</td><td>18/02/2019</td><td>52</td><td> 5</td><td> 0</td><td>A_no_medication    </td><td>A_no_medication    </td></tr>\n",
              "\t<tr><td> 3</td><td>1638</td><td>47</td><td>FR</td><td>0</td><td>F</td><td>367628</td><td>20/11/2015</td><td> 0</td><td> 0</td><td> 6</td><td>A_no_medication    </td><td>A_no_medication    </td></tr>\n",
              "\t<tr><td> 3</td><td>1638</td><td>47</td><td>FR</td><td>0</td><td>F</td><td>367798</td><td>17/09/2016</td><td> 8</td><td> 0</td><td> 2</td><td>A_no_medication    </td><td>A_no_medication    </td></tr>\n",
              "\t<tr><td> 4</td><td>2064</td><td>51</td><td>FR</td><td>1</td><td>F</td><td>393432</td><td>25/12/2015</td><td>40</td><td>25</td><td>NA</td><td>A_no_medication    </td><td>A_no_medication    </td></tr>\n",
              "\t<tr><td> 5</td><td>2076</td><td>23</td><td>GB</td><td>1</td><td>F</td><td>393928</td><td>26/12/2015</td><td> 3</td><td> 3</td><td>NA</td><td>A_no_medication    </td><td>A_no_medication    </td></tr>\n",
              "\t<tr><td> 5</td><td>2076</td><td>23</td><td>GB</td><td>1</td><td>F</td><td>394299</td><td>21/01/2017</td><td> 9</td><td> 0</td><td> 0</td><td>A_no_medication    </td><td>A_no_medication    </td></tr>\n",
              "\t<tr><td> 5</td><td>2076</td><td>23</td><td>GB</td><td>1</td><td>F</td><td>394107</td><td>02/07/2016</td><td>15</td><td> 0</td><td> 0</td><td>A_no_medication    </td><td>A_no_medication    </td></tr>\n",
              "\t<tr><td> 6</td><td>2082</td><td>72</td><td>PL</td><td>0</td><td>F</td><td>394940</td><td>12/01/2016</td><td>21</td><td>24</td><td>NA</td><td>A_no_medication    </td><td>A_no_medication    </td></tr>\n",
              "\t<tr><td> 7</td><td>3138</td><td>67</td><td>DK</td><td>0</td><td>F</td><td> 16242</td><td>08/05/2016</td><td>18</td><td>31</td><td> 8</td><td>A_no_medication    </td><td>B_single_medication</td></tr>\n",
              "\t<tr><td> 8</td><td>3192</td><td>32</td><td>IT</td><td>1</td><td>F</td><td> 16996</td><td>01/08/2017</td><td> 0</td><td> 1</td><td> 0</td><td>A_no_medication    </td><td>A_no_medication    </td></tr>\n",
              "\t<tr><td> 8</td><td>3192</td><td>32</td><td>IT</td><td>1</td><td>F</td><td> 17030</td><td>14/09/2017</td><td> 0</td><td> 0</td><td> 0</td><td>A_no_medication    </td><td>A_no_medication    </td></tr>\n",
              "\t<tr><td> 8</td><td>3192</td><td>32</td><td>IT</td><td>1</td><td>F</td><td> 16721</td><td>28/10/2016</td><td> 2</td><td> 0</td><td> 0</td><td>A_no_medication    </td><td>A_no_medication    </td></tr>\n",
              "\t<tr><td> 9</td><td>3954</td><td>38</td><td>BE</td><td>0</td><td>M</td><td> 25433</td><td>09/08/2016</td><td> 9</td><td>10</td><td>16</td><td>C_comedication     </td><td>A_no_medication    </td></tr>\n",
              "\t<tr><td>10</td><td>4206</td><td>32</td><td>IT</td><td>1</td><td>F</td><td> 28641</td><td>19/03/2016</td><td> 1</td><td> 0</td><td> 1</td><td>A_no_medication    </td><td>A_no_medication    </td></tr>\n",
              "\t<tr><td>10</td><td>4206</td><td>32</td><td>IT</td><td>1</td><td>F</td><td> 28649</td><td>27/03/2016</td><td> 0</td><td> 4</td><td>NA</td><td>A_no_medication    </td><td>A_no_medication    </td></tr>\n",
              "\t<tr><td>11</td><td>4458</td><td>40</td><td>IT</td><td>0</td><td>F</td><td> 32663</td><td>15/09/2016</td><td> 8</td><td> 3</td><td> 0</td><td>B_single_medication</td><td>A_no_medication    </td></tr>\n",
              "\t<tr><td>11</td><td>4458</td><td>40</td><td>IT</td><td>0</td><td>F</td><td> 33290</td><td>14/06/2018</td><td>14</td><td> 9</td><td> 1</td><td>A_no_medication    </td><td>A_no_medication    </td></tr>\n",
              "\t<tr><td>11</td><td>4458</td><td>40</td><td>IT</td><td>0</td><td>F</td><td> 32873</td><td>13/04/2017</td><td>33</td><td>19</td><td> 0</td><td>C_comedication     </td><td>A_no_medication    </td></tr>\n",
              "\t<tr><td>12</td><td>4650</td><td>21</td><td>DE</td><td>0</td><td>F</td><td> 41087</td><td>06/06/2016</td><td>24</td><td> 1</td><td> 0</td><td>C_comedication     </td><td>A_no_medication    </td></tr>\n",
              "\t<tr><td>13</td><td>4890</td><td>36</td><td>ES</td><td>0</td><td>F</td><td> 46851</td><td>01/04/2016</td><td>19</td><td> 1</td><td>NA</td><td>B_single_medication</td><td>A_no_medication    </td></tr>\n",
              "\t<tr><td>14</td><td>6000</td><td>37</td><td>PL</td><td>1</td><td>F</td><td> 62618</td><td>28/04/2019</td><td>51</td><td>53</td><td>35</td><td>C_comedication     </td><td>C_comedication     </td></tr>\n",
              "\t<tr><td>14</td><td>6000</td><td>37</td><td>PL</td><td>1</td><td>F</td><td> 62772</td><td>26/05/2021</td><td>25</td><td>61</td><td>14</td><td>C_comedication     </td><td>C_comedication     </td></tr>\n",
              "\t<tr><td>14</td><td>6000</td><td>37</td><td>PL</td><td>1</td><td>F</td><td> 62529</td><td>03/05/2016</td><td>75</td><td>64</td><td>49</td><td>C_comedication     </td><td>C_comedication     </td></tr>\n",
              "\t<tr><td>14</td><td>6000</td><td>37</td><td>PL</td><td>1</td><td>F</td><td> 62635</td><td>25/05/2019</td><td>13</td><td> 7</td><td> 6</td><td>B_single_medication</td><td>B_single_medication</td></tr>\n",
              "\t<tr><td>14</td><td>6000</td><td>37</td><td>PL</td><td>1</td><td>F</td><td> 62708</td><td>19/10/2019</td><td>71</td><td>18</td><td>41</td><td>C_comedication     </td><td>C_comedication     </td></tr>\n",
              "\t<tr><td>15</td><td>6936</td><td>23</td><td>DE</td><td>0</td><td>F</td><td> 81783</td><td>04/05/2016</td><td>17</td><td> 9</td><td>NA</td><td>B_single_medication</td><td>A_no_medication    </td></tr>\n",
              "\t<tr><td>15</td><td>6936</td><td>23</td><td>DE</td><td>0</td><td>F</td><td> 81777</td><td>14/04/2016</td><td>35</td><td> 0</td><td>NA</td><td>A_no_medication    </td><td>A_no_medication    </td></tr>\n",
              "\t<tr><td>16</td><td>6942</td><td>51</td><td>PL</td><td>1</td><td>F</td><td> 81834</td><td>29/04/2016</td><td> 0</td><td> 3</td><td> 0</td><td>C_comedication     </td><td>A_no_medication    </td></tr>\n",
              "\t<tr><td>⋮</td><td>⋮</td><td>⋮</td><td>⋮</td><td>⋮</td><td>⋮</td><td>⋮</td><td>⋮</td><td>⋮</td><td>⋮</td><td>⋮</td><td>⋮</td><td>⋮</td></tr>\n",
              "\t<tr><td>760</td><td>263985</td><td>33</td><td>FR</td><td>0</td><td>F</td><td>377802</td><td>01/10/2021</td><td>52</td><td> 9</td><td>19</td><td>B_single_medication</td><td>B_single_medication</td></tr>\n",
              "\t<tr><td>761</td><td>264003</td><td>48</td><td>FR</td><td>1</td><td>F</td><td>377929</td><td>07/10/2021</td><td>14</td><td>24</td><td> 5</td><td>B_single_medication</td><td>A_no_medication    </td></tr>\n",
              "\t<tr><td>761</td><td>264003</td><td>48</td><td>FR</td><td>1</td><td>F</td><td>377895</td><td>27/07/2021</td><td>11</td><td> 6</td><td> 3</td><td>A_no_medication    </td><td>A_no_medication    </td></tr>\n",
              "\t<tr><td>762</td><td>264081</td><td>22</td><td>BR</td><td>1</td><td>M</td><td>378257</td><td>11/08/2021</td><td> 1</td><td> 0</td><td> 0</td><td>B_single_medication</td><td>A_no_medication    </td></tr>\n",
              "\t<tr><td>763</td><td>266259</td><td>49</td><td>LT</td><td>1</td><td>M</td><td>380224</td><td>22/07/2021</td><td>13</td><td> 1</td><td> 3</td><td>B_single_medication</td><td>A_no_medication    </td></tr>\n",
              "\t<tr><td>764</td><td>267471</td><td>29</td><td>ES</td><td>1</td><td>M</td><td>381235</td><td>31/10/2021</td><td>27</td><td>11</td><td> 1</td><td>B_single_medication</td><td>A_no_medication    </td></tr>\n",
              "\t<tr><td>765</td><td>267519</td><td>18</td><td>MX</td><td>0</td><td>M</td><td>381312</td><td>02/08/2021</td><td>44</td><td>18</td><td> 3</td><td>C_comedication     </td><td>A_no_medication    </td></tr>\n",
              "\t<tr><td>766</td><td>271545</td><td>39</td><td>FR</td><td>0</td><td>M</td><td>382976</td><td>11/11/2021</td><td> 6</td><td> 0</td><td> 4</td><td>A_no_medication    </td><td>A_no_medication    </td></tr>\n",
              "\t<tr><td>767</td><td>272127</td><td>31</td><td>TR</td><td>0</td><td>M</td><td>383202</td><td>28/08/2021</td><td>98</td><td> 6</td><td>92</td><td>B_single_medication</td><td>C_comedication     </td></tr>\n",
              "\t<tr><td>768</td><td>272745</td><td>15</td><td>MX</td><td>0</td><td>F</td><td>383586</td><td>19/09/2021</td><td>43</td><td>32</td><td> 0</td><td>B_single_medication</td><td>A_no_medication    </td></tr>\n",
              "\t<tr><td>769</td><td>272985</td><td>23</td><td>FR</td><td>0</td><td>F</td><td>383662</td><td>18/10/2021</td><td> 2</td><td> 2</td><td> 4</td><td>A_no_medication    </td><td>A_no_medication    </td></tr>\n",
              "\t<tr><td>770</td><td>273675</td><td>38</td><td>PT</td><td>1</td><td>F</td><td>383970</td><td>18/10/2021</td><td> 0</td><td> 0</td><td> 1</td><td>A_no_medication    </td><td>A_no_medication    </td></tr>\n",
              "\t<tr><td>771</td><td>274869</td><td>22</td><td>PT</td><td>0</td><td>M</td><td>384455</td><td>29/11/2021</td><td>69</td><td>15</td><td> 0</td><td>B_single_medication</td><td>A_no_medication    </td></tr>\n",
              "\t<tr><td>772</td><td>276699</td><td>31</td><td>ES</td><td>0</td><td>F</td><td>385216</td><td>26/09/2021</td><td> 6</td><td> 7</td><td>19</td><td>A_no_medication    </td><td>A_no_medication    </td></tr>\n",
              "\t<tr><td>773</td><td>276927</td><td>27</td><td>IT</td><td>0</td><td>F</td><td>385300</td><td>12/09/2021</td><td>97</td><td> 1</td><td> 0</td><td>A_no_medication    </td><td>A_no_medication    </td></tr>\n",
              "\t<tr><td>774</td><td>277785</td><td>19</td><td>PT</td><td>0</td><td>F</td><td>385739</td><td>01/10/2021</td><td> 2</td><td> 5</td><td> 3</td><td>A_no_medication    </td><td>A_no_medication    </td></tr>\n",
              "\t<tr><td>775</td><td>278181</td><td>48</td><td>PT</td><td>1</td><td>F</td><td>385847</td><td>19/09/2021</td><td>32</td><td>21</td><td>25</td><td>A_no_medication    </td><td>A_no_medication    </td></tr>\n",
              "\t<tr><td>776</td><td>280647</td><td>50</td><td>PL</td><td>0</td><td>F</td><td>386646</td><td>01/10/2021</td><td>51</td><td>18</td><td> 2</td><td>A_no_medication    </td><td>A_no_medication    </td></tr>\n",
              "\t<tr><td>777</td><td>284667</td><td>43</td><td>FR</td><td>0</td><td>F</td><td>388625</td><td>26/10/2021</td><td>56</td><td>47</td><td>60</td><td>B_single_medication</td><td>B_single_medication</td></tr>\n",
              "\t<tr><td>778</td><td>285267</td><td>21</td><td>AR</td><td>0</td><td>M</td><td>389133</td><td>27/10/2021</td><td>69</td><td>49</td><td>39</td><td>C_comedication     </td><td>A_no_medication    </td></tr>\n",
              "\t<tr><td>779</td><td>285627</td><td>49</td><td>FR</td><td>0</td><td>M</td><td>389280</td><td>04/11/2021</td><td> 2</td><td> 0</td><td> 1</td><td>A_no_medication    </td><td>A_no_medication    </td></tr>\n",
              "\t<tr><td>780</td><td>285777</td><td>28</td><td>FR</td><td>0</td><td>M</td><td>389380</td><td>27/12/2021</td><td> 1</td><td> 0</td><td> 5</td><td>A_no_medication    </td><td>A_no_medication    </td></tr>\n",
              "\t<tr><td>781</td><td>287973</td><td>33</td><td>PT</td><td>0</td><td>F</td><td>390065</td><td>13/11/2021</td><td>28</td><td>29</td><td> 0</td><td>A_no_medication    </td><td>A_no_medication    </td></tr>\n",
              "\t<tr><td>782</td><td>291231</td><td>25</td><td>FR</td><td>0</td><td>F</td><td>391706</td><td>25/11/2021</td><td>19</td><td> 1</td><td> 4</td><td>A_no_medication    </td><td>A_no_medication    </td></tr>\n",
              "\t<tr><td>783</td><td>291441</td><td>22</td><td>FR</td><td>1</td><td>M</td><td>391855</td><td>27/11/2021</td><td> 7</td><td> 2</td><td> 1</td><td>A_no_medication    </td><td>A_no_medication    </td></tr>\n",
              "\t<tr><td>784</td><td>292287</td><td>60</td><td>IT</td><td>0</td><td>M</td><td>392163</td><td>27/11/2021</td><td>14</td><td> 2</td><td> 4</td><td>C_comedication     </td><td>A_no_medication    </td></tr>\n",
              "\t<tr><td>785</td><td>292737</td><td>25</td><td>FR</td><td>0</td><td>M</td><td>392249</td><td>19/12/2021</td><td> 4</td><td> 2</td><td> 2</td><td>A_no_medication    </td><td>A_no_medication    </td></tr>\n",
              "\t<tr><td>786</td><td>297285</td><td>28</td><td>FR</td><td>1</td><td>M</td><td>394921</td><td>25/12/2021</td><td>65</td><td> 3</td><td> 7</td><td>A_no_medication    </td><td>A_no_medication    </td></tr>\n",
              "\t<tr><td>787</td><td>302223</td><td>37</td><td>IT</td><td>1</td><td>F</td><td>   449</td><td>23/12/2021</td><td>86</td><td>62</td><td> 3</td><td>A_no_medication    </td><td>A_no_medication    </td></tr>\n",
              "\t<tr><td>788</td><td>304299</td><td>23</td><td>IT</td><td>1</td><td>F</td><td>  1096</td><td>29/12/2021</td><td>96</td><td>35</td><td>12</td><td>A_no_medication    </td><td>A_no_medication    </td></tr>\n",
              "</tbody>\n",
              "</table>\n"
            ],
            "text/markdown": "\nA data.frame: 1000 × 13\n\n| user_id &lt;int&gt; | member_id &lt;int&gt; | age &lt;int&gt; | country &lt;chr&gt; | asthma &lt;int&gt; | sex &lt;chr&gt; | symptoms_id &lt;int&gt; | date &lt;chr&gt; | vas_nose &lt;int&gt; | vas_eye &lt;int&gt; | vas_asthma &lt;int&gt; | rhinitis_medication &lt;chr&gt; | asthma_medication &lt;chr&gt; |\n|---|---|---|---|---|---|---|---|---|---|---|---|---|\n|  1 |   48 | 56 | NL | 0 | M | 111007 | 08/04/2016 | 77 | 81 | NA | B_single_medication | A_no_medication     |\n|  2 | 1026 | 19 | GB | 1 | M | 290424 | 06/10/2015 | 59 | 38 | NA | C_comedication      | A_no_medication     |\n|  3 | 1638 | 47 | FR | 0 | F | 368522 | 18/02/2019 | 52 |  5 |  0 | A_no_medication     | A_no_medication     |\n|  3 | 1638 | 47 | FR | 0 | F | 367628 | 20/11/2015 |  0 |  0 |  6 | A_no_medication     | A_no_medication     |\n|  3 | 1638 | 47 | FR | 0 | F | 367798 | 17/09/2016 |  8 |  0 |  2 | A_no_medication     | A_no_medication     |\n|  4 | 2064 | 51 | FR | 1 | F | 393432 | 25/12/2015 | 40 | 25 | NA | A_no_medication     | A_no_medication     |\n|  5 | 2076 | 23 | GB | 1 | F | 393928 | 26/12/2015 |  3 |  3 | NA | A_no_medication     | A_no_medication     |\n|  5 | 2076 | 23 | GB | 1 | F | 394299 | 21/01/2017 |  9 |  0 |  0 | A_no_medication     | A_no_medication     |\n|  5 | 2076 | 23 | GB | 1 | F | 394107 | 02/07/2016 | 15 |  0 |  0 | A_no_medication     | A_no_medication     |\n|  6 | 2082 | 72 | PL | 0 | F | 394940 | 12/01/2016 | 21 | 24 | NA | A_no_medication     | A_no_medication     |\n|  7 | 3138 | 67 | DK | 0 | F |  16242 | 08/05/2016 | 18 | 31 |  8 | A_no_medication     | B_single_medication |\n|  8 | 3192 | 32 | IT | 1 | F |  16996 | 01/08/2017 |  0 |  1 |  0 | A_no_medication     | A_no_medication     |\n|  8 | 3192 | 32 | IT | 1 | F |  17030 | 14/09/2017 |  0 |  0 |  0 | A_no_medication     | A_no_medication     |\n|  8 | 3192 | 32 | IT | 1 | F |  16721 | 28/10/2016 |  2 |  0 |  0 | A_no_medication     | A_no_medication     |\n|  9 | 3954 | 38 | BE | 0 | M |  25433 | 09/08/2016 |  9 | 10 | 16 | C_comedication      | A_no_medication     |\n| 10 | 4206 | 32 | IT | 1 | F |  28641 | 19/03/2016 |  1 |  0 |  1 | A_no_medication     | A_no_medication     |\n| 10 | 4206 | 32 | IT | 1 | F |  28649 | 27/03/2016 |  0 |  4 | NA | A_no_medication     | A_no_medication     |\n| 11 | 4458 | 40 | IT | 0 | F |  32663 | 15/09/2016 |  8 |  3 |  0 | B_single_medication | A_no_medication     |\n| 11 | 4458 | 40 | IT | 0 | F |  33290 | 14/06/2018 | 14 |  9 |  1 | A_no_medication     | A_no_medication     |\n| 11 | 4458 | 40 | IT | 0 | F |  32873 | 13/04/2017 | 33 | 19 |  0 | C_comedication      | A_no_medication     |\n| 12 | 4650 | 21 | DE | 0 | F |  41087 | 06/06/2016 | 24 |  1 |  0 | C_comedication      | A_no_medication     |\n| 13 | 4890 | 36 | ES | 0 | F |  46851 | 01/04/2016 | 19 |  1 | NA | B_single_medication | A_no_medication     |\n| 14 | 6000 | 37 | PL | 1 | F |  62618 | 28/04/2019 | 51 | 53 | 35 | C_comedication      | C_comedication      |\n| 14 | 6000 | 37 | PL | 1 | F |  62772 | 26/05/2021 | 25 | 61 | 14 | C_comedication      | C_comedication      |\n| 14 | 6000 | 37 | PL | 1 | F |  62529 | 03/05/2016 | 75 | 64 | 49 | C_comedication      | C_comedication      |\n| 14 | 6000 | 37 | PL | 1 | F |  62635 | 25/05/2019 | 13 |  7 |  6 | B_single_medication | B_single_medication |\n| 14 | 6000 | 37 | PL | 1 | F |  62708 | 19/10/2019 | 71 | 18 | 41 | C_comedication      | C_comedication      |\n| 15 | 6936 | 23 | DE | 0 | F |  81783 | 04/05/2016 | 17 |  9 | NA | B_single_medication | A_no_medication     |\n| 15 | 6936 | 23 | DE | 0 | F |  81777 | 14/04/2016 | 35 |  0 | NA | A_no_medication     | A_no_medication     |\n| 16 | 6942 | 51 | PL | 1 | F |  81834 | 29/04/2016 |  0 |  3 |  0 | C_comedication      | A_no_medication     |\n| ⋮ | ⋮ | ⋮ | ⋮ | ⋮ | ⋮ | ⋮ | ⋮ | ⋮ | ⋮ | ⋮ | ⋮ | ⋮ |\n| 760 | 263985 | 33 | FR | 0 | F | 377802 | 01/10/2021 | 52 |  9 | 19 | B_single_medication | B_single_medication |\n| 761 | 264003 | 48 | FR | 1 | F | 377929 | 07/10/2021 | 14 | 24 |  5 | B_single_medication | A_no_medication     |\n| 761 | 264003 | 48 | FR | 1 | F | 377895 | 27/07/2021 | 11 |  6 |  3 | A_no_medication     | A_no_medication     |\n| 762 | 264081 | 22 | BR | 1 | M | 378257 | 11/08/2021 |  1 |  0 |  0 | B_single_medication | A_no_medication     |\n| 763 | 266259 | 49 | LT | 1 | M | 380224 | 22/07/2021 | 13 |  1 |  3 | B_single_medication | A_no_medication     |\n| 764 | 267471 | 29 | ES | 1 | M | 381235 | 31/10/2021 | 27 | 11 |  1 | B_single_medication | A_no_medication     |\n| 765 | 267519 | 18 | MX | 0 | M | 381312 | 02/08/2021 | 44 | 18 |  3 | C_comedication      | A_no_medication     |\n| 766 | 271545 | 39 | FR | 0 | M | 382976 | 11/11/2021 |  6 |  0 |  4 | A_no_medication     | A_no_medication     |\n| 767 | 272127 | 31 | TR | 0 | M | 383202 | 28/08/2021 | 98 |  6 | 92 | B_single_medication | C_comedication      |\n| 768 | 272745 | 15 | MX | 0 | F | 383586 | 19/09/2021 | 43 | 32 |  0 | B_single_medication | A_no_medication     |\n| 769 | 272985 | 23 | FR | 0 | F | 383662 | 18/10/2021 |  2 |  2 |  4 | A_no_medication     | A_no_medication     |\n| 770 | 273675 | 38 | PT | 1 | F | 383970 | 18/10/2021 |  0 |  0 |  1 | A_no_medication     | A_no_medication     |\n| 771 | 274869 | 22 | PT | 0 | M | 384455 | 29/11/2021 | 69 | 15 |  0 | B_single_medication | A_no_medication     |\n| 772 | 276699 | 31 | ES | 0 | F | 385216 | 26/09/2021 |  6 |  7 | 19 | A_no_medication     | A_no_medication     |\n| 773 | 276927 | 27 | IT | 0 | F | 385300 | 12/09/2021 | 97 |  1 |  0 | A_no_medication     | A_no_medication     |\n| 774 | 277785 | 19 | PT | 0 | F | 385739 | 01/10/2021 |  2 |  5 |  3 | A_no_medication     | A_no_medication     |\n| 775 | 278181 | 48 | PT | 1 | F | 385847 | 19/09/2021 | 32 | 21 | 25 | A_no_medication     | A_no_medication     |\n| 776 | 280647 | 50 | PL | 0 | F | 386646 | 01/10/2021 | 51 | 18 |  2 | A_no_medication     | A_no_medication     |\n| 777 | 284667 | 43 | FR | 0 | F | 388625 | 26/10/2021 | 56 | 47 | 60 | B_single_medication | B_single_medication |\n| 778 | 285267 | 21 | AR | 0 | M | 389133 | 27/10/2021 | 69 | 49 | 39 | C_comedication      | A_no_medication     |\n| 779 | 285627 | 49 | FR | 0 | M | 389280 | 04/11/2021 |  2 |  0 |  1 | A_no_medication     | A_no_medication     |\n| 780 | 285777 | 28 | FR | 0 | M | 389380 | 27/12/2021 |  1 |  0 |  5 | A_no_medication     | A_no_medication     |\n| 781 | 287973 | 33 | PT | 0 | F | 390065 | 13/11/2021 | 28 | 29 |  0 | A_no_medication     | A_no_medication     |\n| 782 | 291231 | 25 | FR | 0 | F | 391706 | 25/11/2021 | 19 |  1 |  4 | A_no_medication     | A_no_medication     |\n| 783 | 291441 | 22 | FR | 1 | M | 391855 | 27/11/2021 |  7 |  2 |  1 | A_no_medication     | A_no_medication     |\n| 784 | 292287 | 60 | IT | 0 | M | 392163 | 27/11/2021 | 14 |  2 |  4 | C_comedication      | A_no_medication     |\n| 785 | 292737 | 25 | FR | 0 | M | 392249 | 19/12/2021 |  4 |  2 |  2 | A_no_medication     | A_no_medication     |\n| 786 | 297285 | 28 | FR | 1 | M | 394921 | 25/12/2021 | 65 |  3 |  7 | A_no_medication     | A_no_medication     |\n| 787 | 302223 | 37 | IT | 1 | F |    449 | 23/12/2021 | 86 | 62 |  3 | A_no_medication     | A_no_medication     |\n| 788 | 304299 | 23 | IT | 1 | F |   1096 | 29/12/2021 | 96 | 35 | 12 | A_no_medication     | A_no_medication     |\n\n",
            "text/latex": "A data.frame: 1000 × 13\n\\begin{tabular}{lllllllllllll}\n user\\_id & member\\_id & age & country & asthma & sex & symptoms\\_id & date & vas\\_nose & vas\\_eye & vas\\_asthma & rhinitis\\_medication & asthma\\_medication\\\\\n <int> & <int> & <int> & <chr> & <int> & <chr> & <int> & <chr> & <int> & <int> & <int> & <chr> & <chr>\\\\\n\\hline\n\t  1 &   48 & 56 & NL & 0 & M & 111007 & 08/04/2016 & 77 & 81 & NA & B\\_single\\_medication & A\\_no\\_medication    \\\\\n\t  2 & 1026 & 19 & GB & 1 & M & 290424 & 06/10/2015 & 59 & 38 & NA & C\\_comedication      & A\\_no\\_medication    \\\\\n\t  3 & 1638 & 47 & FR & 0 & F & 368522 & 18/02/2019 & 52 &  5 &  0 & A\\_no\\_medication     & A\\_no\\_medication    \\\\\n\t  3 & 1638 & 47 & FR & 0 & F & 367628 & 20/11/2015 &  0 &  0 &  6 & A\\_no\\_medication     & A\\_no\\_medication    \\\\\n\t  3 & 1638 & 47 & FR & 0 & F & 367798 & 17/09/2016 &  8 &  0 &  2 & A\\_no\\_medication     & A\\_no\\_medication    \\\\\n\t  4 & 2064 & 51 & FR & 1 & F & 393432 & 25/12/2015 & 40 & 25 & NA & A\\_no\\_medication     & A\\_no\\_medication    \\\\\n\t  5 & 2076 & 23 & GB & 1 & F & 393928 & 26/12/2015 &  3 &  3 & NA & A\\_no\\_medication     & A\\_no\\_medication    \\\\\n\t  5 & 2076 & 23 & GB & 1 & F & 394299 & 21/01/2017 &  9 &  0 &  0 & A\\_no\\_medication     & A\\_no\\_medication    \\\\\n\t  5 & 2076 & 23 & GB & 1 & F & 394107 & 02/07/2016 & 15 &  0 &  0 & A\\_no\\_medication     & A\\_no\\_medication    \\\\\n\t  6 & 2082 & 72 & PL & 0 & F & 394940 & 12/01/2016 & 21 & 24 & NA & A\\_no\\_medication     & A\\_no\\_medication    \\\\\n\t  7 & 3138 & 67 & DK & 0 & F &  16242 & 08/05/2016 & 18 & 31 &  8 & A\\_no\\_medication     & B\\_single\\_medication\\\\\n\t  8 & 3192 & 32 & IT & 1 & F &  16996 & 01/08/2017 &  0 &  1 &  0 & A\\_no\\_medication     & A\\_no\\_medication    \\\\\n\t  8 & 3192 & 32 & IT & 1 & F &  17030 & 14/09/2017 &  0 &  0 &  0 & A\\_no\\_medication     & A\\_no\\_medication    \\\\\n\t  8 & 3192 & 32 & IT & 1 & F &  16721 & 28/10/2016 &  2 &  0 &  0 & A\\_no\\_medication     & A\\_no\\_medication    \\\\\n\t  9 & 3954 & 38 & BE & 0 & M &  25433 & 09/08/2016 &  9 & 10 & 16 & C\\_comedication      & A\\_no\\_medication    \\\\\n\t 10 & 4206 & 32 & IT & 1 & F &  28641 & 19/03/2016 &  1 &  0 &  1 & A\\_no\\_medication     & A\\_no\\_medication    \\\\\n\t 10 & 4206 & 32 & IT & 1 & F &  28649 & 27/03/2016 &  0 &  4 & NA & A\\_no\\_medication     & A\\_no\\_medication    \\\\\n\t 11 & 4458 & 40 & IT & 0 & F &  32663 & 15/09/2016 &  8 &  3 &  0 & B\\_single\\_medication & A\\_no\\_medication    \\\\\n\t 11 & 4458 & 40 & IT & 0 & F &  33290 & 14/06/2018 & 14 &  9 &  1 & A\\_no\\_medication     & A\\_no\\_medication    \\\\\n\t 11 & 4458 & 40 & IT & 0 & F &  32873 & 13/04/2017 & 33 & 19 &  0 & C\\_comedication      & A\\_no\\_medication    \\\\\n\t 12 & 4650 & 21 & DE & 0 & F &  41087 & 06/06/2016 & 24 &  1 &  0 & C\\_comedication      & A\\_no\\_medication    \\\\\n\t 13 & 4890 & 36 & ES & 0 & F &  46851 & 01/04/2016 & 19 &  1 & NA & B\\_single\\_medication & A\\_no\\_medication    \\\\\n\t 14 & 6000 & 37 & PL & 1 & F &  62618 & 28/04/2019 & 51 & 53 & 35 & C\\_comedication      & C\\_comedication     \\\\\n\t 14 & 6000 & 37 & PL & 1 & F &  62772 & 26/05/2021 & 25 & 61 & 14 & C\\_comedication      & C\\_comedication     \\\\\n\t 14 & 6000 & 37 & PL & 1 & F &  62529 & 03/05/2016 & 75 & 64 & 49 & C\\_comedication      & C\\_comedication     \\\\\n\t 14 & 6000 & 37 & PL & 1 & F &  62635 & 25/05/2019 & 13 &  7 &  6 & B\\_single\\_medication & B\\_single\\_medication\\\\\n\t 14 & 6000 & 37 & PL & 1 & F &  62708 & 19/10/2019 & 71 & 18 & 41 & C\\_comedication      & C\\_comedication     \\\\\n\t 15 & 6936 & 23 & DE & 0 & F &  81783 & 04/05/2016 & 17 &  9 & NA & B\\_single\\_medication & A\\_no\\_medication    \\\\\n\t 15 & 6936 & 23 & DE & 0 & F &  81777 & 14/04/2016 & 35 &  0 & NA & A\\_no\\_medication     & A\\_no\\_medication    \\\\\n\t 16 & 6942 & 51 & PL & 1 & F &  81834 & 29/04/2016 &  0 &  3 &  0 & C\\_comedication      & A\\_no\\_medication    \\\\\n\t ⋮ & ⋮ & ⋮ & ⋮ & ⋮ & ⋮ & ⋮ & ⋮ & ⋮ & ⋮ & ⋮ & ⋮ & ⋮\\\\\n\t 760 & 263985 & 33 & FR & 0 & F & 377802 & 01/10/2021 & 52 &  9 & 19 & B\\_single\\_medication & B\\_single\\_medication\\\\\n\t 761 & 264003 & 48 & FR & 1 & F & 377929 & 07/10/2021 & 14 & 24 &  5 & B\\_single\\_medication & A\\_no\\_medication    \\\\\n\t 761 & 264003 & 48 & FR & 1 & F & 377895 & 27/07/2021 & 11 &  6 &  3 & A\\_no\\_medication     & A\\_no\\_medication    \\\\\n\t 762 & 264081 & 22 & BR & 1 & M & 378257 & 11/08/2021 &  1 &  0 &  0 & B\\_single\\_medication & A\\_no\\_medication    \\\\\n\t 763 & 266259 & 49 & LT & 1 & M & 380224 & 22/07/2021 & 13 &  1 &  3 & B\\_single\\_medication & A\\_no\\_medication    \\\\\n\t 764 & 267471 & 29 & ES & 1 & M & 381235 & 31/10/2021 & 27 & 11 &  1 & B\\_single\\_medication & A\\_no\\_medication    \\\\\n\t 765 & 267519 & 18 & MX & 0 & M & 381312 & 02/08/2021 & 44 & 18 &  3 & C\\_comedication      & A\\_no\\_medication    \\\\\n\t 766 & 271545 & 39 & FR & 0 & M & 382976 & 11/11/2021 &  6 &  0 &  4 & A\\_no\\_medication     & A\\_no\\_medication    \\\\\n\t 767 & 272127 & 31 & TR & 0 & M & 383202 & 28/08/2021 & 98 &  6 & 92 & B\\_single\\_medication & C\\_comedication     \\\\\n\t 768 & 272745 & 15 & MX & 0 & F & 383586 & 19/09/2021 & 43 & 32 &  0 & B\\_single\\_medication & A\\_no\\_medication    \\\\\n\t 769 & 272985 & 23 & FR & 0 & F & 383662 & 18/10/2021 &  2 &  2 &  4 & A\\_no\\_medication     & A\\_no\\_medication    \\\\\n\t 770 & 273675 & 38 & PT & 1 & F & 383970 & 18/10/2021 &  0 &  0 &  1 & A\\_no\\_medication     & A\\_no\\_medication    \\\\\n\t 771 & 274869 & 22 & PT & 0 & M & 384455 & 29/11/2021 & 69 & 15 &  0 & B\\_single\\_medication & A\\_no\\_medication    \\\\\n\t 772 & 276699 & 31 & ES & 0 & F & 385216 & 26/09/2021 &  6 &  7 & 19 & A\\_no\\_medication     & A\\_no\\_medication    \\\\\n\t 773 & 276927 & 27 & IT & 0 & F & 385300 & 12/09/2021 & 97 &  1 &  0 & A\\_no\\_medication     & A\\_no\\_medication    \\\\\n\t 774 & 277785 & 19 & PT & 0 & F & 385739 & 01/10/2021 &  2 &  5 &  3 & A\\_no\\_medication     & A\\_no\\_medication    \\\\\n\t 775 & 278181 & 48 & PT & 1 & F & 385847 & 19/09/2021 & 32 & 21 & 25 & A\\_no\\_medication     & A\\_no\\_medication    \\\\\n\t 776 & 280647 & 50 & PL & 0 & F & 386646 & 01/10/2021 & 51 & 18 &  2 & A\\_no\\_medication     & A\\_no\\_medication    \\\\\n\t 777 & 284667 & 43 & FR & 0 & F & 388625 & 26/10/2021 & 56 & 47 & 60 & B\\_single\\_medication & B\\_single\\_medication\\\\\n\t 778 & 285267 & 21 & AR & 0 & M & 389133 & 27/10/2021 & 69 & 49 & 39 & C\\_comedication      & A\\_no\\_medication    \\\\\n\t 779 & 285627 & 49 & FR & 0 & M & 389280 & 04/11/2021 &  2 &  0 &  1 & A\\_no\\_medication     & A\\_no\\_medication    \\\\\n\t 780 & 285777 & 28 & FR & 0 & M & 389380 & 27/12/2021 &  1 &  0 &  5 & A\\_no\\_medication     & A\\_no\\_medication    \\\\\n\t 781 & 287973 & 33 & PT & 0 & F & 390065 & 13/11/2021 & 28 & 29 &  0 & A\\_no\\_medication     & A\\_no\\_medication    \\\\\n\t 782 & 291231 & 25 & FR & 0 & F & 391706 & 25/11/2021 & 19 &  1 &  4 & A\\_no\\_medication     & A\\_no\\_medication    \\\\\n\t 783 & 291441 & 22 & FR & 1 & M & 391855 & 27/11/2021 &  7 &  2 &  1 & A\\_no\\_medication     & A\\_no\\_medication    \\\\\n\t 784 & 292287 & 60 & IT & 0 & M & 392163 & 27/11/2021 & 14 &  2 &  4 & C\\_comedication      & A\\_no\\_medication    \\\\\n\t 785 & 292737 & 25 & FR & 0 & M & 392249 & 19/12/2021 &  4 &  2 &  2 & A\\_no\\_medication     & A\\_no\\_medication    \\\\\n\t 786 & 297285 & 28 & FR & 1 & M & 394921 & 25/12/2021 & 65 &  3 &  7 & A\\_no\\_medication     & A\\_no\\_medication    \\\\\n\t 787 & 302223 & 37 & IT & 1 & F &    449 & 23/12/2021 & 86 & 62 &  3 & A\\_no\\_medication     & A\\_no\\_medication    \\\\\n\t 788 & 304299 & 23 & IT & 1 & F &   1096 & 29/12/2021 & 96 & 35 & 12 & A\\_no\\_medication     & A\\_no\\_medication    \\\\\n\\end{tabular}\n",
            "text/plain": [
              "     user_id member_id age country asthma sex symptoms_id date       vas_nose\n",
              "1     1        48      56  NL      0      M   111007      08/04/2016 77      \n",
              "2     2      1026      19  GB      1      M   290424      06/10/2015 59      \n",
              "3     3      1638      47  FR      0      F   368522      18/02/2019 52      \n",
              "4     3      1638      47  FR      0      F   367628      20/11/2015  0      \n",
              "5     3      1638      47  FR      0      F   367798      17/09/2016  8      \n",
              "6     4      2064      51  FR      1      F   393432      25/12/2015 40      \n",
              "7     5      2076      23  GB      1      F   393928      26/12/2015  3      \n",
              "8     5      2076      23  GB      1      F   394299      21/01/2017  9      \n",
              "9     5      2076      23  GB      1      F   394107      02/07/2016 15      \n",
              "10    6      2082      72  PL      0      F   394940      12/01/2016 21      \n",
              "11    7      3138      67  DK      0      F    16242      08/05/2016 18      \n",
              "12    8      3192      32  IT      1      F    16996      01/08/2017  0      \n",
              "13    8      3192      32  IT      1      F    17030      14/09/2017  0      \n",
              "14    8      3192      32  IT      1      F    16721      28/10/2016  2      \n",
              "15    9      3954      38  BE      0      M    25433      09/08/2016  9      \n",
              "16   10      4206      32  IT      1      F    28641      19/03/2016  1      \n",
              "17   10      4206      32  IT      1      F    28649      27/03/2016  0      \n",
              "18   11      4458      40  IT      0      F    32663      15/09/2016  8      \n",
              "19   11      4458      40  IT      0      F    33290      14/06/2018 14      \n",
              "20   11      4458      40  IT      0      F    32873      13/04/2017 33      \n",
              "21   12      4650      21  DE      0      F    41087      06/06/2016 24      \n",
              "22   13      4890      36  ES      0      F    46851      01/04/2016 19      \n",
              "23   14      6000      37  PL      1      F    62618      28/04/2019 51      \n",
              "24   14      6000      37  PL      1      F    62772      26/05/2021 25      \n",
              "25   14      6000      37  PL      1      F    62529      03/05/2016 75      \n",
              "26   14      6000      37  PL      1      F    62635      25/05/2019 13      \n",
              "27   14      6000      37  PL      1      F    62708      19/10/2019 71      \n",
              "28   15      6936      23  DE      0      F    81783      04/05/2016 17      \n",
              "29   15      6936      23  DE      0      F    81777      14/04/2016 35      \n",
              "30   16      6942      51  PL      1      F    81834      29/04/2016  0      \n",
              "⋮    ⋮       ⋮         ⋮   ⋮       ⋮      ⋮   ⋮           ⋮          ⋮       \n",
              "971  760     263985    33  FR      0      F   377802      01/10/2021 52      \n",
              "972  761     264003    48  FR      1      F   377929      07/10/2021 14      \n",
              "973  761     264003    48  FR      1      F   377895      27/07/2021 11      \n",
              "974  762     264081    22  BR      1      M   378257      11/08/2021  1      \n",
              "975  763     266259    49  LT      1      M   380224      22/07/2021 13      \n",
              "976  764     267471    29  ES      1      M   381235      31/10/2021 27      \n",
              "977  765     267519    18  MX      0      M   381312      02/08/2021 44      \n",
              "978  766     271545    39  FR      0      M   382976      11/11/2021  6      \n",
              "979  767     272127    31  TR      0      M   383202      28/08/2021 98      \n",
              "980  768     272745    15  MX      0      F   383586      19/09/2021 43      \n",
              "981  769     272985    23  FR      0      F   383662      18/10/2021  2      \n",
              "982  770     273675    38  PT      1      F   383970      18/10/2021  0      \n",
              "983  771     274869    22  PT      0      M   384455      29/11/2021 69      \n",
              "984  772     276699    31  ES      0      F   385216      26/09/2021  6      \n",
              "985  773     276927    27  IT      0      F   385300      12/09/2021 97      \n",
              "986  774     277785    19  PT      0      F   385739      01/10/2021  2      \n",
              "987  775     278181    48  PT      1      F   385847      19/09/2021 32      \n",
              "988  776     280647    50  PL      0      F   386646      01/10/2021 51      \n",
              "989  777     284667    43  FR      0      F   388625      26/10/2021 56      \n",
              "990  778     285267    21  AR      0      M   389133      27/10/2021 69      \n",
              "991  779     285627    49  FR      0      M   389280      04/11/2021  2      \n",
              "992  780     285777    28  FR      0      M   389380      27/12/2021  1      \n",
              "993  781     287973    33  PT      0      F   390065      13/11/2021 28      \n",
              "994  782     291231    25  FR      0      F   391706      25/11/2021 19      \n",
              "995  783     291441    22  FR      1      M   391855      27/11/2021  7      \n",
              "996  784     292287    60  IT      0      M   392163      27/11/2021 14      \n",
              "997  785     292737    25  FR      0      M   392249      19/12/2021  4      \n",
              "998  786     297285    28  FR      1      M   394921      25/12/2021 65      \n",
              "999  787     302223    37  IT      1      F      449      23/12/2021 86      \n",
              "1000 788     304299    23  IT      1      F     1096      29/12/2021 96      \n",
              "     vas_eye vas_asthma rhinitis_medication asthma_medication  \n",
              "1    81      NA         B_single_medication A_no_medication    \n",
              "2    38      NA         C_comedication      A_no_medication    \n",
              "3     5       0         A_no_medication     A_no_medication    \n",
              "4     0       6         A_no_medication     A_no_medication    \n",
              "5     0       2         A_no_medication     A_no_medication    \n",
              "6    25      NA         A_no_medication     A_no_medication    \n",
              "7     3      NA         A_no_medication     A_no_medication    \n",
              "8     0       0         A_no_medication     A_no_medication    \n",
              "9     0       0         A_no_medication     A_no_medication    \n",
              "10   24      NA         A_no_medication     A_no_medication    \n",
              "11   31       8         A_no_medication     B_single_medication\n",
              "12    1       0         A_no_medication     A_no_medication    \n",
              "13    0       0         A_no_medication     A_no_medication    \n",
              "14    0       0         A_no_medication     A_no_medication    \n",
              "15   10      16         C_comedication      A_no_medication    \n",
              "16    0       1         A_no_medication     A_no_medication    \n",
              "17    4      NA         A_no_medication     A_no_medication    \n",
              "18    3       0         B_single_medication A_no_medication    \n",
              "19    9       1         A_no_medication     A_no_medication    \n",
              "20   19       0         C_comedication      A_no_medication    \n",
              "21    1       0         C_comedication      A_no_medication    \n",
              "22    1      NA         B_single_medication A_no_medication    \n",
              "23   53      35         C_comedication      C_comedication     \n",
              "24   61      14         C_comedication      C_comedication     \n",
              "25   64      49         C_comedication      C_comedication     \n",
              "26    7       6         B_single_medication B_single_medication\n",
              "27   18      41         C_comedication      C_comedication     \n",
              "28    9      NA         B_single_medication A_no_medication    \n",
              "29    0      NA         A_no_medication     A_no_medication    \n",
              "30    3       0         C_comedication      A_no_medication    \n",
              "⋮    ⋮       ⋮          ⋮                   ⋮                  \n",
              "971   9      19         B_single_medication B_single_medication\n",
              "972  24       5         B_single_medication A_no_medication    \n",
              "973   6       3         A_no_medication     A_no_medication    \n",
              "974   0       0         B_single_medication A_no_medication    \n",
              "975   1       3         B_single_medication A_no_medication    \n",
              "976  11       1         B_single_medication A_no_medication    \n",
              "977  18       3         C_comedication      A_no_medication    \n",
              "978   0       4         A_no_medication     A_no_medication    \n",
              "979   6      92         B_single_medication C_comedication     \n",
              "980  32       0         B_single_medication A_no_medication    \n",
              "981   2       4         A_no_medication     A_no_medication    \n",
              "982   0       1         A_no_medication     A_no_medication    \n",
              "983  15       0         B_single_medication A_no_medication    \n",
              "984   7      19         A_no_medication     A_no_medication    \n",
              "985   1       0         A_no_medication     A_no_medication    \n",
              "986   5       3         A_no_medication     A_no_medication    \n",
              "987  21      25         A_no_medication     A_no_medication    \n",
              "988  18       2         A_no_medication     A_no_medication    \n",
              "989  47      60         B_single_medication B_single_medication\n",
              "990  49      39         C_comedication      A_no_medication    \n",
              "991   0       1         A_no_medication     A_no_medication    \n",
              "992   0       5         A_no_medication     A_no_medication    \n",
              "993  29       0         A_no_medication     A_no_medication    \n",
              "994   1       4         A_no_medication     A_no_medication    \n",
              "995   2       1         A_no_medication     A_no_medication    \n",
              "996   2       4         C_comedication      A_no_medication    \n",
              "997   2       2         A_no_medication     A_no_medication    \n",
              "998   3       7         A_no_medication     A_no_medication    \n",
              "999  62       3         A_no_medication     A_no_medication    \n",
              "1000 35      12         A_no_medication     A_no_medication    "
            ]
          },
          "metadata": {}
        }
      ]
    },
    {
      "cell_type": "code",
      "source": [
        "mask_air %>%\n",
        "  filter(age)"
      ],
      "metadata": {
        "id": "ApOwHXcl1O0T",
        "outputId": "688ea190-fb02-4321-c72d-3779735e0985",
        "colab": {
          "base_uri": "https://localhost:8080/",
          "height": 1000
        }
      },
      "execution_count": 83,
      "outputs": [
        {
          "output_type": "error",
          "ename": "ERROR",
          "evalue": "ignored",
          "traceback": [
            "\u001b[1m\u001b[33mError\u001b[39m in `filter()`:\u001b[22m\n\u001b[1m\u001b[22m\u001b[33m!\u001b[39m Problem while computing `..1 = age`.\n\u001b[31m✖\u001b[39m Input `..1` must be a logical vector, not a integer.\nTraceback:\n",
            "1. mask_air %>% filter(age)",
            "2. filter(., age)",
            "3. filter.data.frame(., age)",
            "4. filter_rows(.data, ..., caller_env = caller_env())",
            "5. filter_eval(dots, mask = mask, error_call = error_call)",
            "6. withCallingHandlers({\n .     mask$eval_all_filter(dots, env_filter)\n . }, error = function(e) {\n .     local_error_context(dots = dots, .index = env_filter$current_expression, \n .         mask = mask)\n .     bullets <- c(cnd_bullet_header(\"computing\"), filter_bullets(e))\n .     abort(bullets, call = error_call, parent = skip_internal_condition(e))\n . })",
            "7. mask$eval_all_filter(dots, env_filter)",
            "8. dplyr_internal_error(\"dplyr:::filter_incompatible_type\", list(\n .     index = 1L, column_name = NULL, result = c(56L, 19L, 47L, \n .     47L, 47L, 51L, 23L, 23L, 23L, 72L, 67L, 32L, 32L, 32L, 38L, \n .     32L, 32L, 40L, 40L, 40L, 21L, 36L, 37L, 37L, 37L, 37L, 37L, \n .     23L, 23L, 51L, 33L, 21L, 67L, 35L, 24L, 46L, 64L, 34L, 47L, \n .     37L, 56L, 42L, 19L, 13L, 34L, 27L, 36L, 23L, 19L, 19L, 19L, \n .     19L, 33L, 33L, 44L, 36L, 42L, 29L, 30L, 30L, 30L, 46L, 15L, \n .     40L, 36L, 50L, 35L, 52L, 29L, 16L, 90L, 90L, 90L, 17L, 26L, \n .     24L, 42L, 38L, 28L, 35L, 22L, 45L, 55L, 48L, 35L, 38L, 45L, \n .     24L, 24L, 24L, 42L, 42L, 13L, 32L, 32L, 32L, 41L, 41L, 51L, \n .     43L, 29L, 32L, 33L, 16L, 23L, 77L, 39L, 37L, 38L, 16L, 29L, \n .     38L, 38L, 23L, 26L, 29L, 39L, 23L, 59L, 42L, 59L, 49L, 67L, \n .     43L, 20L, 20L, 48L, 42L, 60L, 63L, 44L, 16L, 30L, 30L, 30L, \n .     30L, 30L, 31L, 53L, 53L, 37L, 55L, 24L, 19L, 19L, 44L, 41L, \n .     21L, 46L, 30L, 33L, 28L, 27L, 30L, 33L, 33L, 29L, 19L, 19L, \n .     20L, 38L, 22L, 17L, 25L, 18L, 43L, 43L, 43L, 45L, 45L, 40L, \n .     32L, 43L, 15L, 15L, 15L, 15L, 15L, 15L, 17L, 77L, 77L, 30L, \n .     31L, 27L, 58L, 23L, 50L, 34L, 68L, 41L, 41L, 51L, 51L, 56L, \n .     56L, 39L, 39L, 39L, 35L, 27L, 27L, 45L, 53L, 28L, 36L, 36L, \n .     36L, 14L, 14L, 13L, 37L, 40L, 49L, 35L, 41L, 41L, 41L, 41L, \n .     41L, 41L, 39L, 63L, 35L, 40L, 40L, 33L, 13L, 33L, 21L, 21L, \n .     55L, 27L, 27L, 35L, 35L, 24L, 24L, 27L, 38L, 35L, 87L, 44L, \n .     20L, 58L, 58L, 40L, 78L, 53L, 29L, 38L, 28L, 28L, 62L, 21L, \n .     41L, 19L, 40L, 32L, 34L, 45L, 29L, 28L, 58L, 59L, 59L, 65L, \n .     46L, 46L, 25L, 62L, 39L, 22L, 51L, 37L, 31L, 40L, 18L, 17L, \n .     23L, 40L, 23L, 56L, 56L, 56L, 56L, 38L, 36L, 50L, 27L, 27L, \n .     27L, 17L, 57L, 40L, 34L, 34L, 39L, 39L, 28L, 43L, 19L, 19L, \n .     19L, 33L, 16L, 47L, 67L, 31L, 41L, 30L, 42L, 31L, 14L, 14L, \n .     14L, 26L, 26L, 46L, 53L, 22L, 43L, 14L, 54L, 27L, 44L, 23L, \n .     23L, 23L, 21L, 21L, 22L, 22L, 63L, 63L, 30L, 61L, 56L, 33L, \n .     29L, 52L, 52L, 22L, 23L, 62L, 55L, 55L, 55L, 15L, 17L, 29L, \n .     51L, 42L, 22L, 22L, 50L, 44L, 54L, 23L, 61L, 46L, 28L, 70L, \n .     15L, 26L, 71L, 71L, 32L, 30L, 30L, 31L, 45L, 31L, 31L, 21L, \n .     48L, 39L, 32L, 32L, 37L, 38L, 24L, 24L, 24L, 13L, 33L, 18L, \n .     47L, 27L, 16L, 32L, 20L, 27L, 39L, 39L, 39L, 39L, 39L, 42L, \n .     27L, 32L, 29L, 57L, 66L, 43L, 41L, 41L, 59L, 23L, 30L, 49L, \n .     17L, 46L, 46L, 28L, 29L, 34L, 30L, 33L, 32L, 32L, 77L, 43L, \n .     43L, 22L, 31L, 34L, 63L, 30L, 30L, 47L, 36L, 51L, 18L, 82L, \n .     36L, 55L, 34L, 66L, 22L, 40L, 40L, 23L, 49L, 71L, 36L, 46L, \n .     60L, 26L, 45L, 49L, 49L, 28L, 66L, 32L, 24L, 16L, 30L, 25L, \n .     54L, 27L, 27L, 43L, 43L, 43L, 43L, 23L, 22L, 26L, 44L, 26L, \n .     32L, 32L, 32L, 32L, 29L, 39L, 23L, 37L, 32L, 42L, 53L, 53L, \n .     42L, 24L, 40L, 31L, 21L, 36L, 19L, 47L, 47L, 27L, 36L, 31L, \n .     35L, 61L, 65L, 57L, 57L, 37L, 33L, 19L, 46L, 47L, 27L, 44L, \n .     58L, 27L, 27L, 45L, 14L, 24L, 16L, 29L, 51L, 51L, 49L, 49L, \n .     49L, 44L, 44L, 44L, 14L, 34L, 21L, 29L, 43L, 43L, 27L, 46L, \n .     25L, 25L, 25L, 52L, 51L, 32L, 19L, 34L, 37L, 25L, 20L, 62L, \n .     62L, 37L, 37L, 53L, 54L, 33L, 23L, 54L, 26L, 26L, 26L, 29L, \n .     35L, 28L, 43L, 43L, 43L, 43L, 42L, 33L, 48L, 42L, 42L, 38L, \n .     29L, 44L, 48L, 59L, 31L, 28L, 25L, 41L, 41L, 57L, 48L, 27L, \n .     27L, 28L, 42L, 67L, 67L, 67L, 66L, 40L, 40L, 40L, 42L, 42L, \n .     23L, 23L, 70L, 34L, 15L, 47L, 17L, 46L, 46L, 46L, 43L, 54L, \n .     28L, 39L, 58L, 57L, 19L, 18L, 18L, 37L, 37L, 37L, 36L, 41L, \n .     58L, 56L, 43L, 43L, 29L, 32L, 32L, 32L, 25L, 25L, 20L, 55L, \n .     55L, 55L, 37L, 58L, 30L, 31L, 42L, 28L, 24L, 24L, 47L, 28L, \n .     45L, 14L, 42L, 20L, 20L, 51L, 33L, 33L, 33L, 44L, 25L, 53L, \n .     26L, 56L, 34L, 23L, 23L, 27L, 15L, 30L, 30L, 82L, 26L, 63L, \n .     48L, 83L, 35L, 73L, 41L, 41L, 62L, 62L, 44L, 44L, 39L, 16L, \n .     41L, 21L, 21L, 21L, 21L, 21L, 19L, 34L, 45L, 34L, 58L, 58L, \n .     58L, 35L, 29L, 57L, 37L, 26L, 29L, 29L, 45L, 24L, 26L, 41L, \n .     15L, 53L, 53L, 53L, 24L, 19L, 62L, 32L, 30L, 47L, 47L, 22L, \n .     24L, 25L, 56L, 16L, 21L, 21L, 32L, 43L, 37L, 20L, 16L, 16L, \n .     39L, 39L, 19L, 19L, 18L, 41L, 45L, 45L, 53L, 30L, 30L, 19L, \n .     32L, 32L, 39L, 20L, 33L, 37L, 45L, 24L, 29L, 34L, 34L, 60L, \n .     31L, 27L, 42L, 33L, 29L, 47L, 20L, 20L, 25L, 30L, 46L, 35L, \n .     24L, 31L, 36L, 28L, 21L, 21L, 18L, 26L, 61L, 49L, 43L, 29L, \n .     29L, 46L, 46L, 60L, 20L, 47L, 52L, 18L, 29L, 68L, 68L, 68L, \n .     68L, 68L, 68L, 68L, 30L, 29L, 41L, 54L, 25L, 32L, 32L, 23L, \n .     49L, 41L, 58L, 74L, 33L, 45L, 45L, 56L, 34L, 34L, 34L, 34L, \n .     34L, 34L, 46L, 37L, 63L, 58L, 32L, 33L, 21L, 18L, 33L, 36L, \n .     37L, 66L, 66L, 44L, 43L, 40L, 84L, 84L, 49L, 30L, 39L, 24L, \n .     38L, 45L, 54L, 27L, 27L, 24L, 43L, 37L, 15L, 47L, 32L, 52L, \n .     59L, 35L, 57L, 32L, 37L, 37L, 33L, 21L, 53L, 25L, 41L, 43L, \n .     35L, 35L, 47L, 38L, 24L, 45L, 26L, 26L, 27L, 27L, 63L, 35L, \n .     29L, 29L, 45L, 45L, 51L, 20L, 45L, 40L, 36L, 27L, 48L, 32L, \n .     40L, 44L, 45L, 42L, 78L, 46L, 41L, 44L, 35L, 57L, 33L, 37L, \n .     23L, 46L, 43L, 43L, 21L, 21L, 21L, 49L, 31L, 61L, 34L, 34L, \n .     18L, 25L, 44L, 34L, 44L, 29L, 46L, 53L, 45L, 67L, 71L, 22L, \n .     29L, 29L, 30L, 43L, 60L, 47L, 47L, 47L, 46L, 68L, 40L, 74L, \n .     37L, 48L, 18L, 18L, 34L, 25L, 19L, 28L, 18L, 16L, 55L, 29L, \n .     55L, 24L, 16L, 45L, 34L, 34L, 21L, 35L, 38L, 20L, 49L, 26L, \n .     25L, 33L, 36L, 53L, 53L, 53L, 29L, 51L, 55L, 73L, 22L, 35L, \n .     52L, 26L, 41L, 25L, 29L, 53L, 53L, 33L, 48L, 48L, 22L, 49L, \n .     29L, 18L, 39L, 31L, 15L, 23L, 38L, 22L, 31L, 27L, 19L, 48L, \n .     50L, 43L, 21L, 49L, 28L, 33L, 25L, 22L, 60L, 25L, 28L, 37L, \n .     23L)))",
            "9. abort(class = c(class, \"dplyr:::internal_error\"), dplyr_error_data = data)",
            "10. signal_abort(cnd, .file)",
            "11. signalCondition(cnd)",
            "12. (function (e) \n  . {\n  .     local_error_context(dots = dots, .index = env_filter$current_expression, \n  .         mask = mask)\n  .     bullets <- c(cnd_bullet_header(\"computing\"), filter_bullets(e))\n  .     abort(bullets, call = error_call, parent = skip_internal_condition(e))\n  . })(structure(list(message = \"\", trace = structure(list(call = list(\n  .     IRkernel::main(), kernel$run(), handle_shell(), executor$execute(msg), \n  .     tryCatch(evaluate(request$content$code, envir = .GlobalEnv, \n  .         output_handler = oh, stop_on_error = 1L), interrupt = function(cond) {\n  .         log_debug(\"Interrupt during execution\")\n  .         interrupted <<- TRUE\n  .     }, error = .self$handle_error), tryCatchList(expr, classes, \n  .         parentenv, handlers), tryCatchOne(tryCatchList(expr, \n  .         names[-nh], parentenv, handlers[-nh]), names[nh], parentenv, \n  .         handlers[[nh]]), doTryCatch(return(expr), name, parentenv, \n  .         handler), tryCatchList(expr, names[-nh], parentenv, handlers[-nh]), \n  .     tryCatchOne(expr, names, parentenv, handlers[[1L]]), doTryCatch(return(expr), \n  .         name, parentenv, handler), evaluate(request$content$code, \n  .         envir = .GlobalEnv, output_handler = oh, stop_on_error = 1L), \n  .     evaluate_call(expr, parsed$src[[i]], envir = envir, enclos = enclos, \n  .         debug = debug, last = i == length(out), use_try = stop_on_error != \n  .             2L, keep_warning = keep_warning, keep_message = keep_message, \n  .         output_handler = output_handler, include_timing = include_timing), \n  .     timing_fn(handle(ev <- withCallingHandlers(withVisible(eval_with_user_handlers(expr, \n  .         envir, enclos, user_handlers)), warning = wHandler, error = eHandler, \n  .         message = mHandler))), handle(ev <- withCallingHandlers(withVisible(eval_with_user_handlers(expr, \n  .         envir, enclos, user_handlers)), warning = wHandler, error = eHandler, \n  .         message = mHandler)), try(f, silent = TRUE), tryCatch(expr, \n  .         error = function(e) {\n  .             call <- conditionCall(e)\n  .             if (!is.null(call)) {\n  .                 if (identical(call[[1L]], quote(doTryCatch))) \n  .                   call <- sys.call(-4L)\n  .                 dcall <- deparse(call, nlines = 1L)\n  .                 prefix <- paste(\"Error in\", dcall, \": \")\n  .                 LONG <- 75L\n  .                 sm <- strsplit(conditionMessage(e), \"\\n\")[[1L]]\n  .                 w <- 14L + nchar(dcall, type = \"w\") + nchar(sm[1L], \n  .                   type = \"w\")\n  .                 if (is.na(w)) \n  .                   w <- 14L + nchar(dcall, type = \"b\") + nchar(sm[1L], \n  .                     type = \"b\")\n  .                 if (w > LONG) \n  .                   prefix <- paste0(prefix, \"\\n  \")\n  .             }\n  .             else prefix <- \"Error : \"\n  .             msg <- paste0(prefix, conditionMessage(e), \"\\n\")\n  .             .Internal(seterrmessage(msg[1L]))\n  .             if (!silent && isTRUE(getOption(\"show.error.messages\"))) {\n  .                 cat(msg, file = outFile)\n  .                 .Internal(printDeferredWarnings())\n  .             }\n  .             invisible(structure(msg, class = \"try-error\", condition = e))\n  .         }), tryCatchList(expr, classes, parentenv, handlers), \n  .     tryCatchOne(expr, names, parentenv, handlers[[1L]]), doTryCatch(return(expr), \n  .         name, parentenv, handler), withCallingHandlers(withVisible(eval_with_user_handlers(expr, \n  .         envir, enclos, user_handlers)), warning = wHandler, error = eHandler, \n  .         message = mHandler), withVisible(eval_with_user_handlers(expr, \n  .         envir, enclos, user_handlers)), eval_with_user_handlers(expr, \n  .         envir, enclos, user_handlers), eval(expr, envir, enclos), \n  .     eval(expr, envir, enclos), mask_air %>% filter(age), filter(., \n  .         age), filter.data.frame(., age), filter_rows(.data, ..., \n  .         caller_env = caller_env()), filter_eval(dots, mask = mask, \n  .         error_call = error_call), withCallingHandlers({\n  .         mask$eval_all_filter(dots, env_filter)\n  .     }, error = function(e) {\n  .         local_error_context(dots = dots, .index = env_filter$current_expression, \n  .             mask = mask)\n  .         bullets <- c(cnd_bullet_header(\"computing\"), filter_bullets(e))\n  .         abort(bullets, call = error_call, parent = skip_internal_condition(e))\n  .     }), mask$eval_all_filter(dots, env_filter), dplyr_internal_error(\"dplyr:::filter_incompatible_type\", \n  .         `<named list>`), abort(class = c(class, \"dplyr:::internal_error\"), \n  .         dplyr_error_data = data)), parent = c(0L, 1L, 2L, 3L, \n  . 4L, 5L, 6L, 7L, 6L, 9L, 10L, 4L, 12L, 13L, 13L, 15L, 16L, 17L, \n  . 18L, 19L, 13L, 13L, 13L, 23L, 24L, 0L, 0L, 0L, 28L, 29L, 30L, \n  . 30L, 0L, 33L), visible = c(TRUE, TRUE, TRUE, TRUE, TRUE, TRUE, \n  . TRUE, TRUE, TRUE, TRUE, TRUE, TRUE, TRUE, TRUE, TRUE, TRUE, TRUE, \n  . TRUE, TRUE, TRUE, TRUE, TRUE, TRUE, TRUE, TRUE, TRUE, TRUE, TRUE, \n  . TRUE, TRUE, TRUE, TRUE, TRUE, FALSE), namespace = c(\"IRkernel\", \n  . NA, \"IRkernel\", NA, \"base\", \"base\", \"base\", \"base\", \"base\", \"base\", \n  . \"base\", \"evaluate\", \"evaluate\", \"evaluate\", \"evaluate\", \"base\", \n  . \"base\", \"base\", \"base\", \"base\", \"base\", \"base\", \"evaluate\", \"base\", \n  . \"base\", NA, \"dplyr\", \"dplyr\", \"dplyr\", \"dplyr\", \"base\", NA, \"dplyr\", \n  . \"rlang\"), scope = c(\"::\", NA, \"local\", NA, \"::\", \"local\", \"local\", \n  . \"local\", \"local\", \"local\", \"local\", \"::\", \":::\", \"local\", \"local\", \n  . \"::\", \"::\", \"local\", \"local\", \"local\", \"::\", \"::\", \":::\", \"::\", \n  . \"::\", NA, \"::\", \":::\", \":::\", \":::\", \"::\", NA, \":::\", \"::\"), \n  .     error_frame = c(FALSE, FALSE, FALSE, FALSE, FALSE, FALSE, \n  .     FALSE, FALSE, FALSE, FALSE, FALSE, FALSE, FALSE, FALSE, FALSE, \n  .     FALSE, FALSE, FALSE, FALSE, FALSE, FALSE, FALSE, FALSE, FALSE, \n  .     FALSE, FALSE, FALSE, FALSE, FALSE, FALSE, FALSE, FALSE, TRUE, \n  .     FALSE)), row.names = c(NA, -34L), version = 2L, class = c(\"rlang_trace\", \n  . \"rlib_trace\", \"tbl\", \"data.frame\")), parent = NULL, dplyr_error_data = list(\n  .     index = 1L, column_name = NULL, result = c(56L, 19L, 47L, \n  .     47L, 47L, 51L, 23L, 23L, 23L, 72L, 67L, 32L, 32L, 32L, 38L, \n  .     32L, 32L, 40L, 40L, 40L, 21L, 36L, 37L, 37L, 37L, 37L, 37L, \n  .     23L, 23L, 51L, 33L, 21L, 67L, 35L, 24L, 46L, 64L, 34L, 47L, \n  .     37L, 56L, 42L, 19L, 13L, 34L, 27L, 36L, 23L, 19L, 19L, 19L, \n  .     19L, 33L, 33L, 44L, 36L, 42L, 29L, 30L, 30L, 30L, 46L, 15L, \n  .     40L, 36L, 50L, 35L, 52L, 29L, 16L, 90L, 90L, 90L, 17L, 26L, \n  .     24L, 42L, 38L, 28L, 35L, 22L, 45L, 55L, 48L, 35L, 38L, 45L, \n  .     24L, 24L, 24L, 42L, 42L, 13L, 32L, 32L, 32L, 41L, 41L, 51L, \n  .     43L, 29L, 32L, 33L, 16L, 23L, 77L, 39L, 37L, 38L, 16L, 29L, \n  .     38L, 38L, 23L, 26L, 29L, 39L, 23L, 59L, 42L, 59L, 49L, 67L, \n  .     43L, 20L, 20L, 48L, 42L, 60L, 63L, 44L, 16L, 30L, 30L, 30L, \n  .     30L, 30L, 31L, 53L, 53L, 37L, 55L, 24L, 19L, 19L, 44L, 41L, \n  .     21L, 46L, 30L, 33L, 28L, 27L, 30L, 33L, 33L, 29L, 19L, 19L, \n  .     20L, 38L, 22L, 17L, 25L, 18L, 43L, 43L, 43L, 45L, 45L, 40L, \n  .     32L, 43L, 15L, 15L, 15L, 15L, 15L, 15L, 17L, 77L, 77L, 30L, \n  .     31L, 27L, 58L, 23L, 50L, 34L, 68L, 41L, 41L, 51L, 51L, 56L, \n  .     56L, 39L, 39L, 39L, 35L, 27L, 27L, 45L, 53L, 28L, 36L, 36L, \n  .     36L, 14L, 14L, 13L, 37L, 40L, 49L, 35L, 41L, 41L, 41L, 41L, \n  .     41L, 41L, 39L, 63L, 35L, 40L, 40L, 33L, 13L, 33L, 21L, 21L, \n  .     55L, 27L, 27L, 35L, 35L, 24L, 24L, 27L, 38L, 35L, 87L, 44L, \n  .     20L, 58L, 58L, 40L, 78L, 53L, 29L, 38L, 28L, 28L, 62L, 21L, \n  .     41L, 19L, 40L, 32L, 34L, 45L, 29L, 28L, 58L, 59L, 59L, 65L, \n  .     46L, 46L, 25L, 62L, 39L, 22L, 51L, 37L, 31L, 40L, 18L, 17L, \n  .     23L, 40L, 23L, 56L, 56L, 56L, 56L, 38L, 36L, 50L, 27L, 27L, \n  .     27L, 17L, 57L, 40L, 34L, 34L, 39L, 39L, 28L, 43L, 19L, 19L, \n  .     19L, 33L, 16L, 47L, 67L, 31L, 41L, 30L, 42L, 31L, 14L, 14L, \n  .     14L, 26L, 26L, 46L, 53L, 22L, 43L, 14L, 54L, 27L, 44L, 23L, \n  .     23L, 23L, 21L, 21L, 22L, 22L, 63L, 63L, 30L, 61L, 56L, 33L, \n  .     29L, 52L, 52L, 22L, 23L, 62L, 55L, 55L, 55L, 15L, 17L, 29L, \n  .     51L, 42L, 22L, 22L, 50L, 44L, 54L, 23L, 61L, 46L, 28L, 70L, \n  .     15L, 26L, 71L, 71L, 32L, 30L, 30L, 31L, 45L, 31L, 31L, 21L, \n  .     48L, 39L, 32L, 32L, 37L, 38L, 24L, 24L, 24L, 13L, 33L, 18L, \n  .     47L, 27L, 16L, 32L, 20L, 27L, 39L, 39L, 39L, 39L, 39L, 42L, \n  .     27L, 32L, 29L, 57L, 66L, 43L, 41L, 41L, 59L, 23L, 30L, 49L, \n  .     17L, 46L, 46L, 28L, 29L, 34L, 30L, 33L, 32L, 32L, 77L, 43L, \n  .     43L, 22L, 31L, 34L, 63L, 30L, 30L, 47L, 36L, 51L, 18L, 82L, \n  .     36L, 55L, 34L, 66L, 22L, 40L, 40L, 23L, 49L, 71L, 36L, 46L, \n  .     60L, 26L, 45L, 49L, 49L, 28L, 66L, 32L, 24L, 16L, 30L, 25L, \n  .     54L, 27L, 27L, 43L, 43L, 43L, 43L, 23L, 22L, 26L, 44L, 26L, \n  .     32L, 32L, 32L, 32L, 29L, 39L, 23L, 37L, 32L, 42L, 53L, 53L, \n  .     42L, 24L, 40L, 31L, 21L, 36L, 19L, 47L, 47L, 27L, 36L, 31L, \n  .     35L, 61L, 65L, 57L, 57L, 37L, 33L, 19L, 46L, 47L, 27L, 44L, \n  .     58L, 27L, 27L, 45L, 14L, 24L, 16L, 29L, 51L, 51L, 49L, 49L, \n  .     49L, 44L, 44L, 44L, 14L, 34L, 21L, 29L, 43L, 43L, 27L, 46L, \n  .     25L, 25L, 25L, 52L, 51L, 32L, 19L, 34L, 37L, 25L, 20L, 62L, \n  .     62L, 37L, 37L, 53L, 54L, 33L, 23L, 54L, 26L, 26L, 26L, 29L, \n  .     35L, 28L, 43L, 43L, 43L, 43L, 42L, 33L, 48L, 42L, 42L, 38L, \n  .     29L, 44L, 48L, 59L, 31L, 28L, 25L, 41L, 41L, 57L, 48L, 27L, \n  .     27L, 28L, 42L, 67L, 67L, 67L, 66L, 40L, 40L, 40L, 42L, 42L, \n  .     23L, 23L, 70L, 34L, 15L, 47L, 17L, 46L, 46L, 46L, 43L, 54L, \n  .     28L, 39L, 58L, 57L, 19L, 18L, 18L, 37L, 37L, 37L, 36L, 41L, \n  .     58L, 56L, 43L, 43L, 29L, 32L, 32L, 32L, 25L, 25L, 20L, 55L, \n  .     55L, 55L, 37L, 58L, 30L, 31L, 42L, 28L, 24L, 24L, 47L, 28L, \n  .     45L, 14L, 42L, 20L, 20L, 51L, 33L, 33L, 33L, 44L, 25L, 53L, \n  .     26L, 56L, 34L, 23L, 23L, 27L, 15L, 30L, 30L, 82L, 26L, 63L, \n  .     48L, 83L, 35L, 73L, 41L, 41L, 62L, 62L, 44L, 44L, 39L, 16L, \n  .     41L, 21L, 21L, 21L, 21L, 21L, 19L, 34L, 45L, 34L, 58L, 58L, \n  .     58L, 35L, 29L, 57L, 37L, 26L, 29L, 29L, 45L, 24L, 26L, 41L, \n  .     15L, 53L, 53L, 53L, 24L, 19L, 62L, 32L, 30L, 47L, 47L, 22L, \n  .     24L, 25L, 56L, 16L, 21L, 21L, 32L, 43L, 37L, 20L, 16L, 16L, \n  .     39L, 39L, 19L, 19L, 18L, 41L, 45L, 45L, 53L, 30L, 30L, 19L, \n  .     32L, 32L, 39L, 20L, 33L, 37L, 45L, 24L, 29L, 34L, 34L, 60L, \n  .     31L, 27L, 42L, 33L, 29L, 47L, 20L, 20L, 25L, 30L, 46L, 35L, \n  .     24L, 31L, 36L, 28L, 21L, 21L, 18L, 26L, 61L, 49L, 43L, 29L, \n  .     29L, 46L, 46L, 60L, 20L, 47L, 52L, 18L, 29L, 68L, 68L, 68L, \n  .     68L, 68L, 68L, 68L, 30L, 29L, 41L, 54L, 25L, 32L, 32L, 23L, \n  .     49L, 41L, 58L, 74L, 33L, 45L, 45L, 56L, 34L, 34L, 34L, 34L, \n  .     34L, 34L, 46L, 37L, 63L, 58L, 32L, 33L, 21L, 18L, 33L, 36L, \n  .     37L, 66L, 66L, 44L, 43L, 40L, 84L, 84L, 49L, 30L, 39L, 24L, \n  .     38L, 45L, 54L, 27L, 27L, 24L, 43L, 37L, 15L, 47L, 32L, 52L, \n  .     59L, 35L, 57L, 32L, 37L, 37L, 33L, 21L, 53L, 25L, 41L, 43L, \n  .     35L, 35L, 47L, 38L, 24L, 45L, 26L, 26L, 27L, 27L, 63L, 35L, \n  .     29L, 29L, 45L, 45L, 51L, 20L, 45L, 40L, 36L, 27L, 48L, 32L, \n  .     40L, 44L, 45L, 42L, 78L, 46L, 41L, 44L, 35L, 57L, 33L, 37L, \n  .     23L, 46L, 43L, 43L, 21L, 21L, 21L, 49L, 31L, 61L, 34L, 34L, \n  .     18L, 25L, 44L, 34L, 44L, 29L, 46L, 53L, 45L, 67L, 71L, 22L, \n  .     29L, 29L, 30L, 43L, 60L, 47L, 47L, 47L, 46L, 68L, 40L, 74L, \n  .     37L, 48L, 18L, 18L, 34L, 25L, 19L, 28L, 18L, 16L, 55L, 29L, \n  .     55L, 24L, 16L, 45L, 34L, 34L, 21L, 35L, 38L, 20L, 49L, 26L, \n  .     25L, 33L, 36L, 53L, 53L, 53L, 29L, 51L, 55L, 73L, 22L, 35L, \n  .     52L, 26L, 41L, 25L, 29L, 53L, 53L, 33L, 48L, 48L, 22L, 49L, \n  .     29L, 18L, 39L, 31L, 15L, 23L, 38L, 22L, 31L, 27L, 19L, 48L, \n  .     50L, 43L, 21L, 49L, 28L, 33L, 25L, 22L, 60L, 25L, 28L, 37L, \n  .     23L)), call = dplyr_internal_error(\"dplyr:::filter_incompatible_type\", \n  .     list(index = 1L, column_name = NULL, result = c(56L, 19L, \n  .     47L, 47L, 47L, 51L, 23L, 23L, 23L, 72L, 67L, 32L, 32L, 32L, \n  .     38L, 32L, 32L, 40L, 40L, 40L, 21L, 36L, 37L, 37L, 37L, 37L, \n  .     37L, 23L, 23L, 51L, 33L, 21L, 67L, 35L, 24L, 46L, 64L, 34L, \n  .     47L, 37L, 56L, 42L, 19L, 13L, 34L, 27L, 36L, 23L, 19L, 19L, \n  .     19L, 19L, 33L, 33L, 44L, 36L, 42L, 29L, 30L, 30L, 30L, 46L, \n  .     15L, 40L, 36L, 50L, 35L, 52L, 29L, 16L, 90L, 90L, 90L, 17L, \n  .     26L, 24L, 42L, 38L, 28L, 35L, 22L, 45L, 55L, 48L, 35L, 38L, \n  .     45L, 24L, 24L, 24L, 42L, 42L, 13L, 32L, 32L, 32L, 41L, 41L, \n  .     51L, 43L, 29L, 32L, 33L, 16L, 23L, 77L, 39L, 37L, 38L, 16L, \n  .     29L, 38L, 38L, 23L, 26L, 29L, 39L, 23L, 59L, 42L, 59L, 49L, \n  .     67L, 43L, 20L, 20L, 48L, 42L, 60L, 63L, 44L, 16L, 30L, 30L, \n  .     30L, 30L, 30L, 31L, 53L, 53L, 37L, 55L, 24L, 19L, 19L, 44L, \n  .     41L, 21L, 46L, 30L, 33L, 28L, 27L, 30L, 33L, 33L, 29L, 19L, \n  .     19L, 20L, 38L, 22L, 17L, 25L, 18L, 43L, 43L, 43L, 45L, 45L, \n  .     40L, 32L, 43L, 15L, 15L, 15L, 15L, 15L, 15L, 17L, 77L, 77L, \n  .     30L, 31L, 27L, 58L, 23L, 50L, 34L, 68L, 41L, 41L, 51L, 51L, \n  .     56L, 56L, 39L, 39L, 39L, 35L, 27L, 27L, 45L, 53L, 28L, 36L, \n  .     36L, 36L, 14L, 14L, 13L, 37L, 40L, 49L, 35L, 41L, 41L, 41L, \n  .     41L, 41L, 41L, 39L, 63L, 35L, 40L, 40L, 33L, 13L, 33L, 21L, \n  .     21L, 55L, 27L, 27L, 35L, 35L, 24L, 24L, 27L, 38L, 35L, 87L, \n  .     44L, 20L, 58L, 58L, 40L, 78L, 53L, 29L, 38L, 28L, 28L, 62L, \n  .     21L, 41L, 19L, 40L, 32L, 34L, 45L, 29L, 28L, 58L, 59L, 59L, \n  .     65L, 46L, 46L, 25L, 62L, 39L, 22L, 51L, 37L, 31L, 40L, 18L, \n  .     17L, 23L, 40L, 23L, 56L, 56L, 56L, 56L, 38L, 36L, 50L, 27L, \n  .     27L, 27L, 17L, 57L, 40L, 34L, 34L, 39L, 39L, 28L, 43L, 19L, \n  .     19L, 19L, 33L, 16L, 47L, 67L, 31L, 41L, 30L, 42L, 31L, 14L, \n  .     14L, 14L, 26L, 26L, 46L, 53L, 22L, 43L, 14L, 54L, 27L, 44L, \n  .     23L, 23L, 23L, 21L, 21L, 22L, 22L, 63L, 63L, 30L, 61L, 56L, \n  .     33L, 29L, 52L, 52L, 22L, 23L, 62L, 55L, 55L, 55L, 15L, 17L, \n  .     29L, 51L, 42L, 22L, 22L, 50L, 44L, 54L, 23L, 61L, 46L, 28L, \n  .     70L, 15L, 26L, 71L, 71L, 32L, 30L, 30L, 31L, 45L, 31L, 31L, \n  .     21L, 48L, 39L, 32L, 32L, 37L, 38L, 24L, 24L, 24L, 13L, 33L, \n  .     18L, 47L, 27L, 16L, 32L, 20L, 27L, 39L, 39L, 39L, 39L, 39L, \n  .     42L, 27L, 32L, 29L, 57L, 66L, 43L, 41L, 41L, 59L, 23L, 30L, \n  .     49L, 17L, 46L, 46L, 28L, 29L, 34L, 30L, 33L, 32L, 32L, 77L, \n  .     43L, 43L, 22L, 31L, 34L, 63L, 30L, 30L, 47L, 36L, 51L, 18L, \n  .     82L, 36L, 55L, 34L, 66L, 22L, 40L, 40L, 23L, 49L, 71L, 36L, \n  .     46L, 60L, 26L, 45L, 49L, 49L, 28L, 66L, 32L, 24L, 16L, 30L, \n  .     25L, 54L, 27L, 27L, 43L, 43L, 43L, 43L, 23L, 22L, 26L, 44L, \n  .     26L, 32L, 32L, 32L, 32L, 29L, 39L, 23L, 37L, 32L, 42L, 53L, \n  .     53L, 42L, 24L, 40L, 31L, 21L, 36L, 19L, 47L, 47L, 27L, 36L, \n  .     31L, 35L, 61L, 65L, 57L, 57L, 37L, 33L, 19L, 46L, 47L, 27L, \n  .     44L, 58L, 27L, 27L, 45L, 14L, 24L, 16L, 29L, 51L, 51L, 49L, \n  .     49L, 49L, 44L, 44L, 44L, 14L, 34L, 21L, 29L, 43L, 43L, 27L, \n  .     46L, 25L, 25L, 25L, 52L, 51L, 32L, 19L, 34L, 37L, 25L, 20L, \n  .     62L, 62L, 37L, 37L, 53L, 54L, 33L, 23L, 54L, 26L, 26L, 26L, \n  .     29L, 35L, 28L, 43L, 43L, 43L, 43L, 42L, 33L, 48L, 42L, 42L, \n  .     38L, 29L, 44L, 48L, 59L, 31L, 28L, 25L, 41L, 41L, 57L, 48L, \n  .     27L, 27L, 28L, 42L, 67L, 67L, 67L, 66L, 40L, 40L, 40L, 42L, \n  .     42L, 23L, 23L, 70L, 34L, 15L, 47L, 17L, 46L, 46L, 46L, 43L, \n  .     54L, 28L, 39L, 58L, 57L, 19L, 18L, 18L, 37L, 37L, 37L, 36L, \n  .     41L, 58L, 56L, 43L, 43L, 29L, 32L, 32L, 32L, 25L, 25L, 20L, \n  .     55L, 55L, 55L, 37L, 58L, 30L, 31L, 42L, 28L, 24L, 24L, 47L, \n  .     28L, 45L, 14L, 42L, 20L, 20L, 51L, 33L, 33L, 33L, 44L, 25L, \n  .     53L, 26L, 56L, 34L, 23L, 23L, 27L, 15L, 30L, 30L, 82L, 26L, \n  .     63L, 48L, 83L, 35L, 73L, 41L, 41L, 62L, 62L, 44L, 44L, 39L, \n  .     16L, 41L, 21L, 21L, 21L, 21L, 21L, 19L, 34L, 45L, 34L, 58L, \n  .     58L, 58L, 35L, 29L, 57L, 37L, 26L, 29L, 29L, 45L, 24L, 26L, \n  .     41L, 15L, 53L, 53L, 53L, 24L, 19L, 62L, 32L, 30L, 47L, 47L, \n  .     22L, 24L, 25L, 56L, 16L, 21L, 21L, 32L, 43L, 37L, 20L, 16L, \n  .     16L, 39L, 39L, 19L, 19L, 18L, 41L, 45L, 45L, 53L, 30L, 30L, \n  .     19L, 32L, 32L, 39L, 20L, 33L, 37L, 45L, 24L, 29L, 34L, 34L, \n  .     60L, 31L, 27L, 42L, 33L, 29L, 47L, 20L, 20L, 25L, 30L, 46L, \n  .     35L, 24L, 31L, 36L, 28L, 21L, 21L, 18L, 26L, 61L, 49L, 43L, \n  .     29L, 29L, 46L, 46L, 60L, 20L, 47L, 52L, 18L, 29L, 68L, 68L, \n  .     68L, 68L, 68L, 68L, 68L, 30L, 29L, 41L, 54L, 25L, 32L, 32L, \n  .     23L, 49L, 41L, 58L, 74L, 33L, 45L, 45L, 56L, 34L, 34L, 34L, \n  .     34L, 34L, 34L, 46L, 37L, 63L, 58L, 32L, 33L, 21L, 18L, 33L, \n  .     36L, 37L, 66L, 66L, 44L, 43L, 40L, 84L, 84L, 49L, 30L, 39L, \n  .     24L, 38L, 45L, 54L, 27L, 27L, 24L, 43L, 37L, 15L, 47L, 32L, \n  .     52L, 59L, 35L, 57L, 32L, 37L, 37L, 33L, 21L, 53L, 25L, 41L, \n  .     43L, 35L, 35L, 47L, 38L, 24L, 45L, 26L, 26L, 27L, 27L, 63L, \n  .     35L, 29L, 29L, 45L, 45L, 51L, 20L, 45L, 40L, 36L, 27L, 48L, \n  .     32L, 40L, 44L, 45L, 42L, 78L, 46L, 41L, 44L, 35L, 57L, 33L, \n  .     37L, 23L, 46L, 43L, 43L, 21L, 21L, 21L, 49L, 31L, 61L, 34L, \n  .     34L, 18L, 25L, 44L, 34L, 44L, 29L, 46L, 53L, 45L, 67L, 71L, \n  .     22L, 29L, 29L, 30L, 43L, 60L, 47L, 47L, 47L, 46L, 68L, 40L, \n  .     74L, 37L, 48L, 18L, 18L, 34L, 25L, 19L, 28L, 18L, 16L, 55L, \n  .     29L, 55L, 24L, 16L, 45L, 34L, 34L, 21L, 35L, 38L, 20L, 49L, \n  .     26L, 25L, 33L, 36L, 53L, 53L, 53L, 29L, 51L, 55L, 73L, 22L, \n  .     35L, 52L, 26L, 41L, 25L, 29L, 53L, 53L, 33L, 48L, 48L, 22L, \n  .     49L, 29L, 18L, 39L, 31L, 15L, 23L, 38L, 22L, 31L, 27L, 19L, \n  .     48L, 50L, 43L, 21L, 49L, 28L, 33L, 25L, 22L, 60L, 25L, 28L, \n  .     37L, 23L))), use_cli_format = TRUE), class = c(\"dplyr:::filter_incompatible_type\", \n  . \"dplyr:::internal_error\", \"rlang_error\", \"error\", \"condition\"\n  . )))",
            "13. abort(bullets, call = error_call, parent = skip_internal_condition(e))",
            "14. signal_abort(cnd, .file)"
          ]
        }
      ]
    },
    {
      "cell_type": "code",
      "source": [
        "mask_air"
      ],
      "metadata": {
        "id": "VJFbPr_Er4o7",
        "outputId": "aadf16a0-78c7-43f7-b7b6-06f9ee0ff5e7",
        "colab": {
          "base_uri": "https://localhost:8080/",
          "height": 1000
        }
      },
      "execution_count": 33,
      "outputs": [
        {
          "output_type": "display_data",
          "data": {
            "text/html": [
              "<table class=\"dataframe\">\n",
              "<caption>A data.frame: 1000 × 13</caption>\n",
              "<thead>\n",
              "\t<tr><th scope=col>user_id</th><th scope=col>member_id</th><th scope=col>age</th><th scope=col>country</th><th scope=col>asthma</th><th scope=col>sex</th><th scope=col>symptoms_id</th><th scope=col>date</th><th scope=col>vas_nose</th><th scope=col>vas_eye</th><th scope=col>vas_asthma</th><th scope=col>rhinitis_medication</th><th scope=col>asthma_medication</th></tr>\n",
              "\t<tr><th scope=col>&lt;int&gt;</th><th scope=col>&lt;int&gt;</th><th scope=col>&lt;int&gt;</th><th scope=col>&lt;chr&gt;</th><th scope=col>&lt;int&gt;</th><th scope=col>&lt;chr&gt;</th><th scope=col>&lt;int&gt;</th><th scope=col>&lt;chr&gt;</th><th scope=col>&lt;int&gt;</th><th scope=col>&lt;int&gt;</th><th scope=col>&lt;int&gt;</th><th scope=col>&lt;chr&gt;</th><th scope=col>&lt;chr&gt;</th></tr>\n",
              "</thead>\n",
              "<tbody>\n",
              "\t<tr><td> 1</td><td>  48</td><td>56</td><td>NL</td><td>0</td><td>M</td><td>111007</td><td>08/04/2016</td><td>77</td><td>81</td><td>NA</td><td>B_single_medication</td><td>A_no_medication    </td></tr>\n",
              "\t<tr><td> 2</td><td>1026</td><td>19</td><td>GB</td><td>1</td><td>M</td><td>290424</td><td>06/10/2015</td><td>59</td><td>38</td><td>NA</td><td>C_comedication     </td><td>A_no_medication    </td></tr>\n",
              "\t<tr><td> 3</td><td>1638</td><td>47</td><td>FR</td><td>0</td><td>F</td><td>368522</td><td>18/02/2019</td><td>52</td><td> 5</td><td> 0</td><td>A_no_medication    </td><td>A_no_medication    </td></tr>\n",
              "\t<tr><td> 3</td><td>1638</td><td>47</td><td>FR</td><td>0</td><td>F</td><td>367628</td><td>20/11/2015</td><td> 0</td><td> 0</td><td> 6</td><td>A_no_medication    </td><td>A_no_medication    </td></tr>\n",
              "\t<tr><td> 3</td><td>1638</td><td>47</td><td>FR</td><td>0</td><td>F</td><td>367798</td><td>17/09/2016</td><td> 8</td><td> 0</td><td> 2</td><td>A_no_medication    </td><td>A_no_medication    </td></tr>\n",
              "\t<tr><td> 4</td><td>2064</td><td>51</td><td>FR</td><td>1</td><td>F</td><td>393432</td><td>25/12/2015</td><td>40</td><td>25</td><td>NA</td><td>A_no_medication    </td><td>A_no_medication    </td></tr>\n",
              "\t<tr><td> 5</td><td>2076</td><td>23</td><td>GB</td><td>1</td><td>F</td><td>393928</td><td>26/12/2015</td><td> 3</td><td> 3</td><td>NA</td><td>A_no_medication    </td><td>A_no_medication    </td></tr>\n",
              "\t<tr><td> 5</td><td>2076</td><td>23</td><td>GB</td><td>1</td><td>F</td><td>394299</td><td>21/01/2017</td><td> 9</td><td> 0</td><td> 0</td><td>A_no_medication    </td><td>A_no_medication    </td></tr>\n",
              "\t<tr><td> 5</td><td>2076</td><td>23</td><td>GB</td><td>1</td><td>F</td><td>394107</td><td>02/07/2016</td><td>15</td><td> 0</td><td> 0</td><td>A_no_medication    </td><td>A_no_medication    </td></tr>\n",
              "\t<tr><td> 6</td><td>2082</td><td>72</td><td>PL</td><td>0</td><td>F</td><td>394940</td><td>12/01/2016</td><td>21</td><td>24</td><td>NA</td><td>A_no_medication    </td><td>A_no_medication    </td></tr>\n",
              "\t<tr><td> 7</td><td>3138</td><td>67</td><td>DK</td><td>0</td><td>F</td><td> 16242</td><td>08/05/2016</td><td>18</td><td>31</td><td> 8</td><td>A_no_medication    </td><td>B_single_medication</td></tr>\n",
              "\t<tr><td> 8</td><td>3192</td><td>32</td><td>IT</td><td>1</td><td>F</td><td> 16996</td><td>01/08/2017</td><td> 0</td><td> 1</td><td> 0</td><td>A_no_medication    </td><td>A_no_medication    </td></tr>\n",
              "\t<tr><td> 8</td><td>3192</td><td>32</td><td>IT</td><td>1</td><td>F</td><td> 17030</td><td>14/09/2017</td><td> 0</td><td> 0</td><td> 0</td><td>A_no_medication    </td><td>A_no_medication    </td></tr>\n",
              "\t<tr><td> 8</td><td>3192</td><td>32</td><td>IT</td><td>1</td><td>F</td><td> 16721</td><td>28/10/2016</td><td> 2</td><td> 0</td><td> 0</td><td>A_no_medication    </td><td>A_no_medication    </td></tr>\n",
              "\t<tr><td> 9</td><td>3954</td><td>38</td><td>BE</td><td>0</td><td>M</td><td> 25433</td><td>09/08/2016</td><td> 9</td><td>10</td><td>16</td><td>C_comedication     </td><td>A_no_medication    </td></tr>\n",
              "\t<tr><td>10</td><td>4206</td><td>32</td><td>IT</td><td>1</td><td>F</td><td> 28641</td><td>19/03/2016</td><td> 1</td><td> 0</td><td> 1</td><td>A_no_medication    </td><td>A_no_medication    </td></tr>\n",
              "\t<tr><td>10</td><td>4206</td><td>32</td><td>IT</td><td>1</td><td>F</td><td> 28649</td><td>27/03/2016</td><td> 0</td><td> 4</td><td>NA</td><td>A_no_medication    </td><td>A_no_medication    </td></tr>\n",
              "\t<tr><td>11</td><td>4458</td><td>40</td><td>IT</td><td>0</td><td>F</td><td> 32663</td><td>15/09/2016</td><td> 8</td><td> 3</td><td> 0</td><td>B_single_medication</td><td>A_no_medication    </td></tr>\n",
              "\t<tr><td>11</td><td>4458</td><td>40</td><td>IT</td><td>0</td><td>F</td><td> 33290</td><td>14/06/2018</td><td>14</td><td> 9</td><td> 1</td><td>A_no_medication    </td><td>A_no_medication    </td></tr>\n",
              "\t<tr><td>11</td><td>4458</td><td>40</td><td>IT</td><td>0</td><td>F</td><td> 32873</td><td>13/04/2017</td><td>33</td><td>19</td><td> 0</td><td>C_comedication     </td><td>A_no_medication    </td></tr>\n",
              "\t<tr><td>12</td><td>4650</td><td>21</td><td>DE</td><td>0</td><td>F</td><td> 41087</td><td>06/06/2016</td><td>24</td><td> 1</td><td> 0</td><td>C_comedication     </td><td>A_no_medication    </td></tr>\n",
              "\t<tr><td>13</td><td>4890</td><td>36</td><td>ES</td><td>0</td><td>F</td><td> 46851</td><td>01/04/2016</td><td>19</td><td> 1</td><td>NA</td><td>B_single_medication</td><td>A_no_medication    </td></tr>\n",
              "\t<tr><td>14</td><td>6000</td><td>37</td><td>PL</td><td>1</td><td>F</td><td> 62618</td><td>28/04/2019</td><td>51</td><td>53</td><td>35</td><td>C_comedication     </td><td>C_comedication     </td></tr>\n",
              "\t<tr><td>14</td><td>6000</td><td>37</td><td>PL</td><td>1</td><td>F</td><td> 62772</td><td>26/05/2021</td><td>25</td><td>61</td><td>14</td><td>C_comedication     </td><td>C_comedication     </td></tr>\n",
              "\t<tr><td>14</td><td>6000</td><td>37</td><td>PL</td><td>1</td><td>F</td><td> 62529</td><td>03/05/2016</td><td>75</td><td>64</td><td>49</td><td>C_comedication     </td><td>C_comedication     </td></tr>\n",
              "\t<tr><td>14</td><td>6000</td><td>37</td><td>PL</td><td>1</td><td>F</td><td> 62635</td><td>25/05/2019</td><td>13</td><td> 7</td><td> 6</td><td>B_single_medication</td><td>B_single_medication</td></tr>\n",
              "\t<tr><td>14</td><td>6000</td><td>37</td><td>PL</td><td>1</td><td>F</td><td> 62708</td><td>19/10/2019</td><td>71</td><td>18</td><td>41</td><td>C_comedication     </td><td>C_comedication     </td></tr>\n",
              "\t<tr><td>15</td><td>6936</td><td>23</td><td>DE</td><td>0</td><td>F</td><td> 81783</td><td>04/05/2016</td><td>17</td><td> 9</td><td>NA</td><td>B_single_medication</td><td>A_no_medication    </td></tr>\n",
              "\t<tr><td>15</td><td>6936</td><td>23</td><td>DE</td><td>0</td><td>F</td><td> 81777</td><td>14/04/2016</td><td>35</td><td> 0</td><td>NA</td><td>A_no_medication    </td><td>A_no_medication    </td></tr>\n",
              "\t<tr><td>16</td><td>6942</td><td>51</td><td>PL</td><td>1</td><td>F</td><td> 81834</td><td>29/04/2016</td><td> 0</td><td> 3</td><td> 0</td><td>C_comedication     </td><td>A_no_medication    </td></tr>\n",
              "\t<tr><td>⋮</td><td>⋮</td><td>⋮</td><td>⋮</td><td>⋮</td><td>⋮</td><td>⋮</td><td>⋮</td><td>⋮</td><td>⋮</td><td>⋮</td><td>⋮</td><td>⋮</td></tr>\n",
              "\t<tr><td>760</td><td>263985</td><td>33</td><td>FR</td><td>0</td><td>F</td><td>377802</td><td>01/10/2021</td><td>52</td><td> 9</td><td>19</td><td>B_single_medication</td><td>B_single_medication</td></tr>\n",
              "\t<tr><td>761</td><td>264003</td><td>48</td><td>FR</td><td>1</td><td>F</td><td>377929</td><td>07/10/2021</td><td>14</td><td>24</td><td> 5</td><td>B_single_medication</td><td>A_no_medication    </td></tr>\n",
              "\t<tr><td>761</td><td>264003</td><td>48</td><td>FR</td><td>1</td><td>F</td><td>377895</td><td>27/07/2021</td><td>11</td><td> 6</td><td> 3</td><td>A_no_medication    </td><td>A_no_medication    </td></tr>\n",
              "\t<tr><td>762</td><td>264081</td><td>22</td><td>BR</td><td>1</td><td>M</td><td>378257</td><td>11/08/2021</td><td> 1</td><td> 0</td><td> 0</td><td>B_single_medication</td><td>A_no_medication    </td></tr>\n",
              "\t<tr><td>763</td><td>266259</td><td>49</td><td>LT</td><td>1</td><td>M</td><td>380224</td><td>22/07/2021</td><td>13</td><td> 1</td><td> 3</td><td>B_single_medication</td><td>A_no_medication    </td></tr>\n",
              "\t<tr><td>764</td><td>267471</td><td>29</td><td>ES</td><td>1</td><td>M</td><td>381235</td><td>31/10/2021</td><td>27</td><td>11</td><td> 1</td><td>B_single_medication</td><td>A_no_medication    </td></tr>\n",
              "\t<tr><td>765</td><td>267519</td><td>18</td><td>MX</td><td>0</td><td>M</td><td>381312</td><td>02/08/2021</td><td>44</td><td>18</td><td> 3</td><td>C_comedication     </td><td>A_no_medication    </td></tr>\n",
              "\t<tr><td>766</td><td>271545</td><td>39</td><td>FR</td><td>0</td><td>M</td><td>382976</td><td>11/11/2021</td><td> 6</td><td> 0</td><td> 4</td><td>A_no_medication    </td><td>A_no_medication    </td></tr>\n",
              "\t<tr><td>767</td><td>272127</td><td>31</td><td>TR</td><td>0</td><td>M</td><td>383202</td><td>28/08/2021</td><td>98</td><td> 6</td><td>92</td><td>B_single_medication</td><td>C_comedication     </td></tr>\n",
              "\t<tr><td>768</td><td>272745</td><td>15</td><td>MX</td><td>0</td><td>F</td><td>383586</td><td>19/09/2021</td><td>43</td><td>32</td><td> 0</td><td>B_single_medication</td><td>A_no_medication    </td></tr>\n",
              "\t<tr><td>769</td><td>272985</td><td>23</td><td>FR</td><td>0</td><td>F</td><td>383662</td><td>18/10/2021</td><td> 2</td><td> 2</td><td> 4</td><td>A_no_medication    </td><td>A_no_medication    </td></tr>\n",
              "\t<tr><td>770</td><td>273675</td><td>38</td><td>PT</td><td>1</td><td>F</td><td>383970</td><td>18/10/2021</td><td> 0</td><td> 0</td><td> 1</td><td>A_no_medication    </td><td>A_no_medication    </td></tr>\n",
              "\t<tr><td>771</td><td>274869</td><td>22</td><td>PT</td><td>0</td><td>M</td><td>384455</td><td>29/11/2021</td><td>69</td><td>15</td><td> 0</td><td>B_single_medication</td><td>A_no_medication    </td></tr>\n",
              "\t<tr><td>772</td><td>276699</td><td>31</td><td>ES</td><td>0</td><td>F</td><td>385216</td><td>26/09/2021</td><td> 6</td><td> 7</td><td>19</td><td>A_no_medication    </td><td>A_no_medication    </td></tr>\n",
              "\t<tr><td>773</td><td>276927</td><td>27</td><td>IT</td><td>0</td><td>F</td><td>385300</td><td>12/09/2021</td><td>97</td><td> 1</td><td> 0</td><td>A_no_medication    </td><td>A_no_medication    </td></tr>\n",
              "\t<tr><td>774</td><td>277785</td><td>19</td><td>PT</td><td>0</td><td>F</td><td>385739</td><td>01/10/2021</td><td> 2</td><td> 5</td><td> 3</td><td>A_no_medication    </td><td>A_no_medication    </td></tr>\n",
              "\t<tr><td>775</td><td>278181</td><td>48</td><td>PT</td><td>1</td><td>F</td><td>385847</td><td>19/09/2021</td><td>32</td><td>21</td><td>25</td><td>A_no_medication    </td><td>A_no_medication    </td></tr>\n",
              "\t<tr><td>776</td><td>280647</td><td>50</td><td>PL</td><td>0</td><td>F</td><td>386646</td><td>01/10/2021</td><td>51</td><td>18</td><td> 2</td><td>A_no_medication    </td><td>A_no_medication    </td></tr>\n",
              "\t<tr><td>777</td><td>284667</td><td>43</td><td>FR</td><td>0</td><td>F</td><td>388625</td><td>26/10/2021</td><td>56</td><td>47</td><td>60</td><td>B_single_medication</td><td>B_single_medication</td></tr>\n",
              "\t<tr><td>778</td><td>285267</td><td>21</td><td>AR</td><td>0</td><td>M</td><td>389133</td><td>27/10/2021</td><td>69</td><td>49</td><td>39</td><td>C_comedication     </td><td>A_no_medication    </td></tr>\n",
              "\t<tr><td>779</td><td>285627</td><td>49</td><td>FR</td><td>0</td><td>M</td><td>389280</td><td>04/11/2021</td><td> 2</td><td> 0</td><td> 1</td><td>A_no_medication    </td><td>A_no_medication    </td></tr>\n",
              "\t<tr><td>780</td><td>285777</td><td>28</td><td>FR</td><td>0</td><td>M</td><td>389380</td><td>27/12/2021</td><td> 1</td><td> 0</td><td> 5</td><td>A_no_medication    </td><td>A_no_medication    </td></tr>\n",
              "\t<tr><td>781</td><td>287973</td><td>33</td><td>PT</td><td>0</td><td>F</td><td>390065</td><td>13/11/2021</td><td>28</td><td>29</td><td> 0</td><td>A_no_medication    </td><td>A_no_medication    </td></tr>\n",
              "\t<tr><td>782</td><td>291231</td><td>25</td><td>FR</td><td>0</td><td>F</td><td>391706</td><td>25/11/2021</td><td>19</td><td> 1</td><td> 4</td><td>A_no_medication    </td><td>A_no_medication    </td></tr>\n",
              "\t<tr><td>783</td><td>291441</td><td>22</td><td>FR</td><td>1</td><td>M</td><td>391855</td><td>27/11/2021</td><td> 7</td><td> 2</td><td> 1</td><td>A_no_medication    </td><td>A_no_medication    </td></tr>\n",
              "\t<tr><td>784</td><td>292287</td><td>60</td><td>IT</td><td>0</td><td>M</td><td>392163</td><td>27/11/2021</td><td>14</td><td> 2</td><td> 4</td><td>C_comedication     </td><td>A_no_medication    </td></tr>\n",
              "\t<tr><td>785</td><td>292737</td><td>25</td><td>FR</td><td>0</td><td>M</td><td>392249</td><td>19/12/2021</td><td> 4</td><td> 2</td><td> 2</td><td>A_no_medication    </td><td>A_no_medication    </td></tr>\n",
              "\t<tr><td>786</td><td>297285</td><td>28</td><td>FR</td><td>1</td><td>M</td><td>394921</td><td>25/12/2021</td><td>65</td><td> 3</td><td> 7</td><td>A_no_medication    </td><td>A_no_medication    </td></tr>\n",
              "\t<tr><td>787</td><td>302223</td><td>37</td><td>IT</td><td>1</td><td>F</td><td>   449</td><td>23/12/2021</td><td>86</td><td>62</td><td> 3</td><td>A_no_medication    </td><td>A_no_medication    </td></tr>\n",
              "\t<tr><td>788</td><td>304299</td><td>23</td><td>IT</td><td>1</td><td>F</td><td>  1096</td><td>29/12/2021</td><td>96</td><td>35</td><td>12</td><td>A_no_medication    </td><td>A_no_medication    </td></tr>\n",
              "</tbody>\n",
              "</table>\n"
            ],
            "text/markdown": "\nA data.frame: 1000 × 13\n\n| user_id &lt;int&gt; | member_id &lt;int&gt; | age &lt;int&gt; | country &lt;chr&gt; | asthma &lt;int&gt; | sex &lt;chr&gt; | symptoms_id &lt;int&gt; | date &lt;chr&gt; | vas_nose &lt;int&gt; | vas_eye &lt;int&gt; | vas_asthma &lt;int&gt; | rhinitis_medication &lt;chr&gt; | asthma_medication &lt;chr&gt; |\n|---|---|---|---|---|---|---|---|---|---|---|---|---|\n|  1 |   48 | 56 | NL | 0 | M | 111007 | 08/04/2016 | 77 | 81 | NA | B_single_medication | A_no_medication     |\n|  2 | 1026 | 19 | GB | 1 | M | 290424 | 06/10/2015 | 59 | 38 | NA | C_comedication      | A_no_medication     |\n|  3 | 1638 | 47 | FR | 0 | F | 368522 | 18/02/2019 | 52 |  5 |  0 | A_no_medication     | A_no_medication     |\n|  3 | 1638 | 47 | FR | 0 | F | 367628 | 20/11/2015 |  0 |  0 |  6 | A_no_medication     | A_no_medication     |\n|  3 | 1638 | 47 | FR | 0 | F | 367798 | 17/09/2016 |  8 |  0 |  2 | A_no_medication     | A_no_medication     |\n|  4 | 2064 | 51 | FR | 1 | F | 393432 | 25/12/2015 | 40 | 25 | NA | A_no_medication     | A_no_medication     |\n|  5 | 2076 | 23 | GB | 1 | F | 393928 | 26/12/2015 |  3 |  3 | NA | A_no_medication     | A_no_medication     |\n|  5 | 2076 | 23 | GB | 1 | F | 394299 | 21/01/2017 |  9 |  0 |  0 | A_no_medication     | A_no_medication     |\n|  5 | 2076 | 23 | GB | 1 | F | 394107 | 02/07/2016 | 15 |  0 |  0 | A_no_medication     | A_no_medication     |\n|  6 | 2082 | 72 | PL | 0 | F | 394940 | 12/01/2016 | 21 | 24 | NA | A_no_medication     | A_no_medication     |\n|  7 | 3138 | 67 | DK | 0 | F |  16242 | 08/05/2016 | 18 | 31 |  8 | A_no_medication     | B_single_medication |\n|  8 | 3192 | 32 | IT | 1 | F |  16996 | 01/08/2017 |  0 |  1 |  0 | A_no_medication     | A_no_medication     |\n|  8 | 3192 | 32 | IT | 1 | F |  17030 | 14/09/2017 |  0 |  0 |  0 | A_no_medication     | A_no_medication     |\n|  8 | 3192 | 32 | IT | 1 | F |  16721 | 28/10/2016 |  2 |  0 |  0 | A_no_medication     | A_no_medication     |\n|  9 | 3954 | 38 | BE | 0 | M |  25433 | 09/08/2016 |  9 | 10 | 16 | C_comedication      | A_no_medication     |\n| 10 | 4206 | 32 | IT | 1 | F |  28641 | 19/03/2016 |  1 |  0 |  1 | A_no_medication     | A_no_medication     |\n| 10 | 4206 | 32 | IT | 1 | F |  28649 | 27/03/2016 |  0 |  4 | NA | A_no_medication     | A_no_medication     |\n| 11 | 4458 | 40 | IT | 0 | F |  32663 | 15/09/2016 |  8 |  3 |  0 | B_single_medication | A_no_medication     |\n| 11 | 4458 | 40 | IT | 0 | F |  33290 | 14/06/2018 | 14 |  9 |  1 | A_no_medication     | A_no_medication     |\n| 11 | 4458 | 40 | IT | 0 | F |  32873 | 13/04/2017 | 33 | 19 |  0 | C_comedication      | A_no_medication     |\n| 12 | 4650 | 21 | DE | 0 | F |  41087 | 06/06/2016 | 24 |  1 |  0 | C_comedication      | A_no_medication     |\n| 13 | 4890 | 36 | ES | 0 | F |  46851 | 01/04/2016 | 19 |  1 | NA | B_single_medication | A_no_medication     |\n| 14 | 6000 | 37 | PL | 1 | F |  62618 | 28/04/2019 | 51 | 53 | 35 | C_comedication      | C_comedication      |\n| 14 | 6000 | 37 | PL | 1 | F |  62772 | 26/05/2021 | 25 | 61 | 14 | C_comedication      | C_comedication      |\n| 14 | 6000 | 37 | PL | 1 | F |  62529 | 03/05/2016 | 75 | 64 | 49 | C_comedication      | C_comedication      |\n| 14 | 6000 | 37 | PL | 1 | F |  62635 | 25/05/2019 | 13 |  7 |  6 | B_single_medication | B_single_medication |\n| 14 | 6000 | 37 | PL | 1 | F |  62708 | 19/10/2019 | 71 | 18 | 41 | C_comedication      | C_comedication      |\n| 15 | 6936 | 23 | DE | 0 | F |  81783 | 04/05/2016 | 17 |  9 | NA | B_single_medication | A_no_medication     |\n| 15 | 6936 | 23 | DE | 0 | F |  81777 | 14/04/2016 | 35 |  0 | NA | A_no_medication     | A_no_medication     |\n| 16 | 6942 | 51 | PL | 1 | F |  81834 | 29/04/2016 |  0 |  3 |  0 | C_comedication      | A_no_medication     |\n| ⋮ | ⋮ | ⋮ | ⋮ | ⋮ | ⋮ | ⋮ | ⋮ | ⋮ | ⋮ | ⋮ | ⋮ | ⋮ |\n| 760 | 263985 | 33 | FR | 0 | F | 377802 | 01/10/2021 | 52 |  9 | 19 | B_single_medication | B_single_medication |\n| 761 | 264003 | 48 | FR | 1 | F | 377929 | 07/10/2021 | 14 | 24 |  5 | B_single_medication | A_no_medication     |\n| 761 | 264003 | 48 | FR | 1 | F | 377895 | 27/07/2021 | 11 |  6 |  3 | A_no_medication     | A_no_medication     |\n| 762 | 264081 | 22 | BR | 1 | M | 378257 | 11/08/2021 |  1 |  0 |  0 | B_single_medication | A_no_medication     |\n| 763 | 266259 | 49 | LT | 1 | M | 380224 | 22/07/2021 | 13 |  1 |  3 | B_single_medication | A_no_medication     |\n| 764 | 267471 | 29 | ES | 1 | M | 381235 | 31/10/2021 | 27 | 11 |  1 | B_single_medication | A_no_medication     |\n| 765 | 267519 | 18 | MX | 0 | M | 381312 | 02/08/2021 | 44 | 18 |  3 | C_comedication      | A_no_medication     |\n| 766 | 271545 | 39 | FR | 0 | M | 382976 | 11/11/2021 |  6 |  0 |  4 | A_no_medication     | A_no_medication     |\n| 767 | 272127 | 31 | TR | 0 | M | 383202 | 28/08/2021 | 98 |  6 | 92 | B_single_medication | C_comedication      |\n| 768 | 272745 | 15 | MX | 0 | F | 383586 | 19/09/2021 | 43 | 32 |  0 | B_single_medication | A_no_medication     |\n| 769 | 272985 | 23 | FR | 0 | F | 383662 | 18/10/2021 |  2 |  2 |  4 | A_no_medication     | A_no_medication     |\n| 770 | 273675 | 38 | PT | 1 | F | 383970 | 18/10/2021 |  0 |  0 |  1 | A_no_medication     | A_no_medication     |\n| 771 | 274869 | 22 | PT | 0 | M | 384455 | 29/11/2021 | 69 | 15 |  0 | B_single_medication | A_no_medication     |\n| 772 | 276699 | 31 | ES | 0 | F | 385216 | 26/09/2021 |  6 |  7 | 19 | A_no_medication     | A_no_medication     |\n| 773 | 276927 | 27 | IT | 0 | F | 385300 | 12/09/2021 | 97 |  1 |  0 | A_no_medication     | A_no_medication     |\n| 774 | 277785 | 19 | PT | 0 | F | 385739 | 01/10/2021 |  2 |  5 |  3 | A_no_medication     | A_no_medication     |\n| 775 | 278181 | 48 | PT | 1 | F | 385847 | 19/09/2021 | 32 | 21 | 25 | A_no_medication     | A_no_medication     |\n| 776 | 280647 | 50 | PL | 0 | F | 386646 | 01/10/2021 | 51 | 18 |  2 | A_no_medication     | A_no_medication     |\n| 777 | 284667 | 43 | FR | 0 | F | 388625 | 26/10/2021 | 56 | 47 | 60 | B_single_medication | B_single_medication |\n| 778 | 285267 | 21 | AR | 0 | M | 389133 | 27/10/2021 | 69 | 49 | 39 | C_comedication      | A_no_medication     |\n| 779 | 285627 | 49 | FR | 0 | M | 389280 | 04/11/2021 |  2 |  0 |  1 | A_no_medication     | A_no_medication     |\n| 780 | 285777 | 28 | FR | 0 | M | 389380 | 27/12/2021 |  1 |  0 |  5 | A_no_medication     | A_no_medication     |\n| 781 | 287973 | 33 | PT | 0 | F | 390065 | 13/11/2021 | 28 | 29 |  0 | A_no_medication     | A_no_medication     |\n| 782 | 291231 | 25 | FR | 0 | F | 391706 | 25/11/2021 | 19 |  1 |  4 | A_no_medication     | A_no_medication     |\n| 783 | 291441 | 22 | FR | 1 | M | 391855 | 27/11/2021 |  7 |  2 |  1 | A_no_medication     | A_no_medication     |\n| 784 | 292287 | 60 | IT | 0 | M | 392163 | 27/11/2021 | 14 |  2 |  4 | C_comedication      | A_no_medication     |\n| 785 | 292737 | 25 | FR | 0 | M | 392249 | 19/12/2021 |  4 |  2 |  2 | A_no_medication     | A_no_medication     |\n| 786 | 297285 | 28 | FR | 1 | M | 394921 | 25/12/2021 | 65 |  3 |  7 | A_no_medication     | A_no_medication     |\n| 787 | 302223 | 37 | IT | 1 | F |    449 | 23/12/2021 | 86 | 62 |  3 | A_no_medication     | A_no_medication     |\n| 788 | 304299 | 23 | IT | 1 | F |   1096 | 29/12/2021 | 96 | 35 | 12 | A_no_medication     | A_no_medication     |\n\n",
            "text/latex": "A data.frame: 1000 × 13\n\\begin{tabular}{lllllllllllll}\n user\\_id & member\\_id & age & country & asthma & sex & symptoms\\_id & date & vas\\_nose & vas\\_eye & vas\\_asthma & rhinitis\\_medication & asthma\\_medication\\\\\n <int> & <int> & <int> & <chr> & <int> & <chr> & <int> & <chr> & <int> & <int> & <int> & <chr> & <chr>\\\\\n\\hline\n\t  1 &   48 & 56 & NL & 0 & M & 111007 & 08/04/2016 & 77 & 81 & NA & B\\_single\\_medication & A\\_no\\_medication    \\\\\n\t  2 & 1026 & 19 & GB & 1 & M & 290424 & 06/10/2015 & 59 & 38 & NA & C\\_comedication      & A\\_no\\_medication    \\\\\n\t  3 & 1638 & 47 & FR & 0 & F & 368522 & 18/02/2019 & 52 &  5 &  0 & A\\_no\\_medication     & A\\_no\\_medication    \\\\\n\t  3 & 1638 & 47 & FR & 0 & F & 367628 & 20/11/2015 &  0 &  0 &  6 & A\\_no\\_medication     & A\\_no\\_medication    \\\\\n\t  3 & 1638 & 47 & FR & 0 & F & 367798 & 17/09/2016 &  8 &  0 &  2 & A\\_no\\_medication     & A\\_no\\_medication    \\\\\n\t  4 & 2064 & 51 & FR & 1 & F & 393432 & 25/12/2015 & 40 & 25 & NA & A\\_no\\_medication     & A\\_no\\_medication    \\\\\n\t  5 & 2076 & 23 & GB & 1 & F & 393928 & 26/12/2015 &  3 &  3 & NA & A\\_no\\_medication     & A\\_no\\_medication    \\\\\n\t  5 & 2076 & 23 & GB & 1 & F & 394299 & 21/01/2017 &  9 &  0 &  0 & A\\_no\\_medication     & A\\_no\\_medication    \\\\\n\t  5 & 2076 & 23 & GB & 1 & F & 394107 & 02/07/2016 & 15 &  0 &  0 & A\\_no\\_medication     & A\\_no\\_medication    \\\\\n\t  6 & 2082 & 72 & PL & 0 & F & 394940 & 12/01/2016 & 21 & 24 & NA & A\\_no\\_medication     & A\\_no\\_medication    \\\\\n\t  7 & 3138 & 67 & DK & 0 & F &  16242 & 08/05/2016 & 18 & 31 &  8 & A\\_no\\_medication     & B\\_single\\_medication\\\\\n\t  8 & 3192 & 32 & IT & 1 & F &  16996 & 01/08/2017 &  0 &  1 &  0 & A\\_no\\_medication     & A\\_no\\_medication    \\\\\n\t  8 & 3192 & 32 & IT & 1 & F &  17030 & 14/09/2017 &  0 &  0 &  0 & A\\_no\\_medication     & A\\_no\\_medication    \\\\\n\t  8 & 3192 & 32 & IT & 1 & F &  16721 & 28/10/2016 &  2 &  0 &  0 & A\\_no\\_medication     & A\\_no\\_medication    \\\\\n\t  9 & 3954 & 38 & BE & 0 & M &  25433 & 09/08/2016 &  9 & 10 & 16 & C\\_comedication      & A\\_no\\_medication    \\\\\n\t 10 & 4206 & 32 & IT & 1 & F &  28641 & 19/03/2016 &  1 &  0 &  1 & A\\_no\\_medication     & A\\_no\\_medication    \\\\\n\t 10 & 4206 & 32 & IT & 1 & F &  28649 & 27/03/2016 &  0 &  4 & NA & A\\_no\\_medication     & A\\_no\\_medication    \\\\\n\t 11 & 4458 & 40 & IT & 0 & F &  32663 & 15/09/2016 &  8 &  3 &  0 & B\\_single\\_medication & A\\_no\\_medication    \\\\\n\t 11 & 4458 & 40 & IT & 0 & F &  33290 & 14/06/2018 & 14 &  9 &  1 & A\\_no\\_medication     & A\\_no\\_medication    \\\\\n\t 11 & 4458 & 40 & IT & 0 & F &  32873 & 13/04/2017 & 33 & 19 &  0 & C\\_comedication      & A\\_no\\_medication    \\\\\n\t 12 & 4650 & 21 & DE & 0 & F &  41087 & 06/06/2016 & 24 &  1 &  0 & C\\_comedication      & A\\_no\\_medication    \\\\\n\t 13 & 4890 & 36 & ES & 0 & F &  46851 & 01/04/2016 & 19 &  1 & NA & B\\_single\\_medication & A\\_no\\_medication    \\\\\n\t 14 & 6000 & 37 & PL & 1 & F &  62618 & 28/04/2019 & 51 & 53 & 35 & C\\_comedication      & C\\_comedication     \\\\\n\t 14 & 6000 & 37 & PL & 1 & F &  62772 & 26/05/2021 & 25 & 61 & 14 & C\\_comedication      & C\\_comedication     \\\\\n\t 14 & 6000 & 37 & PL & 1 & F &  62529 & 03/05/2016 & 75 & 64 & 49 & C\\_comedication      & C\\_comedication     \\\\\n\t 14 & 6000 & 37 & PL & 1 & F &  62635 & 25/05/2019 & 13 &  7 &  6 & B\\_single\\_medication & B\\_single\\_medication\\\\\n\t 14 & 6000 & 37 & PL & 1 & F &  62708 & 19/10/2019 & 71 & 18 & 41 & C\\_comedication      & C\\_comedication     \\\\\n\t 15 & 6936 & 23 & DE & 0 & F &  81783 & 04/05/2016 & 17 &  9 & NA & B\\_single\\_medication & A\\_no\\_medication    \\\\\n\t 15 & 6936 & 23 & DE & 0 & F &  81777 & 14/04/2016 & 35 &  0 & NA & A\\_no\\_medication     & A\\_no\\_medication    \\\\\n\t 16 & 6942 & 51 & PL & 1 & F &  81834 & 29/04/2016 &  0 &  3 &  0 & C\\_comedication      & A\\_no\\_medication    \\\\\n\t ⋮ & ⋮ & ⋮ & ⋮ & ⋮ & ⋮ & ⋮ & ⋮ & ⋮ & ⋮ & ⋮ & ⋮ & ⋮\\\\\n\t 760 & 263985 & 33 & FR & 0 & F & 377802 & 01/10/2021 & 52 &  9 & 19 & B\\_single\\_medication & B\\_single\\_medication\\\\\n\t 761 & 264003 & 48 & FR & 1 & F & 377929 & 07/10/2021 & 14 & 24 &  5 & B\\_single\\_medication & A\\_no\\_medication    \\\\\n\t 761 & 264003 & 48 & FR & 1 & F & 377895 & 27/07/2021 & 11 &  6 &  3 & A\\_no\\_medication     & A\\_no\\_medication    \\\\\n\t 762 & 264081 & 22 & BR & 1 & M & 378257 & 11/08/2021 &  1 &  0 &  0 & B\\_single\\_medication & A\\_no\\_medication    \\\\\n\t 763 & 266259 & 49 & LT & 1 & M & 380224 & 22/07/2021 & 13 &  1 &  3 & B\\_single\\_medication & A\\_no\\_medication    \\\\\n\t 764 & 267471 & 29 & ES & 1 & M & 381235 & 31/10/2021 & 27 & 11 &  1 & B\\_single\\_medication & A\\_no\\_medication    \\\\\n\t 765 & 267519 & 18 & MX & 0 & M & 381312 & 02/08/2021 & 44 & 18 &  3 & C\\_comedication      & A\\_no\\_medication    \\\\\n\t 766 & 271545 & 39 & FR & 0 & M & 382976 & 11/11/2021 &  6 &  0 &  4 & A\\_no\\_medication     & A\\_no\\_medication    \\\\\n\t 767 & 272127 & 31 & TR & 0 & M & 383202 & 28/08/2021 & 98 &  6 & 92 & B\\_single\\_medication & C\\_comedication     \\\\\n\t 768 & 272745 & 15 & MX & 0 & F & 383586 & 19/09/2021 & 43 & 32 &  0 & B\\_single\\_medication & A\\_no\\_medication    \\\\\n\t 769 & 272985 & 23 & FR & 0 & F & 383662 & 18/10/2021 &  2 &  2 &  4 & A\\_no\\_medication     & A\\_no\\_medication    \\\\\n\t 770 & 273675 & 38 & PT & 1 & F & 383970 & 18/10/2021 &  0 &  0 &  1 & A\\_no\\_medication     & A\\_no\\_medication    \\\\\n\t 771 & 274869 & 22 & PT & 0 & M & 384455 & 29/11/2021 & 69 & 15 &  0 & B\\_single\\_medication & A\\_no\\_medication    \\\\\n\t 772 & 276699 & 31 & ES & 0 & F & 385216 & 26/09/2021 &  6 &  7 & 19 & A\\_no\\_medication     & A\\_no\\_medication    \\\\\n\t 773 & 276927 & 27 & IT & 0 & F & 385300 & 12/09/2021 & 97 &  1 &  0 & A\\_no\\_medication     & A\\_no\\_medication    \\\\\n\t 774 & 277785 & 19 & PT & 0 & F & 385739 & 01/10/2021 &  2 &  5 &  3 & A\\_no\\_medication     & A\\_no\\_medication    \\\\\n\t 775 & 278181 & 48 & PT & 1 & F & 385847 & 19/09/2021 & 32 & 21 & 25 & A\\_no\\_medication     & A\\_no\\_medication    \\\\\n\t 776 & 280647 & 50 & PL & 0 & F & 386646 & 01/10/2021 & 51 & 18 &  2 & A\\_no\\_medication     & A\\_no\\_medication    \\\\\n\t 777 & 284667 & 43 & FR & 0 & F & 388625 & 26/10/2021 & 56 & 47 & 60 & B\\_single\\_medication & B\\_single\\_medication\\\\\n\t 778 & 285267 & 21 & AR & 0 & M & 389133 & 27/10/2021 & 69 & 49 & 39 & C\\_comedication      & A\\_no\\_medication    \\\\\n\t 779 & 285627 & 49 & FR & 0 & M & 389280 & 04/11/2021 &  2 &  0 &  1 & A\\_no\\_medication     & A\\_no\\_medication    \\\\\n\t 780 & 285777 & 28 & FR & 0 & M & 389380 & 27/12/2021 &  1 &  0 &  5 & A\\_no\\_medication     & A\\_no\\_medication    \\\\\n\t 781 & 287973 & 33 & PT & 0 & F & 390065 & 13/11/2021 & 28 & 29 &  0 & A\\_no\\_medication     & A\\_no\\_medication    \\\\\n\t 782 & 291231 & 25 & FR & 0 & F & 391706 & 25/11/2021 & 19 &  1 &  4 & A\\_no\\_medication     & A\\_no\\_medication    \\\\\n\t 783 & 291441 & 22 & FR & 1 & M & 391855 & 27/11/2021 &  7 &  2 &  1 & A\\_no\\_medication     & A\\_no\\_medication    \\\\\n\t 784 & 292287 & 60 & IT & 0 & M & 392163 & 27/11/2021 & 14 &  2 &  4 & C\\_comedication      & A\\_no\\_medication    \\\\\n\t 785 & 292737 & 25 & FR & 0 & M & 392249 & 19/12/2021 &  4 &  2 &  2 & A\\_no\\_medication     & A\\_no\\_medication    \\\\\n\t 786 & 297285 & 28 & FR & 1 & M & 394921 & 25/12/2021 & 65 &  3 &  7 & A\\_no\\_medication     & A\\_no\\_medication    \\\\\n\t 787 & 302223 & 37 & IT & 1 & F &    449 & 23/12/2021 & 86 & 62 &  3 & A\\_no\\_medication     & A\\_no\\_medication    \\\\\n\t 788 & 304299 & 23 & IT & 1 & F &   1096 & 29/12/2021 & 96 & 35 & 12 & A\\_no\\_medication     & A\\_no\\_medication    \\\\\n\\end{tabular}\n",
            "text/plain": [
              "     user_id member_id age country asthma sex symptoms_id date       vas_nose\n",
              "1     1        48      56  NL      0      M   111007      08/04/2016 77      \n",
              "2     2      1026      19  GB      1      M   290424      06/10/2015 59      \n",
              "3     3      1638      47  FR      0      F   368522      18/02/2019 52      \n",
              "4     3      1638      47  FR      0      F   367628      20/11/2015  0      \n",
              "5     3      1638      47  FR      0      F   367798      17/09/2016  8      \n",
              "6     4      2064      51  FR      1      F   393432      25/12/2015 40      \n",
              "7     5      2076      23  GB      1      F   393928      26/12/2015  3      \n",
              "8     5      2076      23  GB      1      F   394299      21/01/2017  9      \n",
              "9     5      2076      23  GB      1      F   394107      02/07/2016 15      \n",
              "10    6      2082      72  PL      0      F   394940      12/01/2016 21      \n",
              "11    7      3138      67  DK      0      F    16242      08/05/2016 18      \n",
              "12    8      3192      32  IT      1      F    16996      01/08/2017  0      \n",
              "13    8      3192      32  IT      1      F    17030      14/09/2017  0      \n",
              "14    8      3192      32  IT      1      F    16721      28/10/2016  2      \n",
              "15    9      3954      38  BE      0      M    25433      09/08/2016  9      \n",
              "16   10      4206      32  IT      1      F    28641      19/03/2016  1      \n",
              "17   10      4206      32  IT      1      F    28649      27/03/2016  0      \n",
              "18   11      4458      40  IT      0      F    32663      15/09/2016  8      \n",
              "19   11      4458      40  IT      0      F    33290      14/06/2018 14      \n",
              "20   11      4458      40  IT      0      F    32873      13/04/2017 33      \n",
              "21   12      4650      21  DE      0      F    41087      06/06/2016 24      \n",
              "22   13      4890      36  ES      0      F    46851      01/04/2016 19      \n",
              "23   14      6000      37  PL      1      F    62618      28/04/2019 51      \n",
              "24   14      6000      37  PL      1      F    62772      26/05/2021 25      \n",
              "25   14      6000      37  PL      1      F    62529      03/05/2016 75      \n",
              "26   14      6000      37  PL      1      F    62635      25/05/2019 13      \n",
              "27   14      6000      37  PL      1      F    62708      19/10/2019 71      \n",
              "28   15      6936      23  DE      0      F    81783      04/05/2016 17      \n",
              "29   15      6936      23  DE      0      F    81777      14/04/2016 35      \n",
              "30   16      6942      51  PL      1      F    81834      29/04/2016  0      \n",
              "⋮    ⋮       ⋮         ⋮   ⋮       ⋮      ⋮   ⋮           ⋮          ⋮       \n",
              "971  760     263985    33  FR      0      F   377802      01/10/2021 52      \n",
              "972  761     264003    48  FR      1      F   377929      07/10/2021 14      \n",
              "973  761     264003    48  FR      1      F   377895      27/07/2021 11      \n",
              "974  762     264081    22  BR      1      M   378257      11/08/2021  1      \n",
              "975  763     266259    49  LT      1      M   380224      22/07/2021 13      \n",
              "976  764     267471    29  ES      1      M   381235      31/10/2021 27      \n",
              "977  765     267519    18  MX      0      M   381312      02/08/2021 44      \n",
              "978  766     271545    39  FR      0      M   382976      11/11/2021  6      \n",
              "979  767     272127    31  TR      0      M   383202      28/08/2021 98      \n",
              "980  768     272745    15  MX      0      F   383586      19/09/2021 43      \n",
              "981  769     272985    23  FR      0      F   383662      18/10/2021  2      \n",
              "982  770     273675    38  PT      1      F   383970      18/10/2021  0      \n",
              "983  771     274869    22  PT      0      M   384455      29/11/2021 69      \n",
              "984  772     276699    31  ES      0      F   385216      26/09/2021  6      \n",
              "985  773     276927    27  IT      0      F   385300      12/09/2021 97      \n",
              "986  774     277785    19  PT      0      F   385739      01/10/2021  2      \n",
              "987  775     278181    48  PT      1      F   385847      19/09/2021 32      \n",
              "988  776     280647    50  PL      0      F   386646      01/10/2021 51      \n",
              "989  777     284667    43  FR      0      F   388625      26/10/2021 56      \n",
              "990  778     285267    21  AR      0      M   389133      27/10/2021 69      \n",
              "991  779     285627    49  FR      0      M   389280      04/11/2021  2      \n",
              "992  780     285777    28  FR      0      M   389380      27/12/2021  1      \n",
              "993  781     287973    33  PT      0      F   390065      13/11/2021 28      \n",
              "994  782     291231    25  FR      0      F   391706      25/11/2021 19      \n",
              "995  783     291441    22  FR      1      M   391855      27/11/2021  7      \n",
              "996  784     292287    60  IT      0      M   392163      27/11/2021 14      \n",
              "997  785     292737    25  FR      0      M   392249      19/12/2021  4      \n",
              "998  786     297285    28  FR      1      M   394921      25/12/2021 65      \n",
              "999  787     302223    37  IT      1      F      449      23/12/2021 86      \n",
              "1000 788     304299    23  IT      1      F     1096      29/12/2021 96      \n",
              "     vas_eye vas_asthma rhinitis_medication asthma_medication  \n",
              "1    81      NA         B_single_medication A_no_medication    \n",
              "2    38      NA         C_comedication      A_no_medication    \n",
              "3     5       0         A_no_medication     A_no_medication    \n",
              "4     0       6         A_no_medication     A_no_medication    \n",
              "5     0       2         A_no_medication     A_no_medication    \n",
              "6    25      NA         A_no_medication     A_no_medication    \n",
              "7     3      NA         A_no_medication     A_no_medication    \n",
              "8     0       0         A_no_medication     A_no_medication    \n",
              "9     0       0         A_no_medication     A_no_medication    \n",
              "10   24      NA         A_no_medication     A_no_medication    \n",
              "11   31       8         A_no_medication     B_single_medication\n",
              "12    1       0         A_no_medication     A_no_medication    \n",
              "13    0       0         A_no_medication     A_no_medication    \n",
              "14    0       0         A_no_medication     A_no_medication    \n",
              "15   10      16         C_comedication      A_no_medication    \n",
              "16    0       1         A_no_medication     A_no_medication    \n",
              "17    4      NA         A_no_medication     A_no_medication    \n",
              "18    3       0         B_single_medication A_no_medication    \n",
              "19    9       1         A_no_medication     A_no_medication    \n",
              "20   19       0         C_comedication      A_no_medication    \n",
              "21    1       0         C_comedication      A_no_medication    \n",
              "22    1      NA         B_single_medication A_no_medication    \n",
              "23   53      35         C_comedication      C_comedication     \n",
              "24   61      14         C_comedication      C_comedication     \n",
              "25   64      49         C_comedication      C_comedication     \n",
              "26    7       6         B_single_medication B_single_medication\n",
              "27   18      41         C_comedication      C_comedication     \n",
              "28    9      NA         B_single_medication A_no_medication    \n",
              "29    0      NA         A_no_medication     A_no_medication    \n",
              "30    3       0         C_comedication      A_no_medication    \n",
              "⋮    ⋮       ⋮          ⋮                   ⋮                  \n",
              "971   9      19         B_single_medication B_single_medication\n",
              "972  24       5         B_single_medication A_no_medication    \n",
              "973   6       3         A_no_medication     A_no_medication    \n",
              "974   0       0         B_single_medication A_no_medication    \n",
              "975   1       3         B_single_medication A_no_medication    \n",
              "976  11       1         B_single_medication A_no_medication    \n",
              "977  18       3         C_comedication      A_no_medication    \n",
              "978   0       4         A_no_medication     A_no_medication    \n",
              "979   6      92         B_single_medication C_comedication     \n",
              "980  32       0         B_single_medication A_no_medication    \n",
              "981   2       4         A_no_medication     A_no_medication    \n",
              "982   0       1         A_no_medication     A_no_medication    \n",
              "983  15       0         B_single_medication A_no_medication    \n",
              "984   7      19         A_no_medication     A_no_medication    \n",
              "985   1       0         A_no_medication     A_no_medication    \n",
              "986   5       3         A_no_medication     A_no_medication    \n",
              "987  21      25         A_no_medication     A_no_medication    \n",
              "988  18       2         A_no_medication     A_no_medication    \n",
              "989  47      60         B_single_medication B_single_medication\n",
              "990  49      39         C_comedication      A_no_medication    \n",
              "991   0       1         A_no_medication     A_no_medication    \n",
              "992   0       5         A_no_medication     A_no_medication    \n",
              "993  29       0         A_no_medication     A_no_medication    \n",
              "994   1       4         A_no_medication     A_no_medication    \n",
              "995   2       1         A_no_medication     A_no_medication    \n",
              "996   2       4         C_comedication      A_no_medication    \n",
              "997   2       2         A_no_medication     A_no_medication    \n",
              "998   3       7         A_no_medication     A_no_medication    \n",
              "999  62       3         A_no_medication     A_no_medication    \n",
              "1000 35      12         A_no_medication     A_no_medication    "
            ]
          },
          "metadata": {}
        }
      ]
    },
    {
      "cell_type": "code",
      "source": [
        "x <- mask_air %>% filter(age==17)"
      ],
      "metadata": {
        "id": "2K_jR9yx0113"
      },
      "execution_count": 57,
      "outputs": []
    },
    {
      "cell_type": "code",
      "source": [
        "x"
      ],
      "metadata": {
        "id": "cqtDxqjP1hYA",
        "outputId": "a4898198-9622-4cda-9ac3-a77c121c7916",
        "colab": {
          "base_uri": "https://localhost:8080/",
          "height": 349
        }
      },
      "execution_count": 58,
      "outputs": [
        {
          "output_type": "display_data",
          "data": {
            "text/html": [
              "<table class=\"dataframe\">\n",
              "<caption>A data.frame: 8 × 13</caption>\n",
              "<thead>\n",
              "\t<tr><th scope=col>user_id</th><th scope=col>member_id</th><th scope=col>age</th><th scope=col>country</th><th scope=col>asthma</th><th scope=col>sex</th><th scope=col>symptoms_id</th><th scope=col>date</th><th scope=col>vas_nose</th><th scope=col>vas_eye</th><th scope=col>vas_asthma</th><th scope=col>rhinitis_medication</th><th scope=col>asthma_medication</th></tr>\n",
              "\t<tr><th scope=col>&lt;int&gt;</th><th scope=col>&lt;int&gt;</th><th scope=col>&lt;int&gt;</th><th scope=col>&lt;chr&gt;</th><th scope=col>&lt;int&gt;</th><th scope=col>&lt;chr&gt;</th><th scope=col>&lt;int&gt;</th><th scope=col>&lt;chr&gt;</th><th scope=col>&lt;int&gt;</th><th scope=col>&lt;int&gt;</th><th scope=col>&lt;int&gt;</th><th scope=col>&lt;chr&gt;</th><th scope=col>&lt;chr&gt;</th></tr>\n",
              "</thead>\n",
              "<tbody>\n",
              "\t<tr><td> 52</td><td> 32016</td><td>17</td><td>AU</td><td>1</td><td>F</td><td>  4709</td><td>29/01/2017</td><td>58</td><td> 1</td><td> 4</td><td>B_single_medication</td><td>A_no_medication</td></tr>\n",
              "\t<tr><td>125</td><td> 63681</td><td>17</td><td>MX</td><td>0</td><td>F</td><td> 55805</td><td>28/05/2017</td><td>18</td><td>39</td><td> 0</td><td>A_no_medication    </td><td>A_no_medication</td></tr>\n",
              "\t<tr><td>134</td><td> 65547</td><td>17</td><td>MX</td><td>0</td><td>M</td><td> 59198</td><td>05/07/2017</td><td>27</td><td>14</td><td>40</td><td>A_no_medication    </td><td>A_no_medication</td></tr>\n",
              "\t<tr><td>210</td><td> 85389</td><td>17</td><td>BR</td><td>0</td><td>F</td><td> 97891</td><td>06/02/2018</td><td>85</td><td> 2</td><td>26</td><td>C_comedication     </td><td>A_no_medication</td></tr>\n",
              "\t<tr><td>220</td><td> 87435</td><td>17</td><td>BR</td><td>1</td><td>M</td><td>102591</td><td>15/10/2017</td><td>49</td><td>33</td><td>10</td><td>B_single_medication</td><td>A_no_medication</td></tr>\n",
              "\t<tr><td>263</td><td> 99783</td><td>17</td><td>MX</td><td>0</td><td>M</td><td>124047</td><td>26/06/2018</td><td>30</td><td>43</td><td>27</td><td>A_no_medication    </td><td>A_no_medication</td></tr>\n",
              "\t<tr><td>313</td><td>108681</td><td>17</td><td>NL</td><td>0</td><td>F</td><td>150251</td><td>06/05/2018</td><td> 0</td><td>11</td><td> 7</td><td>B_single_medication</td><td>C_comedication </td></tr>\n",
              "\t<tr><td>460</td><td>156729</td><td>17</td><td>MX</td><td>0</td><td>M</td><td>223767</td><td>17/03/2019</td><td> 0</td><td> 0</td><td> 0</td><td>C_comedication     </td><td>A_no_medication</td></tr>\n",
              "</tbody>\n",
              "</table>\n"
            ],
            "text/markdown": "\nA data.frame: 8 × 13\n\n| user_id &lt;int&gt; | member_id &lt;int&gt; | age &lt;int&gt; | country &lt;chr&gt; | asthma &lt;int&gt; | sex &lt;chr&gt; | symptoms_id &lt;int&gt; | date &lt;chr&gt; | vas_nose &lt;int&gt; | vas_eye &lt;int&gt; | vas_asthma &lt;int&gt; | rhinitis_medication &lt;chr&gt; | asthma_medication &lt;chr&gt; |\n|---|---|---|---|---|---|---|---|---|---|---|---|---|\n|  52 |  32016 | 17 | AU | 1 | F |   4709 | 29/01/2017 | 58 |  1 |  4 | B_single_medication | A_no_medication |\n| 125 |  63681 | 17 | MX | 0 | F |  55805 | 28/05/2017 | 18 | 39 |  0 | A_no_medication     | A_no_medication |\n| 134 |  65547 | 17 | MX | 0 | M |  59198 | 05/07/2017 | 27 | 14 | 40 | A_no_medication     | A_no_medication |\n| 210 |  85389 | 17 | BR | 0 | F |  97891 | 06/02/2018 | 85 |  2 | 26 | C_comedication      | A_no_medication |\n| 220 |  87435 | 17 | BR | 1 | M | 102591 | 15/10/2017 | 49 | 33 | 10 | B_single_medication | A_no_medication |\n| 263 |  99783 | 17 | MX | 0 | M | 124047 | 26/06/2018 | 30 | 43 | 27 | A_no_medication     | A_no_medication |\n| 313 | 108681 | 17 | NL | 0 | F | 150251 | 06/05/2018 |  0 | 11 |  7 | B_single_medication | C_comedication  |\n| 460 | 156729 | 17 | MX | 0 | M | 223767 | 17/03/2019 |  0 |  0 |  0 | C_comedication      | A_no_medication |\n\n",
            "text/latex": "A data.frame: 8 × 13\n\\begin{tabular}{lllllllllllll}\n user\\_id & member\\_id & age & country & asthma & sex & symptoms\\_id & date & vas\\_nose & vas\\_eye & vas\\_asthma & rhinitis\\_medication & asthma\\_medication\\\\\n <int> & <int> & <int> & <chr> & <int> & <chr> & <int> & <chr> & <int> & <int> & <int> & <chr> & <chr>\\\\\n\\hline\n\t  52 &  32016 & 17 & AU & 1 & F &   4709 & 29/01/2017 & 58 &  1 &  4 & B\\_single\\_medication & A\\_no\\_medication\\\\\n\t 125 &  63681 & 17 & MX & 0 & F &  55805 & 28/05/2017 & 18 & 39 &  0 & A\\_no\\_medication     & A\\_no\\_medication\\\\\n\t 134 &  65547 & 17 & MX & 0 & M &  59198 & 05/07/2017 & 27 & 14 & 40 & A\\_no\\_medication     & A\\_no\\_medication\\\\\n\t 210 &  85389 & 17 & BR & 0 & F &  97891 & 06/02/2018 & 85 &  2 & 26 & C\\_comedication      & A\\_no\\_medication\\\\\n\t 220 &  87435 & 17 & BR & 1 & M & 102591 & 15/10/2017 & 49 & 33 & 10 & B\\_single\\_medication & A\\_no\\_medication\\\\\n\t 263 &  99783 & 17 & MX & 0 & M & 124047 & 26/06/2018 & 30 & 43 & 27 & A\\_no\\_medication     & A\\_no\\_medication\\\\\n\t 313 & 108681 & 17 & NL & 0 & F & 150251 & 06/05/2018 &  0 & 11 &  7 & B\\_single\\_medication & C\\_comedication \\\\\n\t 460 & 156729 & 17 & MX & 0 & M & 223767 & 17/03/2019 &  0 &  0 &  0 & C\\_comedication      & A\\_no\\_medication\\\\\n\\end{tabular}\n",
            "text/plain": [
              "  user_id member_id age country asthma sex symptoms_id date       vas_nose\n",
              "1  52      32016    17  AU      1      F     4709      29/01/2017 58      \n",
              "2 125      63681    17  MX      0      F    55805      28/05/2017 18      \n",
              "3 134      65547    17  MX      0      M    59198      05/07/2017 27      \n",
              "4 210      85389    17  BR      0      F    97891      06/02/2018 85      \n",
              "5 220      87435    17  BR      1      M   102591      15/10/2017 49      \n",
              "6 263      99783    17  MX      0      M   124047      26/06/2018 30      \n",
              "7 313     108681    17  NL      0      F   150251      06/05/2018  0      \n",
              "8 460     156729    17  MX      0      M   223767      17/03/2019  0      \n",
              "  vas_eye vas_asthma rhinitis_medication asthma_medication\n",
              "1  1       4         B_single_medication A_no_medication  \n",
              "2 39       0         A_no_medication     A_no_medication  \n",
              "3 14      40         A_no_medication     A_no_medication  \n",
              "4  2      26         C_comedication      A_no_medication  \n",
              "5 33      10         B_single_medication A_no_medication  \n",
              "6 43      27         A_no_medication     A_no_medication  \n",
              "7 11       7         B_single_medication C_comedication   \n",
              "8  0       0         C_comedication      A_no_medication  "
            ]
          },
          "metadata": {}
        }
      ]
    },
    {
      "cell_type": "code",
      "source": [
        "# 1.4. Indique quantos utilizadores únicos com 17 anos de idade ou menos existem nesta base de dados\n",
        "mask_air1p4 <- filter(mask_air, age == 17)"
      ],
      "metadata": {
        "id": "OpJhdEGdyQ0Z"
      },
      "execution_count": 53,
      "outputs": []
    },
    {
      "cell_type": "code",
      "source": [
        "mask_air1p4"
      ],
      "metadata": {
        "id": "_YDpDwNZ1aoh",
        "outputId": "a326f2b4-fcde-4f6a-d889-23280aebd8d3",
        "colab": {
          "base_uri": "https://localhost:8080/",
          "height": 349
        }
      },
      "execution_count": 54,
      "outputs": [
        {
          "output_type": "display_data",
          "data": {
            "text/html": [
              "<table class=\"dataframe\">\n",
              "<caption>A data.frame: 8 × 13</caption>\n",
              "<thead>\n",
              "\t<tr><th scope=col>user_id</th><th scope=col>member_id</th><th scope=col>age</th><th scope=col>country</th><th scope=col>asthma</th><th scope=col>sex</th><th scope=col>symptoms_id</th><th scope=col>date</th><th scope=col>vas_nose</th><th scope=col>vas_eye</th><th scope=col>vas_asthma</th><th scope=col>rhinitis_medication</th><th scope=col>asthma_medication</th></tr>\n",
              "\t<tr><th scope=col>&lt;int&gt;</th><th scope=col>&lt;int&gt;</th><th scope=col>&lt;int&gt;</th><th scope=col>&lt;chr&gt;</th><th scope=col>&lt;int&gt;</th><th scope=col>&lt;chr&gt;</th><th scope=col>&lt;int&gt;</th><th scope=col>&lt;chr&gt;</th><th scope=col>&lt;int&gt;</th><th scope=col>&lt;int&gt;</th><th scope=col>&lt;int&gt;</th><th scope=col>&lt;chr&gt;</th><th scope=col>&lt;chr&gt;</th></tr>\n",
              "</thead>\n",
              "<tbody>\n",
              "\t<tr><td> 52</td><td> 32016</td><td>17</td><td>AU</td><td>1</td><td>F</td><td>  4709</td><td>29/01/2017</td><td>58</td><td> 1</td><td> 4</td><td>B_single_medication</td><td>A_no_medication</td></tr>\n",
              "\t<tr><td>125</td><td> 63681</td><td>17</td><td>MX</td><td>0</td><td>F</td><td> 55805</td><td>28/05/2017</td><td>18</td><td>39</td><td> 0</td><td>A_no_medication    </td><td>A_no_medication</td></tr>\n",
              "\t<tr><td>134</td><td> 65547</td><td>17</td><td>MX</td><td>0</td><td>M</td><td> 59198</td><td>05/07/2017</td><td>27</td><td>14</td><td>40</td><td>A_no_medication    </td><td>A_no_medication</td></tr>\n",
              "\t<tr><td>210</td><td> 85389</td><td>17</td><td>BR</td><td>0</td><td>F</td><td> 97891</td><td>06/02/2018</td><td>85</td><td> 2</td><td>26</td><td>C_comedication     </td><td>A_no_medication</td></tr>\n",
              "\t<tr><td>220</td><td> 87435</td><td>17</td><td>BR</td><td>1</td><td>M</td><td>102591</td><td>15/10/2017</td><td>49</td><td>33</td><td>10</td><td>B_single_medication</td><td>A_no_medication</td></tr>\n",
              "\t<tr><td>263</td><td> 99783</td><td>17</td><td>MX</td><td>0</td><td>M</td><td>124047</td><td>26/06/2018</td><td>30</td><td>43</td><td>27</td><td>A_no_medication    </td><td>A_no_medication</td></tr>\n",
              "\t<tr><td>313</td><td>108681</td><td>17</td><td>NL</td><td>0</td><td>F</td><td>150251</td><td>06/05/2018</td><td> 0</td><td>11</td><td> 7</td><td>B_single_medication</td><td>C_comedication </td></tr>\n",
              "\t<tr><td>460</td><td>156729</td><td>17</td><td>MX</td><td>0</td><td>M</td><td>223767</td><td>17/03/2019</td><td> 0</td><td> 0</td><td> 0</td><td>C_comedication     </td><td>A_no_medication</td></tr>\n",
              "</tbody>\n",
              "</table>\n"
            ],
            "text/markdown": "\nA data.frame: 8 × 13\n\n| user_id &lt;int&gt; | member_id &lt;int&gt; | age &lt;int&gt; | country &lt;chr&gt; | asthma &lt;int&gt; | sex &lt;chr&gt; | symptoms_id &lt;int&gt; | date &lt;chr&gt; | vas_nose &lt;int&gt; | vas_eye &lt;int&gt; | vas_asthma &lt;int&gt; | rhinitis_medication &lt;chr&gt; | asthma_medication &lt;chr&gt; |\n|---|---|---|---|---|---|---|---|---|---|---|---|---|\n|  52 |  32016 | 17 | AU | 1 | F |   4709 | 29/01/2017 | 58 |  1 |  4 | B_single_medication | A_no_medication |\n| 125 |  63681 | 17 | MX | 0 | F |  55805 | 28/05/2017 | 18 | 39 |  0 | A_no_medication     | A_no_medication |\n| 134 |  65547 | 17 | MX | 0 | M |  59198 | 05/07/2017 | 27 | 14 | 40 | A_no_medication     | A_no_medication |\n| 210 |  85389 | 17 | BR | 0 | F |  97891 | 06/02/2018 | 85 |  2 | 26 | C_comedication      | A_no_medication |\n| 220 |  87435 | 17 | BR | 1 | M | 102591 | 15/10/2017 | 49 | 33 | 10 | B_single_medication | A_no_medication |\n| 263 |  99783 | 17 | MX | 0 | M | 124047 | 26/06/2018 | 30 | 43 | 27 | A_no_medication     | A_no_medication |\n| 313 | 108681 | 17 | NL | 0 | F | 150251 | 06/05/2018 |  0 | 11 |  7 | B_single_medication | C_comedication  |\n| 460 | 156729 | 17 | MX | 0 | M | 223767 | 17/03/2019 |  0 |  0 |  0 | C_comedication      | A_no_medication |\n\n",
            "text/latex": "A data.frame: 8 × 13\n\\begin{tabular}{lllllllllllll}\n user\\_id & member\\_id & age & country & asthma & sex & symptoms\\_id & date & vas\\_nose & vas\\_eye & vas\\_asthma & rhinitis\\_medication & asthma\\_medication\\\\\n <int> & <int> & <int> & <chr> & <int> & <chr> & <int> & <chr> & <int> & <int> & <int> & <chr> & <chr>\\\\\n\\hline\n\t  52 &  32016 & 17 & AU & 1 & F &   4709 & 29/01/2017 & 58 &  1 &  4 & B\\_single\\_medication & A\\_no\\_medication\\\\\n\t 125 &  63681 & 17 & MX & 0 & F &  55805 & 28/05/2017 & 18 & 39 &  0 & A\\_no\\_medication     & A\\_no\\_medication\\\\\n\t 134 &  65547 & 17 & MX & 0 & M &  59198 & 05/07/2017 & 27 & 14 & 40 & A\\_no\\_medication     & A\\_no\\_medication\\\\\n\t 210 &  85389 & 17 & BR & 0 & F &  97891 & 06/02/2018 & 85 &  2 & 26 & C\\_comedication      & A\\_no\\_medication\\\\\n\t 220 &  87435 & 17 & BR & 1 & M & 102591 & 15/10/2017 & 49 & 33 & 10 & B\\_single\\_medication & A\\_no\\_medication\\\\\n\t 263 &  99783 & 17 & MX & 0 & M & 124047 & 26/06/2018 & 30 & 43 & 27 & A\\_no\\_medication     & A\\_no\\_medication\\\\\n\t 313 & 108681 & 17 & NL & 0 & F & 150251 & 06/05/2018 &  0 & 11 &  7 & B\\_single\\_medication & C\\_comedication \\\\\n\t 460 & 156729 & 17 & MX & 0 & M & 223767 & 17/03/2019 &  0 &  0 &  0 & C\\_comedication      & A\\_no\\_medication\\\\\n\\end{tabular}\n",
            "text/plain": [
              "  user_id member_id age country asthma sex symptoms_id date       vas_nose\n",
              "1  52      32016    17  AU      1      F     4709      29/01/2017 58      \n",
              "2 125      63681    17  MX      0      F    55805      28/05/2017 18      \n",
              "3 134      65547    17  MX      0      M    59198      05/07/2017 27      \n",
              "4 210      85389    17  BR      0      F    97891      06/02/2018 85      \n",
              "5 220      87435    17  BR      1      M   102591      15/10/2017 49      \n",
              "6 263      99783    17  MX      0      M   124047      26/06/2018 30      \n",
              "7 313     108681    17  NL      0      F   150251      06/05/2018  0      \n",
              "8 460     156729    17  MX      0      M   223767      17/03/2019  0      \n",
              "  vas_eye vas_asthma rhinitis_medication asthma_medication\n",
              "1  1       4         B_single_medication A_no_medication  \n",
              "2 39       0         A_no_medication     A_no_medication  \n",
              "3 14      40         A_no_medication     A_no_medication  \n",
              "4  2      26         C_comedication      A_no_medication  \n",
              "5 33      10         B_single_medication A_no_medication  \n",
              "6 43      27         A_no_medication     A_no_medication  \n",
              "7 11       7         B_single_medication C_comedication   \n",
              "8  0       0         C_comedication      A_no_medication  "
            ]
          },
          "metadata": {}
        }
      ]
    },
    {
      "cell_type": "code",
      "source": [
        "# 1.5. Calcule o valor mediano e o âmbito interquartil da variável vas_asthma para utilizadores com e sem asma.\n",
        "\n",
        "iqr(vas_asthma)\n",
        "mean(vas_asthma)  "
      ],
      "metadata": {
        "id": "BDy_FRWd1qyv",
        "outputId": "dc5a1ec2-291e-46ba-b320-a648ce4ff6a7",
        "colab": {
          "base_uri": "https://localhost:8080/",
          "height": 219
        }
      },
      "execution_count": 60,
      "outputs": [
        {
          "output_type": "error",
          "ename": "ERROR",
          "evalue": "ignored",
          "traceback": [
            "Error in h(simpleError(msg, call)): error in evaluating the argument 'x' in selecting a method for function 'mean': object 'vas_asthma' not found\nTraceback:\n",
            "1. mean(vas_asthma)",
            "2. .handleSimpleError(function (cond) \n . .Internal(C_tryCatchHelper(addr, 1L, cond)), \"object 'vas_asthma' not found\", \n .     base::quote(mean(vas_asthma)))",
            "3. h(simpleError(msg, call))"
          ]
        }
      ]
    },
    {
      "cell_type": "code",
      "execution_count": 1,
      "metadata": {
        "colab": {
          "base_uri": "https://localhost:8080/"
        },
        "id": "WxL9FSXGZHe-",
        "outputId": "daac048f-8816-463c-e62d-e80d2de2b549"
      },
      "outputs": [
        {
          "output_type": "stream",
          "name": "stderr",
          "text": [
            "Installing package into ‘/usr/local/lib/R/site-library’\n",
            "(as ‘lib’ is unspecified)\n",
            "\n",
            "Loading required package: Matrix\n",
            "\n",
            "\n",
            "Attaching package: ‘arules’\n",
            "\n",
            "\n",
            "The following objects are masked from ‘package:base’:\n",
            "\n",
            "    abbreviate, write\n",
            "\n",
            "\n"
          ]
        }
      ],
      "source": [
        "# 1. Regras de Associação:\n",
        "# 1.1. Apriori\n",
        "\n",
        "install.packages(\"arules\")\n",
        "library(arules)"
      ]
    },
    {
      "cell_type": "code",
      "source": [
        "url = 'https://raw.githubusercontent.com/Prof-Rodrigo-Silva/ScriptR/master/R%20-%20Avan%C3%A7ado%20-%20Data%20Mining/GroceryStoreDataSet.csv'"
      ],
      "metadata": {
        "id": "5uCufZE-aNFZ"
      },
      "execution_count": 2,
      "outputs": []
    },
    {
      "cell_type": "code",
      "source": [],
      "metadata": {
        "id": "qe-vem7EiwFd"
      },
      "execution_count": 4,
      "outputs": []
    },
    {
      "cell_type": "code",
      "source": [
        "base2 = read.transactions(url)\n",
        "summary(base2)"
      ],
      "metadata": {
        "colab": {
          "base_uri": "https://localhost:8080/",
          "height": 451
        },
        "id": "xYgZ6VKgaqND",
        "outputId": "97059056-5a4e-44f9-d688-07809b915c40"
      },
      "execution_count": 3,
      "outputs": [
        {
          "output_type": "display_data",
          "data": {
            "text/plain": [
              "transactions as itemMatrix in sparse format with\n",
              " 20 rows (elements/itemsets/transactions) and\n",
              " 17 columns (items) and a density of 0.05882353 \n",
              "\n",
              "most frequent items:\n",
              ",,BISCUIT,CORNFLAKES,,,,,COCK,COFFEE,            ,BREAD,,,,,,,,COFFEE,SUGAR \n",
              "                                    2                                     2 \n",
              "          ,BREAD,,,TEA,BOURNVITA,,,,,        ,,,,,BOURNVITA,,,,COFFEE,SUGAR \n",
              "                                    2                                     1 \n",
              "      ,,,CORNFLAKES,,,,,,COFFEE,SUGAR                               (Other) \n",
              "                                    1                                    12 \n",
              "\n",
              "element (itemset/transaction) length distribution:\n",
              "sizes\n",
              " 1 \n",
              "20 \n",
              "\n",
              "   Min. 1st Qu.  Median    Mean 3rd Qu.    Max. \n",
              "      1       1       1       1       1       1 \n",
              "\n",
              "includes extended item information - examples:\n",
              "                           labels\n",
              "1  ,,,,,BOURNVITA,,,,COFFEE,SUGAR\n",
              "2 ,,,CORNFLAKES,,,,,,COFFEE,SUGAR\n",
              "3    ,,,CORNFLAKES,TEA,,,MAGGI,,,"
            ]
          },
          "metadata": {}
        }
      ]
    },
    {
      "cell_type": "code",
      "source": [
        "base3 = read.transactions(url, header = F,sep = \",\",rm.duplicates = T)\n",
        "summary(base3)"
      ],
      "metadata": {
        "colab": {
          "base_uri": "https://localhost:8080/",
          "height": 401
        },
        "id": "Yud2mtR9k9wB",
        "outputId": "e72846fc-0521-4bcd-cf08-7b64d1e420c4"
      },
      "execution_count": null,
      "outputs": [
        {
          "output_type": "display_data",
          "data": {
            "text/plain": [
              "transactions as itemMatrix in sparse format with\n",
              " 20 rows (elements/itemsets/transactions) and\n",
              " 11 columns (items) and a density of 0.3 \n",
              "\n",
              "most frequent items:\n",
              "     BREAD     COFFEE    BISCUIT        TEA CORNFLAKES    (Other) \n",
              "        13          8          7          7          6         25 \n",
              "\n",
              "element (itemset/transaction) length distribution:\n",
              "sizes\n",
              " 2  3  4 \n",
              " 1 12  7 \n",
              "\n",
              "   Min. 1st Qu.  Median    Mean 3rd Qu.    Max. \n",
              "    2.0     3.0     3.0     3.3     4.0     4.0 \n",
              "\n",
              "includes extended item information - examples:\n",
              "     labels\n",
              "1   BISCUIT\n",
              "2 BOURNVITA\n",
              "3     BREAD"
            ]
          },
          "metadata": {}
        }
      ]
    },
    {
      "cell_type": "code",
      "source": [
        "itemFrequencyPlot(base3)"
      ],
      "metadata": {
        "colab": {
          "base_uri": "https://localhost:8080/",
          "height": 437
        },
        "id": "EdKkf4utnWOy",
        "outputId": "8458f407-5af5-478f-cc51-fbaef28a5724"
      },
      "execution_count": null,
      "outputs": [
        {
          "output_type": "display_data",
          "data": {
            "text/plain": [
              "plot without title"
            ],
            "image/png": "[encoded data removed]"
          },
          "metadata": {
            "image/png": {
              "width": 420,
              "height": 420
            }
          }
        }
      ]
    },
    {
      "cell_type": "code",
      "source": [
        "itemFrequencyPlot(base3, top=7)"
      ],
      "metadata": {
        "colab": {
          "base_uri": "https://localhost:8080/",
          "height": 437
        },
        "id": "1ys4BnP4nfBp",
        "outputId": "e2ab0e56-190c-4461-b631-60c74879349b"
      },
      "execution_count": null,
      "outputs": [
        {
          "output_type": "display_data",
          "data": {
            "text/plain": [
              "plot without title"
            ],
            "image/png": "[encoded data removed]"
          },
          "metadata": {
            "image/png": {
              "width": 420,
              "height": 420
            }
          }
        }
      ]
    },
    {
      "cell_type": "code",
      "source": [
        "regras = apriori(base3, parameter = list(sup = 0.1, conf = 0.5)) # do pacote arules"
      ],
      "metadata": {
        "colab": {
          "base_uri": "https://localhost:8080/"
        },
        "id": "vf4YUscln0oE",
        "outputId": "a5236fad-5f43-4167-974f-5d8c69606e2e"
      },
      "execution_count": null,
      "outputs": [
        {
          "output_type": "stream",
          "name": "stdout",
          "text": [
            "Apriori\n",
            "\n",
            "Parameter specification:\n",
            " confidence minval smax arem  aval originalSupport maxtime support minlen\n",
            "        0.5    0.1    1 none FALSE            TRUE       5     0.1      1\n",
            " maxlen target  ext\n",
            "     10  rules TRUE\n",
            "\n",
            "Algorithmic control:\n",
            " filter tree heap memopt load sort verbose\n",
            "    0.1 TRUE TRUE  FALSE TRUE    2    TRUE\n",
            "\n",
            "Absolute minimum support count: 2 \n",
            "\n",
            "set item appearances ...[0 item(s)] done [0.00s].\n",
            "set transactions ...[11 item(s), 20 transaction(s)] done [0.00s].\n",
            "sorting and recoding items ... [11 item(s)] done [0.00s].\n",
            "creating transaction tree ... done [0.00s].\n",
            "checking subsets of size 1 2 3 4 done [0.00s].\n",
            "writing ... [55 rule(s)] done [0.00s].\n",
            "creating S4 object  ... done [0.00s].\n"
          ]
        }
      ]
    },
    {
      "cell_type": "code",
      "source": [
        "inspect(regras) # loja vende água pode vender bala, cigarro. mas o foco da empresa é água (nas regras de associação vai sempre aparecer!)\n",
        "# qual a água mineral é óbvio o produto sair, quem compra salgainho compra água (que se repete, o produto). Pode se eliminar os produtos, água e ...\n",
        "# lojas que vendem gás e que vendem água! Produtos alimentícios em geral.. Mate etc\n",
        "# O foco da empresa é água!\n",
        "# eliminar a água e ver o que a empresa vende fora a água!\n",
        "# utilizar o sort, pois vai dar uma ordenada"
      ],
      "metadata": {
        "colab": {
          "base_uri": "https://localhost:8080/"
        },
        "id": "AeaaC9xDV-Pv",
        "outputId": "f559df17-e802-4990-addd-e47df397b9eb"
      },
      "execution_count": null,
      "outputs": [
        {
          "output_type": "stream",
          "name": "stdout",
          "text": [
            "     lhs                              rhs          support confidence coverage\n",
            "[1]  {}                            => {BREAD}      0.65    0.6500000  1.00    \n",
            "[2]  {JAM}                         => {MAGGI}      0.10    1.0000000  0.10    \n",
            "[3]  {JAM}                         => {BREAD}      0.10    1.0000000  0.10    \n",
            "[4]  {COCK}                        => {CORNFLAKES} 0.10    0.6666667  0.15    \n",
            "[5]  {COCK}                        => {BISCUIT}    0.10    0.6666667  0.15    \n",
            "[6]  {COCK}                        => {COFFEE}     0.15    1.0000000  0.15    \n",
            "[7]  {BOURNVITA}                   => {SUGAR}      0.10    0.5000000  0.20    \n",
            "[8]  {BOURNVITA}                   => {TEA}        0.10    0.5000000  0.20    \n",
            "[9]  {BOURNVITA}                   => {BREAD}      0.15    0.7500000  0.20    \n",
            "[10] {MILK}                        => {BREAD}      0.20    0.8000000  0.25    \n",
            "[11] {MAGGI}                       => {TEA}        0.20    0.8000000  0.25    \n",
            "[12] {TEA}                         => {MAGGI}      0.20    0.5714286  0.35    \n",
            "[13] {MAGGI}                       => {BREAD}      0.15    0.6000000  0.25    \n",
            "[14] {SUGAR}                       => {COFFEE}     0.20    0.6666667  0.30    \n",
            "[15] {COFFEE}                      => {SUGAR}      0.20    0.5000000  0.40    \n",
            "[16] {SUGAR}                       => {BREAD}      0.20    0.6666667  0.30    \n",
            "[17] {CORNFLAKES}                  => {BISCUIT}    0.15    0.5000000  0.30    \n",
            "[18] {CORNFLAKES}                  => {COFFEE}     0.20    0.6666667  0.30    \n",
            "[19] {COFFEE}                      => {CORNFLAKES} 0.20    0.5000000  0.40    \n",
            "[20] {TEA}                         => {BREAD}      0.20    0.5714286  0.35    \n",
            "[21] {BISCUIT}                     => {BREAD}      0.20    0.5714286  0.35    \n",
            "[22] {JAM, MAGGI}                  => {BREAD}      0.10    1.0000000  0.10    \n",
            "[23] {BREAD, JAM}                  => {MAGGI}      0.10    1.0000000  0.10    \n",
            "[24] {BREAD, MAGGI}                => {JAM}        0.10    0.6666667  0.15    \n",
            "[25] {COCK, CORNFLAKES}            => {BISCUIT}    0.10    1.0000000  0.10    \n",
            "[26] {BISCUIT, COCK}               => {CORNFLAKES} 0.10    1.0000000  0.10    \n",
            "[27] {BISCUIT, CORNFLAKES}         => {COCK}       0.10    0.6666667  0.15    \n",
            "[28] {COCK, CORNFLAKES}            => {COFFEE}     0.10    1.0000000  0.10    \n",
            "[29] {COCK, COFFEE}                => {CORNFLAKES} 0.10    0.6666667  0.15    \n",
            "[30] {COFFEE, CORNFLAKES}          => {COCK}       0.10    0.5000000  0.20    \n",
            "[31] {BISCUIT, COCK}               => {COFFEE}     0.10    1.0000000  0.10    \n",
            "[32] {COCK, COFFEE}                => {BISCUIT}    0.10    0.6666667  0.15    \n",
            "[33] {BISCUIT, COFFEE}             => {COCK}       0.10    1.0000000  0.10    \n",
            "[34] {BOURNVITA, TEA}              => {BREAD}      0.10    1.0000000  0.10    \n",
            "[35] {BOURNVITA, BREAD}            => {TEA}        0.10    0.6666667  0.15    \n",
            "[36] {BREAD, TEA}                  => {BOURNVITA}  0.10    0.5000000  0.20    \n",
            "[37] {BISCUIT, MILK}               => {BREAD}      0.10    1.0000000  0.10    \n",
            "[38] {BREAD, MILK}                 => {BISCUIT}    0.10    0.5000000  0.20    \n",
            "[39] {BISCUIT, BREAD}              => {MILK}       0.10    0.5000000  0.20    \n",
            "[40] {MAGGI, TEA}                  => {BISCUIT}    0.10    0.5000000  0.20    \n",
            "[41] {BISCUIT, MAGGI}              => {TEA}        0.10    1.0000000  0.10    \n",
            "[42] {BISCUIT, TEA}                => {MAGGI}      0.10    1.0000000  0.10    \n",
            "[43] {MAGGI, TEA}                  => {BREAD}      0.10    0.5000000  0.20    \n",
            "[44] {BREAD, MAGGI}                => {TEA}        0.10    0.6666667  0.15    \n",
            "[45] {BREAD, TEA}                  => {MAGGI}      0.10    0.5000000  0.20    \n",
            "[46] {COFFEE, SUGAR}               => {BREAD}      0.10    0.5000000  0.20    \n",
            "[47] {BREAD, SUGAR}                => {COFFEE}     0.10    0.5000000  0.20    \n",
            "[48] {BREAD, COFFEE}               => {SUGAR}      0.10    0.6666667  0.15    \n",
            "[49] {BISCUIT, CORNFLAKES}         => {COFFEE}     0.10    0.6666667  0.15    \n",
            "[50] {COFFEE, CORNFLAKES}          => {BISCUIT}    0.10    0.5000000  0.20    \n",
            "[51] {BISCUIT, COFFEE}             => {CORNFLAKES} 0.10    1.0000000  0.10    \n",
            "[52] {BISCUIT, COCK, CORNFLAKES}   => {COFFEE}     0.10    1.0000000  0.10    \n",
            "[53] {COCK, COFFEE, CORNFLAKES}    => {BISCUIT}    0.10    1.0000000  0.10    \n",
            "[54] {BISCUIT, COCK, COFFEE}       => {CORNFLAKES} 0.10    1.0000000  0.10    \n",
            "[55] {BISCUIT, COFFEE, CORNFLAKES} => {COCK}       0.10    1.0000000  0.10    \n",
            "     lift      count\n",
            "[1]  1.0000000 13   \n",
            "[2]  4.0000000  2   \n",
            "[3]  1.5384615  2   \n",
            "[4]  2.2222222  2   \n",
            "[5]  1.9047619  2   \n",
            "[6]  2.5000000  3   \n",
            "[7]  1.6666667  2   \n",
            "[8]  1.4285714  2   \n",
            "[9]  1.1538462  3   \n",
            "[10] 1.2307692  4   \n",
            "[11] 2.2857143  4   \n",
            "[12] 2.2857143  4   \n",
            "[13] 0.9230769  3   \n",
            "[14] 1.6666667  4   \n",
            "[15] 1.6666667  4   \n",
            "[16] 1.0256410  4   \n",
            "[17] 1.4285714  3   \n",
            "[18] 1.6666667  4   \n",
            "[19] 1.6666667  4   \n",
            "[20] 0.8791209  4   \n",
            "[21] 0.8791209  4   \n",
            "[22] 1.5384615  2   \n",
            "[23] 4.0000000  2   \n",
            "[24] 6.6666667  2   \n",
            "[25] 2.8571429  2   \n",
            "[26] 3.3333333  2   \n",
            "[27] 4.4444444  2   \n",
            "[28] 2.5000000  2   \n",
            "[29] 2.2222222  2   \n",
            "[30] 3.3333333  2   \n",
            "[31] 2.5000000  2   \n",
            "[32] 1.9047619  2   \n",
            "[33] 6.6666667  2   \n",
            "[34] 1.5384615  2   \n",
            "[35] 1.9047619  2   \n",
            "[36] 2.5000000  2   \n",
            "[37] 1.5384615  2   \n",
            "[38] 1.4285714  2   \n",
            "[39] 2.0000000  2   \n",
            "[40] 1.4285714  2   \n",
            "[41] 2.8571429  2   \n",
            "[42] 4.0000000  2   \n",
            "[43] 0.7692308  2   \n",
            "[44] 1.9047619  2   \n",
            "[45] 2.0000000  2   \n",
            "[46] 0.7692308  2   \n",
            "[47] 1.2500000  2   \n",
            "[48] 2.2222222  2   \n",
            "[49] 1.6666667  2   \n",
            "[50] 1.4285714  2   \n",
            "[51] 3.3333333  2   \n",
            "[52] 2.5000000  2   \n",
            "[53] 2.8571429  2   \n",
            "[54] 3.3333333  2   \n",
            "[55] 6.6666667  2   \n"
          ]
        }
      ]
    },
    {
      "cell_type": "code",
      "source": [
        "inspect(sort(regras, by=\"confidence\")[1:30])"
      ],
      "metadata": {
        "colab": {
          "base_uri": "https://localhost:8080/"
        },
        "id": "j6bom7qKfFEF",
        "outputId": "da749eeb-31ee-473e-cb75-bc3f5c3d7fca"
      },
      "execution_count": null,
      "outputs": [
        {
          "output_type": "stream",
          "name": "stdout",
          "text": [
            "     lhs                              rhs          support confidence coverage\n",
            "[1]  {JAM}                         => {MAGGI}      0.10    1.0000000  0.10    \n",
            "[2]  {JAM}                         => {BREAD}      0.10    1.0000000  0.10    \n",
            "[3]  {COCK}                        => {COFFEE}     0.15    1.0000000  0.15    \n",
            "[4]  {JAM, MAGGI}                  => {BREAD}      0.10    1.0000000  0.10    \n",
            "[5]  {BREAD, JAM}                  => {MAGGI}      0.10    1.0000000  0.10    \n",
            "[6]  {COCK, CORNFLAKES}            => {BISCUIT}    0.10    1.0000000  0.10    \n",
            "[7]  {BISCUIT, COCK}               => {CORNFLAKES} 0.10    1.0000000  0.10    \n",
            "[8]  {COCK, CORNFLAKES}            => {COFFEE}     0.10    1.0000000  0.10    \n",
            "[9]  {BISCUIT, COCK}               => {COFFEE}     0.10    1.0000000  0.10    \n",
            "[10] {BISCUIT, COFFEE}             => {COCK}       0.10    1.0000000  0.10    \n",
            "[11] {BOURNVITA, TEA}              => {BREAD}      0.10    1.0000000  0.10    \n",
            "[12] {BISCUIT, MILK}               => {BREAD}      0.10    1.0000000  0.10    \n",
            "[13] {BISCUIT, MAGGI}              => {TEA}        0.10    1.0000000  0.10    \n",
            "[14] {BISCUIT, TEA}                => {MAGGI}      0.10    1.0000000  0.10    \n",
            "[15] {BISCUIT, COFFEE}             => {CORNFLAKES} 0.10    1.0000000  0.10    \n",
            "[16] {BISCUIT, COCK, CORNFLAKES}   => {COFFEE}     0.10    1.0000000  0.10    \n",
            "[17] {COCK, COFFEE, CORNFLAKES}    => {BISCUIT}    0.10    1.0000000  0.10    \n",
            "[18] {BISCUIT, COCK, COFFEE}       => {CORNFLAKES} 0.10    1.0000000  0.10    \n",
            "[19] {BISCUIT, COFFEE, CORNFLAKES} => {COCK}       0.10    1.0000000  0.10    \n",
            "[20] {MILK}                        => {BREAD}      0.20    0.8000000  0.25    \n",
            "[21] {MAGGI}                       => {TEA}        0.20    0.8000000  0.25    \n",
            "[22] {BOURNVITA}                   => {BREAD}      0.15    0.7500000  0.20    \n",
            "[23] {COCK}                        => {CORNFLAKES} 0.10    0.6666667  0.15    \n",
            "[24] {COCK}                        => {BISCUIT}    0.10    0.6666667  0.15    \n",
            "[25] {SUGAR}                       => {COFFEE}     0.20    0.6666667  0.30    \n",
            "[26] {SUGAR}                       => {BREAD}      0.20    0.6666667  0.30    \n",
            "[27] {CORNFLAKES}                  => {COFFEE}     0.20    0.6666667  0.30    \n",
            "[28] {BREAD, MAGGI}                => {JAM}        0.10    0.6666667  0.15    \n",
            "[29] {BISCUIT, CORNFLAKES}         => {COCK}       0.10    0.6666667  0.15    \n",
            "[30] {COCK, COFFEE}                => {CORNFLAKES} 0.10    0.6666667  0.15    \n",
            "     lift     count\n",
            "[1]  4.000000 2    \n",
            "[2]  1.538462 2    \n",
            "[3]  2.500000 3    \n",
            "[4]  1.538462 2    \n",
            "[5]  4.000000 2    \n",
            "[6]  2.857143 2    \n",
            "[7]  3.333333 2    \n",
            "[8]  2.500000 2    \n",
            "[9]  2.500000 2    \n",
            "[10] 6.666667 2    \n",
            "[11] 1.538462 2    \n",
            "[12] 1.538462 2    \n",
            "[13] 2.857143 2    \n",
            "[14] 4.000000 2    \n",
            "[15] 3.333333 2    \n",
            "[16] 2.500000 2    \n",
            "[17] 2.857143 2    \n",
            "[18] 3.333333 2    \n",
            "[19] 6.666667 2    \n",
            "[20] 1.230769 4    \n",
            "[21] 2.285714 4    \n",
            "[22] 1.153846 3    \n",
            "[23] 2.222222 2    \n",
            "[24] 1.904762 2    \n",
            "[25] 1.666667 4    \n",
            "[26] 1.025641 4    \n",
            "[27] 1.666667 4    \n",
            "[28] 6.666667 2    \n",
            "[29] 4.444444 2    \n",
            "[30] 2.222222 2    \n"
          ]
        }
      ]
    },
    {
      "cell_type": "code",
      "source": [
        "regras1 = apriori(base3, parameter = list(sup=0.001, conf=0.5))\n"
      ],
      "metadata": {
        "colab": {
          "base_uri": "https://localhost:8080/"
        },
        "id": "4wzPruzohLCo",
        "outputId": "e1fc181f-59dd-4d30-f060-3a64bee99f19"
      },
      "execution_count": null,
      "outputs": [
        {
          "output_type": "stream",
          "name": "stdout",
          "text": [
            "Apriori\n",
            "\n",
            "Parameter specification:\n",
            " confidence minval smax arem  aval originalSupport maxtime support minlen\n",
            "        0.5    0.1    1 none FALSE            TRUE       5   0.001      1\n",
            " maxlen target  ext\n",
            "     10  rules TRUE\n",
            "\n",
            "Algorithmic control:\n",
            " filter tree heap memopt load sort verbose\n",
            "    0.1 TRUE TRUE  FALSE TRUE    2    TRUE\n",
            "\n",
            "Absolute minimum support count: 0 \n",
            "\n",
            "set item appearances ...[0 item(s)] done [0.00s].\n",
            "set transactions ...[11 item(s), 20 transaction(s)] done [0.00s].\n",
            "sorting and recoding items ... [11 item(s)] done [0.00s].\n",
            "creating transaction tree ... done [0.00s].\n",
            "checking subsets of size 1 2 3 4 done [0.00s].\n",
            "writing ... [112 rule(s)] done [0.00s].\n",
            "creating S4 object  ... done [0.00s].\n"
          ]
        }
      ]
    },
    {
      "cell_type": "code",
      "source": [
        "inspect(regras1)"
      ],
      "metadata": {
        "colab": {
          "base_uri": "https://localhost:8080/"
        },
        "id": "foiJ5NHrhryg",
        "outputId": "4c04c793-5e97-4390-ae06-00ba9e07c9e7"
      },
      "execution_count": null,
      "outputs": [
        {
          "output_type": "stream",
          "name": "stdout",
          "text": [
            "      lhs                              rhs          support confidence coverage\n",
            "[1]   {}                            => {BREAD}      0.65    0.6500000  1.00    \n",
            "[2]   {JAM}                         => {MILK}       0.05    0.5000000  0.10    \n",
            "[3]   {JAM}                         => {MAGGI}      0.10    1.0000000  0.10    \n",
            "[4]   {JAM}                         => {TEA}        0.05    0.5000000  0.10    \n",
            "[5]   {JAM}                         => {BREAD}      0.10    1.0000000  0.10    \n",
            "[6]   {COCK}                        => {CORNFLAKES} 0.10    0.6666667  0.15    \n",
            "[7]   {COCK}                        => {BISCUIT}    0.10    0.6666667  0.15    \n",
            "[8]   {COCK}                        => {COFFEE}     0.15    1.0000000  0.15    \n",
            "[9]   {BOURNVITA}                   => {SUGAR}      0.10    0.5000000  0.20    \n",
            "[10]  {BOURNVITA}                   => {TEA}        0.10    0.5000000  0.20    \n",
            "[11]  {BOURNVITA}                   => {BREAD}      0.15    0.7500000  0.20    \n",
            "[12]  {MILK}                        => {BREAD}      0.20    0.8000000  0.25    \n",
            "[13]  {MAGGI}                       => {TEA}        0.20    0.8000000  0.25    \n",
            "[14]  {TEA}                         => {MAGGI}      0.20    0.5714286  0.35    \n",
            "[15]  {MAGGI}                       => {BREAD}      0.15    0.6000000  0.25    \n",
            "[16]  {SUGAR}                       => {COFFEE}     0.20    0.6666667  0.30    \n",
            "[17]  {COFFEE}                      => {SUGAR}      0.20    0.5000000  0.40    \n",
            "[18]  {SUGAR}                       => {BREAD}      0.20    0.6666667  0.30    \n",
            "[19]  {CORNFLAKES}                  => {BISCUIT}    0.15    0.5000000  0.30    \n",
            "[20]  {CORNFLAKES}                  => {COFFEE}     0.20    0.6666667  0.30    \n",
            "[21]  {COFFEE}                      => {CORNFLAKES} 0.20    0.5000000  0.40    \n",
            "[22]  {TEA}                         => {BREAD}      0.20    0.5714286  0.35    \n",
            "[23]  {BISCUIT}                     => {BREAD}      0.20    0.5714286  0.35    \n",
            "[24]  {JAM, MILK}                   => {MAGGI}      0.05    1.0000000  0.05    \n",
            "[25]  {JAM, MAGGI}                  => {MILK}       0.05    0.5000000  0.10    \n",
            "[26]  {MAGGI, MILK}                 => {JAM}        0.05    1.0000000  0.05    \n",
            "[27]  {JAM, MILK}                   => {BREAD}      0.05    1.0000000  0.05    \n",
            "[28]  {BREAD, JAM}                  => {MILK}       0.05    0.5000000  0.10    \n",
            "[29]  {JAM, MAGGI}                  => {TEA}        0.05    0.5000000  0.10    \n",
            "[30]  {JAM, TEA}                    => {MAGGI}      0.05    1.0000000  0.05    \n",
            "[31]  {JAM, MAGGI}                  => {BREAD}      0.10    1.0000000  0.10    \n",
            "[32]  {BREAD, JAM}                  => {MAGGI}      0.10    1.0000000  0.10    \n",
            "[33]  {BREAD, MAGGI}                => {JAM}        0.10    0.6666667  0.15    \n",
            "[34]  {JAM, TEA}                    => {BREAD}      0.05    1.0000000  0.05    \n",
            "[35]  {BREAD, JAM}                  => {TEA}        0.05    0.5000000  0.10    \n",
            "[36]  {COCK, CORNFLAKES}            => {BISCUIT}    0.10    1.0000000  0.10    \n",
            "[37]  {BISCUIT, COCK}               => {CORNFLAKES} 0.10    1.0000000  0.10    \n",
            "[38]  {BISCUIT, CORNFLAKES}         => {COCK}       0.10    0.6666667  0.15    \n",
            "[39]  {COCK, CORNFLAKES}            => {COFFEE}     0.10    1.0000000  0.10    \n",
            "[40]  {COCK, COFFEE}                => {CORNFLAKES} 0.10    0.6666667  0.15    \n",
            "[41]  {COFFEE, CORNFLAKES}          => {COCK}       0.10    0.5000000  0.20    \n",
            "[42]  {BISCUIT, COCK}               => {COFFEE}     0.10    1.0000000  0.10    \n",
            "[43]  {COCK, COFFEE}                => {BISCUIT}    0.10    0.6666667  0.15    \n",
            "[44]  {BISCUIT, COFFEE}             => {COCK}       0.10    1.0000000  0.10    \n",
            "[45]  {BREAD, COCK}                 => {COFFEE}     0.05    1.0000000  0.05    \n",
            "[46]  {BOURNVITA, SUGAR}            => {COFFEE}     0.05    0.5000000  0.10    \n",
            "[47]  {BOURNVITA, COFFEE}           => {SUGAR}      0.05    1.0000000  0.05    \n",
            "[48]  {BOURNVITA, SUGAR}            => {BREAD}      0.05    0.5000000  0.10    \n",
            "[49]  {BOURNVITA, TEA}              => {BREAD}      0.10    1.0000000  0.10    \n",
            "[50]  {BOURNVITA, BREAD}            => {TEA}        0.10    0.6666667  0.15    \n",
            "[51]  {BREAD, TEA}                  => {BOURNVITA}  0.10    0.5000000  0.20    \n",
            "[52]  {MAGGI, MILK}                 => {BREAD}      0.05    1.0000000  0.05    \n",
            "[53]  {CORNFLAKES, MILK}            => {TEA}        0.05    0.5000000  0.10    \n",
            "[54]  {MILK, TEA}                   => {CORNFLAKES} 0.05    1.0000000  0.05    \n",
            "[55]  {CORNFLAKES, TEA}             => {MILK}       0.05    0.5000000  0.10    \n",
            "[56]  {CORNFLAKES, MILK}            => {BISCUIT}    0.05    0.5000000  0.10    \n",
            "[57]  {BISCUIT, MILK}               => {CORNFLAKES} 0.05    0.5000000  0.10    \n",
            "[58]  {CORNFLAKES, MILK}            => {COFFEE}     0.05    0.5000000  0.10    \n",
            "[59]  {COFFEE, MILK}                => {CORNFLAKES} 0.05    1.0000000  0.05    \n",
            "[60]  {CORNFLAKES, MILK}            => {BREAD}      0.05    0.5000000  0.10    \n",
            "[61]  {BREAD, CORNFLAKES}           => {MILK}       0.05    1.0000000  0.05    \n",
            "[62]  {MILK, TEA}                   => {COFFEE}     0.05    1.0000000  0.05    \n",
            "[63]  {COFFEE, MILK}                => {TEA}        0.05    1.0000000  0.05    \n",
            "[64]  {COFFEE, TEA}                 => {MILK}       0.05    1.0000000  0.05    \n",
            "[65]  {BISCUIT, MILK}               => {BREAD}      0.10    1.0000000  0.10    \n",
            "[66]  {BREAD, MILK}                 => {BISCUIT}    0.10    0.5000000  0.20    \n",
            "[67]  {BISCUIT, BREAD}              => {MILK}       0.10    0.5000000  0.20    \n",
            "[68]  {CORNFLAKES, MAGGI}           => {TEA}        0.05    1.0000000  0.05    \n",
            "[69]  {CORNFLAKES, TEA}             => {MAGGI}      0.05    0.5000000  0.10    \n",
            "[70]  {MAGGI, TEA}                  => {BISCUIT}    0.10    0.5000000  0.20    \n",
            "[71]  {BISCUIT, MAGGI}              => {TEA}        0.10    1.0000000  0.10    \n",
            "[72]  {BISCUIT, TEA}                => {MAGGI}      0.10    1.0000000  0.10    \n",
            "[73]  {MAGGI, TEA}                  => {BREAD}      0.10    0.5000000  0.20    \n",
            "[74]  {BREAD, MAGGI}                => {TEA}        0.10    0.6666667  0.15    \n",
            "[75]  {BREAD, TEA}                  => {MAGGI}      0.10    0.5000000  0.20    \n",
            "[76]  {BISCUIT, MAGGI}              => {BREAD}      0.05    0.5000000  0.10    \n",
            "[77]  {CORNFLAKES, SUGAR}           => {COFFEE}     0.05    1.0000000  0.05    \n",
            "[78]  {BISCUIT, SUGAR}              => {BREAD}      0.05    1.0000000  0.05    \n",
            "[79]  {COFFEE, SUGAR}               => {BREAD}      0.10    0.5000000  0.20    \n",
            "[80]  {BREAD, SUGAR}                => {COFFEE}     0.10    0.5000000  0.20    \n",
            "[81]  {BREAD, COFFEE}               => {SUGAR}      0.10    0.6666667  0.15    \n",
            "[82]  {CORNFLAKES, TEA}             => {COFFEE}     0.05    0.5000000  0.10    \n",
            "[83]  {COFFEE, TEA}                 => {CORNFLAKES} 0.05    1.0000000  0.05    \n",
            "[84]  {BISCUIT, CORNFLAKES}         => {COFFEE}     0.10    0.6666667  0.15    \n",
            "[85]  {COFFEE, CORNFLAKES}          => {BISCUIT}    0.10    0.5000000  0.20    \n",
            "[86]  {BISCUIT, COFFEE}             => {CORNFLAKES} 0.10    1.0000000  0.10    \n",
            "[87]  {BREAD, CORNFLAKES}           => {BISCUIT}    0.05    1.0000000  0.05    \n",
            "[88]  {BISCUIT, TEA}                => {BREAD}      0.05    0.5000000  0.10    \n",
            "[89]  {JAM, MAGGI, MILK}            => {BREAD}      0.05    1.0000000  0.05    \n",
            "[90]  {BREAD, JAM, MILK}            => {MAGGI}      0.05    1.0000000  0.05    \n",
            "[91]  {BREAD, JAM, MAGGI}           => {MILK}       0.05    0.5000000  0.10    \n",
            "[92]  {BREAD, MAGGI, MILK}          => {JAM}        0.05    1.0000000  0.05    \n",
            "[93]  {JAM, MAGGI, TEA}             => {BREAD}      0.05    1.0000000  0.05    \n",
            "[94]  {BREAD, JAM, MAGGI}           => {TEA}        0.05    0.5000000  0.10    \n",
            "[95]  {BREAD, JAM, TEA}             => {MAGGI}      0.05    1.0000000  0.05    \n",
            "[96]  {BREAD, MAGGI, TEA}           => {JAM}        0.05    0.5000000  0.10    \n",
            "[97]  {BISCUIT, COCK, CORNFLAKES}   => {COFFEE}     0.10    1.0000000  0.10    \n",
            "[98]  {COCK, COFFEE, CORNFLAKES}    => {BISCUIT}    0.10    1.0000000  0.10    \n",
            "[99]  {BISCUIT, COCK, COFFEE}       => {CORNFLAKES} 0.10    1.0000000  0.10    \n",
            "[100] {BISCUIT, COFFEE, CORNFLAKES} => {COCK}       0.10    1.0000000  0.10    \n",
            "[101] {CORNFLAKES, MILK, TEA}       => {COFFEE}     0.05    1.0000000  0.05    \n",
            "[102] {COFFEE, CORNFLAKES, MILK}    => {TEA}        0.05    1.0000000  0.05    \n",
            "[103] {COFFEE, MILK, TEA}           => {CORNFLAKES} 0.05    1.0000000  0.05    \n",
            "[104] {COFFEE, CORNFLAKES, TEA}     => {MILK}       0.05    1.0000000  0.05    \n",
            "[105] {BISCUIT, CORNFLAKES, MILK}   => {BREAD}      0.05    1.0000000  0.05    \n",
            "[106] {BREAD, CORNFLAKES, MILK}     => {BISCUIT}    0.05    1.0000000  0.05    \n",
            "[107] {BISCUIT, BREAD, MILK}        => {CORNFLAKES} 0.05    0.5000000  0.10    \n",
            "[108] {BISCUIT, BREAD, CORNFLAKES}  => {MILK}       0.05    1.0000000  0.05    \n",
            "[109] {BISCUIT, MAGGI, TEA}         => {BREAD}      0.05    0.5000000  0.10    \n",
            "[110] {BREAD, MAGGI, TEA}           => {BISCUIT}    0.05    0.5000000  0.10    \n",
            "[111] {BISCUIT, BREAD, MAGGI}       => {TEA}        0.05    1.0000000  0.05    \n",
            "[112] {BISCUIT, BREAD, TEA}         => {MAGGI}      0.05    1.0000000  0.05    \n",
            "      lift       count\n",
            "[1]    1.0000000 13   \n",
            "[2]    2.0000000  1   \n",
            "[3]    4.0000000  2   \n",
            "[4]    1.4285714  1   \n",
            "[5]    1.5384615  2   \n",
            "[6]    2.2222222  2   \n",
            "[7]    1.9047619  2   \n",
            "[8]    2.5000000  3   \n",
            "[9]    1.6666667  2   \n",
            "[10]   1.4285714  2   \n",
            "[11]   1.1538462  3   \n",
            "[12]   1.2307692  4   \n",
            "[13]   2.2857143  4   \n",
            "[14]   2.2857143  4   \n",
            "[15]   0.9230769  3   \n",
            "[16]   1.6666667  4   \n",
            "[17]   1.6666667  4   \n",
            "[18]   1.0256410  4   \n",
            "[19]   1.4285714  3   \n",
            "[20]   1.6666667  4   \n",
            "[21]   1.6666667  4   \n",
            "[22]   0.8791209  4   \n",
            "[23]   0.8791209  4   \n",
            "[24]   4.0000000  1   \n",
            "[25]   2.0000000  1   \n",
            "[26]  10.0000000  1   \n",
            "[27]   1.5384615  1   \n",
            "[28]   2.0000000  1   \n",
            "[29]   1.4285714  1   \n",
            "[30]   4.0000000  1   \n",
            "[31]   1.5384615  2   \n",
            "[32]   4.0000000  2   \n",
            "[33]   6.6666667  2   \n",
            "[34]   1.5384615  1   \n",
            "[35]   1.4285714  1   \n",
            "[36]   2.8571429  2   \n",
            "[37]   3.3333333  2   \n",
            "[38]   4.4444444  2   \n",
            "[39]   2.5000000  2   \n",
            "[40]   2.2222222  2   \n",
            "[41]   3.3333333  2   \n",
            "[42]   2.5000000  2   \n",
            "[43]   1.9047619  2   \n",
            "[44]   6.6666667  2   \n",
            "[45]   2.5000000  1   \n",
            "[46]   1.2500000  1   \n",
            "[47]   3.3333333  1   \n",
            "[48]   0.7692308  1   \n",
            "[49]   1.5384615  2   \n",
            "[50]   1.9047619  2   \n",
            "[51]   2.5000000  2   \n",
            "[52]   1.5384615  1   \n",
            "[53]   1.4285714  1   \n",
            "[54]   3.3333333  1   \n",
            "[55]   2.0000000  1   \n",
            "[56]   1.4285714  1   \n",
            "[57]   1.6666667  1   \n",
            "[58]   1.2500000  1   \n",
            "[59]   3.3333333  1   \n",
            "[60]   0.7692308  1   \n",
            "[61]   4.0000000  1   \n",
            "[62]   2.5000000  1   \n",
            "[63]   2.8571429  1   \n",
            "[64]   4.0000000  1   \n",
            "[65]   1.5384615  2   \n",
            "[66]   1.4285714  2   \n",
            "[67]   2.0000000  2   \n",
            "[68]   2.8571429  1   \n",
            "[69]   2.0000000  1   \n",
            "[70]   1.4285714  2   \n",
            "[71]   2.8571429  2   \n",
            "[72]   4.0000000  2   \n",
            "[73]   0.7692308  2   \n",
            "[74]   1.9047619  2   \n",
            "[75]   2.0000000  2   \n",
            "[76]   0.7692308  1   \n",
            "[77]   2.5000000  1   \n",
            "[78]   1.5384615  1   \n",
            "[79]   0.7692308  2   \n",
            "[80]   1.2500000  2   \n",
            "[81]   2.2222222  2   \n",
            "[82]   1.2500000  1   \n",
            "[83]   3.3333333  1   \n",
            "[84]   1.6666667  2   \n",
            "[85]   1.4285714  2   \n",
            "[86]   3.3333333  2   \n",
            "[87]   2.8571429  1   \n",
            "[88]   0.7692308  1   \n",
            "[89]   1.5384615  1   \n",
            "[90]   4.0000000  1   \n",
            "[91]   2.0000000  1   \n",
            "[92]  10.0000000  1   \n",
            "[93]   1.5384615  1   \n",
            "[94]   1.4285714  1   \n",
            "[95]   4.0000000  1   \n",
            "[96]   5.0000000  1   \n",
            "[97]   2.5000000  2   \n",
            "[98]   2.8571429  2   \n",
            "[99]   3.3333333  2   \n",
            "[100]  6.6666667  2   \n",
            "[101]  2.5000000  1   \n",
            "[102]  2.8571429  1   \n",
            "[103]  3.3333333  1   \n",
            "[104]  4.0000000  1   \n",
            "[105]  1.5384615  1   \n",
            "[106]  2.8571429  1   \n",
            "[107]  1.6666667  1   \n",
            "[108]  4.0000000  1   \n",
            "[109]  0.7692308  1   \n",
            "[110]  1.4285714  1   \n",
            "[111]  2.8571429  1   \n",
            "[112]  4.0000000  1   \n"
          ]
        }
      ]
    },
    {
      "cell_type": "code",
      "source": [
        "inspect(sort(regras1, by=\"confidence\")[40:70])"
      ],
      "metadata": {
        "colab": {
          "base_uri": "https://localhost:8080/"
        },
        "id": "Opb7dAI2h27P",
        "outputId": "fc051eb8-513b-494e-876f-2f41f338acbf"
      },
      "execution_count": null,
      "outputs": [
        {
          "output_type": "stream",
          "name": "stdout",
          "text": [
            "     lhs                              rhs          support confidence coverage\n",
            "[1]  {BISCUIT, COCK, CORNFLAKES}   => {COFFEE}     0.10    1.0000000  0.10    \n",
            "[2]  {COCK, COFFEE, CORNFLAKES}    => {BISCUIT}    0.10    1.0000000  0.10    \n",
            "[3]  {BISCUIT, COCK, COFFEE}       => {CORNFLAKES} 0.10    1.0000000  0.10    \n",
            "[4]  {BISCUIT, COFFEE, CORNFLAKES} => {COCK}       0.10    1.0000000  0.10    \n",
            "[5]  {CORNFLAKES, MILK, TEA}       => {COFFEE}     0.05    1.0000000  0.05    \n",
            "[6]  {COFFEE, CORNFLAKES, MILK}    => {TEA}        0.05    1.0000000  0.05    \n",
            "[7]  {COFFEE, MILK, TEA}           => {CORNFLAKES} 0.05    1.0000000  0.05    \n",
            "[8]  {COFFEE, CORNFLAKES, TEA}     => {MILK}       0.05    1.0000000  0.05    \n",
            "[9]  {BISCUIT, CORNFLAKES, MILK}   => {BREAD}      0.05    1.0000000  0.05    \n",
            "[10] {BREAD, CORNFLAKES, MILK}     => {BISCUIT}    0.05    1.0000000  0.05    \n",
            "[11] {BISCUIT, BREAD, CORNFLAKES}  => {MILK}       0.05    1.0000000  0.05    \n",
            "[12] {BISCUIT, BREAD, MAGGI}       => {TEA}        0.05    1.0000000  0.05    \n",
            "[13] {BISCUIT, BREAD, TEA}         => {MAGGI}      0.05    1.0000000  0.05    \n",
            "[14] {MILK}                        => {BREAD}      0.20    0.8000000  0.25    \n",
            "[15] {MAGGI}                       => {TEA}        0.20    0.8000000  0.25    \n",
            "[16] {BOURNVITA}                   => {BREAD}      0.15    0.7500000  0.20    \n",
            "[17] {COCK}                        => {CORNFLAKES} 0.10    0.6666667  0.15    \n",
            "[18] {COCK}                        => {BISCUIT}    0.10    0.6666667  0.15    \n",
            "[19] {SUGAR}                       => {COFFEE}     0.20    0.6666667  0.30    \n",
            "[20] {SUGAR}                       => {BREAD}      0.20    0.6666667  0.30    \n",
            "[21] {CORNFLAKES}                  => {COFFEE}     0.20    0.6666667  0.30    \n",
            "[22] {BREAD, MAGGI}                => {JAM}        0.10    0.6666667  0.15    \n",
            "[23] {BISCUIT, CORNFLAKES}         => {COCK}       0.10    0.6666667  0.15    \n",
            "[24] {COCK, COFFEE}                => {CORNFLAKES} 0.10    0.6666667  0.15    \n",
            "[25] {COCK, COFFEE}                => {BISCUIT}    0.10    0.6666667  0.15    \n",
            "[26] {BOURNVITA, BREAD}            => {TEA}        0.10    0.6666667  0.15    \n",
            "[27] {BREAD, MAGGI}                => {TEA}        0.10    0.6666667  0.15    \n",
            "[28] {BREAD, COFFEE}               => {SUGAR}      0.10    0.6666667  0.15    \n",
            "[29] {BISCUIT, CORNFLAKES}         => {COFFEE}     0.10    0.6666667  0.15    \n",
            "[30] {}                            => {BREAD}      0.65    0.6500000  1.00    \n",
            "[31] {MAGGI}                       => {BREAD}      0.15    0.6000000  0.25    \n",
            "     lift      count\n",
            "[1]  2.5000000  2   \n",
            "[2]  2.8571429  2   \n",
            "[3]  3.3333333  2   \n",
            "[4]  6.6666667  2   \n",
            "[5]  2.5000000  1   \n",
            "[6]  2.8571429  1   \n",
            "[7]  3.3333333  1   \n",
            "[8]  4.0000000  1   \n",
            "[9]  1.5384615  1   \n",
            "[10] 2.8571429  1   \n",
            "[11] 4.0000000  1   \n",
            "[12] 2.8571429  1   \n",
            "[13] 4.0000000  1   \n",
            "[14] 1.2307692  4   \n",
            "[15] 2.2857143  4   \n",
            "[16] 1.1538462  3   \n",
            "[17] 2.2222222  2   \n",
            "[18] 1.9047619  2   \n",
            "[19] 1.6666667  4   \n",
            "[20] 1.0256410  4   \n",
            "[21] 1.6666667  4   \n",
            "[22] 6.6666667  2   \n",
            "[23] 4.4444444  2   \n",
            "[24] 2.2222222  2   \n",
            "[25] 1.9047619  2   \n",
            "[26] 1.9047619  2   \n",
            "[27] 1.9047619  2   \n",
            "[28] 2.2222222  2   \n",
            "[29] 1.6666667  2   \n",
            "[30] 1.0000000 13   \n",
            "[31] 0.9230769  3   \n"
          ]
        }
      ]
    },
    {
      "cell_type": "code",
      "source": [
        "base = read.csv(url,header = F,sep = \",\")\n",
        "summary(base)"
      ],
      "metadata": {
        "colab": {
          "base_uri": "https://localhost:8080/",
          "height": 236
        },
        "id": "268jnIUVaGV5",
        "outputId": "f3cb6697-d9d5-4830-a495-d2b849b9d79b"
      },
      "execution_count": null,
      "outputs": [
        {
          "output_type": "display_data",
          "data": {
            "text/plain": [
              "      V1                 V2                 V3                 V4           \n",
              " Length:20          Length:20          Length:20          Length:20         \n",
              " Class :character   Class :character   Class :character   Class :character  \n",
              " Mode  :character   Mode  :character   Mode  :character   Mode  :character  \n",
              "      V5                 V6                 V7                 V8           \n",
              " Length:20          Length:20          Length:20          Length:20         \n",
              " Class :character   Class :character   Class :character   Class :character  \n",
              " Mode  :character   Mode  :character   Mode  :character   Mode  :character  \n",
              "      V9                V10                V11           \n",
              " Length:20          Length:20          Length:20         \n",
              " Class :character   Class :character   Class :character  \n",
              " Mode  :character   Mode  :character   Mode  :character  "
            ]
          },
          "metadata": {}
        }
      ]
    }
  ]
}