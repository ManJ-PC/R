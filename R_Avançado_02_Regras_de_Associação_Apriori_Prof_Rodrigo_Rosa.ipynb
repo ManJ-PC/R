{
  "nbformat": 4,
  "nbformat_minor": 0,
  "metadata": {
    "colab": {
      "provenance": []
    },
    "kernelspec": {
      "name": "ir",
      "display_name": "R"
    },
    "language_info": {
      "name": "R"
    }
  },
  "cells": [
    {
      "cell_type": "code",
      "source": [
        "mask_airDB = 'https://raw.githubusercontent.com/ManJ-PC/FMUPBioestatistica/master/mask_air.csv?token=GHSAT0AAAAAAB4H7ZCBDEFD3S3A5NN77SMCY6W5A2Q'"
      ],
      "metadata": {
        "id": "K_CDel9Niz2S"
      },
      "execution_count": 93,
      "outputs": []
    },
    {
      "cell_type": "code",
      "source": [
        "symptoms_medicationDB = \"https://raw.githubusercontent.com/ManJ-PC/FMUPBioestatistica/master/sample_symptoms_medication.csv?token=GHSAT0AAAAAAB4H7ZCAPVPEDYOCR7EVZOLWY6W5AHQ\""
      ],
      "metadata": {
        "id": "YXGGd6pInzKG"
      },
      "execution_count": 91,
      "outputs": []
    },
    {
      "cell_type": "code",
      "source": [
        "sample_usersDB = \"https://raw.githubusercontent.com/ManJ-PC/FMUPBioestatistica/master/sample_users.csv?token=GHSAT0AAAAAAB4H7ZCBZDPNUJU654WGJUDGY6W46HQ\""
      ],
      "metadata": {
        "id": "TyMDhkrZn9rO"
      },
      "execution_count": 88,
      "outputs": []
    },
    {
      "cell_type": "code",
      "source": [
        "ma_df <- read.csv(file = mask_airDB)"
      ],
      "metadata": {
        "id": "tjR7acx1hZYB"
      },
      "execution_count": 94,
      "outputs": []
    },
    {
      "cell_type": "code",
      "source": [
        "ma_df"
      ],
      "metadata": {
        "colab": {
          "base_uri": "https://localhost:8080/",
          "height": 1000
        },
        "id": "CnjXzhoVxubc",
        "outputId": "a7eabeaa-e2d8-4cf7-f14f-4dc2b0ad1b64"
      },
      "execution_count": 69,
      "outputs": [
        {
          "output_type": "display_data",
          "data": {
            "text/html": [
              "<table class=\"dataframe\">\n",
              "<caption>A data.frame: 1000 × 14</caption>\n",
              "<thead>\n",
              "\t<tr><th scope=col>X</th><th scope=col>user_id</th><th scope=col>member_id</th><th scope=col>age</th><th scope=col>country</th><th scope=col>asthma</th><th scope=col>sex</th><th scope=col>symptoms_id</th><th scope=col>date</th><th scope=col>vas_nose</th><th scope=col>vas_eye</th><th scope=col>vas_asthma</th><th scope=col>rhinitis_medication</th><th scope=col>asthma_medication</th></tr>\n",
              "\t<tr><th scope=col>&lt;int&gt;</th><th scope=col>&lt;int&gt;</th><th scope=col>&lt;int&gt;</th><th scope=col>&lt;int&gt;</th><th scope=col>&lt;chr&gt;</th><th scope=col>&lt;int&gt;</th><th scope=col>&lt;chr&gt;</th><th scope=col>&lt;int&gt;</th><th scope=col>&lt;chr&gt;</th><th scope=col>&lt;int&gt;</th><th scope=col>&lt;int&gt;</th><th scope=col>&lt;int&gt;</th><th scope=col>&lt;chr&gt;</th><th scope=col>&lt;chr&gt;</th></tr>\n",
              "</thead>\n",
              "<tbody>\n",
              "\t<tr><td> 1</td><td> 1</td><td>  48</td><td>56</td><td>NL</td><td>0</td><td>M</td><td>111007</td><td>08/04/2016</td><td>77</td><td>81</td><td>NA</td><td>B_single_medication</td><td>A_no_medication    </td></tr>\n",
              "\t<tr><td> 2</td><td> 2</td><td>1026</td><td>19</td><td>GB</td><td>1</td><td>M</td><td>290424</td><td>06/10/2015</td><td>59</td><td>38</td><td>NA</td><td>C_comedication     </td><td>A_no_medication    </td></tr>\n",
              "\t<tr><td> 3</td><td> 3</td><td>1638</td><td>47</td><td>FR</td><td>0</td><td>F</td><td>368522</td><td>18/02/2019</td><td>52</td><td> 5</td><td> 0</td><td>A_no_medication    </td><td>A_no_medication    </td></tr>\n",
              "\t<tr><td> 4</td><td> 3</td><td>1638</td><td>47</td><td>FR</td><td>0</td><td>F</td><td>367628</td><td>20/11/2015</td><td> 0</td><td> 0</td><td> 6</td><td>A_no_medication    </td><td>A_no_medication    </td></tr>\n",
              "\t<tr><td> 5</td><td> 3</td><td>1638</td><td>47</td><td>FR</td><td>0</td><td>F</td><td>367798</td><td>17/09/2016</td><td> 8</td><td> 0</td><td> 2</td><td>A_no_medication    </td><td>A_no_medication    </td></tr>\n",
              "\t<tr><td> 6</td><td> 4</td><td>2064</td><td>51</td><td>FR</td><td>1</td><td>F</td><td>393432</td><td>25/12/2015</td><td>40</td><td>25</td><td>NA</td><td>A_no_medication    </td><td>A_no_medication    </td></tr>\n",
              "\t<tr><td> 7</td><td> 5</td><td>2076</td><td>23</td><td>GB</td><td>1</td><td>F</td><td>393928</td><td>26/12/2015</td><td> 3</td><td> 3</td><td>NA</td><td>A_no_medication    </td><td>A_no_medication    </td></tr>\n",
              "\t<tr><td> 8</td><td> 5</td><td>2076</td><td>23</td><td>GB</td><td>1</td><td>F</td><td>394299</td><td>21/01/2017</td><td> 9</td><td> 0</td><td> 0</td><td>A_no_medication    </td><td>A_no_medication    </td></tr>\n",
              "\t<tr><td> 9</td><td> 5</td><td>2076</td><td>23</td><td>GB</td><td>1</td><td>F</td><td>394107</td><td>02/07/2016</td><td>15</td><td> 0</td><td> 0</td><td>A_no_medication    </td><td>A_no_medication    </td></tr>\n",
              "\t<tr><td>10</td><td> 6</td><td>2082</td><td>72</td><td>PL</td><td>0</td><td>F</td><td>394940</td><td>12/01/2016</td><td>21</td><td>24</td><td>NA</td><td>A_no_medication    </td><td>A_no_medication    </td></tr>\n",
              "\t<tr><td>11</td><td> 7</td><td>3138</td><td>67</td><td>DK</td><td>0</td><td>F</td><td> 16242</td><td>08/05/2016</td><td>18</td><td>31</td><td> 8</td><td>A_no_medication    </td><td>B_single_medication</td></tr>\n",
              "\t<tr><td>12</td><td> 8</td><td>3192</td><td>32</td><td>IT</td><td>1</td><td>F</td><td> 16996</td><td>01/08/2017</td><td> 0</td><td> 1</td><td> 0</td><td>A_no_medication    </td><td>A_no_medication    </td></tr>\n",
              "\t<tr><td>13</td><td> 8</td><td>3192</td><td>32</td><td>IT</td><td>1</td><td>F</td><td> 17030</td><td>14/09/2017</td><td> 0</td><td> 0</td><td> 0</td><td>A_no_medication    </td><td>A_no_medication    </td></tr>\n",
              "\t<tr><td>14</td><td> 8</td><td>3192</td><td>32</td><td>IT</td><td>1</td><td>F</td><td> 16721</td><td>28/10/2016</td><td> 2</td><td> 0</td><td> 0</td><td>A_no_medication    </td><td>A_no_medication    </td></tr>\n",
              "\t<tr><td>15</td><td> 9</td><td>3954</td><td>38</td><td>BE</td><td>0</td><td>M</td><td> 25433</td><td>09/08/2016</td><td> 9</td><td>10</td><td>16</td><td>C_comedication     </td><td>A_no_medication    </td></tr>\n",
              "\t<tr><td>16</td><td>10</td><td>4206</td><td>32</td><td>IT</td><td>1</td><td>F</td><td> 28641</td><td>19/03/2016</td><td> 1</td><td> 0</td><td> 1</td><td>A_no_medication    </td><td>A_no_medication    </td></tr>\n",
              "\t<tr><td>17</td><td>10</td><td>4206</td><td>32</td><td>IT</td><td>1</td><td>F</td><td> 28649</td><td>27/03/2016</td><td> 0</td><td> 4</td><td>NA</td><td>A_no_medication    </td><td>A_no_medication    </td></tr>\n",
              "\t<tr><td>18</td><td>11</td><td>4458</td><td>40</td><td>IT</td><td>0</td><td>F</td><td> 32663</td><td>15/09/2016</td><td> 8</td><td> 3</td><td> 0</td><td>B_single_medication</td><td>A_no_medication    </td></tr>\n",
              "\t<tr><td>19</td><td>11</td><td>4458</td><td>40</td><td>IT</td><td>0</td><td>F</td><td> 33290</td><td>14/06/2018</td><td>14</td><td> 9</td><td> 1</td><td>A_no_medication    </td><td>A_no_medication    </td></tr>\n",
              "\t<tr><td>20</td><td>11</td><td>4458</td><td>40</td><td>IT</td><td>0</td><td>F</td><td> 32873</td><td>13/04/2017</td><td>33</td><td>19</td><td> 0</td><td>C_comedication     </td><td>A_no_medication    </td></tr>\n",
              "\t<tr><td>21</td><td>12</td><td>4650</td><td>21</td><td>DE</td><td>0</td><td>F</td><td> 41087</td><td>06/06/2016</td><td>24</td><td> 1</td><td> 0</td><td>C_comedication     </td><td>A_no_medication    </td></tr>\n",
              "\t<tr><td>22</td><td>13</td><td>4890</td><td>36</td><td>ES</td><td>0</td><td>F</td><td> 46851</td><td>01/04/2016</td><td>19</td><td> 1</td><td>NA</td><td>B_single_medication</td><td>A_no_medication    </td></tr>\n",
              "\t<tr><td>23</td><td>14</td><td>6000</td><td>37</td><td>PL</td><td>1</td><td>F</td><td> 62618</td><td>28/04/2019</td><td>51</td><td>53</td><td>35</td><td>C_comedication     </td><td>C_comedication     </td></tr>\n",
              "\t<tr><td>24</td><td>14</td><td>6000</td><td>37</td><td>PL</td><td>1</td><td>F</td><td> 62772</td><td>26/05/2021</td><td>25</td><td>61</td><td>14</td><td>C_comedication     </td><td>C_comedication     </td></tr>\n",
              "\t<tr><td>25</td><td>14</td><td>6000</td><td>37</td><td>PL</td><td>1</td><td>F</td><td> 62529</td><td>03/05/2016</td><td>75</td><td>64</td><td>49</td><td>C_comedication     </td><td>C_comedication     </td></tr>\n",
              "\t<tr><td>26</td><td>14</td><td>6000</td><td>37</td><td>PL</td><td>1</td><td>F</td><td> 62635</td><td>25/05/2019</td><td>13</td><td> 7</td><td> 6</td><td>B_single_medication</td><td>B_single_medication</td></tr>\n",
              "\t<tr><td>27</td><td>14</td><td>6000</td><td>37</td><td>PL</td><td>1</td><td>F</td><td> 62708</td><td>19/10/2019</td><td>71</td><td>18</td><td>41</td><td>C_comedication     </td><td>C_comedication     </td></tr>\n",
              "\t<tr><td>28</td><td>15</td><td>6936</td><td>23</td><td>DE</td><td>0</td><td>F</td><td> 81783</td><td>04/05/2016</td><td>17</td><td> 9</td><td>NA</td><td>B_single_medication</td><td>A_no_medication    </td></tr>\n",
              "\t<tr><td>29</td><td>15</td><td>6936</td><td>23</td><td>DE</td><td>0</td><td>F</td><td> 81777</td><td>14/04/2016</td><td>35</td><td> 0</td><td>NA</td><td>A_no_medication    </td><td>A_no_medication    </td></tr>\n",
              "\t<tr><td>30</td><td>16</td><td>6942</td><td>51</td><td>PL</td><td>1</td><td>F</td><td> 81834</td><td>29/04/2016</td><td> 0</td><td> 3</td><td> 0</td><td>C_comedication     </td><td>A_no_medication    </td></tr>\n",
              "\t<tr><td>⋮</td><td>⋮</td><td>⋮</td><td>⋮</td><td>⋮</td><td>⋮</td><td>⋮</td><td>⋮</td><td>⋮</td><td>⋮</td><td>⋮</td><td>⋮</td><td>⋮</td><td>⋮</td></tr>\n",
              "\t<tr><td> 971</td><td>760</td><td>263985</td><td>33</td><td>FR</td><td>0</td><td>F</td><td>377802</td><td>01/10/2021</td><td>52</td><td> 9</td><td>19</td><td>B_single_medication</td><td>B_single_medication</td></tr>\n",
              "\t<tr><td> 972</td><td>761</td><td>264003</td><td>48</td><td>FR</td><td>1</td><td>F</td><td>377929</td><td>07/10/2021</td><td>14</td><td>24</td><td> 5</td><td>B_single_medication</td><td>A_no_medication    </td></tr>\n",
              "\t<tr><td> 973</td><td>761</td><td>264003</td><td>48</td><td>FR</td><td>1</td><td>F</td><td>377895</td><td>27/07/2021</td><td>11</td><td> 6</td><td> 3</td><td>A_no_medication    </td><td>A_no_medication    </td></tr>\n",
              "\t<tr><td> 974</td><td>762</td><td>264081</td><td>22</td><td>BR</td><td>1</td><td>M</td><td>378257</td><td>11/08/2021</td><td> 1</td><td> 0</td><td> 0</td><td>B_single_medication</td><td>A_no_medication    </td></tr>\n",
              "\t<tr><td> 975</td><td>763</td><td>266259</td><td>49</td><td>LT</td><td>1</td><td>M</td><td>380224</td><td>22/07/2021</td><td>13</td><td> 1</td><td> 3</td><td>B_single_medication</td><td>A_no_medication    </td></tr>\n",
              "\t<tr><td> 976</td><td>764</td><td>267471</td><td>29</td><td>ES</td><td>1</td><td>M</td><td>381235</td><td>31/10/2021</td><td>27</td><td>11</td><td> 1</td><td>B_single_medication</td><td>A_no_medication    </td></tr>\n",
              "\t<tr><td> 977</td><td>765</td><td>267519</td><td>18</td><td>MX</td><td>0</td><td>M</td><td>381312</td><td>02/08/2021</td><td>44</td><td>18</td><td> 3</td><td>C_comedication     </td><td>A_no_medication    </td></tr>\n",
              "\t<tr><td> 978</td><td>766</td><td>271545</td><td>39</td><td>FR</td><td>0</td><td>M</td><td>382976</td><td>11/11/2021</td><td> 6</td><td> 0</td><td> 4</td><td>A_no_medication    </td><td>A_no_medication    </td></tr>\n",
              "\t<tr><td> 979</td><td>767</td><td>272127</td><td>31</td><td>TR</td><td>0</td><td>M</td><td>383202</td><td>28/08/2021</td><td>98</td><td> 6</td><td>92</td><td>B_single_medication</td><td>C_comedication     </td></tr>\n",
              "\t<tr><td> 980</td><td>768</td><td>272745</td><td>15</td><td>MX</td><td>0</td><td>F</td><td>383586</td><td>19/09/2021</td><td>43</td><td>32</td><td> 0</td><td>B_single_medication</td><td>A_no_medication    </td></tr>\n",
              "\t<tr><td> 981</td><td>769</td><td>272985</td><td>23</td><td>FR</td><td>0</td><td>F</td><td>383662</td><td>18/10/2021</td><td> 2</td><td> 2</td><td> 4</td><td>A_no_medication    </td><td>A_no_medication    </td></tr>\n",
              "\t<tr><td> 982</td><td>770</td><td>273675</td><td>38</td><td>PT</td><td>1</td><td>F</td><td>383970</td><td>18/10/2021</td><td> 0</td><td> 0</td><td> 1</td><td>A_no_medication    </td><td>A_no_medication    </td></tr>\n",
              "\t<tr><td> 983</td><td>771</td><td>274869</td><td>22</td><td>PT</td><td>0</td><td>M</td><td>384455</td><td>29/11/2021</td><td>69</td><td>15</td><td> 0</td><td>B_single_medication</td><td>A_no_medication    </td></tr>\n",
              "\t<tr><td> 984</td><td>772</td><td>276699</td><td>31</td><td>ES</td><td>0</td><td>F</td><td>385216</td><td>26/09/2021</td><td> 6</td><td> 7</td><td>19</td><td>A_no_medication    </td><td>A_no_medication    </td></tr>\n",
              "\t<tr><td> 985</td><td>773</td><td>276927</td><td>27</td><td>IT</td><td>0</td><td>F</td><td>385300</td><td>12/09/2021</td><td>97</td><td> 1</td><td> 0</td><td>A_no_medication    </td><td>A_no_medication    </td></tr>\n",
              "\t<tr><td> 986</td><td>774</td><td>277785</td><td>19</td><td>PT</td><td>0</td><td>F</td><td>385739</td><td>01/10/2021</td><td> 2</td><td> 5</td><td> 3</td><td>A_no_medication    </td><td>A_no_medication    </td></tr>\n",
              "\t<tr><td> 987</td><td>775</td><td>278181</td><td>48</td><td>PT</td><td>1</td><td>F</td><td>385847</td><td>19/09/2021</td><td>32</td><td>21</td><td>25</td><td>A_no_medication    </td><td>A_no_medication    </td></tr>\n",
              "\t<tr><td> 988</td><td>776</td><td>280647</td><td>50</td><td>PL</td><td>0</td><td>F</td><td>386646</td><td>01/10/2021</td><td>51</td><td>18</td><td> 2</td><td>A_no_medication    </td><td>A_no_medication    </td></tr>\n",
              "\t<tr><td> 989</td><td>777</td><td>284667</td><td>43</td><td>FR</td><td>0</td><td>F</td><td>388625</td><td>26/10/2021</td><td>56</td><td>47</td><td>60</td><td>B_single_medication</td><td>B_single_medication</td></tr>\n",
              "\t<tr><td> 990</td><td>778</td><td>285267</td><td>21</td><td>AR</td><td>0</td><td>M</td><td>389133</td><td>27/10/2021</td><td>69</td><td>49</td><td>39</td><td>C_comedication     </td><td>A_no_medication    </td></tr>\n",
              "\t<tr><td> 991</td><td>779</td><td>285627</td><td>49</td><td>FR</td><td>0</td><td>M</td><td>389280</td><td>04/11/2021</td><td> 2</td><td> 0</td><td> 1</td><td>A_no_medication    </td><td>A_no_medication    </td></tr>\n",
              "\t<tr><td> 992</td><td>780</td><td>285777</td><td>28</td><td>FR</td><td>0</td><td>M</td><td>389380</td><td>27/12/2021</td><td> 1</td><td> 0</td><td> 5</td><td>A_no_medication    </td><td>A_no_medication    </td></tr>\n",
              "\t<tr><td> 993</td><td>781</td><td>287973</td><td>33</td><td>PT</td><td>0</td><td>F</td><td>390065</td><td>13/11/2021</td><td>28</td><td>29</td><td> 0</td><td>A_no_medication    </td><td>A_no_medication    </td></tr>\n",
              "\t<tr><td> 994</td><td>782</td><td>291231</td><td>25</td><td>FR</td><td>0</td><td>F</td><td>391706</td><td>25/11/2021</td><td>19</td><td> 1</td><td> 4</td><td>A_no_medication    </td><td>A_no_medication    </td></tr>\n",
              "\t<tr><td> 995</td><td>783</td><td>291441</td><td>22</td><td>FR</td><td>1</td><td>M</td><td>391855</td><td>27/11/2021</td><td> 7</td><td> 2</td><td> 1</td><td>A_no_medication    </td><td>A_no_medication    </td></tr>\n",
              "\t<tr><td> 996</td><td>784</td><td>292287</td><td>60</td><td>IT</td><td>0</td><td>M</td><td>392163</td><td>27/11/2021</td><td>14</td><td> 2</td><td> 4</td><td>C_comedication     </td><td>A_no_medication    </td></tr>\n",
              "\t<tr><td> 997</td><td>785</td><td>292737</td><td>25</td><td>FR</td><td>0</td><td>M</td><td>392249</td><td>19/12/2021</td><td> 4</td><td> 2</td><td> 2</td><td>A_no_medication    </td><td>A_no_medication    </td></tr>\n",
              "\t<tr><td> 998</td><td>786</td><td>297285</td><td>28</td><td>FR</td><td>1</td><td>M</td><td>394921</td><td>25/12/2021</td><td>65</td><td> 3</td><td> 7</td><td>A_no_medication    </td><td>A_no_medication    </td></tr>\n",
              "\t<tr><td> 999</td><td>787</td><td>302223</td><td>37</td><td>IT</td><td>1</td><td>F</td><td>   449</td><td>23/12/2021</td><td>86</td><td>62</td><td> 3</td><td>A_no_medication    </td><td>A_no_medication    </td></tr>\n",
              "\t<tr><td>1000</td><td>788</td><td>304299</td><td>23</td><td>IT</td><td>1</td><td>F</td><td>  1096</td><td>29/12/2021</td><td>96</td><td>35</td><td>12</td><td>A_no_medication    </td><td>A_no_medication    </td></tr>\n",
              "</tbody>\n",
              "</table>\n"
            ],
            "text/markdown": "\nA data.frame: 1000 × 14\n\n| X &lt;int&gt; | user_id &lt;int&gt; | member_id &lt;int&gt; | age &lt;int&gt; | country &lt;chr&gt; | asthma &lt;int&gt; | sex &lt;chr&gt; | symptoms_id &lt;int&gt; | date &lt;chr&gt; | vas_nose &lt;int&gt; | vas_eye &lt;int&gt; | vas_asthma &lt;int&gt; | rhinitis_medication &lt;chr&gt; | asthma_medication &lt;chr&gt; |\n|---|---|---|---|---|---|---|---|---|---|---|---|---|---|\n|  1 |  1 |   48 | 56 | NL | 0 | M | 111007 | 08/04/2016 | 77 | 81 | NA | B_single_medication | A_no_medication     |\n|  2 |  2 | 1026 | 19 | GB | 1 | M | 290424 | 06/10/2015 | 59 | 38 | NA | C_comedication      | A_no_medication     |\n|  3 |  3 | 1638 | 47 | FR | 0 | F | 368522 | 18/02/2019 | 52 |  5 |  0 | A_no_medication     | A_no_medication     |\n|  4 |  3 | 1638 | 47 | FR | 0 | F | 367628 | 20/11/2015 |  0 |  0 |  6 | A_no_medication     | A_no_medication     |\n|  5 |  3 | 1638 | 47 | FR | 0 | F | 367798 | 17/09/2016 |  8 |  0 |  2 | A_no_medication     | A_no_medication     |\n|  6 |  4 | 2064 | 51 | FR | 1 | F | 393432 | 25/12/2015 | 40 | 25 | NA | A_no_medication     | A_no_medication     |\n|  7 |  5 | 2076 | 23 | GB | 1 | F | 393928 | 26/12/2015 |  3 |  3 | NA | A_no_medication     | A_no_medication     |\n|  8 |  5 | 2076 | 23 | GB | 1 | F | 394299 | 21/01/2017 |  9 |  0 |  0 | A_no_medication     | A_no_medication     |\n|  9 |  5 | 2076 | 23 | GB | 1 | F | 394107 | 02/07/2016 | 15 |  0 |  0 | A_no_medication     | A_no_medication     |\n| 10 |  6 | 2082 | 72 | PL | 0 | F | 394940 | 12/01/2016 | 21 | 24 | NA | A_no_medication     | A_no_medication     |\n| 11 |  7 | 3138 | 67 | DK | 0 | F |  16242 | 08/05/2016 | 18 | 31 |  8 | A_no_medication     | B_single_medication |\n| 12 |  8 | 3192 | 32 | IT | 1 | F |  16996 | 01/08/2017 |  0 |  1 |  0 | A_no_medication     | A_no_medication     |\n| 13 |  8 | 3192 | 32 | IT | 1 | F |  17030 | 14/09/2017 |  0 |  0 |  0 | A_no_medication     | A_no_medication     |\n| 14 |  8 | 3192 | 32 | IT | 1 | F |  16721 | 28/10/2016 |  2 |  0 |  0 | A_no_medication     | A_no_medication     |\n| 15 |  9 | 3954 | 38 | BE | 0 | M |  25433 | 09/08/2016 |  9 | 10 | 16 | C_comedication      | A_no_medication     |\n| 16 | 10 | 4206 | 32 | IT | 1 | F |  28641 | 19/03/2016 |  1 |  0 |  1 | A_no_medication     | A_no_medication     |\n| 17 | 10 | 4206 | 32 | IT | 1 | F |  28649 | 27/03/2016 |  0 |  4 | NA | A_no_medication     | A_no_medication     |\n| 18 | 11 | 4458 | 40 | IT | 0 | F |  32663 | 15/09/2016 |  8 |  3 |  0 | B_single_medication | A_no_medication     |\n| 19 | 11 | 4458 | 40 | IT | 0 | F |  33290 | 14/06/2018 | 14 |  9 |  1 | A_no_medication     | A_no_medication     |\n| 20 | 11 | 4458 | 40 | IT | 0 | F |  32873 | 13/04/2017 | 33 | 19 |  0 | C_comedication      | A_no_medication     |\n| 21 | 12 | 4650 | 21 | DE | 0 | F |  41087 | 06/06/2016 | 24 |  1 |  0 | C_comedication      | A_no_medication     |\n| 22 | 13 | 4890 | 36 | ES | 0 | F |  46851 | 01/04/2016 | 19 |  1 | NA | B_single_medication | A_no_medication     |\n| 23 | 14 | 6000 | 37 | PL | 1 | F |  62618 | 28/04/2019 | 51 | 53 | 35 | C_comedication      | C_comedication      |\n| 24 | 14 | 6000 | 37 | PL | 1 | F |  62772 | 26/05/2021 | 25 | 61 | 14 | C_comedication      | C_comedication      |\n| 25 | 14 | 6000 | 37 | PL | 1 | F |  62529 | 03/05/2016 | 75 | 64 | 49 | C_comedication      | C_comedication      |\n| 26 | 14 | 6000 | 37 | PL | 1 | F |  62635 | 25/05/2019 | 13 |  7 |  6 | B_single_medication | B_single_medication |\n| 27 | 14 | 6000 | 37 | PL | 1 | F |  62708 | 19/10/2019 | 71 | 18 | 41 | C_comedication      | C_comedication      |\n| 28 | 15 | 6936 | 23 | DE | 0 | F |  81783 | 04/05/2016 | 17 |  9 | NA | B_single_medication | A_no_medication     |\n| 29 | 15 | 6936 | 23 | DE | 0 | F |  81777 | 14/04/2016 | 35 |  0 | NA | A_no_medication     | A_no_medication     |\n| 30 | 16 | 6942 | 51 | PL | 1 | F |  81834 | 29/04/2016 |  0 |  3 |  0 | C_comedication      | A_no_medication     |\n| ⋮ | ⋮ | ⋮ | ⋮ | ⋮ | ⋮ | ⋮ | ⋮ | ⋮ | ⋮ | ⋮ | ⋮ | ⋮ | ⋮ |\n|  971 | 760 | 263985 | 33 | FR | 0 | F | 377802 | 01/10/2021 | 52 |  9 | 19 | B_single_medication | B_single_medication |\n|  972 | 761 | 264003 | 48 | FR | 1 | F | 377929 | 07/10/2021 | 14 | 24 |  5 | B_single_medication | A_no_medication     |\n|  973 | 761 | 264003 | 48 | FR | 1 | F | 377895 | 27/07/2021 | 11 |  6 |  3 | A_no_medication     | A_no_medication     |\n|  974 | 762 | 264081 | 22 | BR | 1 | M | 378257 | 11/08/2021 |  1 |  0 |  0 | B_single_medication | A_no_medication     |\n|  975 | 763 | 266259 | 49 | LT | 1 | M | 380224 | 22/07/2021 | 13 |  1 |  3 | B_single_medication | A_no_medication     |\n|  976 | 764 | 267471 | 29 | ES | 1 | M | 381235 | 31/10/2021 | 27 | 11 |  1 | B_single_medication | A_no_medication     |\n|  977 | 765 | 267519 | 18 | MX | 0 | M | 381312 | 02/08/2021 | 44 | 18 |  3 | C_comedication      | A_no_medication     |\n|  978 | 766 | 271545 | 39 | FR | 0 | M | 382976 | 11/11/2021 |  6 |  0 |  4 | A_no_medication     | A_no_medication     |\n|  979 | 767 | 272127 | 31 | TR | 0 | M | 383202 | 28/08/2021 | 98 |  6 | 92 | B_single_medication | C_comedication      |\n|  980 | 768 | 272745 | 15 | MX | 0 | F | 383586 | 19/09/2021 | 43 | 32 |  0 | B_single_medication | A_no_medication     |\n|  981 | 769 | 272985 | 23 | FR | 0 | F | 383662 | 18/10/2021 |  2 |  2 |  4 | A_no_medication     | A_no_medication     |\n|  982 | 770 | 273675 | 38 | PT | 1 | F | 383970 | 18/10/2021 |  0 |  0 |  1 | A_no_medication     | A_no_medication     |\n|  983 | 771 | 274869 | 22 | PT | 0 | M | 384455 | 29/11/2021 | 69 | 15 |  0 | B_single_medication | A_no_medication     |\n|  984 | 772 | 276699 | 31 | ES | 0 | F | 385216 | 26/09/2021 |  6 |  7 | 19 | A_no_medication     | A_no_medication     |\n|  985 | 773 | 276927 | 27 | IT | 0 | F | 385300 | 12/09/2021 | 97 |  1 |  0 | A_no_medication     | A_no_medication     |\n|  986 | 774 | 277785 | 19 | PT | 0 | F | 385739 | 01/10/2021 |  2 |  5 |  3 | A_no_medication     | A_no_medication     |\n|  987 | 775 | 278181 | 48 | PT | 1 | F | 385847 | 19/09/2021 | 32 | 21 | 25 | A_no_medication     | A_no_medication     |\n|  988 | 776 | 280647 | 50 | PL | 0 | F | 386646 | 01/10/2021 | 51 | 18 |  2 | A_no_medication     | A_no_medication     |\n|  989 | 777 | 284667 | 43 | FR | 0 | F | 388625 | 26/10/2021 | 56 | 47 | 60 | B_single_medication | B_single_medication |\n|  990 | 778 | 285267 | 21 | AR | 0 | M | 389133 | 27/10/2021 | 69 | 49 | 39 | C_comedication      | A_no_medication     |\n|  991 | 779 | 285627 | 49 | FR | 0 | M | 389280 | 04/11/2021 |  2 |  0 |  1 | A_no_medication     | A_no_medication     |\n|  992 | 780 | 285777 | 28 | FR | 0 | M | 389380 | 27/12/2021 |  1 |  0 |  5 | A_no_medication     | A_no_medication     |\n|  993 | 781 | 287973 | 33 | PT | 0 | F | 390065 | 13/11/2021 | 28 | 29 |  0 | A_no_medication     | A_no_medication     |\n|  994 | 782 | 291231 | 25 | FR | 0 | F | 391706 | 25/11/2021 | 19 |  1 |  4 | A_no_medication     | A_no_medication     |\n|  995 | 783 | 291441 | 22 | FR | 1 | M | 391855 | 27/11/2021 |  7 |  2 |  1 | A_no_medication     | A_no_medication     |\n|  996 | 784 | 292287 | 60 | IT | 0 | M | 392163 | 27/11/2021 | 14 |  2 |  4 | C_comedication      | A_no_medication     |\n|  997 | 785 | 292737 | 25 | FR | 0 | M | 392249 | 19/12/2021 |  4 |  2 |  2 | A_no_medication     | A_no_medication     |\n|  998 | 786 | 297285 | 28 | FR | 1 | M | 394921 | 25/12/2021 | 65 |  3 |  7 | A_no_medication     | A_no_medication     |\n|  999 | 787 | 302223 | 37 | IT | 1 | F |    449 | 23/12/2021 | 86 | 62 |  3 | A_no_medication     | A_no_medication     |\n| 1000 | 788 | 304299 | 23 | IT | 1 | F |   1096 | 29/12/2021 | 96 | 35 | 12 | A_no_medication     | A_no_medication     |\n\n",
            "text/latex": "A data.frame: 1000 × 14\n\\begin{tabular}{llllllllllllll}\n X & user\\_id & member\\_id & age & country & asthma & sex & symptoms\\_id & date & vas\\_nose & vas\\_eye & vas\\_asthma & rhinitis\\_medication & asthma\\_medication\\\\\n <int> & <int> & <int> & <int> & <chr> & <int> & <chr> & <int> & <chr> & <int> & <int> & <int> & <chr> & <chr>\\\\\n\\hline\n\t  1 &  1 &   48 & 56 & NL & 0 & M & 111007 & 08/04/2016 & 77 & 81 & NA & B\\_single\\_medication & A\\_no\\_medication    \\\\\n\t  2 &  2 & 1026 & 19 & GB & 1 & M & 290424 & 06/10/2015 & 59 & 38 & NA & C\\_comedication      & A\\_no\\_medication    \\\\\n\t  3 &  3 & 1638 & 47 & FR & 0 & F & 368522 & 18/02/2019 & 52 &  5 &  0 & A\\_no\\_medication     & A\\_no\\_medication    \\\\\n\t  4 &  3 & 1638 & 47 & FR & 0 & F & 367628 & 20/11/2015 &  0 &  0 &  6 & A\\_no\\_medication     & A\\_no\\_medication    \\\\\n\t  5 &  3 & 1638 & 47 & FR & 0 & F & 367798 & 17/09/2016 &  8 &  0 &  2 & A\\_no\\_medication     & A\\_no\\_medication    \\\\\n\t  6 &  4 & 2064 & 51 & FR & 1 & F & 393432 & 25/12/2015 & 40 & 25 & NA & A\\_no\\_medication     & A\\_no\\_medication    \\\\\n\t  7 &  5 & 2076 & 23 & GB & 1 & F & 393928 & 26/12/2015 &  3 &  3 & NA & A\\_no\\_medication     & A\\_no\\_medication    \\\\\n\t  8 &  5 & 2076 & 23 & GB & 1 & F & 394299 & 21/01/2017 &  9 &  0 &  0 & A\\_no\\_medication     & A\\_no\\_medication    \\\\\n\t  9 &  5 & 2076 & 23 & GB & 1 & F & 394107 & 02/07/2016 & 15 &  0 &  0 & A\\_no\\_medication     & A\\_no\\_medication    \\\\\n\t 10 &  6 & 2082 & 72 & PL & 0 & F & 394940 & 12/01/2016 & 21 & 24 & NA & A\\_no\\_medication     & A\\_no\\_medication    \\\\\n\t 11 &  7 & 3138 & 67 & DK & 0 & F &  16242 & 08/05/2016 & 18 & 31 &  8 & A\\_no\\_medication     & B\\_single\\_medication\\\\\n\t 12 &  8 & 3192 & 32 & IT & 1 & F &  16996 & 01/08/2017 &  0 &  1 &  0 & A\\_no\\_medication     & A\\_no\\_medication    \\\\\n\t 13 &  8 & 3192 & 32 & IT & 1 & F &  17030 & 14/09/2017 &  0 &  0 &  0 & A\\_no\\_medication     & A\\_no\\_medication    \\\\\n\t 14 &  8 & 3192 & 32 & IT & 1 & F &  16721 & 28/10/2016 &  2 &  0 &  0 & A\\_no\\_medication     & A\\_no\\_medication    \\\\\n\t 15 &  9 & 3954 & 38 & BE & 0 & M &  25433 & 09/08/2016 &  9 & 10 & 16 & C\\_comedication      & A\\_no\\_medication    \\\\\n\t 16 & 10 & 4206 & 32 & IT & 1 & F &  28641 & 19/03/2016 &  1 &  0 &  1 & A\\_no\\_medication     & A\\_no\\_medication    \\\\\n\t 17 & 10 & 4206 & 32 & IT & 1 & F &  28649 & 27/03/2016 &  0 &  4 & NA & A\\_no\\_medication     & A\\_no\\_medication    \\\\\n\t 18 & 11 & 4458 & 40 & IT & 0 & F &  32663 & 15/09/2016 &  8 &  3 &  0 & B\\_single\\_medication & A\\_no\\_medication    \\\\\n\t 19 & 11 & 4458 & 40 & IT & 0 & F &  33290 & 14/06/2018 & 14 &  9 &  1 & A\\_no\\_medication     & A\\_no\\_medication    \\\\\n\t 20 & 11 & 4458 & 40 & IT & 0 & F &  32873 & 13/04/2017 & 33 & 19 &  0 & C\\_comedication      & A\\_no\\_medication    \\\\\n\t 21 & 12 & 4650 & 21 & DE & 0 & F &  41087 & 06/06/2016 & 24 &  1 &  0 & C\\_comedication      & A\\_no\\_medication    \\\\\n\t 22 & 13 & 4890 & 36 & ES & 0 & F &  46851 & 01/04/2016 & 19 &  1 & NA & B\\_single\\_medication & A\\_no\\_medication    \\\\\n\t 23 & 14 & 6000 & 37 & PL & 1 & F &  62618 & 28/04/2019 & 51 & 53 & 35 & C\\_comedication      & C\\_comedication     \\\\\n\t 24 & 14 & 6000 & 37 & PL & 1 & F &  62772 & 26/05/2021 & 25 & 61 & 14 & C\\_comedication      & C\\_comedication     \\\\\n\t 25 & 14 & 6000 & 37 & PL & 1 & F &  62529 & 03/05/2016 & 75 & 64 & 49 & C\\_comedication      & C\\_comedication     \\\\\n\t 26 & 14 & 6000 & 37 & PL & 1 & F &  62635 & 25/05/2019 & 13 &  7 &  6 & B\\_single\\_medication & B\\_single\\_medication\\\\\n\t 27 & 14 & 6000 & 37 & PL & 1 & F &  62708 & 19/10/2019 & 71 & 18 & 41 & C\\_comedication      & C\\_comedication     \\\\\n\t 28 & 15 & 6936 & 23 & DE & 0 & F &  81783 & 04/05/2016 & 17 &  9 & NA & B\\_single\\_medication & A\\_no\\_medication    \\\\\n\t 29 & 15 & 6936 & 23 & DE & 0 & F &  81777 & 14/04/2016 & 35 &  0 & NA & A\\_no\\_medication     & A\\_no\\_medication    \\\\\n\t 30 & 16 & 6942 & 51 & PL & 1 & F &  81834 & 29/04/2016 &  0 &  3 &  0 & C\\_comedication      & A\\_no\\_medication    \\\\\n\t ⋮ & ⋮ & ⋮ & ⋮ & ⋮ & ⋮ & ⋮ & ⋮ & ⋮ & ⋮ & ⋮ & ⋮ & ⋮ & ⋮\\\\\n\t  971 & 760 & 263985 & 33 & FR & 0 & F & 377802 & 01/10/2021 & 52 &  9 & 19 & B\\_single\\_medication & B\\_single\\_medication\\\\\n\t  972 & 761 & 264003 & 48 & FR & 1 & F & 377929 & 07/10/2021 & 14 & 24 &  5 & B\\_single\\_medication & A\\_no\\_medication    \\\\\n\t  973 & 761 & 264003 & 48 & FR & 1 & F & 377895 & 27/07/2021 & 11 &  6 &  3 & A\\_no\\_medication     & A\\_no\\_medication    \\\\\n\t  974 & 762 & 264081 & 22 & BR & 1 & M & 378257 & 11/08/2021 &  1 &  0 &  0 & B\\_single\\_medication & A\\_no\\_medication    \\\\\n\t  975 & 763 & 266259 & 49 & LT & 1 & M & 380224 & 22/07/2021 & 13 &  1 &  3 & B\\_single\\_medication & A\\_no\\_medication    \\\\\n\t  976 & 764 & 267471 & 29 & ES & 1 & M & 381235 & 31/10/2021 & 27 & 11 &  1 & B\\_single\\_medication & A\\_no\\_medication    \\\\\n\t  977 & 765 & 267519 & 18 & MX & 0 & M & 381312 & 02/08/2021 & 44 & 18 &  3 & C\\_comedication      & A\\_no\\_medication    \\\\\n\t  978 & 766 & 271545 & 39 & FR & 0 & M & 382976 & 11/11/2021 &  6 &  0 &  4 & A\\_no\\_medication     & A\\_no\\_medication    \\\\\n\t  979 & 767 & 272127 & 31 & TR & 0 & M & 383202 & 28/08/2021 & 98 &  6 & 92 & B\\_single\\_medication & C\\_comedication     \\\\\n\t  980 & 768 & 272745 & 15 & MX & 0 & F & 383586 & 19/09/2021 & 43 & 32 &  0 & B\\_single\\_medication & A\\_no\\_medication    \\\\\n\t  981 & 769 & 272985 & 23 & FR & 0 & F & 383662 & 18/10/2021 &  2 &  2 &  4 & A\\_no\\_medication     & A\\_no\\_medication    \\\\\n\t  982 & 770 & 273675 & 38 & PT & 1 & F & 383970 & 18/10/2021 &  0 &  0 &  1 & A\\_no\\_medication     & A\\_no\\_medication    \\\\\n\t  983 & 771 & 274869 & 22 & PT & 0 & M & 384455 & 29/11/2021 & 69 & 15 &  0 & B\\_single\\_medication & A\\_no\\_medication    \\\\\n\t  984 & 772 & 276699 & 31 & ES & 0 & F & 385216 & 26/09/2021 &  6 &  7 & 19 & A\\_no\\_medication     & A\\_no\\_medication    \\\\\n\t  985 & 773 & 276927 & 27 & IT & 0 & F & 385300 & 12/09/2021 & 97 &  1 &  0 & A\\_no\\_medication     & A\\_no\\_medication    \\\\\n\t  986 & 774 & 277785 & 19 & PT & 0 & F & 385739 & 01/10/2021 &  2 &  5 &  3 & A\\_no\\_medication     & A\\_no\\_medication    \\\\\n\t  987 & 775 & 278181 & 48 & PT & 1 & F & 385847 & 19/09/2021 & 32 & 21 & 25 & A\\_no\\_medication     & A\\_no\\_medication    \\\\\n\t  988 & 776 & 280647 & 50 & PL & 0 & F & 386646 & 01/10/2021 & 51 & 18 &  2 & A\\_no\\_medication     & A\\_no\\_medication    \\\\\n\t  989 & 777 & 284667 & 43 & FR & 0 & F & 388625 & 26/10/2021 & 56 & 47 & 60 & B\\_single\\_medication & B\\_single\\_medication\\\\\n\t  990 & 778 & 285267 & 21 & AR & 0 & M & 389133 & 27/10/2021 & 69 & 49 & 39 & C\\_comedication      & A\\_no\\_medication    \\\\\n\t  991 & 779 & 285627 & 49 & FR & 0 & M & 389280 & 04/11/2021 &  2 &  0 &  1 & A\\_no\\_medication     & A\\_no\\_medication    \\\\\n\t  992 & 780 & 285777 & 28 & FR & 0 & M & 389380 & 27/12/2021 &  1 &  0 &  5 & A\\_no\\_medication     & A\\_no\\_medication    \\\\\n\t  993 & 781 & 287973 & 33 & PT & 0 & F & 390065 & 13/11/2021 & 28 & 29 &  0 & A\\_no\\_medication     & A\\_no\\_medication    \\\\\n\t  994 & 782 & 291231 & 25 & FR & 0 & F & 391706 & 25/11/2021 & 19 &  1 &  4 & A\\_no\\_medication     & A\\_no\\_medication    \\\\\n\t  995 & 783 & 291441 & 22 & FR & 1 & M & 391855 & 27/11/2021 &  7 &  2 &  1 & A\\_no\\_medication     & A\\_no\\_medication    \\\\\n\t  996 & 784 & 292287 & 60 & IT & 0 & M & 392163 & 27/11/2021 & 14 &  2 &  4 & C\\_comedication      & A\\_no\\_medication    \\\\\n\t  997 & 785 & 292737 & 25 & FR & 0 & M & 392249 & 19/12/2021 &  4 &  2 &  2 & A\\_no\\_medication     & A\\_no\\_medication    \\\\\n\t  998 & 786 & 297285 & 28 & FR & 1 & M & 394921 & 25/12/2021 & 65 &  3 &  7 & A\\_no\\_medication     & A\\_no\\_medication    \\\\\n\t  999 & 787 & 302223 & 37 & IT & 1 & F &    449 & 23/12/2021 & 86 & 62 &  3 & A\\_no\\_medication     & A\\_no\\_medication    \\\\\n\t 1000 & 788 & 304299 & 23 & IT & 1 & F &   1096 & 29/12/2021 & 96 & 35 & 12 & A\\_no\\_medication     & A\\_no\\_medication    \\\\\n\\end{tabular}\n",
            "text/plain": [
              "     X    user_id member_id age country asthma sex symptoms_id date      \n",
              "1     1    1        48      56  NL      0      M   111007      08/04/2016\n",
              "2     2    2      1026      19  GB      1      M   290424      06/10/2015\n",
              "3     3    3      1638      47  FR      0      F   368522      18/02/2019\n",
              "4     4    3      1638      47  FR      0      F   367628      20/11/2015\n",
              "5     5    3      1638      47  FR      0      F   367798      17/09/2016\n",
              "6     6    4      2064      51  FR      1      F   393432      25/12/2015\n",
              "7     7    5      2076      23  GB      1      F   393928      26/12/2015\n",
              "8     8    5      2076      23  GB      1      F   394299      21/01/2017\n",
              "9     9    5      2076      23  GB      1      F   394107      02/07/2016\n",
              "10   10    6      2082      72  PL      0      F   394940      12/01/2016\n",
              "11   11    7      3138      67  DK      0      F    16242      08/05/2016\n",
              "12   12    8      3192      32  IT      1      F    16996      01/08/2017\n",
              "13   13    8      3192      32  IT      1      F    17030      14/09/2017\n",
              "14   14    8      3192      32  IT      1      F    16721      28/10/2016\n",
              "15   15    9      3954      38  BE      0      M    25433      09/08/2016\n",
              "16   16   10      4206      32  IT      1      F    28641      19/03/2016\n",
              "17   17   10      4206      32  IT      1      F    28649      27/03/2016\n",
              "18   18   11      4458      40  IT      0      F    32663      15/09/2016\n",
              "19   19   11      4458      40  IT      0      F    33290      14/06/2018\n",
              "20   20   11      4458      40  IT      0      F    32873      13/04/2017\n",
              "21   21   12      4650      21  DE      0      F    41087      06/06/2016\n",
              "22   22   13      4890      36  ES      0      F    46851      01/04/2016\n",
              "23   23   14      6000      37  PL      1      F    62618      28/04/2019\n",
              "24   24   14      6000      37  PL      1      F    62772      26/05/2021\n",
              "25   25   14      6000      37  PL      1      F    62529      03/05/2016\n",
              "26   26   14      6000      37  PL      1      F    62635      25/05/2019\n",
              "27   27   14      6000      37  PL      1      F    62708      19/10/2019\n",
              "28   28   15      6936      23  DE      0      F    81783      04/05/2016\n",
              "29   29   15      6936      23  DE      0      F    81777      14/04/2016\n",
              "30   30   16      6942      51  PL      1      F    81834      29/04/2016\n",
              "⋮    ⋮    ⋮       ⋮         ⋮   ⋮       ⋮      ⋮   ⋮           ⋮         \n",
              "971   971 760     263985    33  FR      0      F   377802      01/10/2021\n",
              "972   972 761     264003    48  FR      1      F   377929      07/10/2021\n",
              "973   973 761     264003    48  FR      1      F   377895      27/07/2021\n",
              "974   974 762     264081    22  BR      1      M   378257      11/08/2021\n",
              "975   975 763     266259    49  LT      1      M   380224      22/07/2021\n",
              "976   976 764     267471    29  ES      1      M   381235      31/10/2021\n",
              "977   977 765     267519    18  MX      0      M   381312      02/08/2021\n",
              "978   978 766     271545    39  FR      0      M   382976      11/11/2021\n",
              "979   979 767     272127    31  TR      0      M   383202      28/08/2021\n",
              "980   980 768     272745    15  MX      0      F   383586      19/09/2021\n",
              "981   981 769     272985    23  FR      0      F   383662      18/10/2021\n",
              "982   982 770     273675    38  PT      1      F   383970      18/10/2021\n",
              "983   983 771     274869    22  PT      0      M   384455      29/11/2021\n",
              "984   984 772     276699    31  ES      0      F   385216      26/09/2021\n",
              "985   985 773     276927    27  IT      0      F   385300      12/09/2021\n",
              "986   986 774     277785    19  PT      0      F   385739      01/10/2021\n",
              "987   987 775     278181    48  PT      1      F   385847      19/09/2021\n",
              "988   988 776     280647    50  PL      0      F   386646      01/10/2021\n",
              "989   989 777     284667    43  FR      0      F   388625      26/10/2021\n",
              "990   990 778     285267    21  AR      0      M   389133      27/10/2021\n",
              "991   991 779     285627    49  FR      0      M   389280      04/11/2021\n",
              "992   992 780     285777    28  FR      0      M   389380      27/12/2021\n",
              "993   993 781     287973    33  PT      0      F   390065      13/11/2021\n",
              "994   994 782     291231    25  FR      0      F   391706      25/11/2021\n",
              "995   995 783     291441    22  FR      1      M   391855      27/11/2021\n",
              "996   996 784     292287    60  IT      0      M   392163      27/11/2021\n",
              "997   997 785     292737    25  FR      0      M   392249      19/12/2021\n",
              "998   998 786     297285    28  FR      1      M   394921      25/12/2021\n",
              "999   999 787     302223    37  IT      1      F      449      23/12/2021\n",
              "1000 1000 788     304299    23  IT      1      F     1096      29/12/2021\n",
              "     vas_nose vas_eye vas_asthma rhinitis_medication asthma_medication  \n",
              "1    77       81      NA         B_single_medication A_no_medication    \n",
              "2    59       38      NA         C_comedication      A_no_medication    \n",
              "3    52        5       0         A_no_medication     A_no_medication    \n",
              "4     0        0       6         A_no_medication     A_no_medication    \n",
              "5     8        0       2         A_no_medication     A_no_medication    \n",
              "6    40       25      NA         A_no_medication     A_no_medication    \n",
              "7     3        3      NA         A_no_medication     A_no_medication    \n",
              "8     9        0       0         A_no_medication     A_no_medication    \n",
              "9    15        0       0         A_no_medication     A_no_medication    \n",
              "10   21       24      NA         A_no_medication     A_no_medication    \n",
              "11   18       31       8         A_no_medication     B_single_medication\n",
              "12    0        1       0         A_no_medication     A_no_medication    \n",
              "13    0        0       0         A_no_medication     A_no_medication    \n",
              "14    2        0       0         A_no_medication     A_no_medication    \n",
              "15    9       10      16         C_comedication      A_no_medication    \n",
              "16    1        0       1         A_no_medication     A_no_medication    \n",
              "17    0        4      NA         A_no_medication     A_no_medication    \n",
              "18    8        3       0         B_single_medication A_no_medication    \n",
              "19   14        9       1         A_no_medication     A_no_medication    \n",
              "20   33       19       0         C_comedication      A_no_medication    \n",
              "21   24        1       0         C_comedication      A_no_medication    \n",
              "22   19        1      NA         B_single_medication A_no_medication    \n",
              "23   51       53      35         C_comedication      C_comedication     \n",
              "24   25       61      14         C_comedication      C_comedication     \n",
              "25   75       64      49         C_comedication      C_comedication     \n",
              "26   13        7       6         B_single_medication B_single_medication\n",
              "27   71       18      41         C_comedication      C_comedication     \n",
              "28   17        9      NA         B_single_medication A_no_medication    \n",
              "29   35        0      NA         A_no_medication     A_no_medication    \n",
              "30    0        3       0         C_comedication      A_no_medication    \n",
              "⋮    ⋮        ⋮       ⋮          ⋮                   ⋮                  \n",
              "971  52        9      19         B_single_medication B_single_medication\n",
              "972  14       24       5         B_single_medication A_no_medication    \n",
              "973  11        6       3         A_no_medication     A_no_medication    \n",
              "974   1        0       0         B_single_medication A_no_medication    \n",
              "975  13        1       3         B_single_medication A_no_medication    \n",
              "976  27       11       1         B_single_medication A_no_medication    \n",
              "977  44       18       3         C_comedication      A_no_medication    \n",
              "978   6        0       4         A_no_medication     A_no_medication    \n",
              "979  98        6      92         B_single_medication C_comedication     \n",
              "980  43       32       0         B_single_medication A_no_medication    \n",
              "981   2        2       4         A_no_medication     A_no_medication    \n",
              "982   0        0       1         A_no_medication     A_no_medication    \n",
              "983  69       15       0         B_single_medication A_no_medication    \n",
              "984   6        7      19         A_no_medication     A_no_medication    \n",
              "985  97        1       0         A_no_medication     A_no_medication    \n",
              "986   2        5       3         A_no_medication     A_no_medication    \n",
              "987  32       21      25         A_no_medication     A_no_medication    \n",
              "988  51       18       2         A_no_medication     A_no_medication    \n",
              "989  56       47      60         B_single_medication B_single_medication\n",
              "990  69       49      39         C_comedication      A_no_medication    \n",
              "991   2        0       1         A_no_medication     A_no_medication    \n",
              "992   1        0       5         A_no_medication     A_no_medication    \n",
              "993  28       29       0         A_no_medication     A_no_medication    \n",
              "994  19        1       4         A_no_medication     A_no_medication    \n",
              "995   7        2       1         A_no_medication     A_no_medication    \n",
              "996  14        2       4         C_comedication      A_no_medication    \n",
              "997   4        2       2         A_no_medication     A_no_medication    \n",
              "998  65        3       7         A_no_medication     A_no_medication    \n",
              "999  86       62       3         A_no_medication     A_no_medication    \n",
              "1000 96       35      12         A_no_medication     A_no_medication    "
            ]
          },
          "metadata": {}
        }
      ]
    },
    {
      "cell_type": "code",
      "source": [
        "sm_df <- read.csv(file = symptoms_medicationDB)"
      ],
      "metadata": {
        "id": "MwFssJp3oWKa"
      },
      "execution_count": 95,
      "outputs": []
    },
    {
      "cell_type": "code",
      "source": [
        "su_df <- read.csv(file = sample_usersDB)"
      ],
      "metadata": {
        "id": "8tFJcETvoZkE"
      },
      "execution_count": 96,
      "outputs": []
    },
    {
      "cell_type": "code",
      "source": [
        "library(dplyr)"
      ],
      "metadata": {
        "id": "qrpAZK40kFsB"
      },
      "execution_count": 97,
      "outputs": []
    },
    {
      "cell_type": "code",
      "source": [
        "# 1.1\n",
        "n_distinct(ma_df$user_id)"
      ],
      "metadata": {
        "colab": {
          "base_uri": "https://localhost:8080/",
          "height": 34
        },
        "id": "nheDiu37oiy3",
        "outputId": "f87fb07c-e806-4b3a-b030-813da0983f5d"
      },
      "execution_count": 98,
      "outputs": [
        {
          "output_type": "display_data",
          "data": {
            "text/html": [
              "788"
            ],
            "text/markdown": "788",
            "text/latex": "788",
            "text/plain": [
              "[1] 788"
            ]
          },
          "metadata": {}
        }
      ]
    },
    {
      "cell_type": "code",
      "source": [
        "# 1.1. Quantos utilizadores únicos existem em cada uma das bases de dados?\n",
        "\n",
        "n_distinct(sm_df$member_id)"
      ],
      "metadata": {
        "colab": {
          "base_uri": "https://localhost:8080/",
          "height": 34
        },
        "id": "Ng-NOmPsnUz9",
        "outputId": "9d51f2c6-5f76-4c35-d26d-0e751af836eb"
      },
      "execution_count": 99,
      "outputs": [
        {
          "output_type": "display_data",
          "data": {
            "text/html": [
              "788"
            ],
            "text/markdown": "788",
            "text/latex": "788",
            "text/plain": [
              "[1] 788"
            ]
          },
          "metadata": {}
        }
      ]
    },
    {
      "cell_type": "code",
      "source": [
        "# 1.1\n",
        "n_distinct(su_df$user_id)"
      ],
      "metadata": {
        "colab": {
          "base_uri": "https://localhost:8080/",
          "height": 34
        },
        "id": "zPU0nEnsi5uU",
        "outputId": "9a406667-6eb2-4f70-ffbf-aaf20a5ab517"
      },
      "execution_count": 101,
      "outputs": [
        {
          "output_type": "display_data",
          "data": {
            "text/html": [
              "788"
            ],
            "text/markdown": "788",
            "text/latex": "788",
            "text/plain": [
              "[1] 788"
            ]
          },
          "metadata": {}
        }
      ]
    },
    {
      "cell_type": "code",
      "source": [
        "# 1.2. Quantos registos distintos de sintomas existem?\n",
        "\n",
        "n_distinct(sm_df$symptoms_id)"
      ],
      "metadata": {
        "colab": {
          "base_uri": "https://localhost:8080/",
          "height": 34
        },
        "id": "HLHB5xNVlwpF",
        "outputId": "eb734560-d5a8-4aa0-b3d2-e784538ad00e"
      },
      "execution_count": 102,
      "outputs": [
        {
          "output_type": "display_data",
          "data": {
            "text/html": [
              "1000"
            ],
            "text/markdown": "1000",
            "text/latex": "1000",
            "text/plain": [
              "[1] 1000"
            ]
          },
          "metadata": {}
        }
      ]
    },
    {
      "cell_type": "code",
      "source": [
        "# 1.3. Una as duas bases de dados tendo como referência a variável que considerar mais adequada. Grave a união destas bases de dados num novo objeto intitulado “mask_air”. Por fim, guarde este objeto no computador, em formato .csv, com o nome “mask_air.csv”.\n",
        "\n",
        "mask_air = left_join(su_df, sm_df, by = 'member_id')"
      ],
      "metadata": {
        "id": "wth79RFsmwIC"
      },
      "execution_count": 103,
      "outputs": []
    },
    {
      "cell_type": "code",
      "source": [
        "mask_air2 = full_join(su_df, sm_df, by = 'member_id', all = true)"
      ],
      "metadata": {
        "id": "S71hPi7ZsZIS"
      },
      "execution_count": 104,
      "outputs": []
    },
    {
      "cell_type": "code",
      "source": [
        "mask_air2"
      ],
      "metadata": {
        "colab": {
          "base_uri": "https://localhost:8080/",
          "height": 1000
        },
        "id": "A81iWkdhw0GR",
        "outputId": "b0378c72-4869-4bc8-88a0-665d3d960a48"
      },
      "execution_count": 105,
      "outputs": [
        {
          "output_type": "display_data",
          "data": {
            "text/html": [
              "<table class=\"dataframe\">\n",
              "<caption>A data.frame: 1000 × 13</caption>\n",
              "<thead>\n",
              "\t<tr><th scope=col>user_id</th><th scope=col>member_id</th><th scope=col>age</th><th scope=col>country</th><th scope=col>asthma</th><th scope=col>sex</th><th scope=col>symptoms_id</th><th scope=col>date</th><th scope=col>vas_nose</th><th scope=col>vas_eye</th><th scope=col>vas_asthma</th><th scope=col>rhinitis_medication</th><th scope=col>asthma_medication</th></tr>\n",
              "\t<tr><th scope=col>&lt;int&gt;</th><th scope=col>&lt;int&gt;</th><th scope=col>&lt;int&gt;</th><th scope=col>&lt;chr&gt;</th><th scope=col>&lt;int&gt;</th><th scope=col>&lt;chr&gt;</th><th scope=col>&lt;int&gt;</th><th scope=col>&lt;chr&gt;</th><th scope=col>&lt;int&gt;</th><th scope=col>&lt;int&gt;</th><th scope=col>&lt;int&gt;</th><th scope=col>&lt;chr&gt;</th><th scope=col>&lt;chr&gt;</th></tr>\n",
              "</thead>\n",
              "<tbody>\n",
              "\t<tr><td> 1</td><td>  48</td><td>56</td><td>NL</td><td>0</td><td>M</td><td>111007</td><td>08/04/2016</td><td>77</td><td>81</td><td>NA</td><td>B_single_medication</td><td>A_no_medication    </td></tr>\n",
              "\t<tr><td> 2</td><td>1026</td><td>19</td><td>GB</td><td>1</td><td>M</td><td>290424</td><td>06/10/2015</td><td>59</td><td>38</td><td>NA</td><td>C_comedication     </td><td>A_no_medication    </td></tr>\n",
              "\t<tr><td> 3</td><td>1638</td><td>47</td><td>FR</td><td>0</td><td>F</td><td>368522</td><td>18/02/2019</td><td>52</td><td> 5</td><td> 0</td><td>A_no_medication    </td><td>A_no_medication    </td></tr>\n",
              "\t<tr><td> 3</td><td>1638</td><td>47</td><td>FR</td><td>0</td><td>F</td><td>367628</td><td>20/11/2015</td><td> 0</td><td> 0</td><td> 6</td><td>A_no_medication    </td><td>A_no_medication    </td></tr>\n",
              "\t<tr><td> 3</td><td>1638</td><td>47</td><td>FR</td><td>0</td><td>F</td><td>367798</td><td>17/09/2016</td><td> 8</td><td> 0</td><td> 2</td><td>A_no_medication    </td><td>A_no_medication    </td></tr>\n",
              "\t<tr><td> 4</td><td>2064</td><td>51</td><td>FR</td><td>1</td><td>F</td><td>393432</td><td>25/12/2015</td><td>40</td><td>25</td><td>NA</td><td>A_no_medication    </td><td>A_no_medication    </td></tr>\n",
              "\t<tr><td> 5</td><td>2076</td><td>23</td><td>GB</td><td>1</td><td>F</td><td>393928</td><td>26/12/2015</td><td> 3</td><td> 3</td><td>NA</td><td>A_no_medication    </td><td>A_no_medication    </td></tr>\n",
              "\t<tr><td> 5</td><td>2076</td><td>23</td><td>GB</td><td>1</td><td>F</td><td>394299</td><td>21/01/2017</td><td> 9</td><td> 0</td><td> 0</td><td>A_no_medication    </td><td>A_no_medication    </td></tr>\n",
              "\t<tr><td> 5</td><td>2076</td><td>23</td><td>GB</td><td>1</td><td>F</td><td>394107</td><td>02/07/2016</td><td>15</td><td> 0</td><td> 0</td><td>A_no_medication    </td><td>A_no_medication    </td></tr>\n",
              "\t<tr><td> 6</td><td>2082</td><td>72</td><td>PL</td><td>0</td><td>F</td><td>394940</td><td>12/01/2016</td><td>21</td><td>24</td><td>NA</td><td>A_no_medication    </td><td>A_no_medication    </td></tr>\n",
              "\t<tr><td> 7</td><td>3138</td><td>67</td><td>DK</td><td>0</td><td>F</td><td> 16242</td><td>08/05/2016</td><td>18</td><td>31</td><td> 8</td><td>A_no_medication    </td><td>B_single_medication</td></tr>\n",
              "\t<tr><td> 8</td><td>3192</td><td>32</td><td>IT</td><td>1</td><td>F</td><td> 16996</td><td>01/08/2017</td><td> 0</td><td> 1</td><td> 0</td><td>A_no_medication    </td><td>A_no_medication    </td></tr>\n",
              "\t<tr><td> 8</td><td>3192</td><td>32</td><td>IT</td><td>1</td><td>F</td><td> 17030</td><td>14/09/2017</td><td> 0</td><td> 0</td><td> 0</td><td>A_no_medication    </td><td>A_no_medication    </td></tr>\n",
              "\t<tr><td> 8</td><td>3192</td><td>32</td><td>IT</td><td>1</td><td>F</td><td> 16721</td><td>28/10/2016</td><td> 2</td><td> 0</td><td> 0</td><td>A_no_medication    </td><td>A_no_medication    </td></tr>\n",
              "\t<tr><td> 9</td><td>3954</td><td>38</td><td>BE</td><td>0</td><td>M</td><td> 25433</td><td>09/08/2016</td><td> 9</td><td>10</td><td>16</td><td>C_comedication     </td><td>A_no_medication    </td></tr>\n",
              "\t<tr><td>10</td><td>4206</td><td>32</td><td>IT</td><td>1</td><td>F</td><td> 28641</td><td>19/03/2016</td><td> 1</td><td> 0</td><td> 1</td><td>A_no_medication    </td><td>A_no_medication    </td></tr>\n",
              "\t<tr><td>10</td><td>4206</td><td>32</td><td>IT</td><td>1</td><td>F</td><td> 28649</td><td>27/03/2016</td><td> 0</td><td> 4</td><td>NA</td><td>A_no_medication    </td><td>A_no_medication    </td></tr>\n",
              "\t<tr><td>11</td><td>4458</td><td>40</td><td>IT</td><td>0</td><td>F</td><td> 32663</td><td>15/09/2016</td><td> 8</td><td> 3</td><td> 0</td><td>B_single_medication</td><td>A_no_medication    </td></tr>\n",
              "\t<tr><td>11</td><td>4458</td><td>40</td><td>IT</td><td>0</td><td>F</td><td> 33290</td><td>14/06/2018</td><td>14</td><td> 9</td><td> 1</td><td>A_no_medication    </td><td>A_no_medication    </td></tr>\n",
              "\t<tr><td>11</td><td>4458</td><td>40</td><td>IT</td><td>0</td><td>F</td><td> 32873</td><td>13/04/2017</td><td>33</td><td>19</td><td> 0</td><td>C_comedication     </td><td>A_no_medication    </td></tr>\n",
              "\t<tr><td>12</td><td>4650</td><td>21</td><td>DE</td><td>0</td><td>F</td><td> 41087</td><td>06/06/2016</td><td>24</td><td> 1</td><td> 0</td><td>C_comedication     </td><td>A_no_medication    </td></tr>\n",
              "\t<tr><td>13</td><td>4890</td><td>36</td><td>ES</td><td>0</td><td>F</td><td> 46851</td><td>01/04/2016</td><td>19</td><td> 1</td><td>NA</td><td>B_single_medication</td><td>A_no_medication    </td></tr>\n",
              "\t<tr><td>14</td><td>6000</td><td>37</td><td>PL</td><td>1</td><td>F</td><td> 62618</td><td>28/04/2019</td><td>51</td><td>53</td><td>35</td><td>C_comedication     </td><td>C_comedication     </td></tr>\n",
              "\t<tr><td>14</td><td>6000</td><td>37</td><td>PL</td><td>1</td><td>F</td><td> 62772</td><td>26/05/2021</td><td>25</td><td>61</td><td>14</td><td>C_comedication     </td><td>C_comedication     </td></tr>\n",
              "\t<tr><td>14</td><td>6000</td><td>37</td><td>PL</td><td>1</td><td>F</td><td> 62529</td><td>03/05/2016</td><td>75</td><td>64</td><td>49</td><td>C_comedication     </td><td>C_comedication     </td></tr>\n",
              "\t<tr><td>14</td><td>6000</td><td>37</td><td>PL</td><td>1</td><td>F</td><td> 62635</td><td>25/05/2019</td><td>13</td><td> 7</td><td> 6</td><td>B_single_medication</td><td>B_single_medication</td></tr>\n",
              "\t<tr><td>14</td><td>6000</td><td>37</td><td>PL</td><td>1</td><td>F</td><td> 62708</td><td>19/10/2019</td><td>71</td><td>18</td><td>41</td><td>C_comedication     </td><td>C_comedication     </td></tr>\n",
              "\t<tr><td>15</td><td>6936</td><td>23</td><td>DE</td><td>0</td><td>F</td><td> 81783</td><td>04/05/2016</td><td>17</td><td> 9</td><td>NA</td><td>B_single_medication</td><td>A_no_medication    </td></tr>\n",
              "\t<tr><td>15</td><td>6936</td><td>23</td><td>DE</td><td>0</td><td>F</td><td> 81777</td><td>14/04/2016</td><td>35</td><td> 0</td><td>NA</td><td>A_no_medication    </td><td>A_no_medication    </td></tr>\n",
              "\t<tr><td>16</td><td>6942</td><td>51</td><td>PL</td><td>1</td><td>F</td><td> 81834</td><td>29/04/2016</td><td> 0</td><td> 3</td><td> 0</td><td>C_comedication     </td><td>A_no_medication    </td></tr>\n",
              "\t<tr><td>⋮</td><td>⋮</td><td>⋮</td><td>⋮</td><td>⋮</td><td>⋮</td><td>⋮</td><td>⋮</td><td>⋮</td><td>⋮</td><td>⋮</td><td>⋮</td><td>⋮</td></tr>\n",
              "\t<tr><td>760</td><td>263985</td><td>33</td><td>FR</td><td>0</td><td>F</td><td>377802</td><td>01/10/2021</td><td>52</td><td> 9</td><td>19</td><td>B_single_medication</td><td>B_single_medication</td></tr>\n",
              "\t<tr><td>761</td><td>264003</td><td>48</td><td>FR</td><td>1</td><td>F</td><td>377929</td><td>07/10/2021</td><td>14</td><td>24</td><td> 5</td><td>B_single_medication</td><td>A_no_medication    </td></tr>\n",
              "\t<tr><td>761</td><td>264003</td><td>48</td><td>FR</td><td>1</td><td>F</td><td>377895</td><td>27/07/2021</td><td>11</td><td> 6</td><td> 3</td><td>A_no_medication    </td><td>A_no_medication    </td></tr>\n",
              "\t<tr><td>762</td><td>264081</td><td>22</td><td>BR</td><td>1</td><td>M</td><td>378257</td><td>11/08/2021</td><td> 1</td><td> 0</td><td> 0</td><td>B_single_medication</td><td>A_no_medication    </td></tr>\n",
              "\t<tr><td>763</td><td>266259</td><td>49</td><td>LT</td><td>1</td><td>M</td><td>380224</td><td>22/07/2021</td><td>13</td><td> 1</td><td> 3</td><td>B_single_medication</td><td>A_no_medication    </td></tr>\n",
              "\t<tr><td>764</td><td>267471</td><td>29</td><td>ES</td><td>1</td><td>M</td><td>381235</td><td>31/10/2021</td><td>27</td><td>11</td><td> 1</td><td>B_single_medication</td><td>A_no_medication    </td></tr>\n",
              "\t<tr><td>765</td><td>267519</td><td>18</td><td>MX</td><td>0</td><td>M</td><td>381312</td><td>02/08/2021</td><td>44</td><td>18</td><td> 3</td><td>C_comedication     </td><td>A_no_medication    </td></tr>\n",
              "\t<tr><td>766</td><td>271545</td><td>39</td><td>FR</td><td>0</td><td>M</td><td>382976</td><td>11/11/2021</td><td> 6</td><td> 0</td><td> 4</td><td>A_no_medication    </td><td>A_no_medication    </td></tr>\n",
              "\t<tr><td>767</td><td>272127</td><td>31</td><td>TR</td><td>0</td><td>M</td><td>383202</td><td>28/08/2021</td><td>98</td><td> 6</td><td>92</td><td>B_single_medication</td><td>C_comedication     </td></tr>\n",
              "\t<tr><td>768</td><td>272745</td><td>15</td><td>MX</td><td>0</td><td>F</td><td>383586</td><td>19/09/2021</td><td>43</td><td>32</td><td> 0</td><td>B_single_medication</td><td>A_no_medication    </td></tr>\n",
              "\t<tr><td>769</td><td>272985</td><td>23</td><td>FR</td><td>0</td><td>F</td><td>383662</td><td>18/10/2021</td><td> 2</td><td> 2</td><td> 4</td><td>A_no_medication    </td><td>A_no_medication    </td></tr>\n",
              "\t<tr><td>770</td><td>273675</td><td>38</td><td>PT</td><td>1</td><td>F</td><td>383970</td><td>18/10/2021</td><td> 0</td><td> 0</td><td> 1</td><td>A_no_medication    </td><td>A_no_medication    </td></tr>\n",
              "\t<tr><td>771</td><td>274869</td><td>22</td><td>PT</td><td>0</td><td>M</td><td>384455</td><td>29/11/2021</td><td>69</td><td>15</td><td> 0</td><td>B_single_medication</td><td>A_no_medication    </td></tr>\n",
              "\t<tr><td>772</td><td>276699</td><td>31</td><td>ES</td><td>0</td><td>F</td><td>385216</td><td>26/09/2021</td><td> 6</td><td> 7</td><td>19</td><td>A_no_medication    </td><td>A_no_medication    </td></tr>\n",
              "\t<tr><td>773</td><td>276927</td><td>27</td><td>IT</td><td>0</td><td>F</td><td>385300</td><td>12/09/2021</td><td>97</td><td> 1</td><td> 0</td><td>A_no_medication    </td><td>A_no_medication    </td></tr>\n",
              "\t<tr><td>774</td><td>277785</td><td>19</td><td>PT</td><td>0</td><td>F</td><td>385739</td><td>01/10/2021</td><td> 2</td><td> 5</td><td> 3</td><td>A_no_medication    </td><td>A_no_medication    </td></tr>\n",
              "\t<tr><td>775</td><td>278181</td><td>48</td><td>PT</td><td>1</td><td>F</td><td>385847</td><td>19/09/2021</td><td>32</td><td>21</td><td>25</td><td>A_no_medication    </td><td>A_no_medication    </td></tr>\n",
              "\t<tr><td>776</td><td>280647</td><td>50</td><td>PL</td><td>0</td><td>F</td><td>386646</td><td>01/10/2021</td><td>51</td><td>18</td><td> 2</td><td>A_no_medication    </td><td>A_no_medication    </td></tr>\n",
              "\t<tr><td>777</td><td>284667</td><td>43</td><td>FR</td><td>0</td><td>F</td><td>388625</td><td>26/10/2021</td><td>56</td><td>47</td><td>60</td><td>B_single_medication</td><td>B_single_medication</td></tr>\n",
              "\t<tr><td>778</td><td>285267</td><td>21</td><td>AR</td><td>0</td><td>M</td><td>389133</td><td>27/10/2021</td><td>69</td><td>49</td><td>39</td><td>C_comedication     </td><td>A_no_medication    </td></tr>\n",
              "\t<tr><td>779</td><td>285627</td><td>49</td><td>FR</td><td>0</td><td>M</td><td>389280</td><td>04/11/2021</td><td> 2</td><td> 0</td><td> 1</td><td>A_no_medication    </td><td>A_no_medication    </td></tr>\n",
              "\t<tr><td>780</td><td>285777</td><td>28</td><td>FR</td><td>0</td><td>M</td><td>389380</td><td>27/12/2021</td><td> 1</td><td> 0</td><td> 5</td><td>A_no_medication    </td><td>A_no_medication    </td></tr>\n",
              "\t<tr><td>781</td><td>287973</td><td>33</td><td>PT</td><td>0</td><td>F</td><td>390065</td><td>13/11/2021</td><td>28</td><td>29</td><td> 0</td><td>A_no_medication    </td><td>A_no_medication    </td></tr>\n",
              "\t<tr><td>782</td><td>291231</td><td>25</td><td>FR</td><td>0</td><td>F</td><td>391706</td><td>25/11/2021</td><td>19</td><td> 1</td><td> 4</td><td>A_no_medication    </td><td>A_no_medication    </td></tr>\n",
              "\t<tr><td>783</td><td>291441</td><td>22</td><td>FR</td><td>1</td><td>M</td><td>391855</td><td>27/11/2021</td><td> 7</td><td> 2</td><td> 1</td><td>A_no_medication    </td><td>A_no_medication    </td></tr>\n",
              "\t<tr><td>784</td><td>292287</td><td>60</td><td>IT</td><td>0</td><td>M</td><td>392163</td><td>27/11/2021</td><td>14</td><td> 2</td><td> 4</td><td>C_comedication     </td><td>A_no_medication    </td></tr>\n",
              "\t<tr><td>785</td><td>292737</td><td>25</td><td>FR</td><td>0</td><td>M</td><td>392249</td><td>19/12/2021</td><td> 4</td><td> 2</td><td> 2</td><td>A_no_medication    </td><td>A_no_medication    </td></tr>\n",
              "\t<tr><td>786</td><td>297285</td><td>28</td><td>FR</td><td>1</td><td>M</td><td>394921</td><td>25/12/2021</td><td>65</td><td> 3</td><td> 7</td><td>A_no_medication    </td><td>A_no_medication    </td></tr>\n",
              "\t<tr><td>787</td><td>302223</td><td>37</td><td>IT</td><td>1</td><td>F</td><td>   449</td><td>23/12/2021</td><td>86</td><td>62</td><td> 3</td><td>A_no_medication    </td><td>A_no_medication    </td></tr>\n",
              "\t<tr><td>788</td><td>304299</td><td>23</td><td>IT</td><td>1</td><td>F</td><td>  1096</td><td>29/12/2021</td><td>96</td><td>35</td><td>12</td><td>A_no_medication    </td><td>A_no_medication    </td></tr>\n",
              "</tbody>\n",
              "</table>\n"
            ],
            "text/markdown": "\nA data.frame: 1000 × 13\n\n| user_id &lt;int&gt; | member_id &lt;int&gt; | age &lt;int&gt; | country &lt;chr&gt; | asthma &lt;int&gt; | sex &lt;chr&gt; | symptoms_id &lt;int&gt; | date &lt;chr&gt; | vas_nose &lt;int&gt; | vas_eye &lt;int&gt; | vas_asthma &lt;int&gt; | rhinitis_medication &lt;chr&gt; | asthma_medication &lt;chr&gt; |\n|---|---|---|---|---|---|---|---|---|---|---|---|---|\n|  1 |   48 | 56 | NL | 0 | M | 111007 | 08/04/2016 | 77 | 81 | NA | B_single_medication | A_no_medication     |\n|  2 | 1026 | 19 | GB | 1 | M | 290424 | 06/10/2015 | 59 | 38 | NA | C_comedication      | A_no_medication     |\n|  3 | 1638 | 47 | FR | 0 | F | 368522 | 18/02/2019 | 52 |  5 |  0 | A_no_medication     | A_no_medication     |\n|  3 | 1638 | 47 | FR | 0 | F | 367628 | 20/11/2015 |  0 |  0 |  6 | A_no_medication     | A_no_medication     |\n|  3 | 1638 | 47 | FR | 0 | F | 367798 | 17/09/2016 |  8 |  0 |  2 | A_no_medication     | A_no_medication     |\n|  4 | 2064 | 51 | FR | 1 | F | 393432 | 25/12/2015 | 40 | 25 | NA | A_no_medication     | A_no_medication     |\n|  5 | 2076 | 23 | GB | 1 | F | 393928 | 26/12/2015 |  3 |  3 | NA | A_no_medication     | A_no_medication     |\n|  5 | 2076 | 23 | GB | 1 | F | 394299 | 21/01/2017 |  9 |  0 |  0 | A_no_medication     | A_no_medication     |\n|  5 | 2076 | 23 | GB | 1 | F | 394107 | 02/07/2016 | 15 |  0 |  0 | A_no_medication     | A_no_medication     |\n|  6 | 2082 | 72 | PL | 0 | F | 394940 | 12/01/2016 | 21 | 24 | NA | A_no_medication     | A_no_medication     |\n|  7 | 3138 | 67 | DK | 0 | F |  16242 | 08/05/2016 | 18 | 31 |  8 | A_no_medication     | B_single_medication |\n|  8 | 3192 | 32 | IT | 1 | F |  16996 | 01/08/2017 |  0 |  1 |  0 | A_no_medication     | A_no_medication     |\n|  8 | 3192 | 32 | IT | 1 | F |  17030 | 14/09/2017 |  0 |  0 |  0 | A_no_medication     | A_no_medication     |\n|  8 | 3192 | 32 | IT | 1 | F |  16721 | 28/10/2016 |  2 |  0 |  0 | A_no_medication     | A_no_medication     |\n|  9 | 3954 | 38 | BE | 0 | M |  25433 | 09/08/2016 |  9 | 10 | 16 | C_comedication      | A_no_medication     |\n| 10 | 4206 | 32 | IT | 1 | F |  28641 | 19/03/2016 |  1 |  0 |  1 | A_no_medication     | A_no_medication     |\n| 10 | 4206 | 32 | IT | 1 | F |  28649 | 27/03/2016 |  0 |  4 | NA | A_no_medication     | A_no_medication     |\n| 11 | 4458 | 40 | IT | 0 | F |  32663 | 15/09/2016 |  8 |  3 |  0 | B_single_medication | A_no_medication     |\n| 11 | 4458 | 40 | IT | 0 | F |  33290 | 14/06/2018 | 14 |  9 |  1 | A_no_medication     | A_no_medication     |\n| 11 | 4458 | 40 | IT | 0 | F |  32873 | 13/04/2017 | 33 | 19 |  0 | C_comedication      | A_no_medication     |\n| 12 | 4650 | 21 | DE | 0 | F |  41087 | 06/06/2016 | 24 |  1 |  0 | C_comedication      | A_no_medication     |\n| 13 | 4890 | 36 | ES | 0 | F |  46851 | 01/04/2016 | 19 |  1 | NA | B_single_medication | A_no_medication     |\n| 14 | 6000 | 37 | PL | 1 | F |  62618 | 28/04/2019 | 51 | 53 | 35 | C_comedication      | C_comedication      |\n| 14 | 6000 | 37 | PL | 1 | F |  62772 | 26/05/2021 | 25 | 61 | 14 | C_comedication      | C_comedication      |\n| 14 | 6000 | 37 | PL | 1 | F |  62529 | 03/05/2016 | 75 | 64 | 49 | C_comedication      | C_comedication      |\n| 14 | 6000 | 37 | PL | 1 | F |  62635 | 25/05/2019 | 13 |  7 |  6 | B_single_medication | B_single_medication |\n| 14 | 6000 | 37 | PL | 1 | F |  62708 | 19/10/2019 | 71 | 18 | 41 | C_comedication      | C_comedication      |\n| 15 | 6936 | 23 | DE | 0 | F |  81783 | 04/05/2016 | 17 |  9 | NA | B_single_medication | A_no_medication     |\n| 15 | 6936 | 23 | DE | 0 | F |  81777 | 14/04/2016 | 35 |  0 | NA | A_no_medication     | A_no_medication     |\n| 16 | 6942 | 51 | PL | 1 | F |  81834 | 29/04/2016 |  0 |  3 |  0 | C_comedication      | A_no_medication     |\n| ⋮ | ⋮ | ⋮ | ⋮ | ⋮ | ⋮ | ⋮ | ⋮ | ⋮ | ⋮ | ⋮ | ⋮ | ⋮ |\n| 760 | 263985 | 33 | FR | 0 | F | 377802 | 01/10/2021 | 52 |  9 | 19 | B_single_medication | B_single_medication |\n| 761 | 264003 | 48 | FR | 1 | F | 377929 | 07/10/2021 | 14 | 24 |  5 | B_single_medication | A_no_medication     |\n| 761 | 264003 | 48 | FR | 1 | F | 377895 | 27/07/2021 | 11 |  6 |  3 | A_no_medication     | A_no_medication     |\n| 762 | 264081 | 22 | BR | 1 | M | 378257 | 11/08/2021 |  1 |  0 |  0 | B_single_medication | A_no_medication     |\n| 763 | 266259 | 49 | LT | 1 | M | 380224 | 22/07/2021 | 13 |  1 |  3 | B_single_medication | A_no_medication     |\n| 764 | 267471 | 29 | ES | 1 | M | 381235 | 31/10/2021 | 27 | 11 |  1 | B_single_medication | A_no_medication     |\n| 765 | 267519 | 18 | MX | 0 | M | 381312 | 02/08/2021 | 44 | 18 |  3 | C_comedication      | A_no_medication     |\n| 766 | 271545 | 39 | FR | 0 | M | 382976 | 11/11/2021 |  6 |  0 |  4 | A_no_medication     | A_no_medication     |\n| 767 | 272127 | 31 | TR | 0 | M | 383202 | 28/08/2021 | 98 |  6 | 92 | B_single_medication | C_comedication      |\n| 768 | 272745 | 15 | MX | 0 | F | 383586 | 19/09/2021 | 43 | 32 |  0 | B_single_medication | A_no_medication     |\n| 769 | 272985 | 23 | FR | 0 | F | 383662 | 18/10/2021 |  2 |  2 |  4 | A_no_medication     | A_no_medication     |\n| 770 | 273675 | 38 | PT | 1 | F | 383970 | 18/10/2021 |  0 |  0 |  1 | A_no_medication     | A_no_medication     |\n| 771 | 274869 | 22 | PT | 0 | M | 384455 | 29/11/2021 | 69 | 15 |  0 | B_single_medication | A_no_medication     |\n| 772 | 276699 | 31 | ES | 0 | F | 385216 | 26/09/2021 |  6 |  7 | 19 | A_no_medication     | A_no_medication     |\n| 773 | 276927 | 27 | IT | 0 | F | 385300 | 12/09/2021 | 97 |  1 |  0 | A_no_medication     | A_no_medication     |\n| 774 | 277785 | 19 | PT | 0 | F | 385739 | 01/10/2021 |  2 |  5 |  3 | A_no_medication     | A_no_medication     |\n| 775 | 278181 | 48 | PT | 1 | F | 385847 | 19/09/2021 | 32 | 21 | 25 | A_no_medication     | A_no_medication     |\n| 776 | 280647 | 50 | PL | 0 | F | 386646 | 01/10/2021 | 51 | 18 |  2 | A_no_medication     | A_no_medication     |\n| 777 | 284667 | 43 | FR | 0 | F | 388625 | 26/10/2021 | 56 | 47 | 60 | B_single_medication | B_single_medication |\n| 778 | 285267 | 21 | AR | 0 | M | 389133 | 27/10/2021 | 69 | 49 | 39 | C_comedication      | A_no_medication     |\n| 779 | 285627 | 49 | FR | 0 | M | 389280 | 04/11/2021 |  2 |  0 |  1 | A_no_medication     | A_no_medication     |\n| 780 | 285777 | 28 | FR | 0 | M | 389380 | 27/12/2021 |  1 |  0 |  5 | A_no_medication     | A_no_medication     |\n| 781 | 287973 | 33 | PT | 0 | F | 390065 | 13/11/2021 | 28 | 29 |  0 | A_no_medication     | A_no_medication     |\n| 782 | 291231 | 25 | FR | 0 | F | 391706 | 25/11/2021 | 19 |  1 |  4 | A_no_medication     | A_no_medication     |\n| 783 | 291441 | 22 | FR | 1 | M | 391855 | 27/11/2021 |  7 |  2 |  1 | A_no_medication     | A_no_medication     |\n| 784 | 292287 | 60 | IT | 0 | M | 392163 | 27/11/2021 | 14 |  2 |  4 | C_comedication      | A_no_medication     |\n| 785 | 292737 | 25 | FR | 0 | M | 392249 | 19/12/2021 |  4 |  2 |  2 | A_no_medication     | A_no_medication     |\n| 786 | 297285 | 28 | FR | 1 | M | 394921 | 25/12/2021 | 65 |  3 |  7 | A_no_medication     | A_no_medication     |\n| 787 | 302223 | 37 | IT | 1 | F |    449 | 23/12/2021 | 86 | 62 |  3 | A_no_medication     | A_no_medication     |\n| 788 | 304299 | 23 | IT | 1 | F |   1096 | 29/12/2021 | 96 | 35 | 12 | A_no_medication     | A_no_medication     |\n\n",
            "text/latex": "A data.frame: 1000 × 13\n\\begin{tabular}{lllllllllllll}\n user\\_id & member\\_id & age & country & asthma & sex & symptoms\\_id & date & vas\\_nose & vas\\_eye & vas\\_asthma & rhinitis\\_medication & asthma\\_medication\\\\\n <int> & <int> & <int> & <chr> & <int> & <chr> & <int> & <chr> & <int> & <int> & <int> & <chr> & <chr>\\\\\n\\hline\n\t  1 &   48 & 56 & NL & 0 & M & 111007 & 08/04/2016 & 77 & 81 & NA & B\\_single\\_medication & A\\_no\\_medication    \\\\\n\t  2 & 1026 & 19 & GB & 1 & M & 290424 & 06/10/2015 & 59 & 38 & NA & C\\_comedication      & A\\_no\\_medication    \\\\\n\t  3 & 1638 & 47 & FR & 0 & F & 368522 & 18/02/2019 & 52 &  5 &  0 & A\\_no\\_medication     & A\\_no\\_medication    \\\\\n\t  3 & 1638 & 47 & FR & 0 & F & 367628 & 20/11/2015 &  0 &  0 &  6 & A\\_no\\_medication     & A\\_no\\_medication    \\\\\n\t  3 & 1638 & 47 & FR & 0 & F & 367798 & 17/09/2016 &  8 &  0 &  2 & A\\_no\\_medication     & A\\_no\\_medication    \\\\\n\t  4 & 2064 & 51 & FR & 1 & F & 393432 & 25/12/2015 & 40 & 25 & NA & A\\_no\\_medication     & A\\_no\\_medication    \\\\\n\t  5 & 2076 & 23 & GB & 1 & F & 393928 & 26/12/2015 &  3 &  3 & NA & A\\_no\\_medication     & A\\_no\\_medication    \\\\\n\t  5 & 2076 & 23 & GB & 1 & F & 394299 & 21/01/2017 &  9 &  0 &  0 & A\\_no\\_medication     & A\\_no\\_medication    \\\\\n\t  5 & 2076 & 23 & GB & 1 & F & 394107 & 02/07/2016 & 15 &  0 &  0 & A\\_no\\_medication     & A\\_no\\_medication    \\\\\n\t  6 & 2082 & 72 & PL & 0 & F & 394940 & 12/01/2016 & 21 & 24 & NA & A\\_no\\_medication     & A\\_no\\_medication    \\\\\n\t  7 & 3138 & 67 & DK & 0 & F &  16242 & 08/05/2016 & 18 & 31 &  8 & A\\_no\\_medication     & B\\_single\\_medication\\\\\n\t  8 & 3192 & 32 & IT & 1 & F &  16996 & 01/08/2017 &  0 &  1 &  0 & A\\_no\\_medication     & A\\_no\\_medication    \\\\\n\t  8 & 3192 & 32 & IT & 1 & F &  17030 & 14/09/2017 &  0 &  0 &  0 & A\\_no\\_medication     & A\\_no\\_medication    \\\\\n\t  8 & 3192 & 32 & IT & 1 & F &  16721 & 28/10/2016 &  2 &  0 &  0 & A\\_no\\_medication     & A\\_no\\_medication    \\\\\n\t  9 & 3954 & 38 & BE & 0 & M &  25433 & 09/08/2016 &  9 & 10 & 16 & C\\_comedication      & A\\_no\\_medication    \\\\\n\t 10 & 4206 & 32 & IT & 1 & F &  28641 & 19/03/2016 &  1 &  0 &  1 & A\\_no\\_medication     & A\\_no\\_medication    \\\\\n\t 10 & 4206 & 32 & IT & 1 & F &  28649 & 27/03/2016 &  0 &  4 & NA & A\\_no\\_medication     & A\\_no\\_medication    \\\\\n\t 11 & 4458 & 40 & IT & 0 & F &  32663 & 15/09/2016 &  8 &  3 &  0 & B\\_single\\_medication & A\\_no\\_medication    \\\\\n\t 11 & 4458 & 40 & IT & 0 & F &  33290 & 14/06/2018 & 14 &  9 &  1 & A\\_no\\_medication     & A\\_no\\_medication    \\\\\n\t 11 & 4458 & 40 & IT & 0 & F &  32873 & 13/04/2017 & 33 & 19 &  0 & C\\_comedication      & A\\_no\\_medication    \\\\\n\t 12 & 4650 & 21 & DE & 0 & F &  41087 & 06/06/2016 & 24 &  1 &  0 & C\\_comedication      & A\\_no\\_medication    \\\\\n\t 13 & 4890 & 36 & ES & 0 & F &  46851 & 01/04/2016 & 19 &  1 & NA & B\\_single\\_medication & A\\_no\\_medication    \\\\\n\t 14 & 6000 & 37 & PL & 1 & F &  62618 & 28/04/2019 & 51 & 53 & 35 & C\\_comedication      & C\\_comedication     \\\\\n\t 14 & 6000 & 37 & PL & 1 & F &  62772 & 26/05/2021 & 25 & 61 & 14 & C\\_comedication      & C\\_comedication     \\\\\n\t 14 & 6000 & 37 & PL & 1 & F &  62529 & 03/05/2016 & 75 & 64 & 49 & C\\_comedication      & C\\_comedication     \\\\\n\t 14 & 6000 & 37 & PL & 1 & F &  62635 & 25/05/2019 & 13 &  7 &  6 & B\\_single\\_medication & B\\_single\\_medication\\\\\n\t 14 & 6000 & 37 & PL & 1 & F &  62708 & 19/10/2019 & 71 & 18 & 41 & C\\_comedication      & C\\_comedication     \\\\\n\t 15 & 6936 & 23 & DE & 0 & F &  81783 & 04/05/2016 & 17 &  9 & NA & B\\_single\\_medication & A\\_no\\_medication    \\\\\n\t 15 & 6936 & 23 & DE & 0 & F &  81777 & 14/04/2016 & 35 &  0 & NA & A\\_no\\_medication     & A\\_no\\_medication    \\\\\n\t 16 & 6942 & 51 & PL & 1 & F &  81834 & 29/04/2016 &  0 &  3 &  0 & C\\_comedication      & A\\_no\\_medication    \\\\\n\t ⋮ & ⋮ & ⋮ & ⋮ & ⋮ & ⋮ & ⋮ & ⋮ & ⋮ & ⋮ & ⋮ & ⋮ & ⋮\\\\\n\t 760 & 263985 & 33 & FR & 0 & F & 377802 & 01/10/2021 & 52 &  9 & 19 & B\\_single\\_medication & B\\_single\\_medication\\\\\n\t 761 & 264003 & 48 & FR & 1 & F & 377929 & 07/10/2021 & 14 & 24 &  5 & B\\_single\\_medication & A\\_no\\_medication    \\\\\n\t 761 & 264003 & 48 & FR & 1 & F & 377895 & 27/07/2021 & 11 &  6 &  3 & A\\_no\\_medication     & A\\_no\\_medication    \\\\\n\t 762 & 264081 & 22 & BR & 1 & M & 378257 & 11/08/2021 &  1 &  0 &  0 & B\\_single\\_medication & A\\_no\\_medication    \\\\\n\t 763 & 266259 & 49 & LT & 1 & M & 380224 & 22/07/2021 & 13 &  1 &  3 & B\\_single\\_medication & A\\_no\\_medication    \\\\\n\t 764 & 267471 & 29 & ES & 1 & M & 381235 & 31/10/2021 & 27 & 11 &  1 & B\\_single\\_medication & A\\_no\\_medication    \\\\\n\t 765 & 267519 & 18 & MX & 0 & M & 381312 & 02/08/2021 & 44 & 18 &  3 & C\\_comedication      & A\\_no\\_medication    \\\\\n\t 766 & 271545 & 39 & FR & 0 & M & 382976 & 11/11/2021 &  6 &  0 &  4 & A\\_no\\_medication     & A\\_no\\_medication    \\\\\n\t 767 & 272127 & 31 & TR & 0 & M & 383202 & 28/08/2021 & 98 &  6 & 92 & B\\_single\\_medication & C\\_comedication     \\\\\n\t 768 & 272745 & 15 & MX & 0 & F & 383586 & 19/09/2021 & 43 & 32 &  0 & B\\_single\\_medication & A\\_no\\_medication    \\\\\n\t 769 & 272985 & 23 & FR & 0 & F & 383662 & 18/10/2021 &  2 &  2 &  4 & A\\_no\\_medication     & A\\_no\\_medication    \\\\\n\t 770 & 273675 & 38 & PT & 1 & F & 383970 & 18/10/2021 &  0 &  0 &  1 & A\\_no\\_medication     & A\\_no\\_medication    \\\\\n\t 771 & 274869 & 22 & PT & 0 & M & 384455 & 29/11/2021 & 69 & 15 &  0 & B\\_single\\_medication & A\\_no\\_medication    \\\\\n\t 772 & 276699 & 31 & ES & 0 & F & 385216 & 26/09/2021 &  6 &  7 & 19 & A\\_no\\_medication     & A\\_no\\_medication    \\\\\n\t 773 & 276927 & 27 & IT & 0 & F & 385300 & 12/09/2021 & 97 &  1 &  0 & A\\_no\\_medication     & A\\_no\\_medication    \\\\\n\t 774 & 277785 & 19 & PT & 0 & F & 385739 & 01/10/2021 &  2 &  5 &  3 & A\\_no\\_medication     & A\\_no\\_medication    \\\\\n\t 775 & 278181 & 48 & PT & 1 & F & 385847 & 19/09/2021 & 32 & 21 & 25 & A\\_no\\_medication     & A\\_no\\_medication    \\\\\n\t 776 & 280647 & 50 & PL & 0 & F & 386646 & 01/10/2021 & 51 & 18 &  2 & A\\_no\\_medication     & A\\_no\\_medication    \\\\\n\t 777 & 284667 & 43 & FR & 0 & F & 388625 & 26/10/2021 & 56 & 47 & 60 & B\\_single\\_medication & B\\_single\\_medication\\\\\n\t 778 & 285267 & 21 & AR & 0 & M & 389133 & 27/10/2021 & 69 & 49 & 39 & C\\_comedication      & A\\_no\\_medication    \\\\\n\t 779 & 285627 & 49 & FR & 0 & M & 389280 & 04/11/2021 &  2 &  0 &  1 & A\\_no\\_medication     & A\\_no\\_medication    \\\\\n\t 780 & 285777 & 28 & FR & 0 & M & 389380 & 27/12/2021 &  1 &  0 &  5 & A\\_no\\_medication     & A\\_no\\_medication    \\\\\n\t 781 & 287973 & 33 & PT & 0 & F & 390065 & 13/11/2021 & 28 & 29 &  0 & A\\_no\\_medication     & A\\_no\\_medication    \\\\\n\t 782 & 291231 & 25 & FR & 0 & F & 391706 & 25/11/2021 & 19 &  1 &  4 & A\\_no\\_medication     & A\\_no\\_medication    \\\\\n\t 783 & 291441 & 22 & FR & 1 & M & 391855 & 27/11/2021 &  7 &  2 &  1 & A\\_no\\_medication     & A\\_no\\_medication    \\\\\n\t 784 & 292287 & 60 & IT & 0 & M & 392163 & 27/11/2021 & 14 &  2 &  4 & C\\_comedication      & A\\_no\\_medication    \\\\\n\t 785 & 292737 & 25 & FR & 0 & M & 392249 & 19/12/2021 &  4 &  2 &  2 & A\\_no\\_medication     & A\\_no\\_medication    \\\\\n\t 786 & 297285 & 28 & FR & 1 & M & 394921 & 25/12/2021 & 65 &  3 &  7 & A\\_no\\_medication     & A\\_no\\_medication    \\\\\n\t 787 & 302223 & 37 & IT & 1 & F &    449 & 23/12/2021 & 86 & 62 &  3 & A\\_no\\_medication     & A\\_no\\_medication    \\\\\n\t 788 & 304299 & 23 & IT & 1 & F &   1096 & 29/12/2021 & 96 & 35 & 12 & A\\_no\\_medication     & A\\_no\\_medication    \\\\\n\\end{tabular}\n",
            "text/plain": [
              "     user_id member_id age country asthma sex symptoms_id date       vas_nose\n",
              "1     1        48      56  NL      0      M   111007      08/04/2016 77      \n",
              "2     2      1026      19  GB      1      M   290424      06/10/2015 59      \n",
              "3     3      1638      47  FR      0      F   368522      18/02/2019 52      \n",
              "4     3      1638      47  FR      0      F   367628      20/11/2015  0      \n",
              "5     3      1638      47  FR      0      F   367798      17/09/2016  8      \n",
              "6     4      2064      51  FR      1      F   393432      25/12/2015 40      \n",
              "7     5      2076      23  GB      1      F   393928      26/12/2015  3      \n",
              "8     5      2076      23  GB      1      F   394299      21/01/2017  9      \n",
              "9     5      2076      23  GB      1      F   394107      02/07/2016 15      \n",
              "10    6      2082      72  PL      0      F   394940      12/01/2016 21      \n",
              "11    7      3138      67  DK      0      F    16242      08/05/2016 18      \n",
              "12    8      3192      32  IT      1      F    16996      01/08/2017  0      \n",
              "13    8      3192      32  IT      1      F    17030      14/09/2017  0      \n",
              "14    8      3192      32  IT      1      F    16721      28/10/2016  2      \n",
              "15    9      3954      38  BE      0      M    25433      09/08/2016  9      \n",
              "16   10      4206      32  IT      1      F    28641      19/03/2016  1      \n",
              "17   10      4206      32  IT      1      F    28649      27/03/2016  0      \n",
              "18   11      4458      40  IT      0      F    32663      15/09/2016  8      \n",
              "19   11      4458      40  IT      0      F    33290      14/06/2018 14      \n",
              "20   11      4458      40  IT      0      F    32873      13/04/2017 33      \n",
              "21   12      4650      21  DE      0      F    41087      06/06/2016 24      \n",
              "22   13      4890      36  ES      0      F    46851      01/04/2016 19      \n",
              "23   14      6000      37  PL      1      F    62618      28/04/2019 51      \n",
              "24   14      6000      37  PL      1      F    62772      26/05/2021 25      \n",
              "25   14      6000      37  PL      1      F    62529      03/05/2016 75      \n",
              "26   14      6000      37  PL      1      F    62635      25/05/2019 13      \n",
              "27   14      6000      37  PL      1      F    62708      19/10/2019 71      \n",
              "28   15      6936      23  DE      0      F    81783      04/05/2016 17      \n",
              "29   15      6936      23  DE      0      F    81777      14/04/2016 35      \n",
              "30   16      6942      51  PL      1      F    81834      29/04/2016  0      \n",
              "⋮    ⋮       ⋮         ⋮   ⋮       ⋮      ⋮   ⋮           ⋮          ⋮       \n",
              "971  760     263985    33  FR      0      F   377802      01/10/2021 52      \n",
              "972  761     264003    48  FR      1      F   377929      07/10/2021 14      \n",
              "973  761     264003    48  FR      1      F   377895      27/07/2021 11      \n",
              "974  762     264081    22  BR      1      M   378257      11/08/2021  1      \n",
              "975  763     266259    49  LT      1      M   380224      22/07/2021 13      \n",
              "976  764     267471    29  ES      1      M   381235      31/10/2021 27      \n",
              "977  765     267519    18  MX      0      M   381312      02/08/2021 44      \n",
              "978  766     271545    39  FR      0      M   382976      11/11/2021  6      \n",
              "979  767     272127    31  TR      0      M   383202      28/08/2021 98      \n",
              "980  768     272745    15  MX      0      F   383586      19/09/2021 43      \n",
              "981  769     272985    23  FR      0      F   383662      18/10/2021  2      \n",
              "982  770     273675    38  PT      1      F   383970      18/10/2021  0      \n",
              "983  771     274869    22  PT      0      M   384455      29/11/2021 69      \n",
              "984  772     276699    31  ES      0      F   385216      26/09/2021  6      \n",
              "985  773     276927    27  IT      0      F   385300      12/09/2021 97      \n",
              "986  774     277785    19  PT      0      F   385739      01/10/2021  2      \n",
              "987  775     278181    48  PT      1      F   385847      19/09/2021 32      \n",
              "988  776     280647    50  PL      0      F   386646      01/10/2021 51      \n",
              "989  777     284667    43  FR      0      F   388625      26/10/2021 56      \n",
              "990  778     285267    21  AR      0      M   389133      27/10/2021 69      \n",
              "991  779     285627    49  FR      0      M   389280      04/11/2021  2      \n",
              "992  780     285777    28  FR      0      M   389380      27/12/2021  1      \n",
              "993  781     287973    33  PT      0      F   390065      13/11/2021 28      \n",
              "994  782     291231    25  FR      0      F   391706      25/11/2021 19      \n",
              "995  783     291441    22  FR      1      M   391855      27/11/2021  7      \n",
              "996  784     292287    60  IT      0      M   392163      27/11/2021 14      \n",
              "997  785     292737    25  FR      0      M   392249      19/12/2021  4      \n",
              "998  786     297285    28  FR      1      M   394921      25/12/2021 65      \n",
              "999  787     302223    37  IT      1      F      449      23/12/2021 86      \n",
              "1000 788     304299    23  IT      1      F     1096      29/12/2021 96      \n",
              "     vas_eye vas_asthma rhinitis_medication asthma_medication  \n",
              "1    81      NA         B_single_medication A_no_medication    \n",
              "2    38      NA         C_comedication      A_no_medication    \n",
              "3     5       0         A_no_medication     A_no_medication    \n",
              "4     0       6         A_no_medication     A_no_medication    \n",
              "5     0       2         A_no_medication     A_no_medication    \n",
              "6    25      NA         A_no_medication     A_no_medication    \n",
              "7     3      NA         A_no_medication     A_no_medication    \n",
              "8     0       0         A_no_medication     A_no_medication    \n",
              "9     0       0         A_no_medication     A_no_medication    \n",
              "10   24      NA         A_no_medication     A_no_medication    \n",
              "11   31       8         A_no_medication     B_single_medication\n",
              "12    1       0         A_no_medication     A_no_medication    \n",
              "13    0       0         A_no_medication     A_no_medication    \n",
              "14    0       0         A_no_medication     A_no_medication    \n",
              "15   10      16         C_comedication      A_no_medication    \n",
              "16    0       1         A_no_medication     A_no_medication    \n",
              "17    4      NA         A_no_medication     A_no_medication    \n",
              "18    3       0         B_single_medication A_no_medication    \n",
              "19    9       1         A_no_medication     A_no_medication    \n",
              "20   19       0         C_comedication      A_no_medication    \n",
              "21    1       0         C_comedication      A_no_medication    \n",
              "22    1      NA         B_single_medication A_no_medication    \n",
              "23   53      35         C_comedication      C_comedication     \n",
              "24   61      14         C_comedication      C_comedication     \n",
              "25   64      49         C_comedication      C_comedication     \n",
              "26    7       6         B_single_medication B_single_medication\n",
              "27   18      41         C_comedication      C_comedication     \n",
              "28    9      NA         B_single_medication A_no_medication    \n",
              "29    0      NA         A_no_medication     A_no_medication    \n",
              "30    3       0         C_comedication      A_no_medication    \n",
              "⋮    ⋮       ⋮          ⋮                   ⋮                  \n",
              "971   9      19         B_single_medication B_single_medication\n",
              "972  24       5         B_single_medication A_no_medication    \n",
              "973   6       3         A_no_medication     A_no_medication    \n",
              "974   0       0         B_single_medication A_no_medication    \n",
              "975   1       3         B_single_medication A_no_medication    \n",
              "976  11       1         B_single_medication A_no_medication    \n",
              "977  18       3         C_comedication      A_no_medication    \n",
              "978   0       4         A_no_medication     A_no_medication    \n",
              "979   6      92         B_single_medication C_comedication     \n",
              "980  32       0         B_single_medication A_no_medication    \n",
              "981   2       4         A_no_medication     A_no_medication    \n",
              "982   0       1         A_no_medication     A_no_medication    \n",
              "983  15       0         B_single_medication A_no_medication    \n",
              "984   7      19         A_no_medication     A_no_medication    \n",
              "985   1       0         A_no_medication     A_no_medication    \n",
              "986   5       3         A_no_medication     A_no_medication    \n",
              "987  21      25         A_no_medication     A_no_medication    \n",
              "988  18       2         A_no_medication     A_no_medication    \n",
              "989  47      60         B_single_medication B_single_medication\n",
              "990  49      39         C_comedication      A_no_medication    \n",
              "991   0       1         A_no_medication     A_no_medication    \n",
              "992   0       5         A_no_medication     A_no_medication    \n",
              "993  29       0         A_no_medication     A_no_medication    \n",
              "994   1       4         A_no_medication     A_no_medication    \n",
              "995   2       1         A_no_medication     A_no_medication    \n",
              "996   2       4         C_comedication      A_no_medication    \n",
              "997   2       2         A_no_medication     A_no_medication    \n",
              "998   3       7         A_no_medication     A_no_medication    \n",
              "999  62       3         A_no_medication     A_no_medication    \n",
              "1000 35      12         A_no_medication     A_no_medication    "
            ]
          },
          "metadata": {}
        }
      ]
    },
    {
      "cell_type": "code",
      "source": [
        "mask_air %>%\n",
        "  filter(age == 17)"
      ],
      "metadata": {
        "colab": {
          "base_uri": "https://localhost:8080/",
          "height": 349
        },
        "id": "ApOwHXcl1O0T",
        "outputId": "41a411b2-2d6e-43c9-bb10-bc638d2e5a87"
      },
      "execution_count": 108,
      "outputs": [
        {
          "output_type": "display_data",
          "data": {
            "text/html": [
              "<table class=\"dataframe\">\n",
              "<caption>A data.frame: 8 × 13</caption>\n",
              "<thead>\n",
              "\t<tr><th scope=col>user_id</th><th scope=col>member_id</th><th scope=col>age</th><th scope=col>country</th><th scope=col>asthma</th><th scope=col>sex</th><th scope=col>symptoms_id</th><th scope=col>date</th><th scope=col>vas_nose</th><th scope=col>vas_eye</th><th scope=col>vas_asthma</th><th scope=col>rhinitis_medication</th><th scope=col>asthma_medication</th></tr>\n",
              "\t<tr><th scope=col>&lt;int&gt;</th><th scope=col>&lt;int&gt;</th><th scope=col>&lt;int&gt;</th><th scope=col>&lt;chr&gt;</th><th scope=col>&lt;int&gt;</th><th scope=col>&lt;chr&gt;</th><th scope=col>&lt;int&gt;</th><th scope=col>&lt;chr&gt;</th><th scope=col>&lt;int&gt;</th><th scope=col>&lt;int&gt;</th><th scope=col>&lt;int&gt;</th><th scope=col>&lt;chr&gt;</th><th scope=col>&lt;chr&gt;</th></tr>\n",
              "</thead>\n",
              "<tbody>\n",
              "\t<tr><td> 52</td><td> 32016</td><td>17</td><td>AU</td><td>1</td><td>F</td><td>  4709</td><td>29/01/2017</td><td>58</td><td> 1</td><td> 4</td><td>B_single_medication</td><td>A_no_medication</td></tr>\n",
              "\t<tr><td>125</td><td> 63681</td><td>17</td><td>MX</td><td>0</td><td>F</td><td> 55805</td><td>28/05/2017</td><td>18</td><td>39</td><td> 0</td><td>A_no_medication    </td><td>A_no_medication</td></tr>\n",
              "\t<tr><td>134</td><td> 65547</td><td>17</td><td>MX</td><td>0</td><td>M</td><td> 59198</td><td>05/07/2017</td><td>27</td><td>14</td><td>40</td><td>A_no_medication    </td><td>A_no_medication</td></tr>\n",
              "\t<tr><td>210</td><td> 85389</td><td>17</td><td>BR</td><td>0</td><td>F</td><td> 97891</td><td>06/02/2018</td><td>85</td><td> 2</td><td>26</td><td>C_comedication     </td><td>A_no_medication</td></tr>\n",
              "\t<tr><td>220</td><td> 87435</td><td>17</td><td>BR</td><td>1</td><td>M</td><td>102591</td><td>15/10/2017</td><td>49</td><td>33</td><td>10</td><td>B_single_medication</td><td>A_no_medication</td></tr>\n",
              "\t<tr><td>263</td><td> 99783</td><td>17</td><td>MX</td><td>0</td><td>M</td><td>124047</td><td>26/06/2018</td><td>30</td><td>43</td><td>27</td><td>A_no_medication    </td><td>A_no_medication</td></tr>\n",
              "\t<tr><td>313</td><td>108681</td><td>17</td><td>NL</td><td>0</td><td>F</td><td>150251</td><td>06/05/2018</td><td> 0</td><td>11</td><td> 7</td><td>B_single_medication</td><td>C_comedication </td></tr>\n",
              "\t<tr><td>460</td><td>156729</td><td>17</td><td>MX</td><td>0</td><td>M</td><td>223767</td><td>17/03/2019</td><td> 0</td><td> 0</td><td> 0</td><td>C_comedication     </td><td>A_no_medication</td></tr>\n",
              "</tbody>\n",
              "</table>\n"
            ],
            "text/markdown": "\nA data.frame: 8 × 13\n\n| user_id &lt;int&gt; | member_id &lt;int&gt; | age &lt;int&gt; | country &lt;chr&gt; | asthma &lt;int&gt; | sex &lt;chr&gt; | symptoms_id &lt;int&gt; | date &lt;chr&gt; | vas_nose &lt;int&gt; | vas_eye &lt;int&gt; | vas_asthma &lt;int&gt; | rhinitis_medication &lt;chr&gt; | asthma_medication &lt;chr&gt; |\n|---|---|---|---|---|---|---|---|---|---|---|---|---|\n|  52 |  32016 | 17 | AU | 1 | F |   4709 | 29/01/2017 | 58 |  1 |  4 | B_single_medication | A_no_medication |\n| 125 |  63681 | 17 | MX | 0 | F |  55805 | 28/05/2017 | 18 | 39 |  0 | A_no_medication     | A_no_medication |\n| 134 |  65547 | 17 | MX | 0 | M |  59198 | 05/07/2017 | 27 | 14 | 40 | A_no_medication     | A_no_medication |\n| 210 |  85389 | 17 | BR | 0 | F |  97891 | 06/02/2018 | 85 |  2 | 26 | C_comedication      | A_no_medication |\n| 220 |  87435 | 17 | BR | 1 | M | 102591 | 15/10/2017 | 49 | 33 | 10 | B_single_medication | A_no_medication |\n| 263 |  99783 | 17 | MX | 0 | M | 124047 | 26/06/2018 | 30 | 43 | 27 | A_no_medication     | A_no_medication |\n| 313 | 108681 | 17 | NL | 0 | F | 150251 | 06/05/2018 |  0 | 11 |  7 | B_single_medication | C_comedication  |\n| 460 | 156729 | 17 | MX | 0 | M | 223767 | 17/03/2019 |  0 |  0 |  0 | C_comedication      | A_no_medication |\n\n",
            "text/latex": "A data.frame: 8 × 13\n\\begin{tabular}{lllllllllllll}\n user\\_id & member\\_id & age & country & asthma & sex & symptoms\\_id & date & vas\\_nose & vas\\_eye & vas\\_asthma & rhinitis\\_medication & asthma\\_medication\\\\\n <int> & <int> & <int> & <chr> & <int> & <chr> & <int> & <chr> & <int> & <int> & <int> & <chr> & <chr>\\\\\n\\hline\n\t  52 &  32016 & 17 & AU & 1 & F &   4709 & 29/01/2017 & 58 &  1 &  4 & B\\_single\\_medication & A\\_no\\_medication\\\\\n\t 125 &  63681 & 17 & MX & 0 & F &  55805 & 28/05/2017 & 18 & 39 &  0 & A\\_no\\_medication     & A\\_no\\_medication\\\\\n\t 134 &  65547 & 17 & MX & 0 & M &  59198 & 05/07/2017 & 27 & 14 & 40 & A\\_no\\_medication     & A\\_no\\_medication\\\\\n\t 210 &  85389 & 17 & BR & 0 & F &  97891 & 06/02/2018 & 85 &  2 & 26 & C\\_comedication      & A\\_no\\_medication\\\\\n\t 220 &  87435 & 17 & BR & 1 & M & 102591 & 15/10/2017 & 49 & 33 & 10 & B\\_single\\_medication & A\\_no\\_medication\\\\\n\t 263 &  99783 & 17 & MX & 0 & M & 124047 & 26/06/2018 & 30 & 43 & 27 & A\\_no\\_medication     & A\\_no\\_medication\\\\\n\t 313 & 108681 & 17 & NL & 0 & F & 150251 & 06/05/2018 &  0 & 11 &  7 & B\\_single\\_medication & C\\_comedication \\\\\n\t 460 & 156729 & 17 & MX & 0 & M & 223767 & 17/03/2019 &  0 &  0 &  0 & C\\_comedication      & A\\_no\\_medication\\\\\n\\end{tabular}\n",
            "text/plain": [
              "  user_id member_id age country asthma sex symptoms_id date       vas_nose\n",
              "1  52      32016    17  AU      1      F     4709      29/01/2017 58      \n",
              "2 125      63681    17  MX      0      F    55805      28/05/2017 18      \n",
              "3 134      65547    17  MX      0      M    59198      05/07/2017 27      \n",
              "4 210      85389    17  BR      0      F    97891      06/02/2018 85      \n",
              "5 220      87435    17  BR      1      M   102591      15/10/2017 49      \n",
              "6 263      99783    17  MX      0      M   124047      26/06/2018 30      \n",
              "7 313     108681    17  NL      0      F   150251      06/05/2018  0      \n",
              "8 460     156729    17  MX      0      M   223767      17/03/2019  0      \n",
              "  vas_eye vas_asthma rhinitis_medication asthma_medication\n",
              "1  1       4         B_single_medication A_no_medication  \n",
              "2 39       0         A_no_medication     A_no_medication  \n",
              "3 14      40         A_no_medication     A_no_medication  \n",
              "4  2      26         C_comedication      A_no_medication  \n",
              "5 33      10         B_single_medication A_no_medication  \n",
              "6 43      27         A_no_medication     A_no_medication  \n",
              "7 11       7         B_single_medication C_comedication   \n",
              "8  0       0         C_comedication      A_no_medication  "
            ]
          },
          "metadata": {}
        }
      ]
    },
    {
      "cell_type": "code",
      "source": [
        "mask_air"
      ],
      "metadata": {
        "colab": {
          "base_uri": "https://localhost:8080/",
          "height": 1000
        },
        "id": "VJFbPr_Er4o7",
        "outputId": "d1414639-fc84-4340-c575-da51ae114608"
      },
      "execution_count": 109,
      "outputs": [
        {
          "output_type": "display_data",
          "data": {
            "text/html": [
              "<table class=\"dataframe\">\n",
              "<caption>A data.frame: 1000 × 13</caption>\n",
              "<thead>\n",
              "\t<tr><th scope=col>user_id</th><th scope=col>member_id</th><th scope=col>age</th><th scope=col>country</th><th scope=col>asthma</th><th scope=col>sex</th><th scope=col>symptoms_id</th><th scope=col>date</th><th scope=col>vas_nose</th><th scope=col>vas_eye</th><th scope=col>vas_asthma</th><th scope=col>rhinitis_medication</th><th scope=col>asthma_medication</th></tr>\n",
              "\t<tr><th scope=col>&lt;int&gt;</th><th scope=col>&lt;int&gt;</th><th scope=col>&lt;int&gt;</th><th scope=col>&lt;chr&gt;</th><th scope=col>&lt;int&gt;</th><th scope=col>&lt;chr&gt;</th><th scope=col>&lt;int&gt;</th><th scope=col>&lt;chr&gt;</th><th scope=col>&lt;int&gt;</th><th scope=col>&lt;int&gt;</th><th scope=col>&lt;int&gt;</th><th scope=col>&lt;chr&gt;</th><th scope=col>&lt;chr&gt;</th></tr>\n",
              "</thead>\n",
              "<tbody>\n",
              "\t<tr><td> 1</td><td>  48</td><td>56</td><td>NL</td><td>0</td><td>M</td><td>111007</td><td>08/04/2016</td><td>77</td><td>81</td><td>NA</td><td>B_single_medication</td><td>A_no_medication    </td></tr>\n",
              "\t<tr><td> 2</td><td>1026</td><td>19</td><td>GB</td><td>1</td><td>M</td><td>290424</td><td>06/10/2015</td><td>59</td><td>38</td><td>NA</td><td>C_comedication     </td><td>A_no_medication    </td></tr>\n",
              "\t<tr><td> 3</td><td>1638</td><td>47</td><td>FR</td><td>0</td><td>F</td><td>368522</td><td>18/02/2019</td><td>52</td><td> 5</td><td> 0</td><td>A_no_medication    </td><td>A_no_medication    </td></tr>\n",
              "\t<tr><td> 3</td><td>1638</td><td>47</td><td>FR</td><td>0</td><td>F</td><td>367628</td><td>20/11/2015</td><td> 0</td><td> 0</td><td> 6</td><td>A_no_medication    </td><td>A_no_medication    </td></tr>\n",
              "\t<tr><td> 3</td><td>1638</td><td>47</td><td>FR</td><td>0</td><td>F</td><td>367798</td><td>17/09/2016</td><td> 8</td><td> 0</td><td> 2</td><td>A_no_medication    </td><td>A_no_medication    </td></tr>\n",
              "\t<tr><td> 4</td><td>2064</td><td>51</td><td>FR</td><td>1</td><td>F</td><td>393432</td><td>25/12/2015</td><td>40</td><td>25</td><td>NA</td><td>A_no_medication    </td><td>A_no_medication    </td></tr>\n",
              "\t<tr><td> 5</td><td>2076</td><td>23</td><td>GB</td><td>1</td><td>F</td><td>393928</td><td>26/12/2015</td><td> 3</td><td> 3</td><td>NA</td><td>A_no_medication    </td><td>A_no_medication    </td></tr>\n",
              "\t<tr><td> 5</td><td>2076</td><td>23</td><td>GB</td><td>1</td><td>F</td><td>394299</td><td>21/01/2017</td><td> 9</td><td> 0</td><td> 0</td><td>A_no_medication    </td><td>A_no_medication    </td></tr>\n",
              "\t<tr><td> 5</td><td>2076</td><td>23</td><td>GB</td><td>1</td><td>F</td><td>394107</td><td>02/07/2016</td><td>15</td><td> 0</td><td> 0</td><td>A_no_medication    </td><td>A_no_medication    </td></tr>\n",
              "\t<tr><td> 6</td><td>2082</td><td>72</td><td>PL</td><td>0</td><td>F</td><td>394940</td><td>12/01/2016</td><td>21</td><td>24</td><td>NA</td><td>A_no_medication    </td><td>A_no_medication    </td></tr>\n",
              "\t<tr><td> 7</td><td>3138</td><td>67</td><td>DK</td><td>0</td><td>F</td><td> 16242</td><td>08/05/2016</td><td>18</td><td>31</td><td> 8</td><td>A_no_medication    </td><td>B_single_medication</td></tr>\n",
              "\t<tr><td> 8</td><td>3192</td><td>32</td><td>IT</td><td>1</td><td>F</td><td> 16996</td><td>01/08/2017</td><td> 0</td><td> 1</td><td> 0</td><td>A_no_medication    </td><td>A_no_medication    </td></tr>\n",
              "\t<tr><td> 8</td><td>3192</td><td>32</td><td>IT</td><td>1</td><td>F</td><td> 17030</td><td>14/09/2017</td><td> 0</td><td> 0</td><td> 0</td><td>A_no_medication    </td><td>A_no_medication    </td></tr>\n",
              "\t<tr><td> 8</td><td>3192</td><td>32</td><td>IT</td><td>1</td><td>F</td><td> 16721</td><td>28/10/2016</td><td> 2</td><td> 0</td><td> 0</td><td>A_no_medication    </td><td>A_no_medication    </td></tr>\n",
              "\t<tr><td> 9</td><td>3954</td><td>38</td><td>BE</td><td>0</td><td>M</td><td> 25433</td><td>09/08/2016</td><td> 9</td><td>10</td><td>16</td><td>C_comedication     </td><td>A_no_medication    </td></tr>\n",
              "\t<tr><td>10</td><td>4206</td><td>32</td><td>IT</td><td>1</td><td>F</td><td> 28641</td><td>19/03/2016</td><td> 1</td><td> 0</td><td> 1</td><td>A_no_medication    </td><td>A_no_medication    </td></tr>\n",
              "\t<tr><td>10</td><td>4206</td><td>32</td><td>IT</td><td>1</td><td>F</td><td> 28649</td><td>27/03/2016</td><td> 0</td><td> 4</td><td>NA</td><td>A_no_medication    </td><td>A_no_medication    </td></tr>\n",
              "\t<tr><td>11</td><td>4458</td><td>40</td><td>IT</td><td>0</td><td>F</td><td> 32663</td><td>15/09/2016</td><td> 8</td><td> 3</td><td> 0</td><td>B_single_medication</td><td>A_no_medication    </td></tr>\n",
              "\t<tr><td>11</td><td>4458</td><td>40</td><td>IT</td><td>0</td><td>F</td><td> 33290</td><td>14/06/2018</td><td>14</td><td> 9</td><td> 1</td><td>A_no_medication    </td><td>A_no_medication    </td></tr>\n",
              "\t<tr><td>11</td><td>4458</td><td>40</td><td>IT</td><td>0</td><td>F</td><td> 32873</td><td>13/04/2017</td><td>33</td><td>19</td><td> 0</td><td>C_comedication     </td><td>A_no_medication    </td></tr>\n",
              "\t<tr><td>12</td><td>4650</td><td>21</td><td>DE</td><td>0</td><td>F</td><td> 41087</td><td>06/06/2016</td><td>24</td><td> 1</td><td> 0</td><td>C_comedication     </td><td>A_no_medication    </td></tr>\n",
              "\t<tr><td>13</td><td>4890</td><td>36</td><td>ES</td><td>0</td><td>F</td><td> 46851</td><td>01/04/2016</td><td>19</td><td> 1</td><td>NA</td><td>B_single_medication</td><td>A_no_medication    </td></tr>\n",
              "\t<tr><td>14</td><td>6000</td><td>37</td><td>PL</td><td>1</td><td>F</td><td> 62618</td><td>28/04/2019</td><td>51</td><td>53</td><td>35</td><td>C_comedication     </td><td>C_comedication     </td></tr>\n",
              "\t<tr><td>14</td><td>6000</td><td>37</td><td>PL</td><td>1</td><td>F</td><td> 62772</td><td>26/05/2021</td><td>25</td><td>61</td><td>14</td><td>C_comedication     </td><td>C_comedication     </td></tr>\n",
              "\t<tr><td>14</td><td>6000</td><td>37</td><td>PL</td><td>1</td><td>F</td><td> 62529</td><td>03/05/2016</td><td>75</td><td>64</td><td>49</td><td>C_comedication     </td><td>C_comedication     </td></tr>\n",
              "\t<tr><td>14</td><td>6000</td><td>37</td><td>PL</td><td>1</td><td>F</td><td> 62635</td><td>25/05/2019</td><td>13</td><td> 7</td><td> 6</td><td>B_single_medication</td><td>B_single_medication</td></tr>\n",
              "\t<tr><td>14</td><td>6000</td><td>37</td><td>PL</td><td>1</td><td>F</td><td> 62708</td><td>19/10/2019</td><td>71</td><td>18</td><td>41</td><td>C_comedication     </td><td>C_comedication     </td></tr>\n",
              "\t<tr><td>15</td><td>6936</td><td>23</td><td>DE</td><td>0</td><td>F</td><td> 81783</td><td>04/05/2016</td><td>17</td><td> 9</td><td>NA</td><td>B_single_medication</td><td>A_no_medication    </td></tr>\n",
              "\t<tr><td>15</td><td>6936</td><td>23</td><td>DE</td><td>0</td><td>F</td><td> 81777</td><td>14/04/2016</td><td>35</td><td> 0</td><td>NA</td><td>A_no_medication    </td><td>A_no_medication    </td></tr>\n",
              "\t<tr><td>16</td><td>6942</td><td>51</td><td>PL</td><td>1</td><td>F</td><td> 81834</td><td>29/04/2016</td><td> 0</td><td> 3</td><td> 0</td><td>C_comedication     </td><td>A_no_medication    </td></tr>\n",
              "\t<tr><td>⋮</td><td>⋮</td><td>⋮</td><td>⋮</td><td>⋮</td><td>⋮</td><td>⋮</td><td>⋮</td><td>⋮</td><td>⋮</td><td>⋮</td><td>⋮</td><td>⋮</td></tr>\n",
              "\t<tr><td>760</td><td>263985</td><td>33</td><td>FR</td><td>0</td><td>F</td><td>377802</td><td>01/10/2021</td><td>52</td><td> 9</td><td>19</td><td>B_single_medication</td><td>B_single_medication</td></tr>\n",
              "\t<tr><td>761</td><td>264003</td><td>48</td><td>FR</td><td>1</td><td>F</td><td>377929</td><td>07/10/2021</td><td>14</td><td>24</td><td> 5</td><td>B_single_medication</td><td>A_no_medication    </td></tr>\n",
              "\t<tr><td>761</td><td>264003</td><td>48</td><td>FR</td><td>1</td><td>F</td><td>377895</td><td>27/07/2021</td><td>11</td><td> 6</td><td> 3</td><td>A_no_medication    </td><td>A_no_medication    </td></tr>\n",
              "\t<tr><td>762</td><td>264081</td><td>22</td><td>BR</td><td>1</td><td>M</td><td>378257</td><td>11/08/2021</td><td> 1</td><td> 0</td><td> 0</td><td>B_single_medication</td><td>A_no_medication    </td></tr>\n",
              "\t<tr><td>763</td><td>266259</td><td>49</td><td>LT</td><td>1</td><td>M</td><td>380224</td><td>22/07/2021</td><td>13</td><td> 1</td><td> 3</td><td>B_single_medication</td><td>A_no_medication    </td></tr>\n",
              "\t<tr><td>764</td><td>267471</td><td>29</td><td>ES</td><td>1</td><td>M</td><td>381235</td><td>31/10/2021</td><td>27</td><td>11</td><td> 1</td><td>B_single_medication</td><td>A_no_medication    </td></tr>\n",
              "\t<tr><td>765</td><td>267519</td><td>18</td><td>MX</td><td>0</td><td>M</td><td>381312</td><td>02/08/2021</td><td>44</td><td>18</td><td> 3</td><td>C_comedication     </td><td>A_no_medication    </td></tr>\n",
              "\t<tr><td>766</td><td>271545</td><td>39</td><td>FR</td><td>0</td><td>M</td><td>382976</td><td>11/11/2021</td><td> 6</td><td> 0</td><td> 4</td><td>A_no_medication    </td><td>A_no_medication    </td></tr>\n",
              "\t<tr><td>767</td><td>272127</td><td>31</td><td>TR</td><td>0</td><td>M</td><td>383202</td><td>28/08/2021</td><td>98</td><td> 6</td><td>92</td><td>B_single_medication</td><td>C_comedication     </td></tr>\n",
              "\t<tr><td>768</td><td>272745</td><td>15</td><td>MX</td><td>0</td><td>F</td><td>383586</td><td>19/09/2021</td><td>43</td><td>32</td><td> 0</td><td>B_single_medication</td><td>A_no_medication    </td></tr>\n",
              "\t<tr><td>769</td><td>272985</td><td>23</td><td>FR</td><td>0</td><td>F</td><td>383662</td><td>18/10/2021</td><td> 2</td><td> 2</td><td> 4</td><td>A_no_medication    </td><td>A_no_medication    </td></tr>\n",
              "\t<tr><td>770</td><td>273675</td><td>38</td><td>PT</td><td>1</td><td>F</td><td>383970</td><td>18/10/2021</td><td> 0</td><td> 0</td><td> 1</td><td>A_no_medication    </td><td>A_no_medication    </td></tr>\n",
              "\t<tr><td>771</td><td>274869</td><td>22</td><td>PT</td><td>0</td><td>M</td><td>384455</td><td>29/11/2021</td><td>69</td><td>15</td><td> 0</td><td>B_single_medication</td><td>A_no_medication    </td></tr>\n",
              "\t<tr><td>772</td><td>276699</td><td>31</td><td>ES</td><td>0</td><td>F</td><td>385216</td><td>26/09/2021</td><td> 6</td><td> 7</td><td>19</td><td>A_no_medication    </td><td>A_no_medication    </td></tr>\n",
              "\t<tr><td>773</td><td>276927</td><td>27</td><td>IT</td><td>0</td><td>F</td><td>385300</td><td>12/09/2021</td><td>97</td><td> 1</td><td> 0</td><td>A_no_medication    </td><td>A_no_medication    </td></tr>\n",
              "\t<tr><td>774</td><td>277785</td><td>19</td><td>PT</td><td>0</td><td>F</td><td>385739</td><td>01/10/2021</td><td> 2</td><td> 5</td><td> 3</td><td>A_no_medication    </td><td>A_no_medication    </td></tr>\n",
              "\t<tr><td>775</td><td>278181</td><td>48</td><td>PT</td><td>1</td><td>F</td><td>385847</td><td>19/09/2021</td><td>32</td><td>21</td><td>25</td><td>A_no_medication    </td><td>A_no_medication    </td></tr>\n",
              "\t<tr><td>776</td><td>280647</td><td>50</td><td>PL</td><td>0</td><td>F</td><td>386646</td><td>01/10/2021</td><td>51</td><td>18</td><td> 2</td><td>A_no_medication    </td><td>A_no_medication    </td></tr>\n",
              "\t<tr><td>777</td><td>284667</td><td>43</td><td>FR</td><td>0</td><td>F</td><td>388625</td><td>26/10/2021</td><td>56</td><td>47</td><td>60</td><td>B_single_medication</td><td>B_single_medication</td></tr>\n",
              "\t<tr><td>778</td><td>285267</td><td>21</td><td>AR</td><td>0</td><td>M</td><td>389133</td><td>27/10/2021</td><td>69</td><td>49</td><td>39</td><td>C_comedication     </td><td>A_no_medication    </td></tr>\n",
              "\t<tr><td>779</td><td>285627</td><td>49</td><td>FR</td><td>0</td><td>M</td><td>389280</td><td>04/11/2021</td><td> 2</td><td> 0</td><td> 1</td><td>A_no_medication    </td><td>A_no_medication    </td></tr>\n",
              "\t<tr><td>780</td><td>285777</td><td>28</td><td>FR</td><td>0</td><td>M</td><td>389380</td><td>27/12/2021</td><td> 1</td><td> 0</td><td> 5</td><td>A_no_medication    </td><td>A_no_medication    </td></tr>\n",
              "\t<tr><td>781</td><td>287973</td><td>33</td><td>PT</td><td>0</td><td>F</td><td>390065</td><td>13/11/2021</td><td>28</td><td>29</td><td> 0</td><td>A_no_medication    </td><td>A_no_medication    </td></tr>\n",
              "\t<tr><td>782</td><td>291231</td><td>25</td><td>FR</td><td>0</td><td>F</td><td>391706</td><td>25/11/2021</td><td>19</td><td> 1</td><td> 4</td><td>A_no_medication    </td><td>A_no_medication    </td></tr>\n",
              "\t<tr><td>783</td><td>291441</td><td>22</td><td>FR</td><td>1</td><td>M</td><td>391855</td><td>27/11/2021</td><td> 7</td><td> 2</td><td> 1</td><td>A_no_medication    </td><td>A_no_medication    </td></tr>\n",
              "\t<tr><td>784</td><td>292287</td><td>60</td><td>IT</td><td>0</td><td>M</td><td>392163</td><td>27/11/2021</td><td>14</td><td> 2</td><td> 4</td><td>C_comedication     </td><td>A_no_medication    </td></tr>\n",
              "\t<tr><td>785</td><td>292737</td><td>25</td><td>FR</td><td>0</td><td>M</td><td>392249</td><td>19/12/2021</td><td> 4</td><td> 2</td><td> 2</td><td>A_no_medication    </td><td>A_no_medication    </td></tr>\n",
              "\t<tr><td>786</td><td>297285</td><td>28</td><td>FR</td><td>1</td><td>M</td><td>394921</td><td>25/12/2021</td><td>65</td><td> 3</td><td> 7</td><td>A_no_medication    </td><td>A_no_medication    </td></tr>\n",
              "\t<tr><td>787</td><td>302223</td><td>37</td><td>IT</td><td>1</td><td>F</td><td>   449</td><td>23/12/2021</td><td>86</td><td>62</td><td> 3</td><td>A_no_medication    </td><td>A_no_medication    </td></tr>\n",
              "\t<tr><td>788</td><td>304299</td><td>23</td><td>IT</td><td>1</td><td>F</td><td>  1096</td><td>29/12/2021</td><td>96</td><td>35</td><td>12</td><td>A_no_medication    </td><td>A_no_medication    </td></tr>\n",
              "</tbody>\n",
              "</table>\n"
            ],
            "text/markdown": "\nA data.frame: 1000 × 13\n\n| user_id &lt;int&gt; | member_id &lt;int&gt; | age &lt;int&gt; | country &lt;chr&gt; | asthma &lt;int&gt; | sex &lt;chr&gt; | symptoms_id &lt;int&gt; | date &lt;chr&gt; | vas_nose &lt;int&gt; | vas_eye &lt;int&gt; | vas_asthma &lt;int&gt; | rhinitis_medication &lt;chr&gt; | asthma_medication &lt;chr&gt; |\n|---|---|---|---|---|---|---|---|---|---|---|---|---|\n|  1 |   48 | 56 | NL | 0 | M | 111007 | 08/04/2016 | 77 | 81 | NA | B_single_medication | A_no_medication     |\n|  2 | 1026 | 19 | GB | 1 | M | 290424 | 06/10/2015 | 59 | 38 | NA | C_comedication      | A_no_medication     |\n|  3 | 1638 | 47 | FR | 0 | F | 368522 | 18/02/2019 | 52 |  5 |  0 | A_no_medication     | A_no_medication     |\n|  3 | 1638 | 47 | FR | 0 | F | 367628 | 20/11/2015 |  0 |  0 |  6 | A_no_medication     | A_no_medication     |\n|  3 | 1638 | 47 | FR | 0 | F | 367798 | 17/09/2016 |  8 |  0 |  2 | A_no_medication     | A_no_medication     |\n|  4 | 2064 | 51 | FR | 1 | F | 393432 | 25/12/2015 | 40 | 25 | NA | A_no_medication     | A_no_medication     |\n|  5 | 2076 | 23 | GB | 1 | F | 393928 | 26/12/2015 |  3 |  3 | NA | A_no_medication     | A_no_medication     |\n|  5 | 2076 | 23 | GB | 1 | F | 394299 | 21/01/2017 |  9 |  0 |  0 | A_no_medication     | A_no_medication     |\n|  5 | 2076 | 23 | GB | 1 | F | 394107 | 02/07/2016 | 15 |  0 |  0 | A_no_medication     | A_no_medication     |\n|  6 | 2082 | 72 | PL | 0 | F | 394940 | 12/01/2016 | 21 | 24 | NA | A_no_medication     | A_no_medication     |\n|  7 | 3138 | 67 | DK | 0 | F |  16242 | 08/05/2016 | 18 | 31 |  8 | A_no_medication     | B_single_medication |\n|  8 | 3192 | 32 | IT | 1 | F |  16996 | 01/08/2017 |  0 |  1 |  0 | A_no_medication     | A_no_medication     |\n|  8 | 3192 | 32 | IT | 1 | F |  17030 | 14/09/2017 |  0 |  0 |  0 | A_no_medication     | A_no_medication     |\n|  8 | 3192 | 32 | IT | 1 | F |  16721 | 28/10/2016 |  2 |  0 |  0 | A_no_medication     | A_no_medication     |\n|  9 | 3954 | 38 | BE | 0 | M |  25433 | 09/08/2016 |  9 | 10 | 16 | C_comedication      | A_no_medication     |\n| 10 | 4206 | 32 | IT | 1 | F |  28641 | 19/03/2016 |  1 |  0 |  1 | A_no_medication     | A_no_medication     |\n| 10 | 4206 | 32 | IT | 1 | F |  28649 | 27/03/2016 |  0 |  4 | NA | A_no_medication     | A_no_medication     |\n| 11 | 4458 | 40 | IT | 0 | F |  32663 | 15/09/2016 |  8 |  3 |  0 | B_single_medication | A_no_medication     |\n| 11 | 4458 | 40 | IT | 0 | F |  33290 | 14/06/2018 | 14 |  9 |  1 | A_no_medication     | A_no_medication     |\n| 11 | 4458 | 40 | IT | 0 | F |  32873 | 13/04/2017 | 33 | 19 |  0 | C_comedication      | A_no_medication     |\n| 12 | 4650 | 21 | DE | 0 | F |  41087 | 06/06/2016 | 24 |  1 |  0 | C_comedication      | A_no_medication     |\n| 13 | 4890 | 36 | ES | 0 | F |  46851 | 01/04/2016 | 19 |  1 | NA | B_single_medication | A_no_medication     |\n| 14 | 6000 | 37 | PL | 1 | F |  62618 | 28/04/2019 | 51 | 53 | 35 | C_comedication      | C_comedication      |\n| 14 | 6000 | 37 | PL | 1 | F |  62772 | 26/05/2021 | 25 | 61 | 14 | C_comedication      | C_comedication      |\n| 14 | 6000 | 37 | PL | 1 | F |  62529 | 03/05/2016 | 75 | 64 | 49 | C_comedication      | C_comedication      |\n| 14 | 6000 | 37 | PL | 1 | F |  62635 | 25/05/2019 | 13 |  7 |  6 | B_single_medication | B_single_medication |\n| 14 | 6000 | 37 | PL | 1 | F |  62708 | 19/10/2019 | 71 | 18 | 41 | C_comedication      | C_comedication      |\n| 15 | 6936 | 23 | DE | 0 | F |  81783 | 04/05/2016 | 17 |  9 | NA | B_single_medication | A_no_medication     |\n| 15 | 6936 | 23 | DE | 0 | F |  81777 | 14/04/2016 | 35 |  0 | NA | A_no_medication     | A_no_medication     |\n| 16 | 6942 | 51 | PL | 1 | F |  81834 | 29/04/2016 |  0 |  3 |  0 | C_comedication      | A_no_medication     |\n| ⋮ | ⋮ | ⋮ | ⋮ | ⋮ | ⋮ | ⋮ | ⋮ | ⋮ | ⋮ | ⋮ | ⋮ | ⋮ |\n| 760 | 263985 | 33 | FR | 0 | F | 377802 | 01/10/2021 | 52 |  9 | 19 | B_single_medication | B_single_medication |\n| 761 | 264003 | 48 | FR | 1 | F | 377929 | 07/10/2021 | 14 | 24 |  5 | B_single_medication | A_no_medication     |\n| 761 | 264003 | 48 | FR | 1 | F | 377895 | 27/07/2021 | 11 |  6 |  3 | A_no_medication     | A_no_medication     |\n| 762 | 264081 | 22 | BR | 1 | M | 378257 | 11/08/2021 |  1 |  0 |  0 | B_single_medication | A_no_medication     |\n| 763 | 266259 | 49 | LT | 1 | M | 380224 | 22/07/2021 | 13 |  1 |  3 | B_single_medication | A_no_medication     |\n| 764 | 267471 | 29 | ES | 1 | M | 381235 | 31/10/2021 | 27 | 11 |  1 | B_single_medication | A_no_medication     |\n| 765 | 267519 | 18 | MX | 0 | M | 381312 | 02/08/2021 | 44 | 18 |  3 | C_comedication      | A_no_medication     |\n| 766 | 271545 | 39 | FR | 0 | M | 382976 | 11/11/2021 |  6 |  0 |  4 | A_no_medication     | A_no_medication     |\n| 767 | 272127 | 31 | TR | 0 | M | 383202 | 28/08/2021 | 98 |  6 | 92 | B_single_medication | C_comedication      |\n| 768 | 272745 | 15 | MX | 0 | F | 383586 | 19/09/2021 | 43 | 32 |  0 | B_single_medication | A_no_medication     |\n| 769 | 272985 | 23 | FR | 0 | F | 383662 | 18/10/2021 |  2 |  2 |  4 | A_no_medication     | A_no_medication     |\n| 770 | 273675 | 38 | PT | 1 | F | 383970 | 18/10/2021 |  0 |  0 |  1 | A_no_medication     | A_no_medication     |\n| 771 | 274869 | 22 | PT | 0 | M | 384455 | 29/11/2021 | 69 | 15 |  0 | B_single_medication | A_no_medication     |\n| 772 | 276699 | 31 | ES | 0 | F | 385216 | 26/09/2021 |  6 |  7 | 19 | A_no_medication     | A_no_medication     |\n| 773 | 276927 | 27 | IT | 0 | F | 385300 | 12/09/2021 | 97 |  1 |  0 | A_no_medication     | A_no_medication     |\n| 774 | 277785 | 19 | PT | 0 | F | 385739 | 01/10/2021 |  2 |  5 |  3 | A_no_medication     | A_no_medication     |\n| 775 | 278181 | 48 | PT | 1 | F | 385847 | 19/09/2021 | 32 | 21 | 25 | A_no_medication     | A_no_medication     |\n| 776 | 280647 | 50 | PL | 0 | F | 386646 | 01/10/2021 | 51 | 18 |  2 | A_no_medication     | A_no_medication     |\n| 777 | 284667 | 43 | FR | 0 | F | 388625 | 26/10/2021 | 56 | 47 | 60 | B_single_medication | B_single_medication |\n| 778 | 285267 | 21 | AR | 0 | M | 389133 | 27/10/2021 | 69 | 49 | 39 | C_comedication      | A_no_medication     |\n| 779 | 285627 | 49 | FR | 0 | M | 389280 | 04/11/2021 |  2 |  0 |  1 | A_no_medication     | A_no_medication     |\n| 780 | 285777 | 28 | FR | 0 | M | 389380 | 27/12/2021 |  1 |  0 |  5 | A_no_medication     | A_no_medication     |\n| 781 | 287973 | 33 | PT | 0 | F | 390065 | 13/11/2021 | 28 | 29 |  0 | A_no_medication     | A_no_medication     |\n| 782 | 291231 | 25 | FR | 0 | F | 391706 | 25/11/2021 | 19 |  1 |  4 | A_no_medication     | A_no_medication     |\n| 783 | 291441 | 22 | FR | 1 | M | 391855 | 27/11/2021 |  7 |  2 |  1 | A_no_medication     | A_no_medication     |\n| 784 | 292287 | 60 | IT | 0 | M | 392163 | 27/11/2021 | 14 |  2 |  4 | C_comedication      | A_no_medication     |\n| 785 | 292737 | 25 | FR | 0 | M | 392249 | 19/12/2021 |  4 |  2 |  2 | A_no_medication     | A_no_medication     |\n| 786 | 297285 | 28 | FR | 1 | M | 394921 | 25/12/2021 | 65 |  3 |  7 | A_no_medication     | A_no_medication     |\n| 787 | 302223 | 37 | IT | 1 | F |    449 | 23/12/2021 | 86 | 62 |  3 | A_no_medication     | A_no_medication     |\n| 788 | 304299 | 23 | IT | 1 | F |   1096 | 29/12/2021 | 96 | 35 | 12 | A_no_medication     | A_no_medication     |\n\n",
            "text/latex": "A data.frame: 1000 × 13\n\\begin{tabular}{lllllllllllll}\n user\\_id & member\\_id & age & country & asthma & sex & symptoms\\_id & date & vas\\_nose & vas\\_eye & vas\\_asthma & rhinitis\\_medication & asthma\\_medication\\\\\n <int> & <int> & <int> & <chr> & <int> & <chr> & <int> & <chr> & <int> & <int> & <int> & <chr> & <chr>\\\\\n\\hline\n\t  1 &   48 & 56 & NL & 0 & M & 111007 & 08/04/2016 & 77 & 81 & NA & B\\_single\\_medication & A\\_no\\_medication    \\\\\n\t  2 & 1026 & 19 & GB & 1 & M & 290424 & 06/10/2015 & 59 & 38 & NA & C\\_comedication      & A\\_no\\_medication    \\\\\n\t  3 & 1638 & 47 & FR & 0 & F & 368522 & 18/02/2019 & 52 &  5 &  0 & A\\_no\\_medication     & A\\_no\\_medication    \\\\\n\t  3 & 1638 & 47 & FR & 0 & F & 367628 & 20/11/2015 &  0 &  0 &  6 & A\\_no\\_medication     & A\\_no\\_medication    \\\\\n\t  3 & 1638 & 47 & FR & 0 & F & 367798 & 17/09/2016 &  8 &  0 &  2 & A\\_no\\_medication     & A\\_no\\_medication    \\\\\n\t  4 & 2064 & 51 & FR & 1 & F & 393432 & 25/12/2015 & 40 & 25 & NA & A\\_no\\_medication     & A\\_no\\_medication    \\\\\n\t  5 & 2076 & 23 & GB & 1 & F & 393928 & 26/12/2015 &  3 &  3 & NA & A\\_no\\_medication     & A\\_no\\_medication    \\\\\n\t  5 & 2076 & 23 & GB & 1 & F & 394299 & 21/01/2017 &  9 &  0 &  0 & A\\_no\\_medication     & A\\_no\\_medication    \\\\\n\t  5 & 2076 & 23 & GB & 1 & F & 394107 & 02/07/2016 & 15 &  0 &  0 & A\\_no\\_medication     & A\\_no\\_medication    \\\\\n\t  6 & 2082 & 72 & PL & 0 & F & 394940 & 12/01/2016 & 21 & 24 & NA & A\\_no\\_medication     & A\\_no\\_medication    \\\\\n\t  7 & 3138 & 67 & DK & 0 & F &  16242 & 08/05/2016 & 18 & 31 &  8 & A\\_no\\_medication     & B\\_single\\_medication\\\\\n\t  8 & 3192 & 32 & IT & 1 & F &  16996 & 01/08/2017 &  0 &  1 &  0 & A\\_no\\_medication     & A\\_no\\_medication    \\\\\n\t  8 & 3192 & 32 & IT & 1 & F &  17030 & 14/09/2017 &  0 &  0 &  0 & A\\_no\\_medication     & A\\_no\\_medication    \\\\\n\t  8 & 3192 & 32 & IT & 1 & F &  16721 & 28/10/2016 &  2 &  0 &  0 & A\\_no\\_medication     & A\\_no\\_medication    \\\\\n\t  9 & 3954 & 38 & BE & 0 & M &  25433 & 09/08/2016 &  9 & 10 & 16 & C\\_comedication      & A\\_no\\_medication    \\\\\n\t 10 & 4206 & 32 & IT & 1 & F &  28641 & 19/03/2016 &  1 &  0 &  1 & A\\_no\\_medication     & A\\_no\\_medication    \\\\\n\t 10 & 4206 & 32 & IT & 1 & F &  28649 & 27/03/2016 &  0 &  4 & NA & A\\_no\\_medication     & A\\_no\\_medication    \\\\\n\t 11 & 4458 & 40 & IT & 0 & F &  32663 & 15/09/2016 &  8 &  3 &  0 & B\\_single\\_medication & A\\_no\\_medication    \\\\\n\t 11 & 4458 & 40 & IT & 0 & F &  33290 & 14/06/2018 & 14 &  9 &  1 & A\\_no\\_medication     & A\\_no\\_medication    \\\\\n\t 11 & 4458 & 40 & IT & 0 & F &  32873 & 13/04/2017 & 33 & 19 &  0 & C\\_comedication      & A\\_no\\_medication    \\\\\n\t 12 & 4650 & 21 & DE & 0 & F &  41087 & 06/06/2016 & 24 &  1 &  0 & C\\_comedication      & A\\_no\\_medication    \\\\\n\t 13 & 4890 & 36 & ES & 0 & F &  46851 & 01/04/2016 & 19 &  1 & NA & B\\_single\\_medication & A\\_no\\_medication    \\\\\n\t 14 & 6000 & 37 & PL & 1 & F &  62618 & 28/04/2019 & 51 & 53 & 35 & C\\_comedication      & C\\_comedication     \\\\\n\t 14 & 6000 & 37 & PL & 1 & F &  62772 & 26/05/2021 & 25 & 61 & 14 & C\\_comedication      & C\\_comedication     \\\\\n\t 14 & 6000 & 37 & PL & 1 & F &  62529 & 03/05/2016 & 75 & 64 & 49 & C\\_comedication      & C\\_comedication     \\\\\n\t 14 & 6000 & 37 & PL & 1 & F &  62635 & 25/05/2019 & 13 &  7 &  6 & B\\_single\\_medication & B\\_single\\_medication\\\\\n\t 14 & 6000 & 37 & PL & 1 & F &  62708 & 19/10/2019 & 71 & 18 & 41 & C\\_comedication      & C\\_comedication     \\\\\n\t 15 & 6936 & 23 & DE & 0 & F &  81783 & 04/05/2016 & 17 &  9 & NA & B\\_single\\_medication & A\\_no\\_medication    \\\\\n\t 15 & 6936 & 23 & DE & 0 & F &  81777 & 14/04/2016 & 35 &  0 & NA & A\\_no\\_medication     & A\\_no\\_medication    \\\\\n\t 16 & 6942 & 51 & PL & 1 & F &  81834 & 29/04/2016 &  0 &  3 &  0 & C\\_comedication      & A\\_no\\_medication    \\\\\n\t ⋮ & ⋮ & ⋮ & ⋮ & ⋮ & ⋮ & ⋮ & ⋮ & ⋮ & ⋮ & ⋮ & ⋮ & ⋮\\\\\n\t 760 & 263985 & 33 & FR & 0 & F & 377802 & 01/10/2021 & 52 &  9 & 19 & B\\_single\\_medication & B\\_single\\_medication\\\\\n\t 761 & 264003 & 48 & FR & 1 & F & 377929 & 07/10/2021 & 14 & 24 &  5 & B\\_single\\_medication & A\\_no\\_medication    \\\\\n\t 761 & 264003 & 48 & FR & 1 & F & 377895 & 27/07/2021 & 11 &  6 &  3 & A\\_no\\_medication     & A\\_no\\_medication    \\\\\n\t 762 & 264081 & 22 & BR & 1 & M & 378257 & 11/08/2021 &  1 &  0 &  0 & B\\_single\\_medication & A\\_no\\_medication    \\\\\n\t 763 & 266259 & 49 & LT & 1 & M & 380224 & 22/07/2021 & 13 &  1 &  3 & B\\_single\\_medication & A\\_no\\_medication    \\\\\n\t 764 & 267471 & 29 & ES & 1 & M & 381235 & 31/10/2021 & 27 & 11 &  1 & B\\_single\\_medication & A\\_no\\_medication    \\\\\n\t 765 & 267519 & 18 & MX & 0 & M & 381312 & 02/08/2021 & 44 & 18 &  3 & C\\_comedication      & A\\_no\\_medication    \\\\\n\t 766 & 271545 & 39 & FR & 0 & M & 382976 & 11/11/2021 &  6 &  0 &  4 & A\\_no\\_medication     & A\\_no\\_medication    \\\\\n\t 767 & 272127 & 31 & TR & 0 & M & 383202 & 28/08/2021 & 98 &  6 & 92 & B\\_single\\_medication & C\\_comedication     \\\\\n\t 768 & 272745 & 15 & MX & 0 & F & 383586 & 19/09/2021 & 43 & 32 &  0 & B\\_single\\_medication & A\\_no\\_medication    \\\\\n\t 769 & 272985 & 23 & FR & 0 & F & 383662 & 18/10/2021 &  2 &  2 &  4 & A\\_no\\_medication     & A\\_no\\_medication    \\\\\n\t 770 & 273675 & 38 & PT & 1 & F & 383970 & 18/10/2021 &  0 &  0 &  1 & A\\_no\\_medication     & A\\_no\\_medication    \\\\\n\t 771 & 274869 & 22 & PT & 0 & M & 384455 & 29/11/2021 & 69 & 15 &  0 & B\\_single\\_medication & A\\_no\\_medication    \\\\\n\t 772 & 276699 & 31 & ES & 0 & F & 385216 & 26/09/2021 &  6 &  7 & 19 & A\\_no\\_medication     & A\\_no\\_medication    \\\\\n\t 773 & 276927 & 27 & IT & 0 & F & 385300 & 12/09/2021 & 97 &  1 &  0 & A\\_no\\_medication     & A\\_no\\_medication    \\\\\n\t 774 & 277785 & 19 & PT & 0 & F & 385739 & 01/10/2021 &  2 &  5 &  3 & A\\_no\\_medication     & A\\_no\\_medication    \\\\\n\t 775 & 278181 & 48 & PT & 1 & F & 385847 & 19/09/2021 & 32 & 21 & 25 & A\\_no\\_medication     & A\\_no\\_medication    \\\\\n\t 776 & 280647 & 50 & PL & 0 & F & 386646 & 01/10/2021 & 51 & 18 &  2 & A\\_no\\_medication     & A\\_no\\_medication    \\\\\n\t 777 & 284667 & 43 & FR & 0 & F & 388625 & 26/10/2021 & 56 & 47 & 60 & B\\_single\\_medication & B\\_single\\_medication\\\\\n\t 778 & 285267 & 21 & AR & 0 & M & 389133 & 27/10/2021 & 69 & 49 & 39 & C\\_comedication      & A\\_no\\_medication    \\\\\n\t 779 & 285627 & 49 & FR & 0 & M & 389280 & 04/11/2021 &  2 &  0 &  1 & A\\_no\\_medication     & A\\_no\\_medication    \\\\\n\t 780 & 285777 & 28 & FR & 0 & M & 389380 & 27/12/2021 &  1 &  0 &  5 & A\\_no\\_medication     & A\\_no\\_medication    \\\\\n\t 781 & 287973 & 33 & PT & 0 & F & 390065 & 13/11/2021 & 28 & 29 &  0 & A\\_no\\_medication     & A\\_no\\_medication    \\\\\n\t 782 & 291231 & 25 & FR & 0 & F & 391706 & 25/11/2021 & 19 &  1 &  4 & A\\_no\\_medication     & A\\_no\\_medication    \\\\\n\t 783 & 291441 & 22 & FR & 1 & M & 391855 & 27/11/2021 &  7 &  2 &  1 & A\\_no\\_medication     & A\\_no\\_medication    \\\\\n\t 784 & 292287 & 60 & IT & 0 & M & 392163 & 27/11/2021 & 14 &  2 &  4 & C\\_comedication      & A\\_no\\_medication    \\\\\n\t 785 & 292737 & 25 & FR & 0 & M & 392249 & 19/12/2021 &  4 &  2 &  2 & A\\_no\\_medication     & A\\_no\\_medication    \\\\\n\t 786 & 297285 & 28 & FR & 1 & M & 394921 & 25/12/2021 & 65 &  3 &  7 & A\\_no\\_medication     & A\\_no\\_medication    \\\\\n\t 787 & 302223 & 37 & IT & 1 & F &    449 & 23/12/2021 & 86 & 62 &  3 & A\\_no\\_medication     & A\\_no\\_medication    \\\\\n\t 788 & 304299 & 23 & IT & 1 & F &   1096 & 29/12/2021 & 96 & 35 & 12 & A\\_no\\_medication     & A\\_no\\_medication    \\\\\n\\end{tabular}\n",
            "text/plain": [
              "     user_id member_id age country asthma sex symptoms_id date       vas_nose\n",
              "1     1        48      56  NL      0      M   111007      08/04/2016 77      \n",
              "2     2      1026      19  GB      1      M   290424      06/10/2015 59      \n",
              "3     3      1638      47  FR      0      F   368522      18/02/2019 52      \n",
              "4     3      1638      47  FR      0      F   367628      20/11/2015  0      \n",
              "5     3      1638      47  FR      0      F   367798      17/09/2016  8      \n",
              "6     4      2064      51  FR      1      F   393432      25/12/2015 40      \n",
              "7     5      2076      23  GB      1      F   393928      26/12/2015  3      \n",
              "8     5      2076      23  GB      1      F   394299      21/01/2017  9      \n",
              "9     5      2076      23  GB      1      F   394107      02/07/2016 15      \n",
              "10    6      2082      72  PL      0      F   394940      12/01/2016 21      \n",
              "11    7      3138      67  DK      0      F    16242      08/05/2016 18      \n",
              "12    8      3192      32  IT      1      F    16996      01/08/2017  0      \n",
              "13    8      3192      32  IT      1      F    17030      14/09/2017  0      \n",
              "14    8      3192      32  IT      1      F    16721      28/10/2016  2      \n",
              "15    9      3954      38  BE      0      M    25433      09/08/2016  9      \n",
              "16   10      4206      32  IT      1      F    28641      19/03/2016  1      \n",
              "17   10      4206      32  IT      1      F    28649      27/03/2016  0      \n",
              "18   11      4458      40  IT      0      F    32663      15/09/2016  8      \n",
              "19   11      4458      40  IT      0      F    33290      14/06/2018 14      \n",
              "20   11      4458      40  IT      0      F    32873      13/04/2017 33      \n",
              "21   12      4650      21  DE      0      F    41087      06/06/2016 24      \n",
              "22   13      4890      36  ES      0      F    46851      01/04/2016 19      \n",
              "23   14      6000      37  PL      1      F    62618      28/04/2019 51      \n",
              "24   14      6000      37  PL      1      F    62772      26/05/2021 25      \n",
              "25   14      6000      37  PL      1      F    62529      03/05/2016 75      \n",
              "26   14      6000      37  PL      1      F    62635      25/05/2019 13      \n",
              "27   14      6000      37  PL      1      F    62708      19/10/2019 71      \n",
              "28   15      6936      23  DE      0      F    81783      04/05/2016 17      \n",
              "29   15      6936      23  DE      0      F    81777      14/04/2016 35      \n",
              "30   16      6942      51  PL      1      F    81834      29/04/2016  0      \n",
              "⋮    ⋮       ⋮         ⋮   ⋮       ⋮      ⋮   ⋮           ⋮          ⋮       \n",
              "971  760     263985    33  FR      0      F   377802      01/10/2021 52      \n",
              "972  761     264003    48  FR      1      F   377929      07/10/2021 14      \n",
              "973  761     264003    48  FR      1      F   377895      27/07/2021 11      \n",
              "974  762     264081    22  BR      1      M   378257      11/08/2021  1      \n",
              "975  763     266259    49  LT      1      M   380224      22/07/2021 13      \n",
              "976  764     267471    29  ES      1      M   381235      31/10/2021 27      \n",
              "977  765     267519    18  MX      0      M   381312      02/08/2021 44      \n",
              "978  766     271545    39  FR      0      M   382976      11/11/2021  6      \n",
              "979  767     272127    31  TR      0      M   383202      28/08/2021 98      \n",
              "980  768     272745    15  MX      0      F   383586      19/09/2021 43      \n",
              "981  769     272985    23  FR      0      F   383662      18/10/2021  2      \n",
              "982  770     273675    38  PT      1      F   383970      18/10/2021  0      \n",
              "983  771     274869    22  PT      0      M   384455      29/11/2021 69      \n",
              "984  772     276699    31  ES      0      F   385216      26/09/2021  6      \n",
              "985  773     276927    27  IT      0      F   385300      12/09/2021 97      \n",
              "986  774     277785    19  PT      0      F   385739      01/10/2021  2      \n",
              "987  775     278181    48  PT      1      F   385847      19/09/2021 32      \n",
              "988  776     280647    50  PL      0      F   386646      01/10/2021 51      \n",
              "989  777     284667    43  FR      0      F   388625      26/10/2021 56      \n",
              "990  778     285267    21  AR      0      M   389133      27/10/2021 69      \n",
              "991  779     285627    49  FR      0      M   389280      04/11/2021  2      \n",
              "992  780     285777    28  FR      0      M   389380      27/12/2021  1      \n",
              "993  781     287973    33  PT      0      F   390065      13/11/2021 28      \n",
              "994  782     291231    25  FR      0      F   391706      25/11/2021 19      \n",
              "995  783     291441    22  FR      1      M   391855      27/11/2021  7      \n",
              "996  784     292287    60  IT      0      M   392163      27/11/2021 14      \n",
              "997  785     292737    25  FR      0      M   392249      19/12/2021  4      \n",
              "998  786     297285    28  FR      1      M   394921      25/12/2021 65      \n",
              "999  787     302223    37  IT      1      F      449      23/12/2021 86      \n",
              "1000 788     304299    23  IT      1      F     1096      29/12/2021 96      \n",
              "     vas_eye vas_asthma rhinitis_medication asthma_medication  \n",
              "1    81      NA         B_single_medication A_no_medication    \n",
              "2    38      NA         C_comedication      A_no_medication    \n",
              "3     5       0         A_no_medication     A_no_medication    \n",
              "4     0       6         A_no_medication     A_no_medication    \n",
              "5     0       2         A_no_medication     A_no_medication    \n",
              "6    25      NA         A_no_medication     A_no_medication    \n",
              "7     3      NA         A_no_medication     A_no_medication    \n",
              "8     0       0         A_no_medication     A_no_medication    \n",
              "9     0       0         A_no_medication     A_no_medication    \n",
              "10   24      NA         A_no_medication     A_no_medication    \n",
              "11   31       8         A_no_medication     B_single_medication\n",
              "12    1       0         A_no_medication     A_no_medication    \n",
              "13    0       0         A_no_medication     A_no_medication    \n",
              "14    0       0         A_no_medication     A_no_medication    \n",
              "15   10      16         C_comedication      A_no_medication    \n",
              "16    0       1         A_no_medication     A_no_medication    \n",
              "17    4      NA         A_no_medication     A_no_medication    \n",
              "18    3       0         B_single_medication A_no_medication    \n",
              "19    9       1         A_no_medication     A_no_medication    \n",
              "20   19       0         C_comedication      A_no_medication    \n",
              "21    1       0         C_comedication      A_no_medication    \n",
              "22    1      NA         B_single_medication A_no_medication    \n",
              "23   53      35         C_comedication      C_comedication     \n",
              "24   61      14         C_comedication      C_comedication     \n",
              "25   64      49         C_comedication      C_comedication     \n",
              "26    7       6         B_single_medication B_single_medication\n",
              "27   18      41         C_comedication      C_comedication     \n",
              "28    9      NA         B_single_medication A_no_medication    \n",
              "29    0      NA         A_no_medication     A_no_medication    \n",
              "30    3       0         C_comedication      A_no_medication    \n",
              "⋮    ⋮       ⋮          ⋮                   ⋮                  \n",
              "971   9      19         B_single_medication B_single_medication\n",
              "972  24       5         B_single_medication A_no_medication    \n",
              "973   6       3         A_no_medication     A_no_medication    \n",
              "974   0       0         B_single_medication A_no_medication    \n",
              "975   1       3         B_single_medication A_no_medication    \n",
              "976  11       1         B_single_medication A_no_medication    \n",
              "977  18       3         C_comedication      A_no_medication    \n",
              "978   0       4         A_no_medication     A_no_medication    \n",
              "979   6      92         B_single_medication C_comedication     \n",
              "980  32       0         B_single_medication A_no_medication    \n",
              "981   2       4         A_no_medication     A_no_medication    \n",
              "982   0       1         A_no_medication     A_no_medication    \n",
              "983  15       0         B_single_medication A_no_medication    \n",
              "984   7      19         A_no_medication     A_no_medication    \n",
              "985   1       0         A_no_medication     A_no_medication    \n",
              "986   5       3         A_no_medication     A_no_medication    \n",
              "987  21      25         A_no_medication     A_no_medication    \n",
              "988  18       2         A_no_medication     A_no_medication    \n",
              "989  47      60         B_single_medication B_single_medication\n",
              "990  49      39         C_comedication      A_no_medication    \n",
              "991   0       1         A_no_medication     A_no_medication    \n",
              "992   0       5         A_no_medication     A_no_medication    \n",
              "993  29       0         A_no_medication     A_no_medication    \n",
              "994   1       4         A_no_medication     A_no_medication    \n",
              "995   2       1         A_no_medication     A_no_medication    \n",
              "996   2       4         C_comedication      A_no_medication    \n",
              "997   2       2         A_no_medication     A_no_medication    \n",
              "998   3       7         A_no_medication     A_no_medication    \n",
              "999  62       3         A_no_medication     A_no_medication    \n",
              "1000 35      12         A_no_medication     A_no_medication    "
            ]
          },
          "metadata": {}
        }
      ]
    },
    {
      "cell_type": "code",
      "source": [
        "x <- mask_air %>% filter(age==17)"
      ],
      "metadata": {
        "id": "2K_jR9yx0113"
      },
      "execution_count": 57,
      "outputs": []
    },
    {
      "cell_type": "code",
      "source": [
        "x"
      ],
      "metadata": {
        "colab": {
          "base_uri": "https://localhost:8080/",
          "height": 349
        },
        "id": "cqtDxqjP1hYA",
        "outputId": "a4898198-9622-4cda-9ac3-a77c121c7916"
      },
      "execution_count": 58,
      "outputs": [
        {
          "output_type": "display_data",
          "data": {
            "text/html": [
              "<table class=\"dataframe\">\n",
              "<caption>A data.frame: 8 × 13</caption>\n",
              "<thead>\n",
              "\t<tr><th scope=col>user_id</th><th scope=col>member_id</th><th scope=col>age</th><th scope=col>country</th><th scope=col>asthma</th><th scope=col>sex</th><th scope=col>symptoms_id</th><th scope=col>date</th><th scope=col>vas_nose</th><th scope=col>vas_eye</th><th scope=col>vas_asthma</th><th scope=col>rhinitis_medication</th><th scope=col>asthma_medication</th></tr>\n",
              "\t<tr><th scope=col>&lt;int&gt;</th><th scope=col>&lt;int&gt;</th><th scope=col>&lt;int&gt;</th><th scope=col>&lt;chr&gt;</th><th scope=col>&lt;int&gt;</th><th scope=col>&lt;chr&gt;</th><th scope=col>&lt;int&gt;</th><th scope=col>&lt;chr&gt;</th><th scope=col>&lt;int&gt;</th><th scope=col>&lt;int&gt;</th><th scope=col>&lt;int&gt;</th><th scope=col>&lt;chr&gt;</th><th scope=col>&lt;chr&gt;</th></tr>\n",
              "</thead>\n",
              "<tbody>\n",
              "\t<tr><td> 52</td><td> 32016</td><td>17</td><td>AU</td><td>1</td><td>F</td><td>  4709</td><td>29/01/2017</td><td>58</td><td> 1</td><td> 4</td><td>B_single_medication</td><td>A_no_medication</td></tr>\n",
              "\t<tr><td>125</td><td> 63681</td><td>17</td><td>MX</td><td>0</td><td>F</td><td> 55805</td><td>28/05/2017</td><td>18</td><td>39</td><td> 0</td><td>A_no_medication    </td><td>A_no_medication</td></tr>\n",
              "\t<tr><td>134</td><td> 65547</td><td>17</td><td>MX</td><td>0</td><td>M</td><td> 59198</td><td>05/07/2017</td><td>27</td><td>14</td><td>40</td><td>A_no_medication    </td><td>A_no_medication</td></tr>\n",
              "\t<tr><td>210</td><td> 85389</td><td>17</td><td>BR</td><td>0</td><td>F</td><td> 97891</td><td>06/02/2018</td><td>85</td><td> 2</td><td>26</td><td>C_comedication     </td><td>A_no_medication</td></tr>\n",
              "\t<tr><td>220</td><td> 87435</td><td>17</td><td>BR</td><td>1</td><td>M</td><td>102591</td><td>15/10/2017</td><td>49</td><td>33</td><td>10</td><td>B_single_medication</td><td>A_no_medication</td></tr>\n",
              "\t<tr><td>263</td><td> 99783</td><td>17</td><td>MX</td><td>0</td><td>M</td><td>124047</td><td>26/06/2018</td><td>30</td><td>43</td><td>27</td><td>A_no_medication    </td><td>A_no_medication</td></tr>\n",
              "\t<tr><td>313</td><td>108681</td><td>17</td><td>NL</td><td>0</td><td>F</td><td>150251</td><td>06/05/2018</td><td> 0</td><td>11</td><td> 7</td><td>B_single_medication</td><td>C_comedication </td></tr>\n",
              "\t<tr><td>460</td><td>156729</td><td>17</td><td>MX</td><td>0</td><td>M</td><td>223767</td><td>17/03/2019</td><td> 0</td><td> 0</td><td> 0</td><td>C_comedication     </td><td>A_no_medication</td></tr>\n",
              "</tbody>\n",
              "</table>\n"
            ],
            "text/markdown": "\nA data.frame: 8 × 13\n\n| user_id &lt;int&gt; | member_id &lt;int&gt; | age &lt;int&gt; | country &lt;chr&gt; | asthma &lt;int&gt; | sex &lt;chr&gt; | symptoms_id &lt;int&gt; | date &lt;chr&gt; | vas_nose &lt;int&gt; | vas_eye &lt;int&gt; | vas_asthma &lt;int&gt; | rhinitis_medication &lt;chr&gt; | asthma_medication &lt;chr&gt; |\n|---|---|---|---|---|---|---|---|---|---|---|---|---|\n|  52 |  32016 | 17 | AU | 1 | F |   4709 | 29/01/2017 | 58 |  1 |  4 | B_single_medication | A_no_medication |\n| 125 |  63681 | 17 | MX | 0 | F |  55805 | 28/05/2017 | 18 | 39 |  0 | A_no_medication     | A_no_medication |\n| 134 |  65547 | 17 | MX | 0 | M |  59198 | 05/07/2017 | 27 | 14 | 40 | A_no_medication     | A_no_medication |\n| 210 |  85389 | 17 | BR | 0 | F |  97891 | 06/02/2018 | 85 |  2 | 26 | C_comedication      | A_no_medication |\n| 220 |  87435 | 17 | BR | 1 | M | 102591 | 15/10/2017 | 49 | 33 | 10 | B_single_medication | A_no_medication |\n| 263 |  99783 | 17 | MX | 0 | M | 124047 | 26/06/2018 | 30 | 43 | 27 | A_no_medication     | A_no_medication |\n| 313 | 108681 | 17 | NL | 0 | F | 150251 | 06/05/2018 |  0 | 11 |  7 | B_single_medication | C_comedication  |\n| 460 | 156729 | 17 | MX | 0 | M | 223767 | 17/03/2019 |  0 |  0 |  0 | C_comedication      | A_no_medication |\n\n",
            "text/latex": "A data.frame: 8 × 13\n\\begin{tabular}{lllllllllllll}\n user\\_id & member\\_id & age & country & asthma & sex & symptoms\\_id & date & vas\\_nose & vas\\_eye & vas\\_asthma & rhinitis\\_medication & asthma\\_medication\\\\\n <int> & <int> & <int> & <chr> & <int> & <chr> & <int> & <chr> & <int> & <int> & <int> & <chr> & <chr>\\\\\n\\hline\n\t  52 &  32016 & 17 & AU & 1 & F &   4709 & 29/01/2017 & 58 &  1 &  4 & B\\_single\\_medication & A\\_no\\_medication\\\\\n\t 125 &  63681 & 17 & MX & 0 & F &  55805 & 28/05/2017 & 18 & 39 &  0 & A\\_no\\_medication     & A\\_no\\_medication\\\\\n\t 134 &  65547 & 17 & MX & 0 & M &  59198 & 05/07/2017 & 27 & 14 & 40 & A\\_no\\_medication     & A\\_no\\_medication\\\\\n\t 210 &  85389 & 17 & BR & 0 & F &  97891 & 06/02/2018 & 85 &  2 & 26 & C\\_comedication      & A\\_no\\_medication\\\\\n\t 220 &  87435 & 17 & BR & 1 & M & 102591 & 15/10/2017 & 49 & 33 & 10 & B\\_single\\_medication & A\\_no\\_medication\\\\\n\t 263 &  99783 & 17 & MX & 0 & M & 124047 & 26/06/2018 & 30 & 43 & 27 & A\\_no\\_medication     & A\\_no\\_medication\\\\\n\t 313 & 108681 & 17 & NL & 0 & F & 150251 & 06/05/2018 &  0 & 11 &  7 & B\\_single\\_medication & C\\_comedication \\\\\n\t 460 & 156729 & 17 & MX & 0 & M & 223767 & 17/03/2019 &  0 &  0 &  0 & C\\_comedication      & A\\_no\\_medication\\\\\n\\end{tabular}\n",
            "text/plain": [
              "  user_id member_id age country asthma sex symptoms_id date       vas_nose\n",
              "1  52      32016    17  AU      1      F     4709      29/01/2017 58      \n",
              "2 125      63681    17  MX      0      F    55805      28/05/2017 18      \n",
              "3 134      65547    17  MX      0      M    59198      05/07/2017 27      \n",
              "4 210      85389    17  BR      0      F    97891      06/02/2018 85      \n",
              "5 220      87435    17  BR      1      M   102591      15/10/2017 49      \n",
              "6 263      99783    17  MX      0      M   124047      26/06/2018 30      \n",
              "7 313     108681    17  NL      0      F   150251      06/05/2018  0      \n",
              "8 460     156729    17  MX      0      M   223767      17/03/2019  0      \n",
              "  vas_eye vas_asthma rhinitis_medication asthma_medication\n",
              "1  1       4         B_single_medication A_no_medication  \n",
              "2 39       0         A_no_medication     A_no_medication  \n",
              "3 14      40         A_no_medication     A_no_medication  \n",
              "4  2      26         C_comedication      A_no_medication  \n",
              "5 33      10         B_single_medication A_no_medication  \n",
              "6 43      27         A_no_medication     A_no_medication  \n",
              "7 11       7         B_single_medication C_comedication   \n",
              "8  0       0         C_comedication      A_no_medication  "
            ]
          },
          "metadata": {}
        }
      ]
    },
    {
      "cell_type": "code",
      "source": [
        "# 1.4. Indique quantos utilizadores únicos com 17 anos de idade ou menos existem nesta base de dados\n",
        "mask_air1p4 <- filter(mask_air, age == 17)"
      ],
      "metadata": {
        "id": "OpJhdEGdyQ0Z"
      },
      "execution_count": 53,
      "outputs": []
    },
    {
      "cell_type": "code",
      "source": [
        "mask_air1p4"
      ],
      "metadata": {
        "colab": {
          "base_uri": "https://localhost:8080/",
          "height": 349
        },
        "id": "_YDpDwNZ1aoh",
        "outputId": "a326f2b4-fcde-4f6a-d889-23280aebd8d3"
      },
      "execution_count": 54,
      "outputs": [
        {
          "output_type": "display_data",
          "data": {
            "text/html": [
              "<table class=\"dataframe\">\n",
              "<caption>A data.frame: 8 × 13</caption>\n",
              "<thead>\n",
              "\t<tr><th scope=col>user_id</th><th scope=col>member_id</th><th scope=col>age</th><th scope=col>country</th><th scope=col>asthma</th><th scope=col>sex</th><th scope=col>symptoms_id</th><th scope=col>date</th><th scope=col>vas_nose</th><th scope=col>vas_eye</th><th scope=col>vas_asthma</th><th scope=col>rhinitis_medication</th><th scope=col>asthma_medication</th></tr>\n",
              "\t<tr><th scope=col>&lt;int&gt;</th><th scope=col>&lt;int&gt;</th><th scope=col>&lt;int&gt;</th><th scope=col>&lt;chr&gt;</th><th scope=col>&lt;int&gt;</th><th scope=col>&lt;chr&gt;</th><th scope=col>&lt;int&gt;</th><th scope=col>&lt;chr&gt;</th><th scope=col>&lt;int&gt;</th><th scope=col>&lt;int&gt;</th><th scope=col>&lt;int&gt;</th><th scope=col>&lt;chr&gt;</th><th scope=col>&lt;chr&gt;</th></tr>\n",
              "</thead>\n",
              "<tbody>\n",
              "\t<tr><td> 52</td><td> 32016</td><td>17</td><td>AU</td><td>1</td><td>F</td><td>  4709</td><td>29/01/2017</td><td>58</td><td> 1</td><td> 4</td><td>B_single_medication</td><td>A_no_medication</td></tr>\n",
              "\t<tr><td>125</td><td> 63681</td><td>17</td><td>MX</td><td>0</td><td>F</td><td> 55805</td><td>28/05/2017</td><td>18</td><td>39</td><td> 0</td><td>A_no_medication    </td><td>A_no_medication</td></tr>\n",
              "\t<tr><td>134</td><td> 65547</td><td>17</td><td>MX</td><td>0</td><td>M</td><td> 59198</td><td>05/07/2017</td><td>27</td><td>14</td><td>40</td><td>A_no_medication    </td><td>A_no_medication</td></tr>\n",
              "\t<tr><td>210</td><td> 85389</td><td>17</td><td>BR</td><td>0</td><td>F</td><td> 97891</td><td>06/02/2018</td><td>85</td><td> 2</td><td>26</td><td>C_comedication     </td><td>A_no_medication</td></tr>\n",
              "\t<tr><td>220</td><td> 87435</td><td>17</td><td>BR</td><td>1</td><td>M</td><td>102591</td><td>15/10/2017</td><td>49</td><td>33</td><td>10</td><td>B_single_medication</td><td>A_no_medication</td></tr>\n",
              "\t<tr><td>263</td><td> 99783</td><td>17</td><td>MX</td><td>0</td><td>M</td><td>124047</td><td>26/06/2018</td><td>30</td><td>43</td><td>27</td><td>A_no_medication    </td><td>A_no_medication</td></tr>\n",
              "\t<tr><td>313</td><td>108681</td><td>17</td><td>NL</td><td>0</td><td>F</td><td>150251</td><td>06/05/2018</td><td> 0</td><td>11</td><td> 7</td><td>B_single_medication</td><td>C_comedication </td></tr>\n",
              "\t<tr><td>460</td><td>156729</td><td>17</td><td>MX</td><td>0</td><td>M</td><td>223767</td><td>17/03/2019</td><td> 0</td><td> 0</td><td> 0</td><td>C_comedication     </td><td>A_no_medication</td></tr>\n",
              "</tbody>\n",
              "</table>\n"
            ],
            "text/markdown": "\nA data.frame: 8 × 13\n\n| user_id &lt;int&gt; | member_id &lt;int&gt; | age &lt;int&gt; | country &lt;chr&gt; | asthma &lt;int&gt; | sex &lt;chr&gt; | symptoms_id &lt;int&gt; | date &lt;chr&gt; | vas_nose &lt;int&gt; | vas_eye &lt;int&gt; | vas_asthma &lt;int&gt; | rhinitis_medication &lt;chr&gt; | asthma_medication &lt;chr&gt; |\n|---|---|---|---|---|---|---|---|---|---|---|---|---|\n|  52 |  32016 | 17 | AU | 1 | F |   4709 | 29/01/2017 | 58 |  1 |  4 | B_single_medication | A_no_medication |\n| 125 |  63681 | 17 | MX | 0 | F |  55805 | 28/05/2017 | 18 | 39 |  0 | A_no_medication     | A_no_medication |\n| 134 |  65547 | 17 | MX | 0 | M |  59198 | 05/07/2017 | 27 | 14 | 40 | A_no_medication     | A_no_medication |\n| 210 |  85389 | 17 | BR | 0 | F |  97891 | 06/02/2018 | 85 |  2 | 26 | C_comedication      | A_no_medication |\n| 220 |  87435 | 17 | BR | 1 | M | 102591 | 15/10/2017 | 49 | 33 | 10 | B_single_medication | A_no_medication |\n| 263 |  99783 | 17 | MX | 0 | M | 124047 | 26/06/2018 | 30 | 43 | 27 | A_no_medication     | A_no_medication |\n| 313 | 108681 | 17 | NL | 0 | F | 150251 | 06/05/2018 |  0 | 11 |  7 | B_single_medication | C_comedication  |\n| 460 | 156729 | 17 | MX | 0 | M | 223767 | 17/03/2019 |  0 |  0 |  0 | C_comedication      | A_no_medication |\n\n",
            "text/latex": "A data.frame: 8 × 13\n\\begin{tabular}{lllllllllllll}\n user\\_id & member\\_id & age & country & asthma & sex & symptoms\\_id & date & vas\\_nose & vas\\_eye & vas\\_asthma & rhinitis\\_medication & asthma\\_medication\\\\\n <int> & <int> & <int> & <chr> & <int> & <chr> & <int> & <chr> & <int> & <int> & <int> & <chr> & <chr>\\\\\n\\hline\n\t  52 &  32016 & 17 & AU & 1 & F &   4709 & 29/01/2017 & 58 &  1 &  4 & B\\_single\\_medication & A\\_no\\_medication\\\\\n\t 125 &  63681 & 17 & MX & 0 & F &  55805 & 28/05/2017 & 18 & 39 &  0 & A\\_no\\_medication     & A\\_no\\_medication\\\\\n\t 134 &  65547 & 17 & MX & 0 & M &  59198 & 05/07/2017 & 27 & 14 & 40 & A\\_no\\_medication     & A\\_no\\_medication\\\\\n\t 210 &  85389 & 17 & BR & 0 & F &  97891 & 06/02/2018 & 85 &  2 & 26 & C\\_comedication      & A\\_no\\_medication\\\\\n\t 220 &  87435 & 17 & BR & 1 & M & 102591 & 15/10/2017 & 49 & 33 & 10 & B\\_single\\_medication & A\\_no\\_medication\\\\\n\t 263 &  99783 & 17 & MX & 0 & M & 124047 & 26/06/2018 & 30 & 43 & 27 & A\\_no\\_medication     & A\\_no\\_medication\\\\\n\t 313 & 108681 & 17 & NL & 0 & F & 150251 & 06/05/2018 &  0 & 11 &  7 & B\\_single\\_medication & C\\_comedication \\\\\n\t 460 & 156729 & 17 & MX & 0 & M & 223767 & 17/03/2019 &  0 &  0 &  0 & C\\_comedication      & A\\_no\\_medication\\\\\n\\end{tabular}\n",
            "text/plain": [
              "  user_id member_id age country asthma sex symptoms_id date       vas_nose\n",
              "1  52      32016    17  AU      1      F     4709      29/01/2017 58      \n",
              "2 125      63681    17  MX      0      F    55805      28/05/2017 18      \n",
              "3 134      65547    17  MX      0      M    59198      05/07/2017 27      \n",
              "4 210      85389    17  BR      0      F    97891      06/02/2018 85      \n",
              "5 220      87435    17  BR      1      M   102591      15/10/2017 49      \n",
              "6 263      99783    17  MX      0      M   124047      26/06/2018 30      \n",
              "7 313     108681    17  NL      0      F   150251      06/05/2018  0      \n",
              "8 460     156729    17  MX      0      M   223767      17/03/2019  0      \n",
              "  vas_eye vas_asthma rhinitis_medication asthma_medication\n",
              "1  1       4         B_single_medication A_no_medication  \n",
              "2 39       0         A_no_medication     A_no_medication  \n",
              "3 14      40         A_no_medication     A_no_medication  \n",
              "4  2      26         C_comedication      A_no_medication  \n",
              "5 33      10         B_single_medication A_no_medication  \n",
              "6 43      27         A_no_medication     A_no_medication  \n",
              "7 11       7         B_single_medication C_comedication   \n",
              "8  0       0         C_comedication      A_no_medication  "
            ]
          },
          "metadata": {}
        }
      ]
    },
    {
      "cell_type": "code",
      "source": [
        "?mean\n"
      ],
      "metadata": {
        "id": "EhgLuCGpR96v"
      },
      "execution_count": 114,
      "outputs": []
    },
    {
      "cell_type": "code",
      "source": [
        "su_df['asthma']"
      ],
      "metadata": {
        "id": "Eq4H88DwT2ci",
        "outputId": "70b9ed1d-f3de-4668-8a06-49e382d4e372",
        "colab": {
          "base_uri": "https://localhost:8080/",
          "height": 1000
        }
      },
      "execution_count": 133,
      "outputs": [
        {
          "output_type": "display_data",
          "data": {
            "text/html": [
              "<table class=\"dataframe\">\n",
              "<caption>A data.frame: 788 × 1</caption>\n",
              "<thead>\n",
              "\t<tr><th scope=col>asthma</th></tr>\n",
              "\t<tr><th scope=col>&lt;int&gt;</th></tr>\n",
              "</thead>\n",
              "<tbody>\n",
              "\t<tr><td>0</td></tr>\n",
              "\t<tr><td>1</td></tr>\n",
              "\t<tr><td>0</td></tr>\n",
              "\t<tr><td>1</td></tr>\n",
              "\t<tr><td>1</td></tr>\n",
              "\t<tr><td>0</td></tr>\n",
              "\t<tr><td>0</td></tr>\n",
              "\t<tr><td>1</td></tr>\n",
              "\t<tr><td>0</td></tr>\n",
              "\t<tr><td>1</td></tr>\n",
              "\t<tr><td>0</td></tr>\n",
              "\t<tr><td>0</td></tr>\n",
              "\t<tr><td>0</td></tr>\n",
              "\t<tr><td>1</td></tr>\n",
              "\t<tr><td>0</td></tr>\n",
              "\t<tr><td>1</td></tr>\n",
              "\t<tr><td>1</td></tr>\n",
              "\t<tr><td>1</td></tr>\n",
              "\t<tr><td>0</td></tr>\n",
              "\t<tr><td>0</td></tr>\n",
              "\t<tr><td>0</td></tr>\n",
              "\t<tr><td>0</td></tr>\n",
              "\t<tr><td>0</td></tr>\n",
              "\t<tr><td>0</td></tr>\n",
              "\t<tr><td>1</td></tr>\n",
              "\t<tr><td>1</td></tr>\n",
              "\t<tr><td>0</td></tr>\n",
              "\t<tr><td>1</td></tr>\n",
              "\t<tr><td>1</td></tr>\n",
              "\t<tr><td>1</td></tr>\n",
              "\t<tr><td>⋮</td></tr>\n",
              "\t<tr><td>0</td></tr>\n",
              "\t<tr><td>0</td></tr>\n",
              "\t<tr><td>1</td></tr>\n",
              "\t<tr><td>1</td></tr>\n",
              "\t<tr><td>1</td></tr>\n",
              "\t<tr><td>1</td></tr>\n",
              "\t<tr><td>0</td></tr>\n",
              "\t<tr><td>0</td></tr>\n",
              "\t<tr><td>0</td></tr>\n",
              "\t<tr><td>0</td></tr>\n",
              "\t<tr><td>0</td></tr>\n",
              "\t<tr><td>1</td></tr>\n",
              "\t<tr><td>0</td></tr>\n",
              "\t<tr><td>0</td></tr>\n",
              "\t<tr><td>0</td></tr>\n",
              "\t<tr><td>0</td></tr>\n",
              "\t<tr><td>1</td></tr>\n",
              "\t<tr><td>0</td></tr>\n",
              "\t<tr><td>0</td></tr>\n",
              "\t<tr><td>0</td></tr>\n",
              "\t<tr><td>0</td></tr>\n",
              "\t<tr><td>0</td></tr>\n",
              "\t<tr><td>0</td></tr>\n",
              "\t<tr><td>0</td></tr>\n",
              "\t<tr><td>1</td></tr>\n",
              "\t<tr><td>0</td></tr>\n",
              "\t<tr><td>0</td></tr>\n",
              "\t<tr><td>1</td></tr>\n",
              "\t<tr><td>1</td></tr>\n",
              "\t<tr><td>1</td></tr>\n",
              "</tbody>\n",
              "</table>\n"
            ],
            "text/markdown": "\nA data.frame: 788 × 1\n\n| asthma &lt;int&gt; |\n|---|\n| 0 |\n| 1 |\n| 0 |\n| 1 |\n| 1 |\n| 0 |\n| 0 |\n| 1 |\n| 0 |\n| 1 |\n| 0 |\n| 0 |\n| 0 |\n| 1 |\n| 0 |\n| 1 |\n| 1 |\n| 1 |\n| 0 |\n| 0 |\n| 0 |\n| 0 |\n| 0 |\n| 0 |\n| 1 |\n| 1 |\n| 0 |\n| 1 |\n| 1 |\n| 1 |\n| ⋮ |\n| 0 |\n| 0 |\n| 1 |\n| 1 |\n| 1 |\n| 1 |\n| 0 |\n| 0 |\n| 0 |\n| 0 |\n| 0 |\n| 1 |\n| 0 |\n| 0 |\n| 0 |\n| 0 |\n| 1 |\n| 0 |\n| 0 |\n| 0 |\n| 0 |\n| 0 |\n| 0 |\n| 0 |\n| 1 |\n| 0 |\n| 0 |\n| 1 |\n| 1 |\n| 1 |\n\n",
            "text/latex": "A data.frame: 788 × 1\n\\begin{tabular}{l}\n asthma\\\\\n <int>\\\\\n\\hline\n\t 0\\\\\n\t 1\\\\\n\t 0\\\\\n\t 1\\\\\n\t 1\\\\\n\t 0\\\\\n\t 0\\\\\n\t 1\\\\\n\t 0\\\\\n\t 1\\\\\n\t 0\\\\\n\t 0\\\\\n\t 0\\\\\n\t 1\\\\\n\t 0\\\\\n\t 1\\\\\n\t 1\\\\\n\t 1\\\\\n\t 0\\\\\n\t 0\\\\\n\t 0\\\\\n\t 0\\\\\n\t 0\\\\\n\t 0\\\\\n\t 1\\\\\n\t 1\\\\\n\t 0\\\\\n\t 1\\\\\n\t 1\\\\\n\t 1\\\\\n\t ⋮\\\\\n\t 0\\\\\n\t 0\\\\\n\t 1\\\\\n\t 1\\\\\n\t 1\\\\\n\t 1\\\\\n\t 0\\\\\n\t 0\\\\\n\t 0\\\\\n\t 0\\\\\n\t 0\\\\\n\t 1\\\\\n\t 0\\\\\n\t 0\\\\\n\t 0\\\\\n\t 0\\\\\n\t 1\\\\\n\t 0\\\\\n\t 0\\\\\n\t 0\\\\\n\t 0\\\\\n\t 0\\\\\n\t 0\\\\\n\t 0\\\\\n\t 1\\\\\n\t 0\\\\\n\t 0\\\\\n\t 1\\\\\n\t 1\\\\\n\t 1\\\\\n\\end{tabular}\n",
            "text/plain": [
              "    asthma\n",
              "1   0     \n",
              "2   1     \n",
              "3   0     \n",
              "4   1     \n",
              "5   1     \n",
              "6   0     \n",
              "7   0     \n",
              "8   1     \n",
              "9   0     \n",
              "10  1     \n",
              "11  0     \n",
              "12  0     \n",
              "13  0     \n",
              "14  1     \n",
              "15  0     \n",
              "16  1     \n",
              "17  1     \n",
              "18  1     \n",
              "19  0     \n",
              "20  0     \n",
              "21  0     \n",
              "22  0     \n",
              "23  0     \n",
              "24  0     \n",
              "25  1     \n",
              "26  1     \n",
              "27  0     \n",
              "28  1     \n",
              "29  1     \n",
              "30  1     \n",
              "⋮   ⋮     \n",
              "759 0     \n",
              "760 0     \n",
              "761 1     \n",
              "762 1     \n",
              "763 1     \n",
              "764 1     \n",
              "765 0     \n",
              "766 0     \n",
              "767 0     \n",
              "768 0     \n",
              "769 0     \n",
              "770 1     \n",
              "771 0     \n",
              "772 0     \n",
              "773 0     \n",
              "774 0     \n",
              "775 1     \n",
              "776 0     \n",
              "777 0     \n",
              "778 0     \n",
              "779 0     \n",
              "780 0     \n",
              "781 0     \n",
              "782 0     \n",
              "783 1     \n",
              "784 0     \n",
              "785 0     \n",
              "786 1     \n",
              "787 1     \n",
              "788 1     "
            ]
          },
          "metadata": {}
        }
      ]
    },
    {
      "cell_type": "code",
      "source": [
        "# 1.5. Calcule o valor mediano e o âmbito interquartil da variável vas_asthma para utilizadores com e sem asma.\n",
        "\n",
        "result.mean <- mean(su_df['asthma'])#,trim = 0.25)"
      ],
      "metadata": {
        "colab": {
          "base_uri": "https://localhost:8080/"
        },
        "id": "BDy_FRWd1qyv",
        "outputId": "cfb372d2-4c36-4f14-9db5-a45c24fd099c"
      },
      "execution_count": 131,
      "outputs": [
        {
          "output_type": "stream",
          "name": "stderr",
          "text": [
            "Warning message in mean.default(su_df[\"asthma\"]):\n",
            "“argument is not numeric or logical: returning NA”\n"
          ]
        }
      ]
    },
    {
      "cell_type": "code",
      "source": [
        "mean(su_df$asthma)"
      ],
      "metadata": {
        "id": "es9rc7P9Uswf",
        "outputId": "04c56957-172a-42b3-aac4-c93f603de7c1",
        "colab": {
          "base_uri": "https://localhost:8080/",
          "height": 34
        }
      },
      "execution_count": 134,
      "outputs": [
        {
          "output_type": "display_data",
          "data": {
            "text/html": [
              "0.374365482233503"
            ],
            "text/markdown": "0.374365482233503",
            "text/latex": "0.374365482233503",
            "text/plain": [
              "[1] 0.3743655"
            ]
          },
          "metadata": {}
        }
      ]
    },
    {
      "cell_type": "code",
      "source": [
        "sem_asthma <- filter(mask_air, asthma == 0)"
      ],
      "metadata": {
        "id": "odCOA959V25v"
      },
      "execution_count": 136,
      "outputs": []
    },
    {
      "cell_type": "code",
      "source": [
        "com_asthma <- filter(mask_air, asthma == 1)"
      ],
      "metadata": {
        "id": "vVDAs6pNWFIt"
      },
      "execution_count": 137,
      "outputs": []
    },
    {
      "cell_type": "code",
      "source": [
        "sem_asthma$vas_asthma"
      ],
      "metadata": {
        "id": "70n9JwrXWpee",
        "outputId": "caf361b1-05a7-4eb9-f631-4e98c0d5b0e7",
        "colab": {
          "base_uri": "https://localhost:8080/",
          "height": 173
        }
      },
      "execution_count": 141,
      "outputs": [
        {
          "output_type": "display_data",
          "data": {
            "text/html": [
              "<style>\n",
              ".list-inline {list-style: none; margin:0; padding: 0}\n",
              ".list-inline>li {display: inline-block}\n",
              ".list-inline>li:not(:last-child)::after {content: \"\\00b7\"; padding: 0 .5ex}\n",
              "</style>\n",
              "<ol class=list-inline><li>&lt;NA&gt;</li><li>0</li><li>6</li><li>2</li><li>&lt;NA&gt;</li><li>8</li><li>16</li><li>0</li><li>1</li><li>0</li><li>0</li><li>&lt;NA&gt;</li><li>&lt;NA&gt;</li><li>&lt;NA&gt;</li><li>15</li><li>0</li><li>14</li><li>98</li><li>5</li><li>&lt;NA&gt;</li><li>&lt;NA&gt;</li><li>16</li><li>9</li><li>0</li><li>1</li><li>0</li><li>1</li><li>1</li><li>2</li><li>1</li><li>3</li><li>1</li><li>0</li><li>12</li><li>0</li><li>18</li><li>0</li><li>11</li><li>0</li><li>3</li><li>10</li><li>84</li><li>0</li><li>18</li><li>1</li><li>0</li><li>17</li><li>7</li><li>42</li><li>2</li><li>0</li><li>0</li><li>4</li><li>0</li><li>10</li><li>0</li><li>0</li><li>1</li><li>0</li><li>0</li><li>2</li><li>6</li><li>0</li><li>0</li><li>2</li><li>0</li><li>0</li><li>0</li><li>2</li><li>7</li><li>3</li><li>32</li><li>3</li><li>21</li><li>3</li><li>99</li><li>4</li><li>14</li><li>0</li><li>0</li><li>0</li><li>3</li><li>0</li><li>0</li><li>11</li><li>18</li><li>6</li><li>1</li><li>0</li><li>4</li><li>0</li><li>48</li><li>51</li><li>66</li><li>4</li><li>32</li><li>1</li><li>1</li><li>5</li><li>0</li><li>0</li><li>0</li><li>0</li><li>2</li><li>3</li><li>0</li><li>2</li><li>0</li><li>0</li><li>4</li><li>30</li><li>8</li><li>14</li><li>7</li><li>10</li><li>40</li><li>0</li><li>5</li><li>0</li><li>3</li><li>2</li><li>0</li><li>0</li><li>0</li><li>1</li><li>3</li><li>0</li><li>0</li><li>0</li><li>0</li><li>3</li><li>0</li><li>3</li><li>0</li><li>0</li><li>7</li><li>61</li><li>13</li><li>3</li><li>0</li><li>0</li><li>3</li><li>3</li><li>0</li><li>22</li><li>0</li><li>3</li><li>0</li><li>5</li><li>46</li><li>8</li><li>10</li><li>0</li><li>0</li><li>16</li><li>11</li><li>0</li><li>4</li><li>0</li><li>1</li><li>4</li><li>0</li><li>12</li><li>3</li><li>1</li><li>0</li><li>1</li><li>0</li><li>3</li><li>0</li><li>0</li><li>0</li><li>0</li><li>0</li><li>0</li><li>26</li><li>3</li><li>0</li><li>0</li><li>0</li><li>0</li><li>3</li><li>0</li><li>5</li><li>4</li><li>0</li><li>2</li><li>4</li><li>0</li><li>2</li><li>0</li><li>3</li><li>0</li><li>3</li><li>64</li><li>2</li><li>4</li><li>0</li><li>23</li><li>26</li><li>⋯</li><li>12</li><li>4</li><li>19</li><li>16</li><li>1</li><li>4</li><li>10</li><li>0</li><li>5</li><li>21</li><li>6</li><li>13</li><li>17</li><li>3</li><li>0</li><li>3</li><li>0</li><li>3</li><li>0</li><li>0</li><li>3</li><li>16</li><li>12</li><li>0</li><li>7</li><li>2</li><li>8</li><li>1</li><li>11</li><li>0</li><li>2</li><li>0</li><li>1</li><li>7</li><li>23</li><li>26</li><li>30</li><li>6</li><li>0</li><li>3</li><li>0</li><li>0</li><li>4</li><li>9</li><li>15</li><li>0</li><li>0</li><li>25</li><li>0</li><li>25</li><li>3</li><li>34</li><li>2</li><li>30</li><li>19</li><li>4</li><li>2</li><li>16</li><li>48</li><li>4</li><li>3</li><li>60</li><li>50</li><li>54</li><li>71</li><li>77</li><li>51</li><li>19</li><li>42</li><li>2</li><li>3</li><li>3</li><li>22</li><li>15</li><li>6</li><li>11</li><li>14</li><li>17</li><li>16</li><li>15</li><li>91</li><li>1</li><li>75</li><li>0</li><li>31</li><li>7</li><li>0</li><li>2</li><li>40</li><li>29</li><li>35</li><li>0</li><li>0</li><li>2</li><li>2</li><li>3</li><li>2</li><li>5</li><li>19</li><li>0</li><li>2</li><li>0</li><li>67</li><li>37</li><li>44</li><li>0</li><li>0</li><li>3</li><li>21</li><li>0</li><li>0</li><li>8</li><li>9</li><li>0</li><li>6</li><li>2</li><li>3</li><li>4</li><li>1</li><li>3</li><li>3</li><li>1</li><li>1</li><li>0</li><li>0</li><li>6</li><li>0</li><li>2</li><li>0</li><li>10</li><li>18</li><li>5</li><li>6</li><li>1</li><li>4</li><li>0</li><li>2</li><li>3</li><li>25</li><li>8</li><li>80</li><li>25</li><li>17</li><li>3</li><li>3</li><li>0</li><li>0</li><li>1</li><li>8</li><li>1</li><li>8</li><li>0</li><li>7</li><li>0</li><li>77</li><li>1</li><li>20</li><li>2</li><li>0</li><li>0</li><li>9</li><li>8</li><li>2</li><li>0</li><li>76</li><li>7</li><li>15</li><li>21</li><li>6</li><li>12</li><li>34</li><li>2</li><li>53</li><li>4</li><li>0</li><li>77</li><li>13</li><li>9</li><li>25</li><li>5</li><li>1</li><li>19</li><li>3</li><li>4</li><li>92</li><li>0</li><li>4</li><li>0</li><li>19</li><li>0</li><li>3</li><li>2</li><li>60</li><li>39</li><li>1</li><li>5</li><li>0</li><li>4</li><li>4</li><li>2</li></ol>\n"
            ],
            "text/markdown": "1. &lt;NA&gt;\n2. 0\n3. 6\n4. 2\n5. &lt;NA&gt;\n6. 8\n7. 16\n8. 0\n9. 1\n10. 0\n11. 0\n12. &lt;NA&gt;\n13. &lt;NA&gt;\n14. &lt;NA&gt;\n15. 15\n16. 0\n17. 14\n18. 98\n19. 5\n20. &lt;NA&gt;\n21. &lt;NA&gt;\n22. 16\n23. 9\n24. 0\n25. 1\n26. 0\n27. 1\n28. 1\n29. 2\n30. 1\n31. 3\n32. 1\n33. 0\n34. 12\n35. 0\n36. 18\n37. 0\n38. 11\n39. 0\n40. 3\n41. 10\n42. 84\n43. 0\n44. 18\n45. 1\n46. 0\n47. 17\n48. 7\n49. 42\n50. 2\n51. 0\n52. 0\n53. 4\n54. 0\n55. 10\n56. 0\n57. 0\n58. 1\n59. 0\n60. 0\n61. 2\n62. 6\n63. 0\n64. 0\n65. 2\n66. 0\n67. 0\n68. 0\n69. 2\n70. 7\n71. 3\n72. 32\n73. 3\n74. 21\n75. 3\n76. 99\n77. 4\n78. 14\n79. 0\n80. 0\n81. 0\n82. 3\n83. 0\n84. 0\n85. 11\n86. 18\n87. 6\n88. 1\n89. 0\n90. 4\n91. 0\n92. 48\n93. 51\n94. 66\n95. 4\n96. 32\n97. 1\n98. 1\n99. 5\n100. 0\n101. 0\n102. 0\n103. 0\n104. 2\n105. 3\n106. 0\n107. 2\n108. 0\n109. 0\n110. 4\n111. 30\n112. 8\n113. 14\n114. 7\n115. 10\n116. 40\n117. 0\n118. 5\n119. 0\n120. 3\n121. 2\n122. 0\n123. 0\n124. 0\n125. 1\n126. 3\n127. 0\n128. 0\n129. 0\n130. 0\n131. 3\n132. 0\n133. 3\n134. 0\n135. 0\n136. 7\n137. 61\n138. 13\n139. 3\n140. 0\n141. 0\n142. 3\n143. 3\n144. 0\n145. 22\n146. 0\n147. 3\n148. 0\n149. 5\n150. 46\n151. 8\n152. 10\n153. 0\n154. 0\n155. 16\n156. 11\n157. 0\n158. 4\n159. 0\n160. 1\n161. 4\n162. 0\n163. 12\n164. 3\n165. 1\n166. 0\n167. 1\n168. 0\n169. 3\n170. 0\n171. 0\n172. 0\n173. 0\n174. 0\n175. 0\n176. 26\n177. 3\n178. 0\n179. 0\n180. 0\n181. 0\n182. 3\n183. 0\n184. 5\n185. 4\n186. 0\n187. 2\n188. 4\n189. 0\n190. 2\n191. 0\n192. 3\n193. 0\n194. 3\n195. 64\n196. 2\n197. 4\n198. 0\n199. 23\n200. 26\n201. ⋯\n202. 12\n203. 4\n204. 19\n205. 16\n206. 1\n207. 4\n208. 10\n209. 0\n210. 5\n211. 21\n212. 6\n213. 13\n214. 17\n215. 3\n216. 0\n217. 3\n218. 0\n219. 3\n220. 0\n221. 0\n222. 3\n223. 16\n224. 12\n225. 0\n226. 7\n227. 2\n228. 8\n229. 1\n230. 11\n231. 0\n232. 2\n233. 0\n234. 1\n235. 7\n236. 23\n237. 26\n238. 30\n239. 6\n240. 0\n241. 3\n242. 0\n243. 0\n244. 4\n245. 9\n246. 15\n247. 0\n248. 0\n249. 25\n250. 0\n251. 25\n252. 3\n253. 34\n254. 2\n255. 30\n256. 19\n257. 4\n258. 2\n259. 16\n260. 48\n261. 4\n262. 3\n263. 60\n264. 50\n265. 54\n266. 71\n267. 77\n268. 51\n269. 19\n270. 42\n271. 2\n272. 3\n273. 3\n274. 22\n275. 15\n276. 6\n277. 11\n278. 14\n279. 17\n280. 16\n281. 15\n282. 91\n283. 1\n284. 75\n285. 0\n286. 31\n287. 7\n288. 0\n289. 2\n290. 40\n291. 29\n292. 35\n293. 0\n294. 0\n295. 2\n296. 2\n297. 3\n298. 2\n299. 5\n300. 19\n301. 0\n302. 2\n303. 0\n304. 67\n305. 37\n306. 44\n307. 0\n308. 0\n309. 3\n310. 21\n311. 0\n312. 0\n313. 8\n314. 9\n315. 0\n316. 6\n317. 2\n318. 3\n319. 4\n320. 1\n321. 3\n322. 3\n323. 1\n324. 1\n325. 0\n326. 0\n327. 6\n328. 0\n329. 2\n330. 0\n331. 10\n332. 18\n333. 5\n334. 6\n335. 1\n336. 4\n337. 0\n338. 2\n339. 3\n340. 25\n341. 8\n342. 80\n343. 25\n344. 17\n345. 3\n346. 3\n347. 0\n348. 0\n349. 1\n350. 8\n351. 1\n352. 8\n353. 0\n354. 7\n355. 0\n356. 77\n357. 1\n358. 20\n359. 2\n360. 0\n361. 0\n362. 9\n363. 8\n364. 2\n365. 0\n366. 76\n367. 7\n368. 15\n369. 21\n370. 6\n371. 12\n372. 34\n373. 2\n374. 53\n375. 4\n376. 0\n377. 77\n378. 13\n379. 9\n380. 25\n381. 5\n382. 1\n383. 19\n384. 3\n385. 4\n386. 92\n387. 0\n388. 4\n389. 0\n390. 19\n391. 0\n392. 3\n393. 2\n394. 60\n395. 39\n396. 1\n397. 5\n398. 0\n399. 4\n400. 4\n401. 2\n\n\n",
            "text/latex": "\\begin{enumerate*}\n\\item <NA>\n\\item 0\n\\item 6\n\\item 2\n\\item <NA>\n\\item 8\n\\item 16\n\\item 0\n\\item 1\n\\item 0\n\\item 0\n\\item <NA>\n\\item <NA>\n\\item <NA>\n\\item 15\n\\item 0\n\\item 14\n\\item 98\n\\item 5\n\\item <NA>\n\\item <NA>\n\\item 16\n\\item 9\n\\item 0\n\\item 1\n\\item 0\n\\item 1\n\\item 1\n\\item 2\n\\item 1\n\\item 3\n\\item 1\n\\item 0\n\\item 12\n\\item 0\n\\item 18\n\\item 0\n\\item 11\n\\item 0\n\\item 3\n\\item 10\n\\item 84\n\\item 0\n\\item 18\n\\item 1\n\\item 0\n\\item 17\n\\item 7\n\\item 42\n\\item 2\n\\item 0\n\\item 0\n\\item 4\n\\item 0\n\\item 10\n\\item 0\n\\item 0\n\\item 1\n\\item 0\n\\item 0\n\\item 2\n\\item 6\n\\item 0\n\\item 0\n\\item 2\n\\item 0\n\\item 0\n\\item 0\n\\item 2\n\\item 7\n\\item 3\n\\item 32\n\\item 3\n\\item 21\n\\item 3\n\\item 99\n\\item 4\n\\item 14\n\\item 0\n\\item 0\n\\item 0\n\\item 3\n\\item 0\n\\item 0\n\\item 11\n\\item 18\n\\item 6\n\\item 1\n\\item 0\n\\item 4\n\\item 0\n\\item 48\n\\item 51\n\\item 66\n\\item 4\n\\item 32\n\\item 1\n\\item 1\n\\item 5\n\\item 0\n\\item 0\n\\item 0\n\\item 0\n\\item 2\n\\item 3\n\\item 0\n\\item 2\n\\item 0\n\\item 0\n\\item 4\n\\item 30\n\\item 8\n\\item 14\n\\item 7\n\\item 10\n\\item 40\n\\item 0\n\\item 5\n\\item 0\n\\item 3\n\\item 2\n\\item 0\n\\item 0\n\\item 0\n\\item 1\n\\item 3\n\\item 0\n\\item 0\n\\item 0\n\\item 0\n\\item 3\n\\item 0\n\\item 3\n\\item 0\n\\item 0\n\\item 7\n\\item 61\n\\item 13\n\\item 3\n\\item 0\n\\item 0\n\\item 3\n\\item 3\n\\item 0\n\\item 22\n\\item 0\n\\item 3\n\\item 0\n\\item 5\n\\item 46\n\\item 8\n\\item 10\n\\item 0\n\\item 0\n\\item 16\n\\item 11\n\\item 0\n\\item 4\n\\item 0\n\\item 1\n\\item 4\n\\item 0\n\\item 12\n\\item 3\n\\item 1\n\\item 0\n\\item 1\n\\item 0\n\\item 3\n\\item 0\n\\item 0\n\\item 0\n\\item 0\n\\item 0\n\\item 0\n\\item 26\n\\item 3\n\\item 0\n\\item 0\n\\item 0\n\\item 0\n\\item 3\n\\item 0\n\\item 5\n\\item 4\n\\item 0\n\\item 2\n\\item 4\n\\item 0\n\\item 2\n\\item 0\n\\item 3\n\\item 0\n\\item 3\n\\item 64\n\\item 2\n\\item 4\n\\item 0\n\\item 23\n\\item 26\n\\item ⋯\n\\item 12\n\\item 4\n\\item 19\n\\item 16\n\\item 1\n\\item 4\n\\item 10\n\\item 0\n\\item 5\n\\item 21\n\\item 6\n\\item 13\n\\item 17\n\\item 3\n\\item 0\n\\item 3\n\\item 0\n\\item 3\n\\item 0\n\\item 0\n\\item 3\n\\item 16\n\\item 12\n\\item 0\n\\item 7\n\\item 2\n\\item 8\n\\item 1\n\\item 11\n\\item 0\n\\item 2\n\\item 0\n\\item 1\n\\item 7\n\\item 23\n\\item 26\n\\item 30\n\\item 6\n\\item 0\n\\item 3\n\\item 0\n\\item 0\n\\item 4\n\\item 9\n\\item 15\n\\item 0\n\\item 0\n\\item 25\n\\item 0\n\\item 25\n\\item 3\n\\item 34\n\\item 2\n\\item 30\n\\item 19\n\\item 4\n\\item 2\n\\item 16\n\\item 48\n\\item 4\n\\item 3\n\\item 60\n\\item 50\n\\item 54\n\\item 71\n\\item 77\n\\item 51\n\\item 19\n\\item 42\n\\item 2\n\\item 3\n\\item 3\n\\item 22\n\\item 15\n\\item 6\n\\item 11\n\\item 14\n\\item 17\n\\item 16\n\\item 15\n\\item 91\n\\item 1\n\\item 75\n\\item 0\n\\item 31\n\\item 7\n\\item 0\n\\item 2\n\\item 40\n\\item 29\n\\item 35\n\\item 0\n\\item 0\n\\item 2\n\\item 2\n\\item 3\n\\item 2\n\\item 5\n\\item 19\n\\item 0\n\\item 2\n\\item 0\n\\item 67\n\\item 37\n\\item 44\n\\item 0\n\\item 0\n\\item 3\n\\item 21\n\\item 0\n\\item 0\n\\item 8\n\\item 9\n\\item 0\n\\item 6\n\\item 2\n\\item 3\n\\item 4\n\\item 1\n\\item 3\n\\item 3\n\\item 1\n\\item 1\n\\item 0\n\\item 0\n\\item 6\n\\item 0\n\\item 2\n\\item 0\n\\item 10\n\\item 18\n\\item 5\n\\item 6\n\\item 1\n\\item 4\n\\item 0\n\\item 2\n\\item 3\n\\item 25\n\\item 8\n\\item 80\n\\item 25\n\\item 17\n\\item 3\n\\item 3\n\\item 0\n\\item 0\n\\item 1\n\\item 8\n\\item 1\n\\item 8\n\\item 0\n\\item 7\n\\item 0\n\\item 77\n\\item 1\n\\item 20\n\\item 2\n\\item 0\n\\item 0\n\\item 9\n\\item 8\n\\item 2\n\\item 0\n\\item 76\n\\item 7\n\\item 15\n\\item 21\n\\item 6\n\\item 12\n\\item 34\n\\item 2\n\\item 53\n\\item 4\n\\item 0\n\\item 77\n\\item 13\n\\item 9\n\\item 25\n\\item 5\n\\item 1\n\\item 19\n\\item 3\n\\item 4\n\\item 92\n\\item 0\n\\item 4\n\\item 0\n\\item 19\n\\item 0\n\\item 3\n\\item 2\n\\item 60\n\\item 39\n\\item 1\n\\item 5\n\\item 0\n\\item 4\n\\item 4\n\\item 2\n\\end{enumerate*}\n",
            "text/plain": [
              "  [1]  NA   0   6   2  NA   8  16   0   1   0   0  NA  NA  NA  15   0  14  98\n",
              " [19]   5  NA  NA  16   9   0   1   0   1   1   2   1   3   1   0  12   0  18\n",
              " [37]   0  11   0   3  10  84   0  18   1   0  17   7  42   2   0   0   4   0\n",
              " [55]  10   0   0   1   0   0   2   6   0   0   2   0   0   0   2   7   3  32\n",
              " [73]   3  21   3  99   4  14   0   0   0   3   0   0  11  18   6   1   0   4\n",
              " [91]   0  48  51  66   4  32   1   1   5   0   0   0   0   2   3   0   2   0\n",
              "[109]   0   4  30   8  14   7  10  40   0   5   0   3   2   0   0   0   1   3\n",
              "[127]   0   0   0   0   3   0   3   0   0   7  61  13   3   0   0   3   3   0\n",
              "[145]  22   0   3   0   5  46   8  10   0   0  16  11   0   4   0   1   4   0\n",
              "[163]  12   3   1   0   1   0   3   0   0   0   0   0   0  26   3   0   0   0\n",
              "[181]   0   3   0   5   4   0   2   4   0   2   0   3   0   3  64   2   4   0\n",
              "[199]  23  26  17   6  27   0   0  31   0   1   0   0   0   0  12   0  75   0\n",
              "[217]   0   0  13  27   0  21   1   0   0  46   0   0   0   1  10   2   4   6\n",
              "[235]   8  26   2   5   3   1   1   5  12   4   1  62   0   1   7  64  34   6\n",
              "[253]  35   3   2   0   0   7   0   2   1   0  37   1   4   6   1   5   1   3\n",
              "[271]   3   0   0   0   3   0  36  69  17  14   2   2  38   3   3 100   6   1\n",
              "[289]   0  88   0  53   5   0  81   2  25  70  11  67   3   4   0   2   0   6\n",
              "[307]  25  14  29  19  48   0   9   3   0  19  11  34   4   2  10  58  58   0\n",
              "[325]   2   3  10  55   0  15  12   2   3   3   4   2   6   3   0   0   0  12\n",
              "[343]   0   3   1   0   0   2   0   5   0  53   7  13  21   5  60   2   0   6\n",
              "[361]   5  11   0   0   0   0   0   0  90   0   0   2   0   0   2   0  51   0\n",
              "[379]  11  22   7   8   0  10   0   2  11  13   0   0   0   3   3   0   4   0\n",
              "[397]  87   4   4  15  60  48 100  15   9   5   0   1   1   3   0   3   8  27\n",
              "[415]   0   6   9   4   4   7  10  17  14  16  31   9  18   0   1   0  33  11\n",
              "[433]  12   4  19  16   1   4  10   0   5  21   6  13  17   3   0   3   0   3\n",
              "[451]   0   0   3  16  12   0   7   2   8   1  11   0   2   0   1   7  23  26\n",
              "[469]  30   6   0   3   0   0   4   9  15   0   0  25   0  25   3  34   2  30\n",
              "[487]  19   4   2  16  48   4   3  60  50  54  71  77  51  19  42   2   3   3\n",
              "[505]  22  15   6  11  14  17  16  15  91   1  75   0  31   7   0   2  40  29\n",
              "[523]  35   0   0   2   2   3   2   5  19   0   2   0  67  37  44   0   0   3\n",
              "[541]  21   0   0   8   9   0   6   2   3   4   1   3   3   1   1   0   0   6\n",
              "[559]   0   2   0  10  18   5   6   1   4   0   2   3  25   8  80  25  17   3\n",
              "[577]   3   0   0   1   8   1   8   0   7   0  77   1  20   2   0   0   9   8\n",
              "[595]   2   0  76   7  15  21   6  12  34   2  53   4   0  77  13   9  25   5\n",
              "[613]   1  19   3   4  92   0   4   0  19   0   3   2  60  39   1   5   0   4\n",
              "[631]   4   2"
            ]
          },
          "metadata": {}
        }
      ]
    },
    {
      "cell_type": "code",
      "source": [
        "mean(sem_asthma$vas)"
      ],
      "metadata": {
        "id": "0k9PLnoLWjiA",
        "outputId": "c9579754-ef3b-4524-8685-32035e0a8b2a",
        "colab": {
          "base_uri": "https://localhost:8080/",
          "height": 69
        }
      },
      "execution_count": 140,
      "outputs": [
        {
          "output_type": "stream",
          "name": "stderr",
          "text": [
            "Warning message in mean.default(sem_asthma):\n",
            "“argument is not numeric or logical: returning NA”\n"
          ]
        },
        {
          "output_type": "display_data",
          "data": {
            "text/html": [
              "&lt;NA&gt;"
            ],
            "text/markdown": "&lt;NA&gt;",
            "text/latex": "<NA>",
            "text/plain": [
              "[1] NA"
            ]
          },
          "metadata": {}
        }
      ]
    },
    {
      "cell_type": "code",
      "source": [
        "mean(sem_asthma$vas_asthma, na.rm=TRUE) # há outliers muito grandes"
      ],
      "metadata": {
        "id": "xGK0uIIsYU1P",
        "outputId": "873f273d-740a-4a5a-eac6-3f17dbca07ea",
        "colab": {
          "base_uri": "https://localhost:8080/",
          "height": 34
        }
      },
      "execution_count": 148,
      "outputs": [
        {
          "output_type": "display_data",
          "data": {
            "text/html": [
              "11.0768"
            ],
            "text/markdown": "11.0768",
            "text/latex": "11.0768",
            "text/plain": [
              "[1] 11.0768"
            ]
          },
          "metadata": {}
        }
      ]
    },
    {
      "cell_type": "code",
      "source": [
        "median(sem_asthma$vas_asthma, na.rm=TRUE) # há outliers muito grandes"
      ],
      "metadata": {
        "id": "JGov9nl5WNyx",
        "outputId": "d0a415da-de52-40ee-bfc1-03ca44eefd02",
        "colab": {
          "base_uri": "https://localhost:8080/",
          "height": 34
        }
      },
      "execution_count": 146,
      "outputs": [
        {
          "output_type": "display_data",
          "data": {
            "text/html": [
              "3"
            ],
            "text/markdown": "3",
            "text/latex": "3",
            "text/plain": [
              "[1] 3"
            ]
          },
          "metadata": {}
        }
      ]
    },
    {
      "cell_type": "code",
      "source": [
        "mean(com_asthma$vas_asthma, na.rm=TRUE) # há outliers muito grandes"
      ],
      "metadata": {
        "id": "qEJBPI1MYW4w",
        "outputId": "b0ed327d-dbab-401c-d292-e6f2602452de",
        "colab": {
          "base_uri": "https://localhost:8080/",
          "height": 34
        }
      },
      "execution_count": 150,
      "outputs": [
        {
          "output_type": "display_data",
          "data": {
            "text/html": [
              "8.2032967032967"
            ],
            "text/markdown": "8.2032967032967",
            "text/latex": "8.2032967032967",
            "text/plain": [
              "[1] 8.203297"
            ]
          },
          "metadata": {}
        }
      ]
    },
    {
      "cell_type": "code",
      "source": [
        "median(com_asthma$vas_asthma, na.rm=TRUE) # há outliers enormes"
      ],
      "metadata": {
        "id": "4x73THdzXbCN",
        "outputId": "df4d6645-8b9b-481e-ff1f-27d40174c98b",
        "colab": {
          "base_uri": "https://localhost:8080/",
          "height": 34
        }
      },
      "execution_count": 147,
      "outputs": [
        {
          "output_type": "display_data",
          "data": {
            "text/html": [
              "2"
            ],
            "text/markdown": "2",
            "text/latex": "2",
            "text/plain": [
              "[1] 2"
            ]
          },
          "metadata": {}
        }
      ]
    },
    {
      "cell_type": "code",
      "source": [],
      "metadata": {
        "id": "MY2HcWLpaGK_"
      },
      "execution_count": null,
      "outputs": []
    },
    {
      "cell_type": "code",
      "source": [
        "ma_df %>% group_by(asthma) %>% summarise(vas_asthma_median = median(vas_asthma, na.rm=TRUE), vas_asthma_iqr = IQR(vas_asthma, na.rm=TRUE))"
      ],
      "metadata": {
        "id": "LHFOZ2lrYa75",
        "outputId": "1e5c1b88-bc70-487e-c4b9-468ba2112807",
        "colab": {
          "base_uri": "https://localhost:8080/",
          "height": 161
        }
      },
      "execution_count": 155,
      "outputs": [
        {
          "output_type": "display_data",
          "data": {
            "text/html": [
              "<table class=\"dataframe\">\n",
              "<caption>A tibble: 2 × 3</caption>\n",
              "<thead>\n",
              "\t<tr><th scope=col>asthma</th><th scope=col>vas_asthma_median</th><th scope=col>vas_asthma_iqr</th></tr>\n",
              "\t<tr><th scope=col>&lt;int&gt;</th><th scope=col>&lt;dbl&gt;</th><th scope=col>&lt;dbl&gt;</th></tr>\n",
              "</thead>\n",
              "<tbody>\n",
              "\t<tr><td>0</td><td>3</td><td>12</td></tr>\n",
              "\t<tr><td>1</td><td>2</td><td> 9</td></tr>\n",
              "</tbody>\n",
              "</table>\n"
            ],
            "text/markdown": "\nA tibble: 2 × 3\n\n| asthma &lt;int&gt; | vas_asthma_median &lt;dbl&gt; | vas_asthma_iqr &lt;dbl&gt; |\n|---|---|---|\n| 0 | 3 | 12 |\n| 1 | 2 |  9 |\n\n",
            "text/latex": "A tibble: 2 × 3\n\\begin{tabular}{lll}\n asthma & vas\\_asthma\\_median & vas\\_asthma\\_iqr\\\\\n <int> & <dbl> & <dbl>\\\\\n\\hline\n\t 0 & 3 & 12\\\\\n\t 1 & 2 &  9\\\\\n\\end{tabular}\n",
            "text/plain": [
              "  asthma vas_asthma_median vas_asthma_iqr\n",
              "1 0      3                 12            \n",
              "2 1      2                  9            "
            ]
          },
          "metadata": {}
        }
      ]
    },
    {
      "cell_type": "code",
      "source": [
        "sem_asthma"
      ],
      "metadata": {
        "id": "gutcc3f0WK-e",
        "outputId": "612b9b9f-1887-4cb2-e5e0-f4464f797852",
        "colab": {
          "base_uri": "https://localhost:8080/",
          "height": 1000
        }
      },
      "execution_count": 138,
      "outputs": [
        {
          "output_type": "display_data",
          "data": {
            "text/html": [
              "<table class=\"dataframe\">\n",
              "<caption>A data.frame: 632 × 13</caption>\n",
              "<thead>\n",
              "\t<tr><th scope=col>user_id</th><th scope=col>member_id</th><th scope=col>age</th><th scope=col>country</th><th scope=col>asthma</th><th scope=col>sex</th><th scope=col>symptoms_id</th><th scope=col>date</th><th scope=col>vas_nose</th><th scope=col>vas_eye</th><th scope=col>vas_asthma</th><th scope=col>rhinitis_medication</th><th scope=col>asthma_medication</th></tr>\n",
              "\t<tr><th scope=col>&lt;int&gt;</th><th scope=col>&lt;int&gt;</th><th scope=col>&lt;int&gt;</th><th scope=col>&lt;chr&gt;</th><th scope=col>&lt;int&gt;</th><th scope=col>&lt;chr&gt;</th><th scope=col>&lt;int&gt;</th><th scope=col>&lt;chr&gt;</th><th scope=col>&lt;int&gt;</th><th scope=col>&lt;int&gt;</th><th scope=col>&lt;int&gt;</th><th scope=col>&lt;chr&gt;</th><th scope=col>&lt;chr&gt;</th></tr>\n",
              "</thead>\n",
              "<tbody>\n",
              "\t<tr><td> 1</td><td>   48</td><td>56</td><td>NL</td><td>0</td><td>M</td><td>111007</td><td>08/04/2016</td><td> 77</td><td> 81</td><td>NA</td><td>B_single_medication</td><td>A_no_medication    </td></tr>\n",
              "\t<tr><td> 3</td><td> 1638</td><td>47</td><td>FR</td><td>0</td><td>F</td><td>368522</td><td>18/02/2019</td><td> 52</td><td>  5</td><td> 0</td><td>A_no_medication    </td><td>A_no_medication    </td></tr>\n",
              "\t<tr><td> 3</td><td> 1638</td><td>47</td><td>FR</td><td>0</td><td>F</td><td>367628</td><td>20/11/2015</td><td>  0</td><td>  0</td><td> 6</td><td>A_no_medication    </td><td>A_no_medication    </td></tr>\n",
              "\t<tr><td> 3</td><td> 1638</td><td>47</td><td>FR</td><td>0</td><td>F</td><td>367798</td><td>17/09/2016</td><td>  8</td><td>  0</td><td> 2</td><td>A_no_medication    </td><td>A_no_medication    </td></tr>\n",
              "\t<tr><td> 6</td><td> 2082</td><td>72</td><td>PL</td><td>0</td><td>F</td><td>394940</td><td>12/01/2016</td><td> 21</td><td> 24</td><td>NA</td><td>A_no_medication    </td><td>A_no_medication    </td></tr>\n",
              "\t<tr><td> 7</td><td> 3138</td><td>67</td><td>DK</td><td>0</td><td>F</td><td> 16242</td><td>08/05/2016</td><td> 18</td><td> 31</td><td> 8</td><td>A_no_medication    </td><td>B_single_medication</td></tr>\n",
              "\t<tr><td> 9</td><td> 3954</td><td>38</td><td>BE</td><td>0</td><td>M</td><td> 25433</td><td>09/08/2016</td><td>  9</td><td> 10</td><td>16</td><td>C_comedication     </td><td>A_no_medication    </td></tr>\n",
              "\t<tr><td>11</td><td> 4458</td><td>40</td><td>IT</td><td>0</td><td>F</td><td> 32663</td><td>15/09/2016</td><td>  8</td><td>  3</td><td> 0</td><td>B_single_medication</td><td>A_no_medication    </td></tr>\n",
              "\t<tr><td>11</td><td> 4458</td><td>40</td><td>IT</td><td>0</td><td>F</td><td> 33290</td><td>14/06/2018</td><td> 14</td><td>  9</td><td> 1</td><td>A_no_medication    </td><td>A_no_medication    </td></tr>\n",
              "\t<tr><td>11</td><td> 4458</td><td>40</td><td>IT</td><td>0</td><td>F</td><td> 32873</td><td>13/04/2017</td><td> 33</td><td> 19</td><td> 0</td><td>C_comedication     </td><td>A_no_medication    </td></tr>\n",
              "\t<tr><td>12</td><td> 4650</td><td>21</td><td>DE</td><td>0</td><td>F</td><td> 41087</td><td>06/06/2016</td><td> 24</td><td>  1</td><td> 0</td><td>C_comedication     </td><td>A_no_medication    </td></tr>\n",
              "\t<tr><td>13</td><td> 4890</td><td>36</td><td>ES</td><td>0</td><td>F</td><td> 46851</td><td>01/04/2016</td><td> 19</td><td>  1</td><td>NA</td><td>B_single_medication</td><td>A_no_medication    </td></tr>\n",
              "\t<tr><td>15</td><td> 6936</td><td>23</td><td>DE</td><td>0</td><td>F</td><td> 81783</td><td>04/05/2016</td><td> 17</td><td>  9</td><td>NA</td><td>B_single_medication</td><td>A_no_medication    </td></tr>\n",
              "\t<tr><td>15</td><td> 6936</td><td>23</td><td>DE</td><td>0</td><td>F</td><td> 81777</td><td>14/04/2016</td><td> 35</td><td>  0</td><td>NA</td><td>A_no_medication    </td><td>A_no_medication    </td></tr>\n",
              "\t<tr><td>19</td><td> 9750</td><td>67</td><td>IT</td><td>0</td><td>M</td><td>143554</td><td>24/02/2018</td><td> 19</td><td> 20</td><td>15</td><td>A_no_medication    </td><td>A_no_medication    </td></tr>\n",
              "\t<tr><td>20</td><td>12930</td><td>35</td><td>BE</td><td>0</td><td>M</td><td>184655</td><td>27/05/2016</td><td>  2</td><td>  0</td><td> 0</td><td>A_no_medication    </td><td>A_no_medication    </td></tr>\n",
              "\t<tr><td>21</td><td>13296</td><td>24</td><td>LT</td><td>0</td><td>M</td><td>192663</td><td>26/10/2021</td><td> 26</td><td> 63</td><td>14</td><td>B_single_medication</td><td>B_single_medication</td></tr>\n",
              "\t<tr><td>22</td><td>13722</td><td>46</td><td>PT</td><td>0</td><td>M</td><td>200708</td><td>07/05/2016</td><td>100</td><td>100</td><td>98</td><td>A_no_medication    </td><td>A_no_medication    </td></tr>\n",
              "\t<tr><td>23</td><td>14028</td><td>64</td><td>PT</td><td>0</td><td>M</td><td>209120</td><td>27/05/2016</td><td>  3</td><td>  8</td><td> 5</td><td>B_single_medication</td><td>A_no_medication    </td></tr>\n",
              "\t<tr><td>24</td><td>14286</td><td>34</td><td>PL</td><td>0</td><td>F</td><td>212510</td><td>08/05/2016</td><td> 66</td><td>  3</td><td>NA</td><td>A_no_medication    </td><td>A_no_medication    </td></tr>\n",
              "\t<tr><td>27</td><td>15732</td><td>56</td><td>PT</td><td>0</td><td>F</td><td>239015</td><td>14/05/2016</td><td> 47</td><td>  2</td><td>NA</td><td>A_no_medication    </td><td>A_no_medication    </td></tr>\n",
              "\t<tr><td>31</td><td>17850</td><td>34</td><td>ES</td><td>0</td><td>F</td><td>278464</td><td>26/06/2016</td><td> 59</td><td> 17</td><td>16</td><td>B_single_medication</td><td>A_no_medication    </td></tr>\n",
              "\t<tr><td>33</td><td>17964</td><td>36</td><td>IT</td><td>0</td><td>F</td><td>280835</td><td>20/08/2016</td><td>  0</td><td>  6</td><td> 9</td><td>A_no_medication    </td><td>A_no_medication    </td></tr>\n",
              "\t<tr><td>34</td><td>19428</td><td>23</td><td>FR</td><td>0</td><td>F</td><td>301199</td><td>29/05/2016</td><td>  9</td><td>  0</td><td> 0</td><td>A_no_medication    </td><td>A_no_medication    </td></tr>\n",
              "\t<tr><td>36</td><td>20664</td><td>33</td><td>DE</td><td>0</td><td>F</td><td>305314</td><td>22/01/2018</td><td> 29</td><td>  3</td><td> 1</td><td>C_comedication     </td><td>B_single_medication</td></tr>\n",
              "\t<tr><td>36</td><td>20664</td><td>33</td><td>DE</td><td>0</td><td>F</td><td>305336</td><td>12/10/2019</td><td>  9</td><td>  5</td><td> 0</td><td>C_comedication     </td><td>B_single_medication</td></tr>\n",
              "\t<tr><td>37</td><td>22116</td><td>44</td><td>ES</td><td>0</td><td>M</td><td>328680</td><td>26/07/2016</td><td> 14</td><td>  6</td><td> 1</td><td>C_comedication     </td><td>A_no_medication    </td></tr>\n",
              "\t<tr><td>41</td><td>27624</td><td>30</td><td>GB</td><td>0</td><td>M</td><td>388173</td><td>09/12/2016</td><td>  0</td><td>  0</td><td> 1</td><td>A_no_medication    </td><td>A_no_medication    </td></tr>\n",
              "\t<tr><td>41</td><td>27624</td><td>30</td><td>GB</td><td>0</td><td>M</td><td>388380</td><td>08/09/2017</td><td>  0</td><td>  3</td><td> 2</td><td>A_no_medication    </td><td>A_no_medication    </td></tr>\n",
              "\t<tr><td>41</td><td>27624</td><td>30</td><td>GB</td><td>0</td><td>M</td><td>388102</td><td>26/09/2016</td><td> 11</td><td>  5</td><td> 1</td><td>A_no_medication    </td><td>A_no_medication    </td></tr>\n",
              "\t<tr><td>⋮</td><td>⋮</td><td>⋮</td><td>⋮</td><td>⋮</td><td>⋮</td><td>⋮</td><td>⋮</td><td>⋮</td><td>⋮</td><td>⋮</td><td>⋮</td><td>⋮</td></tr>\n",
              "\t<tr><td>748</td><td>258321</td><td>29</td><td>DE</td><td>0</td><td>F</td><td>372056</td><td>10/06/2021</td><td> 7</td><td>11</td><td>34</td><td>B_single_medication</td><td>A_no_medication    </td></tr>\n",
              "\t<tr><td>749</td><td>259737</td><td>51</td><td>FR</td><td>0</td><td>F</td><td>373048</td><td>21/07/2021</td><td>21</td><td>21</td><td> 2</td><td>B_single_medication</td><td>A_no_medication    </td></tr>\n",
              "\t<tr><td>750</td><td>260325</td><td>55</td><td>LT</td><td>0</td><td>M</td><td>373350</td><td>01/07/2021</td><td>30</td><td> 7</td><td>53</td><td>C_comedication     </td><td>B_single_medication</td></tr>\n",
              "\t<tr><td>751</td><td>260805</td><td>73</td><td>ES</td><td>0</td><td>M</td><td>373976</td><td>06/09/2021</td><td> 2</td><td> 1</td><td> 4</td><td>A_no_medication    </td><td>A_no_medication    </td></tr>\n",
              "\t<tr><td>752</td><td>261567</td><td>22</td><td>PT</td><td>0</td><td>M</td><td>374580</td><td>25/08/2021</td><td> 0</td><td> 1</td><td> 0</td><td>B_single_medication</td><td>A_no_medication    </td></tr>\n",
              "\t<tr><td>753</td><td>261615</td><td>35</td><td>FR</td><td>0</td><td>F</td><td>374665</td><td>03/08/2021</td><td>76</td><td>82</td><td>77</td><td>A_no_medication    </td><td>A_no_medication    </td></tr>\n",
              "\t<tr><td>754</td><td>262023</td><td>52</td><td>TR</td><td>0</td><td>M</td><td>375088</td><td>23/06/2021</td><td> 9</td><td>12</td><td>13</td><td>A_no_medication    </td><td>A_no_medication    </td></tr>\n",
              "\t<tr><td>755</td><td>262077</td><td>26</td><td>LT</td><td>0</td><td>M</td><td>375353</td><td>15/11/2021</td><td>10</td><td>11</td><td> 9</td><td>A_no_medication    </td><td>A_no_medication    </td></tr>\n",
              "\t<tr><td>757</td><td>262335</td><td>25</td><td>DE</td><td>0</td><td>F</td><td>375679</td><td>09/10/2021</td><td>16</td><td>10</td><td>25</td><td>B_single_medication</td><td>B_single_medication</td></tr>\n",
              "\t<tr><td>759</td><td>263703</td><td>53</td><td>PL</td><td>0</td><td>F</td><td>377346</td><td>30/07/2021</td><td>14</td><td>13</td><td> 5</td><td>A_no_medication    </td><td>A_no_medication    </td></tr>\n",
              "\t<tr><td>759</td><td>263703</td><td>53</td><td>PL</td><td>0</td><td>F</td><td>377360</td><td>20/08/2021</td><td> 8</td><td> 2</td><td> 1</td><td>A_no_medication    </td><td>A_no_medication    </td></tr>\n",
              "\t<tr><td>760</td><td>263985</td><td>33</td><td>FR</td><td>0</td><td>F</td><td>377802</td><td>01/10/2021</td><td>52</td><td> 9</td><td>19</td><td>B_single_medication</td><td>B_single_medication</td></tr>\n",
              "\t<tr><td>765</td><td>267519</td><td>18</td><td>MX</td><td>0</td><td>M</td><td>381312</td><td>02/08/2021</td><td>44</td><td>18</td><td> 3</td><td>C_comedication     </td><td>A_no_medication    </td></tr>\n",
              "\t<tr><td>766</td><td>271545</td><td>39</td><td>FR</td><td>0</td><td>M</td><td>382976</td><td>11/11/2021</td><td> 6</td><td> 0</td><td> 4</td><td>A_no_medication    </td><td>A_no_medication    </td></tr>\n",
              "\t<tr><td>767</td><td>272127</td><td>31</td><td>TR</td><td>0</td><td>M</td><td>383202</td><td>28/08/2021</td><td>98</td><td> 6</td><td>92</td><td>B_single_medication</td><td>C_comedication     </td></tr>\n",
              "\t<tr><td>768</td><td>272745</td><td>15</td><td>MX</td><td>0</td><td>F</td><td>383586</td><td>19/09/2021</td><td>43</td><td>32</td><td> 0</td><td>B_single_medication</td><td>A_no_medication    </td></tr>\n",
              "\t<tr><td>769</td><td>272985</td><td>23</td><td>FR</td><td>0</td><td>F</td><td>383662</td><td>18/10/2021</td><td> 2</td><td> 2</td><td> 4</td><td>A_no_medication    </td><td>A_no_medication    </td></tr>\n",
              "\t<tr><td>771</td><td>274869</td><td>22</td><td>PT</td><td>0</td><td>M</td><td>384455</td><td>29/11/2021</td><td>69</td><td>15</td><td> 0</td><td>B_single_medication</td><td>A_no_medication    </td></tr>\n",
              "\t<tr><td>772</td><td>276699</td><td>31</td><td>ES</td><td>0</td><td>F</td><td>385216</td><td>26/09/2021</td><td> 6</td><td> 7</td><td>19</td><td>A_no_medication    </td><td>A_no_medication    </td></tr>\n",
              "\t<tr><td>773</td><td>276927</td><td>27</td><td>IT</td><td>0</td><td>F</td><td>385300</td><td>12/09/2021</td><td>97</td><td> 1</td><td> 0</td><td>A_no_medication    </td><td>A_no_medication    </td></tr>\n",
              "\t<tr><td>774</td><td>277785</td><td>19</td><td>PT</td><td>0</td><td>F</td><td>385739</td><td>01/10/2021</td><td> 2</td><td> 5</td><td> 3</td><td>A_no_medication    </td><td>A_no_medication    </td></tr>\n",
              "\t<tr><td>776</td><td>280647</td><td>50</td><td>PL</td><td>0</td><td>F</td><td>386646</td><td>01/10/2021</td><td>51</td><td>18</td><td> 2</td><td>A_no_medication    </td><td>A_no_medication    </td></tr>\n",
              "\t<tr><td>777</td><td>284667</td><td>43</td><td>FR</td><td>0</td><td>F</td><td>388625</td><td>26/10/2021</td><td>56</td><td>47</td><td>60</td><td>B_single_medication</td><td>B_single_medication</td></tr>\n",
              "\t<tr><td>778</td><td>285267</td><td>21</td><td>AR</td><td>0</td><td>M</td><td>389133</td><td>27/10/2021</td><td>69</td><td>49</td><td>39</td><td>C_comedication     </td><td>A_no_medication    </td></tr>\n",
              "\t<tr><td>779</td><td>285627</td><td>49</td><td>FR</td><td>0</td><td>M</td><td>389280</td><td>04/11/2021</td><td> 2</td><td> 0</td><td> 1</td><td>A_no_medication    </td><td>A_no_medication    </td></tr>\n",
              "\t<tr><td>780</td><td>285777</td><td>28</td><td>FR</td><td>0</td><td>M</td><td>389380</td><td>27/12/2021</td><td> 1</td><td> 0</td><td> 5</td><td>A_no_medication    </td><td>A_no_medication    </td></tr>\n",
              "\t<tr><td>781</td><td>287973</td><td>33</td><td>PT</td><td>0</td><td>F</td><td>390065</td><td>13/11/2021</td><td>28</td><td>29</td><td> 0</td><td>A_no_medication    </td><td>A_no_medication    </td></tr>\n",
              "\t<tr><td>782</td><td>291231</td><td>25</td><td>FR</td><td>0</td><td>F</td><td>391706</td><td>25/11/2021</td><td>19</td><td> 1</td><td> 4</td><td>A_no_medication    </td><td>A_no_medication    </td></tr>\n",
              "\t<tr><td>784</td><td>292287</td><td>60</td><td>IT</td><td>0</td><td>M</td><td>392163</td><td>27/11/2021</td><td>14</td><td> 2</td><td> 4</td><td>C_comedication     </td><td>A_no_medication    </td></tr>\n",
              "\t<tr><td>785</td><td>292737</td><td>25</td><td>FR</td><td>0</td><td>M</td><td>392249</td><td>19/12/2021</td><td> 4</td><td> 2</td><td> 2</td><td>A_no_medication    </td><td>A_no_medication    </td></tr>\n",
              "</tbody>\n",
              "</table>\n"
            ],
            "text/markdown": "\nA data.frame: 632 × 13\n\n| user_id &lt;int&gt; | member_id &lt;int&gt; | age &lt;int&gt; | country &lt;chr&gt; | asthma &lt;int&gt; | sex &lt;chr&gt; | symptoms_id &lt;int&gt; | date &lt;chr&gt; | vas_nose &lt;int&gt; | vas_eye &lt;int&gt; | vas_asthma &lt;int&gt; | rhinitis_medication &lt;chr&gt; | asthma_medication &lt;chr&gt; |\n|---|---|---|---|---|---|---|---|---|---|---|---|---|\n|  1 |    48 | 56 | NL | 0 | M | 111007 | 08/04/2016 |  77 |  81 | NA | B_single_medication | A_no_medication     |\n|  3 |  1638 | 47 | FR | 0 | F | 368522 | 18/02/2019 |  52 |   5 |  0 | A_no_medication     | A_no_medication     |\n|  3 |  1638 | 47 | FR | 0 | F | 367628 | 20/11/2015 |   0 |   0 |  6 | A_no_medication     | A_no_medication     |\n|  3 |  1638 | 47 | FR | 0 | F | 367798 | 17/09/2016 |   8 |   0 |  2 | A_no_medication     | A_no_medication     |\n|  6 |  2082 | 72 | PL | 0 | F | 394940 | 12/01/2016 |  21 |  24 | NA | A_no_medication     | A_no_medication     |\n|  7 |  3138 | 67 | DK | 0 | F |  16242 | 08/05/2016 |  18 |  31 |  8 | A_no_medication     | B_single_medication |\n|  9 |  3954 | 38 | BE | 0 | M |  25433 | 09/08/2016 |   9 |  10 | 16 | C_comedication      | A_no_medication     |\n| 11 |  4458 | 40 | IT | 0 | F |  32663 | 15/09/2016 |   8 |   3 |  0 | B_single_medication | A_no_medication     |\n| 11 |  4458 | 40 | IT | 0 | F |  33290 | 14/06/2018 |  14 |   9 |  1 | A_no_medication     | A_no_medication     |\n| 11 |  4458 | 40 | IT | 0 | F |  32873 | 13/04/2017 |  33 |  19 |  0 | C_comedication      | A_no_medication     |\n| 12 |  4650 | 21 | DE | 0 | F |  41087 | 06/06/2016 |  24 |   1 |  0 | C_comedication      | A_no_medication     |\n| 13 |  4890 | 36 | ES | 0 | F |  46851 | 01/04/2016 |  19 |   1 | NA | B_single_medication | A_no_medication     |\n| 15 |  6936 | 23 | DE | 0 | F |  81783 | 04/05/2016 |  17 |   9 | NA | B_single_medication | A_no_medication     |\n| 15 |  6936 | 23 | DE | 0 | F |  81777 | 14/04/2016 |  35 |   0 | NA | A_no_medication     | A_no_medication     |\n| 19 |  9750 | 67 | IT | 0 | M | 143554 | 24/02/2018 |  19 |  20 | 15 | A_no_medication     | A_no_medication     |\n| 20 | 12930 | 35 | BE | 0 | M | 184655 | 27/05/2016 |   2 |   0 |  0 | A_no_medication     | A_no_medication     |\n| 21 | 13296 | 24 | LT | 0 | M | 192663 | 26/10/2021 |  26 |  63 | 14 | B_single_medication | B_single_medication |\n| 22 | 13722 | 46 | PT | 0 | M | 200708 | 07/05/2016 | 100 | 100 | 98 | A_no_medication     | A_no_medication     |\n| 23 | 14028 | 64 | PT | 0 | M | 209120 | 27/05/2016 |   3 |   8 |  5 | B_single_medication | A_no_medication     |\n| 24 | 14286 | 34 | PL | 0 | F | 212510 | 08/05/2016 |  66 |   3 | NA | A_no_medication     | A_no_medication     |\n| 27 | 15732 | 56 | PT | 0 | F | 239015 | 14/05/2016 |  47 |   2 | NA | A_no_medication     | A_no_medication     |\n| 31 | 17850 | 34 | ES | 0 | F | 278464 | 26/06/2016 |  59 |  17 | 16 | B_single_medication | A_no_medication     |\n| 33 | 17964 | 36 | IT | 0 | F | 280835 | 20/08/2016 |   0 |   6 |  9 | A_no_medication     | A_no_medication     |\n| 34 | 19428 | 23 | FR | 0 | F | 301199 | 29/05/2016 |   9 |   0 |  0 | A_no_medication     | A_no_medication     |\n| 36 | 20664 | 33 | DE | 0 | F | 305314 | 22/01/2018 |  29 |   3 |  1 | C_comedication      | B_single_medication |\n| 36 | 20664 | 33 | DE | 0 | F | 305336 | 12/10/2019 |   9 |   5 |  0 | C_comedication      | B_single_medication |\n| 37 | 22116 | 44 | ES | 0 | M | 328680 | 26/07/2016 |  14 |   6 |  1 | C_comedication      | A_no_medication     |\n| 41 | 27624 | 30 | GB | 0 | M | 388173 | 09/12/2016 |   0 |   0 |  1 | A_no_medication     | A_no_medication     |\n| 41 | 27624 | 30 | GB | 0 | M | 388380 | 08/09/2017 |   0 |   3 |  2 | A_no_medication     | A_no_medication     |\n| 41 | 27624 | 30 | GB | 0 | M | 388102 | 26/09/2016 |  11 |   5 |  1 | A_no_medication     | A_no_medication     |\n| ⋮ | ⋮ | ⋮ | ⋮ | ⋮ | ⋮ | ⋮ | ⋮ | ⋮ | ⋮ | ⋮ | ⋮ | ⋮ |\n| 748 | 258321 | 29 | DE | 0 | F | 372056 | 10/06/2021 |  7 | 11 | 34 | B_single_medication | A_no_medication     |\n| 749 | 259737 | 51 | FR | 0 | F | 373048 | 21/07/2021 | 21 | 21 |  2 | B_single_medication | A_no_medication     |\n| 750 | 260325 | 55 | LT | 0 | M | 373350 | 01/07/2021 | 30 |  7 | 53 | C_comedication      | B_single_medication |\n| 751 | 260805 | 73 | ES | 0 | M | 373976 | 06/09/2021 |  2 |  1 |  4 | A_no_medication     | A_no_medication     |\n| 752 | 261567 | 22 | PT | 0 | M | 374580 | 25/08/2021 |  0 |  1 |  0 | B_single_medication | A_no_medication     |\n| 753 | 261615 | 35 | FR | 0 | F | 374665 | 03/08/2021 | 76 | 82 | 77 | A_no_medication     | A_no_medication     |\n| 754 | 262023 | 52 | TR | 0 | M | 375088 | 23/06/2021 |  9 | 12 | 13 | A_no_medication     | A_no_medication     |\n| 755 | 262077 | 26 | LT | 0 | M | 375353 | 15/11/2021 | 10 | 11 |  9 | A_no_medication     | A_no_medication     |\n| 757 | 262335 | 25 | DE | 0 | F | 375679 | 09/10/2021 | 16 | 10 | 25 | B_single_medication | B_single_medication |\n| 759 | 263703 | 53 | PL | 0 | F | 377346 | 30/07/2021 | 14 | 13 |  5 | A_no_medication     | A_no_medication     |\n| 759 | 263703 | 53 | PL | 0 | F | 377360 | 20/08/2021 |  8 |  2 |  1 | A_no_medication     | A_no_medication     |\n| 760 | 263985 | 33 | FR | 0 | F | 377802 | 01/10/2021 | 52 |  9 | 19 | B_single_medication | B_single_medication |\n| 765 | 267519 | 18 | MX | 0 | M | 381312 | 02/08/2021 | 44 | 18 |  3 | C_comedication      | A_no_medication     |\n| 766 | 271545 | 39 | FR | 0 | M | 382976 | 11/11/2021 |  6 |  0 |  4 | A_no_medication     | A_no_medication     |\n| 767 | 272127 | 31 | TR | 0 | M | 383202 | 28/08/2021 | 98 |  6 | 92 | B_single_medication | C_comedication      |\n| 768 | 272745 | 15 | MX | 0 | F | 383586 | 19/09/2021 | 43 | 32 |  0 | B_single_medication | A_no_medication     |\n| 769 | 272985 | 23 | FR | 0 | F | 383662 | 18/10/2021 |  2 |  2 |  4 | A_no_medication     | A_no_medication     |\n| 771 | 274869 | 22 | PT | 0 | M | 384455 | 29/11/2021 | 69 | 15 |  0 | B_single_medication | A_no_medication     |\n| 772 | 276699 | 31 | ES | 0 | F | 385216 | 26/09/2021 |  6 |  7 | 19 | A_no_medication     | A_no_medication     |\n| 773 | 276927 | 27 | IT | 0 | F | 385300 | 12/09/2021 | 97 |  1 |  0 | A_no_medication     | A_no_medication     |\n| 774 | 277785 | 19 | PT | 0 | F | 385739 | 01/10/2021 |  2 |  5 |  3 | A_no_medication     | A_no_medication     |\n| 776 | 280647 | 50 | PL | 0 | F | 386646 | 01/10/2021 | 51 | 18 |  2 | A_no_medication     | A_no_medication     |\n| 777 | 284667 | 43 | FR | 0 | F | 388625 | 26/10/2021 | 56 | 47 | 60 | B_single_medication | B_single_medication |\n| 778 | 285267 | 21 | AR | 0 | M | 389133 | 27/10/2021 | 69 | 49 | 39 | C_comedication      | A_no_medication     |\n| 779 | 285627 | 49 | FR | 0 | M | 389280 | 04/11/2021 |  2 |  0 |  1 | A_no_medication     | A_no_medication     |\n| 780 | 285777 | 28 | FR | 0 | M | 389380 | 27/12/2021 |  1 |  0 |  5 | A_no_medication     | A_no_medication     |\n| 781 | 287973 | 33 | PT | 0 | F | 390065 | 13/11/2021 | 28 | 29 |  0 | A_no_medication     | A_no_medication     |\n| 782 | 291231 | 25 | FR | 0 | F | 391706 | 25/11/2021 | 19 |  1 |  4 | A_no_medication     | A_no_medication     |\n| 784 | 292287 | 60 | IT | 0 | M | 392163 | 27/11/2021 | 14 |  2 |  4 | C_comedication      | A_no_medication     |\n| 785 | 292737 | 25 | FR | 0 | M | 392249 | 19/12/2021 |  4 |  2 |  2 | A_no_medication     | A_no_medication     |\n\n",
            "text/latex": "A data.frame: 632 × 13\n\\begin{tabular}{lllllllllllll}\n user\\_id & member\\_id & age & country & asthma & sex & symptoms\\_id & date & vas\\_nose & vas\\_eye & vas\\_asthma & rhinitis\\_medication & asthma\\_medication\\\\\n <int> & <int> & <int> & <chr> & <int> & <chr> & <int> & <chr> & <int> & <int> & <int> & <chr> & <chr>\\\\\n\\hline\n\t  1 &    48 & 56 & NL & 0 & M & 111007 & 08/04/2016 &  77 &  81 & NA & B\\_single\\_medication & A\\_no\\_medication    \\\\\n\t  3 &  1638 & 47 & FR & 0 & F & 368522 & 18/02/2019 &  52 &   5 &  0 & A\\_no\\_medication     & A\\_no\\_medication    \\\\\n\t  3 &  1638 & 47 & FR & 0 & F & 367628 & 20/11/2015 &   0 &   0 &  6 & A\\_no\\_medication     & A\\_no\\_medication    \\\\\n\t  3 &  1638 & 47 & FR & 0 & F & 367798 & 17/09/2016 &   8 &   0 &  2 & A\\_no\\_medication     & A\\_no\\_medication    \\\\\n\t  6 &  2082 & 72 & PL & 0 & F & 394940 & 12/01/2016 &  21 &  24 & NA & A\\_no\\_medication     & A\\_no\\_medication    \\\\\n\t  7 &  3138 & 67 & DK & 0 & F &  16242 & 08/05/2016 &  18 &  31 &  8 & A\\_no\\_medication     & B\\_single\\_medication\\\\\n\t  9 &  3954 & 38 & BE & 0 & M &  25433 & 09/08/2016 &   9 &  10 & 16 & C\\_comedication      & A\\_no\\_medication    \\\\\n\t 11 &  4458 & 40 & IT & 0 & F &  32663 & 15/09/2016 &   8 &   3 &  0 & B\\_single\\_medication & A\\_no\\_medication    \\\\\n\t 11 &  4458 & 40 & IT & 0 & F &  33290 & 14/06/2018 &  14 &   9 &  1 & A\\_no\\_medication     & A\\_no\\_medication    \\\\\n\t 11 &  4458 & 40 & IT & 0 & F &  32873 & 13/04/2017 &  33 &  19 &  0 & C\\_comedication      & A\\_no\\_medication    \\\\\n\t 12 &  4650 & 21 & DE & 0 & F &  41087 & 06/06/2016 &  24 &   1 &  0 & C\\_comedication      & A\\_no\\_medication    \\\\\n\t 13 &  4890 & 36 & ES & 0 & F &  46851 & 01/04/2016 &  19 &   1 & NA & B\\_single\\_medication & A\\_no\\_medication    \\\\\n\t 15 &  6936 & 23 & DE & 0 & F &  81783 & 04/05/2016 &  17 &   9 & NA & B\\_single\\_medication & A\\_no\\_medication    \\\\\n\t 15 &  6936 & 23 & DE & 0 & F &  81777 & 14/04/2016 &  35 &   0 & NA & A\\_no\\_medication     & A\\_no\\_medication    \\\\\n\t 19 &  9750 & 67 & IT & 0 & M & 143554 & 24/02/2018 &  19 &  20 & 15 & A\\_no\\_medication     & A\\_no\\_medication    \\\\\n\t 20 & 12930 & 35 & BE & 0 & M & 184655 & 27/05/2016 &   2 &   0 &  0 & A\\_no\\_medication     & A\\_no\\_medication    \\\\\n\t 21 & 13296 & 24 & LT & 0 & M & 192663 & 26/10/2021 &  26 &  63 & 14 & B\\_single\\_medication & B\\_single\\_medication\\\\\n\t 22 & 13722 & 46 & PT & 0 & M & 200708 & 07/05/2016 & 100 & 100 & 98 & A\\_no\\_medication     & A\\_no\\_medication    \\\\\n\t 23 & 14028 & 64 & PT & 0 & M & 209120 & 27/05/2016 &   3 &   8 &  5 & B\\_single\\_medication & A\\_no\\_medication    \\\\\n\t 24 & 14286 & 34 & PL & 0 & F & 212510 & 08/05/2016 &  66 &   3 & NA & A\\_no\\_medication     & A\\_no\\_medication    \\\\\n\t 27 & 15732 & 56 & PT & 0 & F & 239015 & 14/05/2016 &  47 &   2 & NA & A\\_no\\_medication     & A\\_no\\_medication    \\\\\n\t 31 & 17850 & 34 & ES & 0 & F & 278464 & 26/06/2016 &  59 &  17 & 16 & B\\_single\\_medication & A\\_no\\_medication    \\\\\n\t 33 & 17964 & 36 & IT & 0 & F & 280835 & 20/08/2016 &   0 &   6 &  9 & A\\_no\\_medication     & A\\_no\\_medication    \\\\\n\t 34 & 19428 & 23 & FR & 0 & F & 301199 & 29/05/2016 &   9 &   0 &  0 & A\\_no\\_medication     & A\\_no\\_medication    \\\\\n\t 36 & 20664 & 33 & DE & 0 & F & 305314 & 22/01/2018 &  29 &   3 &  1 & C\\_comedication      & B\\_single\\_medication\\\\\n\t 36 & 20664 & 33 & DE & 0 & F & 305336 & 12/10/2019 &   9 &   5 &  0 & C\\_comedication      & B\\_single\\_medication\\\\\n\t 37 & 22116 & 44 & ES & 0 & M & 328680 & 26/07/2016 &  14 &   6 &  1 & C\\_comedication      & A\\_no\\_medication    \\\\\n\t 41 & 27624 & 30 & GB & 0 & M & 388173 & 09/12/2016 &   0 &   0 &  1 & A\\_no\\_medication     & A\\_no\\_medication    \\\\\n\t 41 & 27624 & 30 & GB & 0 & M & 388380 & 08/09/2017 &   0 &   3 &  2 & A\\_no\\_medication     & A\\_no\\_medication    \\\\\n\t 41 & 27624 & 30 & GB & 0 & M & 388102 & 26/09/2016 &  11 &   5 &  1 & A\\_no\\_medication     & A\\_no\\_medication    \\\\\n\t ⋮ & ⋮ & ⋮ & ⋮ & ⋮ & ⋮ & ⋮ & ⋮ & ⋮ & ⋮ & ⋮ & ⋮ & ⋮\\\\\n\t 748 & 258321 & 29 & DE & 0 & F & 372056 & 10/06/2021 &  7 & 11 & 34 & B\\_single\\_medication & A\\_no\\_medication    \\\\\n\t 749 & 259737 & 51 & FR & 0 & F & 373048 & 21/07/2021 & 21 & 21 &  2 & B\\_single\\_medication & A\\_no\\_medication    \\\\\n\t 750 & 260325 & 55 & LT & 0 & M & 373350 & 01/07/2021 & 30 &  7 & 53 & C\\_comedication      & B\\_single\\_medication\\\\\n\t 751 & 260805 & 73 & ES & 0 & M & 373976 & 06/09/2021 &  2 &  1 &  4 & A\\_no\\_medication     & A\\_no\\_medication    \\\\\n\t 752 & 261567 & 22 & PT & 0 & M & 374580 & 25/08/2021 &  0 &  1 &  0 & B\\_single\\_medication & A\\_no\\_medication    \\\\\n\t 753 & 261615 & 35 & FR & 0 & F & 374665 & 03/08/2021 & 76 & 82 & 77 & A\\_no\\_medication     & A\\_no\\_medication    \\\\\n\t 754 & 262023 & 52 & TR & 0 & M & 375088 & 23/06/2021 &  9 & 12 & 13 & A\\_no\\_medication     & A\\_no\\_medication    \\\\\n\t 755 & 262077 & 26 & LT & 0 & M & 375353 & 15/11/2021 & 10 & 11 &  9 & A\\_no\\_medication     & A\\_no\\_medication    \\\\\n\t 757 & 262335 & 25 & DE & 0 & F & 375679 & 09/10/2021 & 16 & 10 & 25 & B\\_single\\_medication & B\\_single\\_medication\\\\\n\t 759 & 263703 & 53 & PL & 0 & F & 377346 & 30/07/2021 & 14 & 13 &  5 & A\\_no\\_medication     & A\\_no\\_medication    \\\\\n\t 759 & 263703 & 53 & PL & 0 & F & 377360 & 20/08/2021 &  8 &  2 &  1 & A\\_no\\_medication     & A\\_no\\_medication    \\\\\n\t 760 & 263985 & 33 & FR & 0 & F & 377802 & 01/10/2021 & 52 &  9 & 19 & B\\_single\\_medication & B\\_single\\_medication\\\\\n\t 765 & 267519 & 18 & MX & 0 & M & 381312 & 02/08/2021 & 44 & 18 &  3 & C\\_comedication      & A\\_no\\_medication    \\\\\n\t 766 & 271545 & 39 & FR & 0 & M & 382976 & 11/11/2021 &  6 &  0 &  4 & A\\_no\\_medication     & A\\_no\\_medication    \\\\\n\t 767 & 272127 & 31 & TR & 0 & M & 383202 & 28/08/2021 & 98 &  6 & 92 & B\\_single\\_medication & C\\_comedication     \\\\\n\t 768 & 272745 & 15 & MX & 0 & F & 383586 & 19/09/2021 & 43 & 32 &  0 & B\\_single\\_medication & A\\_no\\_medication    \\\\\n\t 769 & 272985 & 23 & FR & 0 & F & 383662 & 18/10/2021 &  2 &  2 &  4 & A\\_no\\_medication     & A\\_no\\_medication    \\\\\n\t 771 & 274869 & 22 & PT & 0 & M & 384455 & 29/11/2021 & 69 & 15 &  0 & B\\_single\\_medication & A\\_no\\_medication    \\\\\n\t 772 & 276699 & 31 & ES & 0 & F & 385216 & 26/09/2021 &  6 &  7 & 19 & A\\_no\\_medication     & A\\_no\\_medication    \\\\\n\t 773 & 276927 & 27 & IT & 0 & F & 385300 & 12/09/2021 & 97 &  1 &  0 & A\\_no\\_medication     & A\\_no\\_medication    \\\\\n\t 774 & 277785 & 19 & PT & 0 & F & 385739 & 01/10/2021 &  2 &  5 &  3 & A\\_no\\_medication     & A\\_no\\_medication    \\\\\n\t 776 & 280647 & 50 & PL & 0 & F & 386646 & 01/10/2021 & 51 & 18 &  2 & A\\_no\\_medication     & A\\_no\\_medication    \\\\\n\t 777 & 284667 & 43 & FR & 0 & F & 388625 & 26/10/2021 & 56 & 47 & 60 & B\\_single\\_medication & B\\_single\\_medication\\\\\n\t 778 & 285267 & 21 & AR & 0 & M & 389133 & 27/10/2021 & 69 & 49 & 39 & C\\_comedication      & A\\_no\\_medication    \\\\\n\t 779 & 285627 & 49 & FR & 0 & M & 389280 & 04/11/2021 &  2 &  0 &  1 & A\\_no\\_medication     & A\\_no\\_medication    \\\\\n\t 780 & 285777 & 28 & FR & 0 & M & 389380 & 27/12/2021 &  1 &  0 &  5 & A\\_no\\_medication     & A\\_no\\_medication    \\\\\n\t 781 & 287973 & 33 & PT & 0 & F & 390065 & 13/11/2021 & 28 & 29 &  0 & A\\_no\\_medication     & A\\_no\\_medication    \\\\\n\t 782 & 291231 & 25 & FR & 0 & F & 391706 & 25/11/2021 & 19 &  1 &  4 & A\\_no\\_medication     & A\\_no\\_medication    \\\\\n\t 784 & 292287 & 60 & IT & 0 & M & 392163 & 27/11/2021 & 14 &  2 &  4 & C\\_comedication      & A\\_no\\_medication    \\\\\n\t 785 & 292737 & 25 & FR & 0 & M & 392249 & 19/12/2021 &  4 &  2 &  2 & A\\_no\\_medication     & A\\_no\\_medication    \\\\\n\\end{tabular}\n",
            "text/plain": [
              "    user_id member_id age country asthma sex symptoms_id date       vas_nose\n",
              "1    1         48     56  NL      0      M   111007      08/04/2016  77     \n",
              "2    3       1638     47  FR      0      F   368522      18/02/2019  52     \n",
              "3    3       1638     47  FR      0      F   367628      20/11/2015   0     \n",
              "4    3       1638     47  FR      0      F   367798      17/09/2016   8     \n",
              "5    6       2082     72  PL      0      F   394940      12/01/2016  21     \n",
              "6    7       3138     67  DK      0      F    16242      08/05/2016  18     \n",
              "7    9       3954     38  BE      0      M    25433      09/08/2016   9     \n",
              "8   11       4458     40  IT      0      F    32663      15/09/2016   8     \n",
              "9   11       4458     40  IT      0      F    33290      14/06/2018  14     \n",
              "10  11       4458     40  IT      0      F    32873      13/04/2017  33     \n",
              "11  12       4650     21  DE      0      F    41087      06/06/2016  24     \n",
              "12  13       4890     36  ES      0      F    46851      01/04/2016  19     \n",
              "13  15       6936     23  DE      0      F    81783      04/05/2016  17     \n",
              "14  15       6936     23  DE      0      F    81777      14/04/2016  35     \n",
              "15  19       9750     67  IT      0      M   143554      24/02/2018  19     \n",
              "16  20      12930     35  BE      0      M   184655      27/05/2016   2     \n",
              "17  21      13296     24  LT      0      M   192663      26/10/2021  26     \n",
              "18  22      13722     46  PT      0      M   200708      07/05/2016 100     \n",
              "19  23      14028     64  PT      0      M   209120      27/05/2016   3     \n",
              "20  24      14286     34  PL      0      F   212510      08/05/2016  66     \n",
              "21  27      15732     56  PT      0      F   239015      14/05/2016  47     \n",
              "22  31      17850     34  ES      0      F   278464      26/06/2016  59     \n",
              "23  33      17964     36  IT      0      F   280835      20/08/2016   0     \n",
              "24  34      19428     23  FR      0      F   301199      29/05/2016   9     \n",
              "25  36      20664     33  DE      0      F   305314      22/01/2018  29     \n",
              "26  36      20664     33  DE      0      F   305336      12/10/2019   9     \n",
              "27  37      22116     44  ES      0      M   328680      26/07/2016  14     \n",
              "28  41      27624     30  GB      0      M   388173      09/12/2016   0     \n",
              "29  41      27624     30  GB      0      M   388380      08/09/2017   0     \n",
              "30  41      27624     30  GB      0      M   388102      26/09/2016  11     \n",
              "⋮   ⋮       ⋮         ⋮   ⋮       ⋮      ⋮   ⋮           ⋮          ⋮       \n",
              "603 748     258321    29  DE      0      F   372056      10/06/2021  7      \n",
              "604 749     259737    51  FR      0      F   373048      21/07/2021 21      \n",
              "605 750     260325    55  LT      0      M   373350      01/07/2021 30      \n",
              "606 751     260805    73  ES      0      M   373976      06/09/2021  2      \n",
              "607 752     261567    22  PT      0      M   374580      25/08/2021  0      \n",
              "608 753     261615    35  FR      0      F   374665      03/08/2021 76      \n",
              "609 754     262023    52  TR      0      M   375088      23/06/2021  9      \n",
              "610 755     262077    26  LT      0      M   375353      15/11/2021 10      \n",
              "611 757     262335    25  DE      0      F   375679      09/10/2021 16      \n",
              "612 759     263703    53  PL      0      F   377346      30/07/2021 14      \n",
              "613 759     263703    53  PL      0      F   377360      20/08/2021  8      \n",
              "614 760     263985    33  FR      0      F   377802      01/10/2021 52      \n",
              "615 765     267519    18  MX      0      M   381312      02/08/2021 44      \n",
              "616 766     271545    39  FR      0      M   382976      11/11/2021  6      \n",
              "617 767     272127    31  TR      0      M   383202      28/08/2021 98      \n",
              "618 768     272745    15  MX      0      F   383586      19/09/2021 43      \n",
              "619 769     272985    23  FR      0      F   383662      18/10/2021  2      \n",
              "620 771     274869    22  PT      0      M   384455      29/11/2021 69      \n",
              "621 772     276699    31  ES      0      F   385216      26/09/2021  6      \n",
              "622 773     276927    27  IT      0      F   385300      12/09/2021 97      \n",
              "623 774     277785    19  PT      0      F   385739      01/10/2021  2      \n",
              "624 776     280647    50  PL      0      F   386646      01/10/2021 51      \n",
              "625 777     284667    43  FR      0      F   388625      26/10/2021 56      \n",
              "626 778     285267    21  AR      0      M   389133      27/10/2021 69      \n",
              "627 779     285627    49  FR      0      M   389280      04/11/2021  2      \n",
              "628 780     285777    28  FR      0      M   389380      27/12/2021  1      \n",
              "629 781     287973    33  PT      0      F   390065      13/11/2021 28      \n",
              "630 782     291231    25  FR      0      F   391706      25/11/2021 19      \n",
              "631 784     292287    60  IT      0      M   392163      27/11/2021 14      \n",
              "632 785     292737    25  FR      0      M   392249      19/12/2021  4      \n",
              "    vas_eye vas_asthma rhinitis_medication asthma_medication  \n",
              "1    81     NA         B_single_medication A_no_medication    \n",
              "2     5      0         A_no_medication     A_no_medication    \n",
              "3     0      6         A_no_medication     A_no_medication    \n",
              "4     0      2         A_no_medication     A_no_medication    \n",
              "5    24     NA         A_no_medication     A_no_medication    \n",
              "6    31      8         A_no_medication     B_single_medication\n",
              "7    10     16         C_comedication      A_no_medication    \n",
              "8     3      0         B_single_medication A_no_medication    \n",
              "9     9      1         A_no_medication     A_no_medication    \n",
              "10   19      0         C_comedication      A_no_medication    \n",
              "11    1      0         C_comedication      A_no_medication    \n",
              "12    1     NA         B_single_medication A_no_medication    \n",
              "13    9     NA         B_single_medication A_no_medication    \n",
              "14    0     NA         A_no_medication     A_no_medication    \n",
              "15   20     15         A_no_medication     A_no_medication    \n",
              "16    0      0         A_no_medication     A_no_medication    \n",
              "17   63     14         B_single_medication B_single_medication\n",
              "18  100     98         A_no_medication     A_no_medication    \n",
              "19    8      5         B_single_medication A_no_medication    \n",
              "20    3     NA         A_no_medication     A_no_medication    \n",
              "21    2     NA         A_no_medication     A_no_medication    \n",
              "22   17     16         B_single_medication A_no_medication    \n",
              "23    6      9         A_no_medication     A_no_medication    \n",
              "24    0      0         A_no_medication     A_no_medication    \n",
              "25    3      1         C_comedication      B_single_medication\n",
              "26    5      0         C_comedication      B_single_medication\n",
              "27    6      1         C_comedication      A_no_medication    \n",
              "28    0      1         A_no_medication     A_no_medication    \n",
              "29    3      2         A_no_medication     A_no_medication    \n",
              "30    5      1         A_no_medication     A_no_medication    \n",
              "⋮   ⋮       ⋮          ⋮                   ⋮                  \n",
              "603 11      34         B_single_medication A_no_medication    \n",
              "604 21       2         B_single_medication A_no_medication    \n",
              "605  7      53         C_comedication      B_single_medication\n",
              "606  1       4         A_no_medication     A_no_medication    \n",
              "607  1       0         B_single_medication A_no_medication    \n",
              "608 82      77         A_no_medication     A_no_medication    \n",
              "609 12      13         A_no_medication     A_no_medication    \n",
              "610 11       9         A_no_medication     A_no_medication    \n",
              "611 10      25         B_single_medication B_single_medication\n",
              "612 13       5         A_no_medication     A_no_medication    \n",
              "613  2       1         A_no_medication     A_no_medication    \n",
              "614  9      19         B_single_medication B_single_medication\n",
              "615 18       3         C_comedication      A_no_medication    \n",
              "616  0       4         A_no_medication     A_no_medication    \n",
              "617  6      92         B_single_medication C_comedication     \n",
              "618 32       0         B_single_medication A_no_medication    \n",
              "619  2       4         A_no_medication     A_no_medication    \n",
              "620 15       0         B_single_medication A_no_medication    \n",
              "621  7      19         A_no_medication     A_no_medication    \n",
              "622  1       0         A_no_medication     A_no_medication    \n",
              "623  5       3         A_no_medication     A_no_medication    \n",
              "624 18       2         A_no_medication     A_no_medication    \n",
              "625 47      60         B_single_medication B_single_medication\n",
              "626 49      39         C_comedication      A_no_medication    \n",
              "627  0       1         A_no_medication     A_no_medication    \n",
              "628  0       5         A_no_medication     A_no_medication    \n",
              "629 29       0         A_no_medication     A_no_medication    \n",
              "630  1       4         A_no_medication     A_no_medication    \n",
              "631  2       4         C_comedication      A_no_medication    \n",
              "632  2       2         A_no_medication     A_no_medication    "
            ]
          },
          "metadata": {}
        }
      ]
    },
    {
      "cell_type": "code",
      "source": [
        "mean(mask_air)"
      ],
      "metadata": {
        "id": "XGs1NRENVs9P"
      },
      "execution_count": null,
      "outputs": []
    },
    {
      "cell_type": "code",
      "source": [
        "IQR(su_df$asthma)"
      ],
      "metadata": {
        "id": "I67m-LNFU0Ko",
        "outputId": "3a939375-3eb4-42a4-9f7b-2d409a5387d1",
        "colab": {
          "base_uri": "https://localhost:8080/",
          "height": 34
        }
      },
      "execution_count": 135,
      "outputs": [
        {
          "output_type": "display_data",
          "data": {
            "text/html": [
              "1"
            ],
            "text/markdown": "1",
            "text/latex": "1",
            "text/plain": [
              "[1] 1"
            ]
          },
          "metadata": {}
        }
      ]
    },
    {
      "cell_type": "code",
      "source": [
        "mean(vas_asthma)  "
      ],
      "metadata": {
        "id": "qd42bqJ7SbLH",
        "outputId": "7de650fe-b47d-47f5-f51a-7fdd3c30894c",
        "colab": {
          "base_uri": "https://localhost:8080/",
          "height": 219
        }
      },
      "execution_count": 117,
      "outputs": [
        {
          "output_type": "error",
          "ename": "ERROR",
          "evalue": "ignored",
          "traceback": [
            "Error in h(simpleError(msg, call)): error in evaluating the argument 'x' in selecting a method for function 'mean': object 'vas_asthma' not found\nTraceback:\n",
            "1. mean(vas_asthma)",
            "2. .handleSimpleError(function (cond) \n . .Internal(C_tryCatchHelper(addr, 1L, cond)), \"object 'vas_asthma' not found\", \n .     base::quote(mean(vas_asthma)))",
            "3. h(simpleError(msg, call))"
          ]
        }
      ]
    },
    {
      "cell_type": "code",
      "source": [
        "# 1.6. Calcule o valor médio e o desvio padrão da variável vas_nose para utilizadores que fazem alguma terapêutica para a rinite alérgica e para utilizadores que não fazem nenhuma terapêutica para a rinite alérgica.\n",
        "\n",
        "ma_df %>% group_by(rh) %>% summarise(height_mean = mean(height), height_sd = sd(height))\n"
      ],
      "metadata": {
        "id": "mXnlP7gzb4xc"
      },
      "execution_count": null,
      "outputs": []
    },
    {
      "cell_type": "code",
      "source": [
        "ma_df %>% group_by(rhinitis_medication) %>% summarise(vas_nose_mean = mean(vas_nose), vas_nose_st = IQR(vas_nose))"
      ],
      "metadata": {
        "id": "duLku33Pd0pt",
        "outputId": "25f08806-158f-470b-ea65-2733ee686cf1",
        "colab": {
          "base_uri": "https://localhost:8080/",
          "height": 192
        }
      },
      "execution_count": 156,
      "outputs": [
        {
          "output_type": "display_data",
          "data": {
            "text/html": [
              "<table class=\"dataframe\">\n",
              "<caption>A tibble: 3 × 3</caption>\n",
              "<thead>\n",
              "\t<tr><th scope=col>rhinitis_medication</th><th scope=col>vas_nose_mean</th><th scope=col>vas_nose_st</th></tr>\n",
              "\t<tr><th scope=col>&lt;chr&gt;</th><th scope=col>&lt;dbl&gt;</th><th scope=col>&lt;dbl&gt;</th></tr>\n",
              "</thead>\n",
              "<tbody>\n",
              "\t<tr><td>A_no_medication    </td><td>18.02814</td><td>25.0</td></tr>\n",
              "\t<tr><td>B_single_medication</td><td>22.28383</td><td>26.5</td></tr>\n",
              "\t<tr><td>C_comedication     </td><td>27.07317</td><td>33.0</td></tr>\n",
              "</tbody>\n",
              "</table>\n"
            ],
            "text/markdown": "\nA tibble: 3 × 3\n\n| rhinitis_medication &lt;chr&gt; | vas_nose_mean &lt;dbl&gt; | vas_nose_st &lt;dbl&gt; |\n|---|---|---|\n| A_no_medication     | 18.02814 | 25.0 |\n| B_single_medication | 22.28383 | 26.5 |\n| C_comedication      | 27.07317 | 33.0 |\n\n",
            "text/latex": "A tibble: 3 × 3\n\\begin{tabular}{lll}\n rhinitis\\_medication & vas\\_nose\\_mean & vas\\_nose\\_st\\\\\n <chr> & <dbl> & <dbl>\\\\\n\\hline\n\t A\\_no\\_medication     & 18.02814 & 25.0\\\\\n\t B\\_single\\_medication & 22.28383 & 26.5\\\\\n\t C\\_comedication      & 27.07317 & 33.0\\\\\n\\end{tabular}\n",
            "text/plain": [
              "  rhinitis_medication vas_nose_mean vas_nose_st\n",
              "1 A_no_medication     18.02814      25.0       \n",
              "2 B_single_medication 22.28383      26.5       \n",
              "3 C_comedication      27.07317      33.0       "
            ]
          },
          "metadata": {}
        }
      ]
    },
    {
      "cell_type": "code",
      "source": [
        "ma_df_b = (filter(mask_air, rhinitis_medication == 'B_single_medication\t')) "
      ],
      "metadata": {
        "id": "bpXFWcvZd4fi"
      },
      "execution_count": null,
      "outputs": []
    },
    {
      "cell_type": "code",
      "source": [
        "ma_df"
      ],
      "metadata": {
        "id": "CLTi66nIkJt1",
        "outputId": "7288271a-364c-49be-a8d6-08cbb2f65bb7",
        "colab": {
          "base_uri": "https://localhost:8080/",
          "height": 1000
        }
      },
      "execution_count": 159,
      "outputs": [
        {
          "output_type": "display_data",
          "data": {
            "text/html": [
              "<table class=\"dataframe\">\n",
              "<caption>A data.frame: 1000 × 14</caption>\n",
              "<thead>\n",
              "\t<tr><th scope=col>X</th><th scope=col>user_id</th><th scope=col>member_id</th><th scope=col>age</th><th scope=col>country</th><th scope=col>asthma</th><th scope=col>sex</th><th scope=col>symptoms_id</th><th scope=col>date</th><th scope=col>vas_nose</th><th scope=col>vas_eye</th><th scope=col>vas_asthma</th><th scope=col>rhinitis_medication</th><th scope=col>asthma_medication</th></tr>\n",
              "\t<tr><th scope=col>&lt;int&gt;</th><th scope=col>&lt;int&gt;</th><th scope=col>&lt;int&gt;</th><th scope=col>&lt;int&gt;</th><th scope=col>&lt;chr&gt;</th><th scope=col>&lt;int&gt;</th><th scope=col>&lt;chr&gt;</th><th scope=col>&lt;int&gt;</th><th scope=col>&lt;chr&gt;</th><th scope=col>&lt;int&gt;</th><th scope=col>&lt;int&gt;</th><th scope=col>&lt;int&gt;</th><th scope=col>&lt;chr&gt;</th><th scope=col>&lt;chr&gt;</th></tr>\n",
              "</thead>\n",
              "<tbody>\n",
              "\t<tr><td> 1</td><td> 1</td><td>  48</td><td>56</td><td>NL</td><td>0</td><td>M</td><td>111007</td><td>08/04/2016</td><td>77</td><td>81</td><td>NA</td><td>B_single_medication</td><td>A_no_medication    </td></tr>\n",
              "\t<tr><td> 2</td><td> 2</td><td>1026</td><td>19</td><td>GB</td><td>1</td><td>M</td><td>290424</td><td>06/10/2015</td><td>59</td><td>38</td><td>NA</td><td>C_comedication     </td><td>A_no_medication    </td></tr>\n",
              "\t<tr><td> 3</td><td> 3</td><td>1638</td><td>47</td><td>FR</td><td>0</td><td>F</td><td>368522</td><td>18/02/2019</td><td>52</td><td> 5</td><td> 0</td><td>A_no_medication    </td><td>A_no_medication    </td></tr>\n",
              "\t<tr><td> 4</td><td> 3</td><td>1638</td><td>47</td><td>FR</td><td>0</td><td>F</td><td>367628</td><td>20/11/2015</td><td> 0</td><td> 0</td><td> 6</td><td>A_no_medication    </td><td>A_no_medication    </td></tr>\n",
              "\t<tr><td> 5</td><td> 3</td><td>1638</td><td>47</td><td>FR</td><td>0</td><td>F</td><td>367798</td><td>17/09/2016</td><td> 8</td><td> 0</td><td> 2</td><td>A_no_medication    </td><td>A_no_medication    </td></tr>\n",
              "\t<tr><td> 6</td><td> 4</td><td>2064</td><td>51</td><td>FR</td><td>1</td><td>F</td><td>393432</td><td>25/12/2015</td><td>40</td><td>25</td><td>NA</td><td>A_no_medication    </td><td>A_no_medication    </td></tr>\n",
              "\t<tr><td> 7</td><td> 5</td><td>2076</td><td>23</td><td>GB</td><td>1</td><td>F</td><td>393928</td><td>26/12/2015</td><td> 3</td><td> 3</td><td>NA</td><td>A_no_medication    </td><td>A_no_medication    </td></tr>\n",
              "\t<tr><td> 8</td><td> 5</td><td>2076</td><td>23</td><td>GB</td><td>1</td><td>F</td><td>394299</td><td>21/01/2017</td><td> 9</td><td> 0</td><td> 0</td><td>A_no_medication    </td><td>A_no_medication    </td></tr>\n",
              "\t<tr><td> 9</td><td> 5</td><td>2076</td><td>23</td><td>GB</td><td>1</td><td>F</td><td>394107</td><td>02/07/2016</td><td>15</td><td> 0</td><td> 0</td><td>A_no_medication    </td><td>A_no_medication    </td></tr>\n",
              "\t<tr><td>10</td><td> 6</td><td>2082</td><td>72</td><td>PL</td><td>0</td><td>F</td><td>394940</td><td>12/01/2016</td><td>21</td><td>24</td><td>NA</td><td>A_no_medication    </td><td>A_no_medication    </td></tr>\n",
              "\t<tr><td>11</td><td> 7</td><td>3138</td><td>67</td><td>DK</td><td>0</td><td>F</td><td> 16242</td><td>08/05/2016</td><td>18</td><td>31</td><td> 8</td><td>A_no_medication    </td><td>B_single_medication</td></tr>\n",
              "\t<tr><td>12</td><td> 8</td><td>3192</td><td>32</td><td>IT</td><td>1</td><td>F</td><td> 16996</td><td>01/08/2017</td><td> 0</td><td> 1</td><td> 0</td><td>A_no_medication    </td><td>A_no_medication    </td></tr>\n",
              "\t<tr><td>13</td><td> 8</td><td>3192</td><td>32</td><td>IT</td><td>1</td><td>F</td><td> 17030</td><td>14/09/2017</td><td> 0</td><td> 0</td><td> 0</td><td>A_no_medication    </td><td>A_no_medication    </td></tr>\n",
              "\t<tr><td>14</td><td> 8</td><td>3192</td><td>32</td><td>IT</td><td>1</td><td>F</td><td> 16721</td><td>28/10/2016</td><td> 2</td><td> 0</td><td> 0</td><td>A_no_medication    </td><td>A_no_medication    </td></tr>\n",
              "\t<tr><td>15</td><td> 9</td><td>3954</td><td>38</td><td>BE</td><td>0</td><td>M</td><td> 25433</td><td>09/08/2016</td><td> 9</td><td>10</td><td>16</td><td>C_comedication     </td><td>A_no_medication    </td></tr>\n",
              "\t<tr><td>16</td><td>10</td><td>4206</td><td>32</td><td>IT</td><td>1</td><td>F</td><td> 28641</td><td>19/03/2016</td><td> 1</td><td> 0</td><td> 1</td><td>A_no_medication    </td><td>A_no_medication    </td></tr>\n",
              "\t<tr><td>17</td><td>10</td><td>4206</td><td>32</td><td>IT</td><td>1</td><td>F</td><td> 28649</td><td>27/03/2016</td><td> 0</td><td> 4</td><td>NA</td><td>A_no_medication    </td><td>A_no_medication    </td></tr>\n",
              "\t<tr><td>18</td><td>11</td><td>4458</td><td>40</td><td>IT</td><td>0</td><td>F</td><td> 32663</td><td>15/09/2016</td><td> 8</td><td> 3</td><td> 0</td><td>B_single_medication</td><td>A_no_medication    </td></tr>\n",
              "\t<tr><td>19</td><td>11</td><td>4458</td><td>40</td><td>IT</td><td>0</td><td>F</td><td> 33290</td><td>14/06/2018</td><td>14</td><td> 9</td><td> 1</td><td>A_no_medication    </td><td>A_no_medication    </td></tr>\n",
              "\t<tr><td>20</td><td>11</td><td>4458</td><td>40</td><td>IT</td><td>0</td><td>F</td><td> 32873</td><td>13/04/2017</td><td>33</td><td>19</td><td> 0</td><td>C_comedication     </td><td>A_no_medication    </td></tr>\n",
              "\t<tr><td>21</td><td>12</td><td>4650</td><td>21</td><td>DE</td><td>0</td><td>F</td><td> 41087</td><td>06/06/2016</td><td>24</td><td> 1</td><td> 0</td><td>C_comedication     </td><td>A_no_medication    </td></tr>\n",
              "\t<tr><td>22</td><td>13</td><td>4890</td><td>36</td><td>ES</td><td>0</td><td>F</td><td> 46851</td><td>01/04/2016</td><td>19</td><td> 1</td><td>NA</td><td>B_single_medication</td><td>A_no_medication    </td></tr>\n",
              "\t<tr><td>23</td><td>14</td><td>6000</td><td>37</td><td>PL</td><td>1</td><td>F</td><td> 62618</td><td>28/04/2019</td><td>51</td><td>53</td><td>35</td><td>C_comedication     </td><td>C_comedication     </td></tr>\n",
              "\t<tr><td>24</td><td>14</td><td>6000</td><td>37</td><td>PL</td><td>1</td><td>F</td><td> 62772</td><td>26/05/2021</td><td>25</td><td>61</td><td>14</td><td>C_comedication     </td><td>C_comedication     </td></tr>\n",
              "\t<tr><td>25</td><td>14</td><td>6000</td><td>37</td><td>PL</td><td>1</td><td>F</td><td> 62529</td><td>03/05/2016</td><td>75</td><td>64</td><td>49</td><td>C_comedication     </td><td>C_comedication     </td></tr>\n",
              "\t<tr><td>26</td><td>14</td><td>6000</td><td>37</td><td>PL</td><td>1</td><td>F</td><td> 62635</td><td>25/05/2019</td><td>13</td><td> 7</td><td> 6</td><td>B_single_medication</td><td>B_single_medication</td></tr>\n",
              "\t<tr><td>27</td><td>14</td><td>6000</td><td>37</td><td>PL</td><td>1</td><td>F</td><td> 62708</td><td>19/10/2019</td><td>71</td><td>18</td><td>41</td><td>C_comedication     </td><td>C_comedication     </td></tr>\n",
              "\t<tr><td>28</td><td>15</td><td>6936</td><td>23</td><td>DE</td><td>0</td><td>F</td><td> 81783</td><td>04/05/2016</td><td>17</td><td> 9</td><td>NA</td><td>B_single_medication</td><td>A_no_medication    </td></tr>\n",
              "\t<tr><td>29</td><td>15</td><td>6936</td><td>23</td><td>DE</td><td>0</td><td>F</td><td> 81777</td><td>14/04/2016</td><td>35</td><td> 0</td><td>NA</td><td>A_no_medication    </td><td>A_no_medication    </td></tr>\n",
              "\t<tr><td>30</td><td>16</td><td>6942</td><td>51</td><td>PL</td><td>1</td><td>F</td><td> 81834</td><td>29/04/2016</td><td> 0</td><td> 3</td><td> 0</td><td>C_comedication     </td><td>A_no_medication    </td></tr>\n",
              "\t<tr><td>⋮</td><td>⋮</td><td>⋮</td><td>⋮</td><td>⋮</td><td>⋮</td><td>⋮</td><td>⋮</td><td>⋮</td><td>⋮</td><td>⋮</td><td>⋮</td><td>⋮</td><td>⋮</td></tr>\n",
              "\t<tr><td> 971</td><td>760</td><td>263985</td><td>33</td><td>FR</td><td>0</td><td>F</td><td>377802</td><td>01/10/2021</td><td>52</td><td> 9</td><td>19</td><td>B_single_medication</td><td>B_single_medication</td></tr>\n",
              "\t<tr><td> 972</td><td>761</td><td>264003</td><td>48</td><td>FR</td><td>1</td><td>F</td><td>377929</td><td>07/10/2021</td><td>14</td><td>24</td><td> 5</td><td>B_single_medication</td><td>A_no_medication    </td></tr>\n",
              "\t<tr><td> 973</td><td>761</td><td>264003</td><td>48</td><td>FR</td><td>1</td><td>F</td><td>377895</td><td>27/07/2021</td><td>11</td><td> 6</td><td> 3</td><td>A_no_medication    </td><td>A_no_medication    </td></tr>\n",
              "\t<tr><td> 974</td><td>762</td><td>264081</td><td>22</td><td>BR</td><td>1</td><td>M</td><td>378257</td><td>11/08/2021</td><td> 1</td><td> 0</td><td> 0</td><td>B_single_medication</td><td>A_no_medication    </td></tr>\n",
              "\t<tr><td> 975</td><td>763</td><td>266259</td><td>49</td><td>LT</td><td>1</td><td>M</td><td>380224</td><td>22/07/2021</td><td>13</td><td> 1</td><td> 3</td><td>B_single_medication</td><td>A_no_medication    </td></tr>\n",
              "\t<tr><td> 976</td><td>764</td><td>267471</td><td>29</td><td>ES</td><td>1</td><td>M</td><td>381235</td><td>31/10/2021</td><td>27</td><td>11</td><td> 1</td><td>B_single_medication</td><td>A_no_medication    </td></tr>\n",
              "\t<tr><td> 977</td><td>765</td><td>267519</td><td>18</td><td>MX</td><td>0</td><td>M</td><td>381312</td><td>02/08/2021</td><td>44</td><td>18</td><td> 3</td><td>C_comedication     </td><td>A_no_medication    </td></tr>\n",
              "\t<tr><td> 978</td><td>766</td><td>271545</td><td>39</td><td>FR</td><td>0</td><td>M</td><td>382976</td><td>11/11/2021</td><td> 6</td><td> 0</td><td> 4</td><td>A_no_medication    </td><td>A_no_medication    </td></tr>\n",
              "\t<tr><td> 979</td><td>767</td><td>272127</td><td>31</td><td>TR</td><td>0</td><td>M</td><td>383202</td><td>28/08/2021</td><td>98</td><td> 6</td><td>92</td><td>B_single_medication</td><td>C_comedication     </td></tr>\n",
              "\t<tr><td> 980</td><td>768</td><td>272745</td><td>15</td><td>MX</td><td>0</td><td>F</td><td>383586</td><td>19/09/2021</td><td>43</td><td>32</td><td> 0</td><td>B_single_medication</td><td>A_no_medication    </td></tr>\n",
              "\t<tr><td> 981</td><td>769</td><td>272985</td><td>23</td><td>FR</td><td>0</td><td>F</td><td>383662</td><td>18/10/2021</td><td> 2</td><td> 2</td><td> 4</td><td>A_no_medication    </td><td>A_no_medication    </td></tr>\n",
              "\t<tr><td> 982</td><td>770</td><td>273675</td><td>38</td><td>PT</td><td>1</td><td>F</td><td>383970</td><td>18/10/2021</td><td> 0</td><td> 0</td><td> 1</td><td>A_no_medication    </td><td>A_no_medication    </td></tr>\n",
              "\t<tr><td> 983</td><td>771</td><td>274869</td><td>22</td><td>PT</td><td>0</td><td>M</td><td>384455</td><td>29/11/2021</td><td>69</td><td>15</td><td> 0</td><td>B_single_medication</td><td>A_no_medication    </td></tr>\n",
              "\t<tr><td> 984</td><td>772</td><td>276699</td><td>31</td><td>ES</td><td>0</td><td>F</td><td>385216</td><td>26/09/2021</td><td> 6</td><td> 7</td><td>19</td><td>A_no_medication    </td><td>A_no_medication    </td></tr>\n",
              "\t<tr><td> 985</td><td>773</td><td>276927</td><td>27</td><td>IT</td><td>0</td><td>F</td><td>385300</td><td>12/09/2021</td><td>97</td><td> 1</td><td> 0</td><td>A_no_medication    </td><td>A_no_medication    </td></tr>\n",
              "\t<tr><td> 986</td><td>774</td><td>277785</td><td>19</td><td>PT</td><td>0</td><td>F</td><td>385739</td><td>01/10/2021</td><td> 2</td><td> 5</td><td> 3</td><td>A_no_medication    </td><td>A_no_medication    </td></tr>\n",
              "\t<tr><td> 987</td><td>775</td><td>278181</td><td>48</td><td>PT</td><td>1</td><td>F</td><td>385847</td><td>19/09/2021</td><td>32</td><td>21</td><td>25</td><td>A_no_medication    </td><td>A_no_medication    </td></tr>\n",
              "\t<tr><td> 988</td><td>776</td><td>280647</td><td>50</td><td>PL</td><td>0</td><td>F</td><td>386646</td><td>01/10/2021</td><td>51</td><td>18</td><td> 2</td><td>A_no_medication    </td><td>A_no_medication    </td></tr>\n",
              "\t<tr><td> 989</td><td>777</td><td>284667</td><td>43</td><td>FR</td><td>0</td><td>F</td><td>388625</td><td>26/10/2021</td><td>56</td><td>47</td><td>60</td><td>B_single_medication</td><td>B_single_medication</td></tr>\n",
              "\t<tr><td> 990</td><td>778</td><td>285267</td><td>21</td><td>AR</td><td>0</td><td>M</td><td>389133</td><td>27/10/2021</td><td>69</td><td>49</td><td>39</td><td>C_comedication     </td><td>A_no_medication    </td></tr>\n",
              "\t<tr><td> 991</td><td>779</td><td>285627</td><td>49</td><td>FR</td><td>0</td><td>M</td><td>389280</td><td>04/11/2021</td><td> 2</td><td> 0</td><td> 1</td><td>A_no_medication    </td><td>A_no_medication    </td></tr>\n",
              "\t<tr><td> 992</td><td>780</td><td>285777</td><td>28</td><td>FR</td><td>0</td><td>M</td><td>389380</td><td>27/12/2021</td><td> 1</td><td> 0</td><td> 5</td><td>A_no_medication    </td><td>A_no_medication    </td></tr>\n",
              "\t<tr><td> 993</td><td>781</td><td>287973</td><td>33</td><td>PT</td><td>0</td><td>F</td><td>390065</td><td>13/11/2021</td><td>28</td><td>29</td><td> 0</td><td>A_no_medication    </td><td>A_no_medication    </td></tr>\n",
              "\t<tr><td> 994</td><td>782</td><td>291231</td><td>25</td><td>FR</td><td>0</td><td>F</td><td>391706</td><td>25/11/2021</td><td>19</td><td> 1</td><td> 4</td><td>A_no_medication    </td><td>A_no_medication    </td></tr>\n",
              "\t<tr><td> 995</td><td>783</td><td>291441</td><td>22</td><td>FR</td><td>1</td><td>M</td><td>391855</td><td>27/11/2021</td><td> 7</td><td> 2</td><td> 1</td><td>A_no_medication    </td><td>A_no_medication    </td></tr>\n",
              "\t<tr><td> 996</td><td>784</td><td>292287</td><td>60</td><td>IT</td><td>0</td><td>M</td><td>392163</td><td>27/11/2021</td><td>14</td><td> 2</td><td> 4</td><td>C_comedication     </td><td>A_no_medication    </td></tr>\n",
              "\t<tr><td> 997</td><td>785</td><td>292737</td><td>25</td><td>FR</td><td>0</td><td>M</td><td>392249</td><td>19/12/2021</td><td> 4</td><td> 2</td><td> 2</td><td>A_no_medication    </td><td>A_no_medication    </td></tr>\n",
              "\t<tr><td> 998</td><td>786</td><td>297285</td><td>28</td><td>FR</td><td>1</td><td>M</td><td>394921</td><td>25/12/2021</td><td>65</td><td> 3</td><td> 7</td><td>A_no_medication    </td><td>A_no_medication    </td></tr>\n",
              "\t<tr><td> 999</td><td>787</td><td>302223</td><td>37</td><td>IT</td><td>1</td><td>F</td><td>   449</td><td>23/12/2021</td><td>86</td><td>62</td><td> 3</td><td>A_no_medication    </td><td>A_no_medication    </td></tr>\n",
              "\t<tr><td>1000</td><td>788</td><td>304299</td><td>23</td><td>IT</td><td>1</td><td>F</td><td>  1096</td><td>29/12/2021</td><td>96</td><td>35</td><td>12</td><td>A_no_medication    </td><td>A_no_medication    </td></tr>\n",
              "</tbody>\n",
              "</table>\n"
            ],
            "text/markdown": "\nA data.frame: 1000 × 14\n\n| X &lt;int&gt; | user_id &lt;int&gt; | member_id &lt;int&gt; | age &lt;int&gt; | country &lt;chr&gt; | asthma &lt;int&gt; | sex &lt;chr&gt; | symptoms_id &lt;int&gt; | date &lt;chr&gt; | vas_nose &lt;int&gt; | vas_eye &lt;int&gt; | vas_asthma &lt;int&gt; | rhinitis_medication &lt;chr&gt; | asthma_medication &lt;chr&gt; |\n|---|---|---|---|---|---|---|---|---|---|---|---|---|---|\n|  1 |  1 |   48 | 56 | NL | 0 | M | 111007 | 08/04/2016 | 77 | 81 | NA | B_single_medication | A_no_medication     |\n|  2 |  2 | 1026 | 19 | GB | 1 | M | 290424 | 06/10/2015 | 59 | 38 | NA | C_comedication      | A_no_medication     |\n|  3 |  3 | 1638 | 47 | FR | 0 | F | 368522 | 18/02/2019 | 52 |  5 |  0 | A_no_medication     | A_no_medication     |\n|  4 |  3 | 1638 | 47 | FR | 0 | F | 367628 | 20/11/2015 |  0 |  0 |  6 | A_no_medication     | A_no_medication     |\n|  5 |  3 | 1638 | 47 | FR | 0 | F | 367798 | 17/09/2016 |  8 |  0 |  2 | A_no_medication     | A_no_medication     |\n|  6 |  4 | 2064 | 51 | FR | 1 | F | 393432 | 25/12/2015 | 40 | 25 | NA | A_no_medication     | A_no_medication     |\n|  7 |  5 | 2076 | 23 | GB | 1 | F | 393928 | 26/12/2015 |  3 |  3 | NA | A_no_medication     | A_no_medication     |\n|  8 |  5 | 2076 | 23 | GB | 1 | F | 394299 | 21/01/2017 |  9 |  0 |  0 | A_no_medication     | A_no_medication     |\n|  9 |  5 | 2076 | 23 | GB | 1 | F | 394107 | 02/07/2016 | 15 |  0 |  0 | A_no_medication     | A_no_medication     |\n| 10 |  6 | 2082 | 72 | PL | 0 | F | 394940 | 12/01/2016 | 21 | 24 | NA | A_no_medication     | A_no_medication     |\n| 11 |  7 | 3138 | 67 | DK | 0 | F |  16242 | 08/05/2016 | 18 | 31 |  8 | A_no_medication     | B_single_medication |\n| 12 |  8 | 3192 | 32 | IT | 1 | F |  16996 | 01/08/2017 |  0 |  1 |  0 | A_no_medication     | A_no_medication     |\n| 13 |  8 | 3192 | 32 | IT | 1 | F |  17030 | 14/09/2017 |  0 |  0 |  0 | A_no_medication     | A_no_medication     |\n| 14 |  8 | 3192 | 32 | IT | 1 | F |  16721 | 28/10/2016 |  2 |  0 |  0 | A_no_medication     | A_no_medication     |\n| 15 |  9 | 3954 | 38 | BE | 0 | M |  25433 | 09/08/2016 |  9 | 10 | 16 | C_comedication      | A_no_medication     |\n| 16 | 10 | 4206 | 32 | IT | 1 | F |  28641 | 19/03/2016 |  1 |  0 |  1 | A_no_medication     | A_no_medication     |\n| 17 | 10 | 4206 | 32 | IT | 1 | F |  28649 | 27/03/2016 |  0 |  4 | NA | A_no_medication     | A_no_medication     |\n| 18 | 11 | 4458 | 40 | IT | 0 | F |  32663 | 15/09/2016 |  8 |  3 |  0 | B_single_medication | A_no_medication     |\n| 19 | 11 | 4458 | 40 | IT | 0 | F |  33290 | 14/06/2018 | 14 |  9 |  1 | A_no_medication     | A_no_medication     |\n| 20 | 11 | 4458 | 40 | IT | 0 | F |  32873 | 13/04/2017 | 33 | 19 |  0 | C_comedication      | A_no_medication     |\n| 21 | 12 | 4650 | 21 | DE | 0 | F |  41087 | 06/06/2016 | 24 |  1 |  0 | C_comedication      | A_no_medication     |\n| 22 | 13 | 4890 | 36 | ES | 0 | F |  46851 | 01/04/2016 | 19 |  1 | NA | B_single_medication | A_no_medication     |\n| 23 | 14 | 6000 | 37 | PL | 1 | F |  62618 | 28/04/2019 | 51 | 53 | 35 | C_comedication      | C_comedication      |\n| 24 | 14 | 6000 | 37 | PL | 1 | F |  62772 | 26/05/2021 | 25 | 61 | 14 | C_comedication      | C_comedication      |\n| 25 | 14 | 6000 | 37 | PL | 1 | F |  62529 | 03/05/2016 | 75 | 64 | 49 | C_comedication      | C_comedication      |\n| 26 | 14 | 6000 | 37 | PL | 1 | F |  62635 | 25/05/2019 | 13 |  7 |  6 | B_single_medication | B_single_medication |\n| 27 | 14 | 6000 | 37 | PL | 1 | F |  62708 | 19/10/2019 | 71 | 18 | 41 | C_comedication      | C_comedication      |\n| 28 | 15 | 6936 | 23 | DE | 0 | F |  81783 | 04/05/2016 | 17 |  9 | NA | B_single_medication | A_no_medication     |\n| 29 | 15 | 6936 | 23 | DE | 0 | F |  81777 | 14/04/2016 | 35 |  0 | NA | A_no_medication     | A_no_medication     |\n| 30 | 16 | 6942 | 51 | PL | 1 | F |  81834 | 29/04/2016 |  0 |  3 |  0 | C_comedication      | A_no_medication     |\n| ⋮ | ⋮ | ⋮ | ⋮ | ⋮ | ⋮ | ⋮ | ⋮ | ⋮ | ⋮ | ⋮ | ⋮ | ⋮ | ⋮ |\n|  971 | 760 | 263985 | 33 | FR | 0 | F | 377802 | 01/10/2021 | 52 |  9 | 19 | B_single_medication | B_single_medication |\n|  972 | 761 | 264003 | 48 | FR | 1 | F | 377929 | 07/10/2021 | 14 | 24 |  5 | B_single_medication | A_no_medication     |\n|  973 | 761 | 264003 | 48 | FR | 1 | F | 377895 | 27/07/2021 | 11 |  6 |  3 | A_no_medication     | A_no_medication     |\n|  974 | 762 | 264081 | 22 | BR | 1 | M | 378257 | 11/08/2021 |  1 |  0 |  0 | B_single_medication | A_no_medication     |\n|  975 | 763 | 266259 | 49 | LT | 1 | M | 380224 | 22/07/2021 | 13 |  1 |  3 | B_single_medication | A_no_medication     |\n|  976 | 764 | 267471 | 29 | ES | 1 | M | 381235 | 31/10/2021 | 27 | 11 |  1 | B_single_medication | A_no_medication     |\n|  977 | 765 | 267519 | 18 | MX | 0 | M | 381312 | 02/08/2021 | 44 | 18 |  3 | C_comedication      | A_no_medication     |\n|  978 | 766 | 271545 | 39 | FR | 0 | M | 382976 | 11/11/2021 |  6 |  0 |  4 | A_no_medication     | A_no_medication     |\n|  979 | 767 | 272127 | 31 | TR | 0 | M | 383202 | 28/08/2021 | 98 |  6 | 92 | B_single_medication | C_comedication      |\n|  980 | 768 | 272745 | 15 | MX | 0 | F | 383586 | 19/09/2021 | 43 | 32 |  0 | B_single_medication | A_no_medication     |\n|  981 | 769 | 272985 | 23 | FR | 0 | F | 383662 | 18/10/2021 |  2 |  2 |  4 | A_no_medication     | A_no_medication     |\n|  982 | 770 | 273675 | 38 | PT | 1 | F | 383970 | 18/10/2021 |  0 |  0 |  1 | A_no_medication     | A_no_medication     |\n|  983 | 771 | 274869 | 22 | PT | 0 | M | 384455 | 29/11/2021 | 69 | 15 |  0 | B_single_medication | A_no_medication     |\n|  984 | 772 | 276699 | 31 | ES | 0 | F | 385216 | 26/09/2021 |  6 |  7 | 19 | A_no_medication     | A_no_medication     |\n|  985 | 773 | 276927 | 27 | IT | 0 | F | 385300 | 12/09/2021 | 97 |  1 |  0 | A_no_medication     | A_no_medication     |\n|  986 | 774 | 277785 | 19 | PT | 0 | F | 385739 | 01/10/2021 |  2 |  5 |  3 | A_no_medication     | A_no_medication     |\n|  987 | 775 | 278181 | 48 | PT | 1 | F | 385847 | 19/09/2021 | 32 | 21 | 25 | A_no_medication     | A_no_medication     |\n|  988 | 776 | 280647 | 50 | PL | 0 | F | 386646 | 01/10/2021 | 51 | 18 |  2 | A_no_medication     | A_no_medication     |\n|  989 | 777 | 284667 | 43 | FR | 0 | F | 388625 | 26/10/2021 | 56 | 47 | 60 | B_single_medication | B_single_medication |\n|  990 | 778 | 285267 | 21 | AR | 0 | M | 389133 | 27/10/2021 | 69 | 49 | 39 | C_comedication      | A_no_medication     |\n|  991 | 779 | 285627 | 49 | FR | 0 | M | 389280 | 04/11/2021 |  2 |  0 |  1 | A_no_medication     | A_no_medication     |\n|  992 | 780 | 285777 | 28 | FR | 0 | M | 389380 | 27/12/2021 |  1 |  0 |  5 | A_no_medication     | A_no_medication     |\n|  993 | 781 | 287973 | 33 | PT | 0 | F | 390065 | 13/11/2021 | 28 | 29 |  0 | A_no_medication     | A_no_medication     |\n|  994 | 782 | 291231 | 25 | FR | 0 | F | 391706 | 25/11/2021 | 19 |  1 |  4 | A_no_medication     | A_no_medication     |\n|  995 | 783 | 291441 | 22 | FR | 1 | M | 391855 | 27/11/2021 |  7 |  2 |  1 | A_no_medication     | A_no_medication     |\n|  996 | 784 | 292287 | 60 | IT | 0 | M | 392163 | 27/11/2021 | 14 |  2 |  4 | C_comedication      | A_no_medication     |\n|  997 | 785 | 292737 | 25 | FR | 0 | M | 392249 | 19/12/2021 |  4 |  2 |  2 | A_no_medication     | A_no_medication     |\n|  998 | 786 | 297285 | 28 | FR | 1 | M | 394921 | 25/12/2021 | 65 |  3 |  7 | A_no_medication     | A_no_medication     |\n|  999 | 787 | 302223 | 37 | IT | 1 | F |    449 | 23/12/2021 | 86 | 62 |  3 | A_no_medication     | A_no_medication     |\n| 1000 | 788 | 304299 | 23 | IT | 1 | F |   1096 | 29/12/2021 | 96 | 35 | 12 | A_no_medication     | A_no_medication     |\n\n",
            "text/latex": "A data.frame: 1000 × 14\n\\begin{tabular}{llllllllllllll}\n X & user\\_id & member\\_id & age & country & asthma & sex & symptoms\\_id & date & vas\\_nose & vas\\_eye & vas\\_asthma & rhinitis\\_medication & asthma\\_medication\\\\\n <int> & <int> & <int> & <int> & <chr> & <int> & <chr> & <int> & <chr> & <int> & <int> & <int> & <chr> & <chr>\\\\\n\\hline\n\t  1 &  1 &   48 & 56 & NL & 0 & M & 111007 & 08/04/2016 & 77 & 81 & NA & B\\_single\\_medication & A\\_no\\_medication    \\\\\n\t  2 &  2 & 1026 & 19 & GB & 1 & M & 290424 & 06/10/2015 & 59 & 38 & NA & C\\_comedication      & A\\_no\\_medication    \\\\\n\t  3 &  3 & 1638 & 47 & FR & 0 & F & 368522 & 18/02/2019 & 52 &  5 &  0 & A\\_no\\_medication     & A\\_no\\_medication    \\\\\n\t  4 &  3 & 1638 & 47 & FR & 0 & F & 367628 & 20/11/2015 &  0 &  0 &  6 & A\\_no\\_medication     & A\\_no\\_medication    \\\\\n\t  5 &  3 & 1638 & 47 & FR & 0 & F & 367798 & 17/09/2016 &  8 &  0 &  2 & A\\_no\\_medication     & A\\_no\\_medication    \\\\\n\t  6 &  4 & 2064 & 51 & FR & 1 & F & 393432 & 25/12/2015 & 40 & 25 & NA & A\\_no\\_medication     & A\\_no\\_medication    \\\\\n\t  7 &  5 & 2076 & 23 & GB & 1 & F & 393928 & 26/12/2015 &  3 &  3 & NA & A\\_no\\_medication     & A\\_no\\_medication    \\\\\n\t  8 &  5 & 2076 & 23 & GB & 1 & F & 394299 & 21/01/2017 &  9 &  0 &  0 & A\\_no\\_medication     & A\\_no\\_medication    \\\\\n\t  9 &  5 & 2076 & 23 & GB & 1 & F & 394107 & 02/07/2016 & 15 &  0 &  0 & A\\_no\\_medication     & A\\_no\\_medication    \\\\\n\t 10 &  6 & 2082 & 72 & PL & 0 & F & 394940 & 12/01/2016 & 21 & 24 & NA & A\\_no\\_medication     & A\\_no\\_medication    \\\\\n\t 11 &  7 & 3138 & 67 & DK & 0 & F &  16242 & 08/05/2016 & 18 & 31 &  8 & A\\_no\\_medication     & B\\_single\\_medication\\\\\n\t 12 &  8 & 3192 & 32 & IT & 1 & F &  16996 & 01/08/2017 &  0 &  1 &  0 & A\\_no\\_medication     & A\\_no\\_medication    \\\\\n\t 13 &  8 & 3192 & 32 & IT & 1 & F &  17030 & 14/09/2017 &  0 &  0 &  0 & A\\_no\\_medication     & A\\_no\\_medication    \\\\\n\t 14 &  8 & 3192 & 32 & IT & 1 & F &  16721 & 28/10/2016 &  2 &  0 &  0 & A\\_no\\_medication     & A\\_no\\_medication    \\\\\n\t 15 &  9 & 3954 & 38 & BE & 0 & M &  25433 & 09/08/2016 &  9 & 10 & 16 & C\\_comedication      & A\\_no\\_medication    \\\\\n\t 16 & 10 & 4206 & 32 & IT & 1 & F &  28641 & 19/03/2016 &  1 &  0 &  1 & A\\_no\\_medication     & A\\_no\\_medication    \\\\\n\t 17 & 10 & 4206 & 32 & IT & 1 & F &  28649 & 27/03/2016 &  0 &  4 & NA & A\\_no\\_medication     & A\\_no\\_medication    \\\\\n\t 18 & 11 & 4458 & 40 & IT & 0 & F &  32663 & 15/09/2016 &  8 &  3 &  0 & B\\_single\\_medication & A\\_no\\_medication    \\\\\n\t 19 & 11 & 4458 & 40 & IT & 0 & F &  33290 & 14/06/2018 & 14 &  9 &  1 & A\\_no\\_medication     & A\\_no\\_medication    \\\\\n\t 20 & 11 & 4458 & 40 & IT & 0 & F &  32873 & 13/04/2017 & 33 & 19 &  0 & C\\_comedication      & A\\_no\\_medication    \\\\\n\t 21 & 12 & 4650 & 21 & DE & 0 & F &  41087 & 06/06/2016 & 24 &  1 &  0 & C\\_comedication      & A\\_no\\_medication    \\\\\n\t 22 & 13 & 4890 & 36 & ES & 0 & F &  46851 & 01/04/2016 & 19 &  1 & NA & B\\_single\\_medication & A\\_no\\_medication    \\\\\n\t 23 & 14 & 6000 & 37 & PL & 1 & F &  62618 & 28/04/2019 & 51 & 53 & 35 & C\\_comedication      & C\\_comedication     \\\\\n\t 24 & 14 & 6000 & 37 & PL & 1 & F &  62772 & 26/05/2021 & 25 & 61 & 14 & C\\_comedication      & C\\_comedication     \\\\\n\t 25 & 14 & 6000 & 37 & PL & 1 & F &  62529 & 03/05/2016 & 75 & 64 & 49 & C\\_comedication      & C\\_comedication     \\\\\n\t 26 & 14 & 6000 & 37 & PL & 1 & F &  62635 & 25/05/2019 & 13 &  7 &  6 & B\\_single\\_medication & B\\_single\\_medication\\\\\n\t 27 & 14 & 6000 & 37 & PL & 1 & F &  62708 & 19/10/2019 & 71 & 18 & 41 & C\\_comedication      & C\\_comedication     \\\\\n\t 28 & 15 & 6936 & 23 & DE & 0 & F &  81783 & 04/05/2016 & 17 &  9 & NA & B\\_single\\_medication & A\\_no\\_medication    \\\\\n\t 29 & 15 & 6936 & 23 & DE & 0 & F &  81777 & 14/04/2016 & 35 &  0 & NA & A\\_no\\_medication     & A\\_no\\_medication    \\\\\n\t 30 & 16 & 6942 & 51 & PL & 1 & F &  81834 & 29/04/2016 &  0 &  3 &  0 & C\\_comedication      & A\\_no\\_medication    \\\\\n\t ⋮ & ⋮ & ⋮ & ⋮ & ⋮ & ⋮ & ⋮ & ⋮ & ⋮ & ⋮ & ⋮ & ⋮ & ⋮ & ⋮\\\\\n\t  971 & 760 & 263985 & 33 & FR & 0 & F & 377802 & 01/10/2021 & 52 &  9 & 19 & B\\_single\\_medication & B\\_single\\_medication\\\\\n\t  972 & 761 & 264003 & 48 & FR & 1 & F & 377929 & 07/10/2021 & 14 & 24 &  5 & B\\_single\\_medication & A\\_no\\_medication    \\\\\n\t  973 & 761 & 264003 & 48 & FR & 1 & F & 377895 & 27/07/2021 & 11 &  6 &  3 & A\\_no\\_medication     & A\\_no\\_medication    \\\\\n\t  974 & 762 & 264081 & 22 & BR & 1 & M & 378257 & 11/08/2021 &  1 &  0 &  0 & B\\_single\\_medication & A\\_no\\_medication    \\\\\n\t  975 & 763 & 266259 & 49 & LT & 1 & M & 380224 & 22/07/2021 & 13 &  1 &  3 & B\\_single\\_medication & A\\_no\\_medication    \\\\\n\t  976 & 764 & 267471 & 29 & ES & 1 & M & 381235 & 31/10/2021 & 27 & 11 &  1 & B\\_single\\_medication & A\\_no\\_medication    \\\\\n\t  977 & 765 & 267519 & 18 & MX & 0 & M & 381312 & 02/08/2021 & 44 & 18 &  3 & C\\_comedication      & A\\_no\\_medication    \\\\\n\t  978 & 766 & 271545 & 39 & FR & 0 & M & 382976 & 11/11/2021 &  6 &  0 &  4 & A\\_no\\_medication     & A\\_no\\_medication    \\\\\n\t  979 & 767 & 272127 & 31 & TR & 0 & M & 383202 & 28/08/2021 & 98 &  6 & 92 & B\\_single\\_medication & C\\_comedication     \\\\\n\t  980 & 768 & 272745 & 15 & MX & 0 & F & 383586 & 19/09/2021 & 43 & 32 &  0 & B\\_single\\_medication & A\\_no\\_medication    \\\\\n\t  981 & 769 & 272985 & 23 & FR & 0 & F & 383662 & 18/10/2021 &  2 &  2 &  4 & A\\_no\\_medication     & A\\_no\\_medication    \\\\\n\t  982 & 770 & 273675 & 38 & PT & 1 & F & 383970 & 18/10/2021 &  0 &  0 &  1 & A\\_no\\_medication     & A\\_no\\_medication    \\\\\n\t  983 & 771 & 274869 & 22 & PT & 0 & M & 384455 & 29/11/2021 & 69 & 15 &  0 & B\\_single\\_medication & A\\_no\\_medication    \\\\\n\t  984 & 772 & 276699 & 31 & ES & 0 & F & 385216 & 26/09/2021 &  6 &  7 & 19 & A\\_no\\_medication     & A\\_no\\_medication    \\\\\n\t  985 & 773 & 276927 & 27 & IT & 0 & F & 385300 & 12/09/2021 & 97 &  1 &  0 & A\\_no\\_medication     & A\\_no\\_medication    \\\\\n\t  986 & 774 & 277785 & 19 & PT & 0 & F & 385739 & 01/10/2021 &  2 &  5 &  3 & A\\_no\\_medication     & A\\_no\\_medication    \\\\\n\t  987 & 775 & 278181 & 48 & PT & 1 & F & 385847 & 19/09/2021 & 32 & 21 & 25 & A\\_no\\_medication     & A\\_no\\_medication    \\\\\n\t  988 & 776 & 280647 & 50 & PL & 0 & F & 386646 & 01/10/2021 & 51 & 18 &  2 & A\\_no\\_medication     & A\\_no\\_medication    \\\\\n\t  989 & 777 & 284667 & 43 & FR & 0 & F & 388625 & 26/10/2021 & 56 & 47 & 60 & B\\_single\\_medication & B\\_single\\_medication\\\\\n\t  990 & 778 & 285267 & 21 & AR & 0 & M & 389133 & 27/10/2021 & 69 & 49 & 39 & C\\_comedication      & A\\_no\\_medication    \\\\\n\t  991 & 779 & 285627 & 49 & FR & 0 & M & 389280 & 04/11/2021 &  2 &  0 &  1 & A\\_no\\_medication     & A\\_no\\_medication    \\\\\n\t  992 & 780 & 285777 & 28 & FR & 0 & M & 389380 & 27/12/2021 &  1 &  0 &  5 & A\\_no\\_medication     & A\\_no\\_medication    \\\\\n\t  993 & 781 & 287973 & 33 & PT & 0 & F & 390065 & 13/11/2021 & 28 & 29 &  0 & A\\_no\\_medication     & A\\_no\\_medication    \\\\\n\t  994 & 782 & 291231 & 25 & FR & 0 & F & 391706 & 25/11/2021 & 19 &  1 &  4 & A\\_no\\_medication     & A\\_no\\_medication    \\\\\n\t  995 & 783 & 291441 & 22 & FR & 1 & M & 391855 & 27/11/2021 &  7 &  2 &  1 & A\\_no\\_medication     & A\\_no\\_medication    \\\\\n\t  996 & 784 & 292287 & 60 & IT & 0 & M & 392163 & 27/11/2021 & 14 &  2 &  4 & C\\_comedication      & A\\_no\\_medication    \\\\\n\t  997 & 785 & 292737 & 25 & FR & 0 & M & 392249 & 19/12/2021 &  4 &  2 &  2 & A\\_no\\_medication     & A\\_no\\_medication    \\\\\n\t  998 & 786 & 297285 & 28 & FR & 1 & M & 394921 & 25/12/2021 & 65 &  3 &  7 & A\\_no\\_medication     & A\\_no\\_medication    \\\\\n\t  999 & 787 & 302223 & 37 & IT & 1 & F &    449 & 23/12/2021 & 86 & 62 &  3 & A\\_no\\_medication     & A\\_no\\_medication    \\\\\n\t 1000 & 788 & 304299 & 23 & IT & 1 & F &   1096 & 29/12/2021 & 96 & 35 & 12 & A\\_no\\_medication     & A\\_no\\_medication    \\\\\n\\end{tabular}\n",
            "text/plain": [
              "     X    user_id member_id age country asthma sex symptoms_id date      \n",
              "1     1    1        48      56  NL      0      M   111007      08/04/2016\n",
              "2     2    2      1026      19  GB      1      M   290424      06/10/2015\n",
              "3     3    3      1638      47  FR      0      F   368522      18/02/2019\n",
              "4     4    3      1638      47  FR      0      F   367628      20/11/2015\n",
              "5     5    3      1638      47  FR      0      F   367798      17/09/2016\n",
              "6     6    4      2064      51  FR      1      F   393432      25/12/2015\n",
              "7     7    5      2076      23  GB      1      F   393928      26/12/2015\n",
              "8     8    5      2076      23  GB      1      F   394299      21/01/2017\n",
              "9     9    5      2076      23  GB      1      F   394107      02/07/2016\n",
              "10   10    6      2082      72  PL      0      F   394940      12/01/2016\n",
              "11   11    7      3138      67  DK      0      F    16242      08/05/2016\n",
              "12   12    8      3192      32  IT      1      F    16996      01/08/2017\n",
              "13   13    8      3192      32  IT      1      F    17030      14/09/2017\n",
              "14   14    8      3192      32  IT      1      F    16721      28/10/2016\n",
              "15   15    9      3954      38  BE      0      M    25433      09/08/2016\n",
              "16   16   10      4206      32  IT      1      F    28641      19/03/2016\n",
              "17   17   10      4206      32  IT      1      F    28649      27/03/2016\n",
              "18   18   11      4458      40  IT      0      F    32663      15/09/2016\n",
              "19   19   11      4458      40  IT      0      F    33290      14/06/2018\n",
              "20   20   11      4458      40  IT      0      F    32873      13/04/2017\n",
              "21   21   12      4650      21  DE      0      F    41087      06/06/2016\n",
              "22   22   13      4890      36  ES      0      F    46851      01/04/2016\n",
              "23   23   14      6000      37  PL      1      F    62618      28/04/2019\n",
              "24   24   14      6000      37  PL      1      F    62772      26/05/2021\n",
              "25   25   14      6000      37  PL      1      F    62529      03/05/2016\n",
              "26   26   14      6000      37  PL      1      F    62635      25/05/2019\n",
              "27   27   14      6000      37  PL      1      F    62708      19/10/2019\n",
              "28   28   15      6936      23  DE      0      F    81783      04/05/2016\n",
              "29   29   15      6936      23  DE      0      F    81777      14/04/2016\n",
              "30   30   16      6942      51  PL      1      F    81834      29/04/2016\n",
              "⋮    ⋮    ⋮       ⋮         ⋮   ⋮       ⋮      ⋮   ⋮           ⋮         \n",
              "971   971 760     263985    33  FR      0      F   377802      01/10/2021\n",
              "972   972 761     264003    48  FR      1      F   377929      07/10/2021\n",
              "973   973 761     264003    48  FR      1      F   377895      27/07/2021\n",
              "974   974 762     264081    22  BR      1      M   378257      11/08/2021\n",
              "975   975 763     266259    49  LT      1      M   380224      22/07/2021\n",
              "976   976 764     267471    29  ES      1      M   381235      31/10/2021\n",
              "977   977 765     267519    18  MX      0      M   381312      02/08/2021\n",
              "978   978 766     271545    39  FR      0      M   382976      11/11/2021\n",
              "979   979 767     272127    31  TR      0      M   383202      28/08/2021\n",
              "980   980 768     272745    15  MX      0      F   383586      19/09/2021\n",
              "981   981 769     272985    23  FR      0      F   383662      18/10/2021\n",
              "982   982 770     273675    38  PT      1      F   383970      18/10/2021\n",
              "983   983 771     274869    22  PT      0      M   384455      29/11/2021\n",
              "984   984 772     276699    31  ES      0      F   385216      26/09/2021\n",
              "985   985 773     276927    27  IT      0      F   385300      12/09/2021\n",
              "986   986 774     277785    19  PT      0      F   385739      01/10/2021\n",
              "987   987 775     278181    48  PT      1      F   385847      19/09/2021\n",
              "988   988 776     280647    50  PL      0      F   386646      01/10/2021\n",
              "989   989 777     284667    43  FR      0      F   388625      26/10/2021\n",
              "990   990 778     285267    21  AR      0      M   389133      27/10/2021\n",
              "991   991 779     285627    49  FR      0      M   389280      04/11/2021\n",
              "992   992 780     285777    28  FR      0      M   389380      27/12/2021\n",
              "993   993 781     287973    33  PT      0      F   390065      13/11/2021\n",
              "994   994 782     291231    25  FR      0      F   391706      25/11/2021\n",
              "995   995 783     291441    22  FR      1      M   391855      27/11/2021\n",
              "996   996 784     292287    60  IT      0      M   392163      27/11/2021\n",
              "997   997 785     292737    25  FR      0      M   392249      19/12/2021\n",
              "998   998 786     297285    28  FR      1      M   394921      25/12/2021\n",
              "999   999 787     302223    37  IT      1      F      449      23/12/2021\n",
              "1000 1000 788     304299    23  IT      1      F     1096      29/12/2021\n",
              "     vas_nose vas_eye vas_asthma rhinitis_medication asthma_medication  \n",
              "1    77       81      NA         B_single_medication A_no_medication    \n",
              "2    59       38      NA         C_comedication      A_no_medication    \n",
              "3    52        5       0         A_no_medication     A_no_medication    \n",
              "4     0        0       6         A_no_medication     A_no_medication    \n",
              "5     8        0       2         A_no_medication     A_no_medication    \n",
              "6    40       25      NA         A_no_medication     A_no_medication    \n",
              "7     3        3      NA         A_no_medication     A_no_medication    \n",
              "8     9        0       0         A_no_medication     A_no_medication    \n",
              "9    15        0       0         A_no_medication     A_no_medication    \n",
              "10   21       24      NA         A_no_medication     A_no_medication    \n",
              "11   18       31       8         A_no_medication     B_single_medication\n",
              "12    0        1       0         A_no_medication     A_no_medication    \n",
              "13    0        0       0         A_no_medication     A_no_medication    \n",
              "14    2        0       0         A_no_medication     A_no_medication    \n",
              "15    9       10      16         C_comedication      A_no_medication    \n",
              "16    1        0       1         A_no_medication     A_no_medication    \n",
              "17    0        4      NA         A_no_medication     A_no_medication    \n",
              "18    8        3       0         B_single_medication A_no_medication    \n",
              "19   14        9       1         A_no_medication     A_no_medication    \n",
              "20   33       19       0         C_comedication      A_no_medication    \n",
              "21   24        1       0         C_comedication      A_no_medication    \n",
              "22   19        1      NA         B_single_medication A_no_medication    \n",
              "23   51       53      35         C_comedication      C_comedication     \n",
              "24   25       61      14         C_comedication      C_comedication     \n",
              "25   75       64      49         C_comedication      C_comedication     \n",
              "26   13        7       6         B_single_medication B_single_medication\n",
              "27   71       18      41         C_comedication      C_comedication     \n",
              "28   17        9      NA         B_single_medication A_no_medication    \n",
              "29   35        0      NA         A_no_medication     A_no_medication    \n",
              "30    0        3       0         C_comedication      A_no_medication    \n",
              "⋮    ⋮        ⋮       ⋮          ⋮                   ⋮                  \n",
              "971  52        9      19         B_single_medication B_single_medication\n",
              "972  14       24       5         B_single_medication A_no_medication    \n",
              "973  11        6       3         A_no_medication     A_no_medication    \n",
              "974   1        0       0         B_single_medication A_no_medication    \n",
              "975  13        1       3         B_single_medication A_no_medication    \n",
              "976  27       11       1         B_single_medication A_no_medication    \n",
              "977  44       18       3         C_comedication      A_no_medication    \n",
              "978   6        0       4         A_no_medication     A_no_medication    \n",
              "979  98        6      92         B_single_medication C_comedication     \n",
              "980  43       32       0         B_single_medication A_no_medication    \n",
              "981   2        2       4         A_no_medication     A_no_medication    \n",
              "982   0        0       1         A_no_medication     A_no_medication    \n",
              "983  69       15       0         B_single_medication A_no_medication    \n",
              "984   6        7      19         A_no_medication     A_no_medication    \n",
              "985  97        1       0         A_no_medication     A_no_medication    \n",
              "986   2        5       3         A_no_medication     A_no_medication    \n",
              "987  32       21      25         A_no_medication     A_no_medication    \n",
              "988  51       18       2         A_no_medication     A_no_medication    \n",
              "989  56       47      60         B_single_medication B_single_medication\n",
              "990  69       49      39         C_comedication      A_no_medication    \n",
              "991   2        0       1         A_no_medication     A_no_medication    \n",
              "992   1        0       5         A_no_medication     A_no_medication    \n",
              "993  28       29       0         A_no_medication     A_no_medication    \n",
              "994  19        1       4         A_no_medication     A_no_medication    \n",
              "995   7        2       1         A_no_medication     A_no_medication    \n",
              "996  14        2       4         C_comedication      A_no_medication    \n",
              "997   4        2       2         A_no_medication     A_no_medication    \n",
              "998  65        3       7         A_no_medication     A_no_medication    \n",
              "999  86       62       3         A_no_medication     A_no_medication    \n",
              "1000 96       35      12         A_no_medication     A_no_medication    "
            ]
          },
          "metadata": {}
        }
      ]
    },
    {
      "cell_type": "code",
      "source": [
        "ma_df_bc <- mutate(ma_df, rhinitis_med = ifelse(rhinitis_medication == 'B_single_medication' & rhinitis_medication == 'C_comedication', 'Medication',\n",
        " ifelse(rhinitis_medication == 'A_no_medication')\n",
        " ))"
      ],
      "metadata": {
        "colab": {
          "base_uri": "https://localhost:8080/",
          "height": 1000
        },
        "id": "PRHvOEo8httS",
        "outputId": "ef28c482-8c72-4457-8b3d-5dd9b2748fb1"
      },
      "execution_count": 160,
      "outputs": [
        {
          "output_type": "error",
          "ename": "ERROR",
          "evalue": "ignored",
          "traceback": [
            "\u001b[1m\u001b[33mError\u001b[39m in `mutate()`:\u001b[22m\n\u001b[1m\u001b[22m\u001b[33m!\u001b[39m Problem while computing `rhinitis_med = ifelse(...)`.\n\u001b[1mCaused by error in `ifelse()`:\u001b[22m\n\u001b[33m!\u001b[39m argument \"yes\" is missing, with no default\nTraceback:\n",
            "1. mutate(ma_df, rhinitis_med = ifelse(rhinitis_medication == \"B_single_medication\" & \n .     rhinitis_medication == \"C_comedication\", \"Medication\", ifelse(rhinitis_medication == \n .     \"A_no_medication\")))",
            "2. mutate.data.frame(ma_df, rhinitis_med = ifelse(rhinitis_medication == \n .     \"B_single_medication\" & rhinitis_medication == \"C_comedication\", \n .     \"Medication\", ifelse(rhinitis_medication == \"A_no_medication\")))",
            "3. mutate_cols(.data, dplyr_quosures(...), caller_env = caller_env())",
            "4. withCallingHandlers({\n .     for (i in seq_along(dots)) {\n .         context_poke(\"column\", old_current_column)\n .         quosures <- expand_across(dots[[i]])\n .         quosures_results <- vector(mode = \"list\", length = length(quosures))\n .         for (k in seq_along(quosures)) {\n .             quo <- quosures[[k]]\n .             quo_data <- attr(quo, \"dplyr:::data\")\n .             if (!is.null(quo_data$column)) {\n .                 context_poke(\"column\", quo_data$column)\n .             }\n .             chunks <- NULL\n .             result <- NULL\n .             if (quo_is_symbol(quo)) {\n .                 name <- as_string(quo_get_expr(quo))\n .                 if (name %in% names(new_columns)) {\n .                   result <- new_columns[[name]]\n .                   chunks <- mask$resolve(name)\n .                 }\n .                 else if (name %in% names(.data)) {\n .                   result <- .data[[name]]\n .                   chunks <- mask$resolve(name)\n .                 }\n .                 if (inherits(.data, \"rowwise_df\") && vec_is_list(result)) {\n .                   sizes <- list_sizes(result)\n .                   wrong <- which(sizes != 1)\n .                   if (length(wrong)) {\n .                     group <- wrong[1L]\n .                     mask$set_current_group(group)\n .                     abort(class = c(\"dplyr:::mutate_incompatible_size\", \n .                       \"dplyr:::internal_error\"), dplyr_error_data = list(result_size = sizes[group], \n .                       expected_size = 1))\n .                   }\n .                 }\n .             }\n .             else if (!quo_is_symbolic(quo) && !is.null(quo_get_expr(quo))) {\n .                 result <- quo_get_expr(quo)\n .                 result <- withCallingHandlers(vec_recycle(result, \n .                   vec_size(.data)), error = function(cnd) {\n .                   abort(class = c(\"dplyr:::mutate_constant_recycle_error\", \n .                     \"dplyr:::internal_error\"), constant_size = vec_size(result), \n .                     data_size = vec_size(.data))\n .                 })\n .                 chunks <- vec_chop(result, rows)\n .             }\n .             if (is.null(chunks)) {\n .                 if (is.null(quo_data$column)) {\n .                   chunks <- mask$eval_all_mutate(quo)\n .                 }\n .                 else {\n .                   chunks <- withCallingHandlers(mask$eval_all_mutate(quo), \n .                     error = function(cnd) {\n .                       msg <- glue(\"Problem while computing column `{quo_data$name_auto}`.\")\n .                       abort(msg, call = call(\"across\"), parent = cnd)\n .                     })\n .                 }\n .             }\n .             if (is.null(chunks)) {\n .                 next\n .             }\n .             if (is.null(result)) {\n .                 if (length(rows) == 1) {\n .                   result <- chunks[[1]]\n .                 }\n .                 else {\n .                   chunks <- dplyr_vec_cast_common(chunks, quo_data$name_auto)\n .                   result <- vec_unchop(chunks, rows)\n .                 }\n .             }\n .             quosures_results[[k]] <- list(result = result, chunks = chunks)\n .         }\n .         for (k in seq_along(quosures)) {\n .             quo <- quosures[[k]]\n .             quo_data <- attr(quo, \"dplyr:::data\")\n .             quo_result <- quosures_results[[k]]\n .             if (is.null(quo_result)) {\n .                 if (quo_data$is_named) {\n .                   name <- quo_data$name_given\n .                   new_columns[[name]] <- zap()\n .                   mask$remove(name)\n .                 }\n .                 next\n .             }\n .             result <- quo_result$result\n .             chunks <- quo_result$chunks\n .             if (!quo_data$is_named && is.data.frame(result)) {\n .                 types <- vec_ptype(result)\n .                 types_names <- names(types)\n .                 chunks_extracted <- .Call(dplyr_extract_chunks, \n .                   chunks, types)\n .                 for (j in seq_along(types)) {\n .                   mask$add_one(types_names[j], chunks_extracted[[j]], \n .                     result = result[[j]])\n .                 }\n .                 new_columns[types_names] <- result\n .             }\n .             else {\n .                 name <- quo_data$name_auto\n .                 mask$add_one(name = name, chunks = chunks, result = result)\n .                 new_columns[[name]] <- result\n .             }\n .         }\n .     }\n . }, error = function(e) {\n .     local_error_context(dots = dots, .index = i, mask = mask)\n .     bullets <- c(cnd_bullet_header(\"computing\"), mutate_bullets(e))\n .     abort(bullets, class = \"dplyr:::mutate_error\", parent = skip_internal_condition(e), \n .         bullets = bullets, call = error_call)\n . }, warning = function(w) {\n .     if (check_muffled_warning(w)) {\n .         maybe_restart(\"muffleWarning\")\n .     }\n .     local_error_context(dots = dots, .index = i, mask = mask)\n .     warn(c(cnd_bullet_header(\"computing\"), i = cnd_header(w), \n .         i = cnd_bullet_cur_group_label(what = \"warning\")))\n .     maybe_restart(\"muffleWarning\")\n . })",
            "5. mask$eval_all_mutate(quo)",
            "6. ifelse(rhinitis_medication == \"B_single_medication\" & rhinitis_medication == \n .     \"C_comedication\", \"Medication\", ifelse(rhinitis_medication == \n .     \"A_no_medication\"))",
            "7. ifelse(rhinitis_medication == \"A_no_medication\")",
            "8. .handleSimpleError(function (e) \n . {\n .     local_error_context(dots = dots, .index = i, mask = mask)\n .     bullets <- c(cnd_bullet_header(\"computing\"), mutate_bullets(e))\n .     abort(bullets, class = \"dplyr:::mutate_error\", parent = skip_internal_condition(e), \n .         bullets = bullets, call = error_call)\n . }, \"argument \\\"yes\\\" is missing, with no default\", base::quote(ifelse(rhinitis_medication == \n .     \"A_no_medication\")))",
            "9. h(simpleError(msg, call))",
            "10. abort(bullets, class = \"dplyr:::mutate_error\", parent = skip_internal_condition(e), \n  .     bullets = bullets, call = error_call)",
            "11. signal_abort(cnd, .file)"
          ]
        }
      ]
    },
    {
      "cell_type": "code",
      "source": [
        "sem_asthma <- filter(mask_air, asthma == 0)"
      ],
      "metadata": {
        "id": "13tzEE8DeTvi"
      },
      "execution_count": null,
      "outputs": []
    },
    {
      "cell_type": "code",
      "execution_count": 1,
      "metadata": {
        "colab": {
          "base_uri": "https://localhost:8080/"
        },
        "id": "WxL9FSXGZHe-",
        "outputId": "daac048f-8816-463c-e62d-e80d2de2b549"
      },
      "outputs": [
        {
          "output_type": "stream",
          "name": "stderr",
          "text": [
            "Installing package into ‘/usr/local/lib/R/site-library’\n",
            "(as ‘lib’ is unspecified)\n",
            "\n",
            "Loading required package: Matrix\n",
            "\n",
            "\n",
            "Attaching package: ‘arules’\n",
            "\n",
            "\n",
            "The following objects are masked from ‘package:base’:\n",
            "\n",
            "    abbreviate, write\n",
            "\n",
            "\n"
          ]
        }
      ],
      "source": [
        "# 1. Regras de Associação:\n",
        "# 1.1. Apriori\n",
        "\n",
        "install.packages(\"arules\")\n",
        "library(arules)"
      ]
    },
    {
      "cell_type": "code",
      "source": [
        "url = 'https://raw.githubusercontent.com/Prof-Rodrigo-Silva/ScriptR/master/R%20-%20Avan%C3%A7ado%20-%20Data%20Mining/GroceryStoreDataSet.csv'"
      ],
      "metadata": {
        "id": "5uCufZE-aNFZ"
      },
      "execution_count": 2,
      "outputs": []
    },
    {
      "cell_type": "code",
      "source": [],
      "metadata": {
        "id": "qe-vem7EiwFd"
      },
      "execution_count": 4,
      "outputs": []
    },
    {
      "cell_type": "code",
      "source": [
        "base2 = read.transactions(url)\n",
        "summary(base2)"
      ],
      "metadata": {
        "colab": {
          "base_uri": "https://localhost:8080/",
          "height": 451
        },
        "id": "xYgZ6VKgaqND",
        "outputId": "97059056-5a4e-44f9-d688-07809b915c40"
      },
      "execution_count": 3,
      "outputs": [
        {
          "output_type": "display_data",
          "data": {
            "text/plain": [
              "transactions as itemMatrix in sparse format with\n",
              " 20 rows (elements/itemsets/transactions) and\n",
              " 17 columns (items) and a density of 0.05882353 \n",
              "\n",
              "most frequent items:\n",
              ",,BISCUIT,CORNFLAKES,,,,,COCK,COFFEE,            ,BREAD,,,,,,,,COFFEE,SUGAR \n",
              "                                    2                                     2 \n",
              "          ,BREAD,,,TEA,BOURNVITA,,,,,        ,,,,,BOURNVITA,,,,COFFEE,SUGAR \n",
              "                                    2                                     1 \n",
              "      ,,,CORNFLAKES,,,,,,COFFEE,SUGAR                               (Other) \n",
              "                                    1                                    12 \n",
              "\n",
              "element (itemset/transaction) length distribution:\n",
              "sizes\n",
              " 1 \n",
              "20 \n",
              "\n",
              "   Min. 1st Qu.  Median    Mean 3rd Qu.    Max. \n",
              "      1       1       1       1       1       1 \n",
              "\n",
              "includes extended item information - examples:\n",
              "                           labels\n",
              "1  ,,,,,BOURNVITA,,,,COFFEE,SUGAR\n",
              "2 ,,,CORNFLAKES,,,,,,COFFEE,SUGAR\n",
              "3    ,,,CORNFLAKES,TEA,,,MAGGI,,,"
            ]
          },
          "metadata": {}
        }
      ]
    },
    {
      "cell_type": "code",
      "source": [
        "base3 = read.transactions(url, header = F,sep = \",\",rm.duplicates = T)\n",
        "summary(base3)"
      ],
      "metadata": {
        "colab": {
          "base_uri": "https://localhost:8080/",
          "height": 401
        },
        "id": "Yud2mtR9k9wB",
        "outputId": "e72846fc-0521-4bcd-cf08-7b64d1e420c4"
      },
      "execution_count": null,
      "outputs": [
        {
          "output_type": "display_data",
          "data": {
            "text/plain": [
              "transactions as itemMatrix in sparse format with\n",
              " 20 rows (elements/itemsets/transactions) and\n",
              " 11 columns (items) and a density of 0.3 \n",
              "\n",
              "most frequent items:\n",
              "     BREAD     COFFEE    BISCUIT        TEA CORNFLAKES    (Other) \n",
              "        13          8          7          7          6         25 \n",
              "\n",
              "element (itemset/transaction) length distribution:\n",
              "sizes\n",
              " 2  3  4 \n",
              " 1 12  7 \n",
              "\n",
              "   Min. 1st Qu.  Median    Mean 3rd Qu.    Max. \n",
              "    2.0     3.0     3.0     3.3     4.0     4.0 \n",
              "\n",
              "includes extended item information - examples:\n",
              "     labels\n",
              "1   BISCUIT\n",
              "2 BOURNVITA\n",
              "3     BREAD"
            ]
          },
          "metadata": {}
        }
      ]
    },
    {
      "cell_type": "code",
      "source": [
        "itemFrequencyPlot(base3)"
      ],
      "metadata": {
        "colab": {
          "base_uri": "https://localhost:8080/",
          "height": 437
        },
        "id": "EdKkf4utnWOy",
        "outputId": "8458f407-5af5-478f-cc51-fbaef28a5724"
      },
      "execution_count": null,
      "outputs": [
        {
          "output_type": "display_data",
          "data": {
            "text/plain": [
              "plot without title"
            ],
            "image/png": "[encoded data removed]"
          },
          "metadata": {
            "image/png": {
              "width": 420,
              "height": 420
            }
          }
        }
      ]
    },
    {
      "cell_type": "code",
      "source": [
        "itemFrequencyPlot(base3, top=7)"
      ],
      "metadata": {
        "colab": {
          "base_uri": "https://localhost:8080/",
          "height": 437
        },
        "id": "1ys4BnP4nfBp",
        "outputId": "e2ab0e56-190c-4461-b631-60c74879349b"
      },
      "execution_count": null,
      "outputs": [
        {
          "output_type": "display_data",
          "data": {
            "text/plain": [
              "plot without title"
            ],
            "image/png": "[encoded data removed]"
          },
          "metadata": {
            "image/png": {
              "width": 420,
              "height": 420
            }
          }
        }
      ]
    },
    {
      "cell_type": "code",
      "source": [
        "regras = apriori(base3, parameter = list(sup = 0.1, conf = 0.5)) # do pacote arules"
      ],
      "metadata": {
        "colab": {
          "base_uri": "https://localhost:8080/"
        },
        "id": "vf4YUscln0oE",
        "outputId": "a5236fad-5f43-4167-974f-5d8c69606e2e"
      },
      "execution_count": null,
      "outputs": [
        {
          "output_type": "stream",
          "name": "stdout",
          "text": [
            "Apriori\n",
            "\n",
            "Parameter specification:\n",
            " confidence minval smax arem  aval originalSupport maxtime support minlen\n",
            "        0.5    0.1    1 none FALSE            TRUE       5     0.1      1\n",
            " maxlen target  ext\n",
            "     10  rules TRUE\n",
            "\n",
            "Algorithmic control:\n",
            " filter tree heap memopt load sort verbose\n",
            "    0.1 TRUE TRUE  FALSE TRUE    2    TRUE\n",
            "\n",
            "Absolute minimum support count: 2 \n",
            "\n",
            "set item appearances ...[0 item(s)] done [0.00s].\n",
            "set transactions ...[11 item(s), 20 transaction(s)] done [0.00s].\n",
            "sorting and recoding items ... [11 item(s)] done [0.00s].\n",
            "creating transaction tree ... done [0.00s].\n",
            "checking subsets of size 1 2 3 4 done [0.00s].\n",
            "writing ... [55 rule(s)] done [0.00s].\n",
            "creating S4 object  ... done [0.00s].\n"
          ]
        }
      ]
    },
    {
      "cell_type": "code",
      "source": [
        "inspect(regras) # loja vende água pode vender bala, cigarro. mas o foco da empresa é água (nas regras de associação vai sempre aparecer!)\n",
        "# qual a água mineral é óbvio o produto sair, quem compra salgainho compra água (que se repete, o produto). Pode se eliminar os produtos, água e ...\n",
        "# lojas que vendem gás e que vendem água! Produtos alimentícios em geral.. Mate etc\n",
        "# O foco da empresa é água!\n",
        "# eliminar a água e ver o que a empresa vende fora a água!\n",
        "# utilizar o sort, pois vai dar uma ordenada"
      ],
      "metadata": {
        "colab": {
          "base_uri": "https://localhost:8080/"
        },
        "id": "AeaaC9xDV-Pv",
        "outputId": "f559df17-e802-4990-addd-e47df397b9eb"
      },
      "execution_count": null,
      "outputs": [
        {
          "output_type": "stream",
          "name": "stdout",
          "text": [
            "     lhs                              rhs          support confidence coverage\n",
            "[1]  {}                            => {BREAD}      0.65    0.6500000  1.00    \n",
            "[2]  {JAM}                         => {MAGGI}      0.10    1.0000000  0.10    \n",
            "[3]  {JAM}                         => {BREAD}      0.10    1.0000000  0.10    \n",
            "[4]  {COCK}                        => {CORNFLAKES} 0.10    0.6666667  0.15    \n",
            "[5]  {COCK}                        => {BISCUIT}    0.10    0.6666667  0.15    \n",
            "[6]  {COCK}                        => {COFFEE}     0.15    1.0000000  0.15    \n",
            "[7]  {BOURNVITA}                   => {SUGAR}      0.10    0.5000000  0.20    \n",
            "[8]  {BOURNVITA}                   => {TEA}        0.10    0.5000000  0.20    \n",
            "[9]  {BOURNVITA}                   => {BREAD}      0.15    0.7500000  0.20    \n",
            "[10] {MILK}                        => {BREAD}      0.20    0.8000000  0.25    \n",
            "[11] {MAGGI}                       => {TEA}        0.20    0.8000000  0.25    \n",
            "[12] {TEA}                         => {MAGGI}      0.20    0.5714286  0.35    \n",
            "[13] {MAGGI}                       => {BREAD}      0.15    0.6000000  0.25    \n",
            "[14] {SUGAR}                       => {COFFEE}     0.20    0.6666667  0.30    \n",
            "[15] {COFFEE}                      => {SUGAR}      0.20    0.5000000  0.40    \n",
            "[16] {SUGAR}                       => {BREAD}      0.20    0.6666667  0.30    \n",
            "[17] {CORNFLAKES}                  => {BISCUIT}    0.15    0.5000000  0.30    \n",
            "[18] {CORNFLAKES}                  => {COFFEE}     0.20    0.6666667  0.30    \n",
            "[19] {COFFEE}                      => {CORNFLAKES} 0.20    0.5000000  0.40    \n",
            "[20] {TEA}                         => {BREAD}      0.20    0.5714286  0.35    \n",
            "[21] {BISCUIT}                     => {BREAD}      0.20    0.5714286  0.35    \n",
            "[22] {JAM, MAGGI}                  => {BREAD}      0.10    1.0000000  0.10    \n",
            "[23] {BREAD, JAM}                  => {MAGGI}      0.10    1.0000000  0.10    \n",
            "[24] {BREAD, MAGGI}                => {JAM}        0.10    0.6666667  0.15    \n",
            "[25] {COCK, CORNFLAKES}            => {BISCUIT}    0.10    1.0000000  0.10    \n",
            "[26] {BISCUIT, COCK}               => {CORNFLAKES} 0.10    1.0000000  0.10    \n",
            "[27] {BISCUIT, CORNFLAKES}         => {COCK}       0.10    0.6666667  0.15    \n",
            "[28] {COCK, CORNFLAKES}            => {COFFEE}     0.10    1.0000000  0.10    \n",
            "[29] {COCK, COFFEE}                => {CORNFLAKES} 0.10    0.6666667  0.15    \n",
            "[30] {COFFEE, CORNFLAKES}          => {COCK}       0.10    0.5000000  0.20    \n",
            "[31] {BISCUIT, COCK}               => {COFFEE}     0.10    1.0000000  0.10    \n",
            "[32] {COCK, COFFEE}                => {BISCUIT}    0.10    0.6666667  0.15    \n",
            "[33] {BISCUIT, COFFEE}             => {COCK}       0.10    1.0000000  0.10    \n",
            "[34] {BOURNVITA, TEA}              => {BREAD}      0.10    1.0000000  0.10    \n",
            "[35] {BOURNVITA, BREAD}            => {TEA}        0.10    0.6666667  0.15    \n",
            "[36] {BREAD, TEA}                  => {BOURNVITA}  0.10    0.5000000  0.20    \n",
            "[37] {BISCUIT, MILK}               => {BREAD}      0.10    1.0000000  0.10    \n",
            "[38] {BREAD, MILK}                 => {BISCUIT}    0.10    0.5000000  0.20    \n",
            "[39] {BISCUIT, BREAD}              => {MILK}       0.10    0.5000000  0.20    \n",
            "[40] {MAGGI, TEA}                  => {BISCUIT}    0.10    0.5000000  0.20    \n",
            "[41] {BISCUIT, MAGGI}              => {TEA}        0.10    1.0000000  0.10    \n",
            "[42] {BISCUIT, TEA}                => {MAGGI}      0.10    1.0000000  0.10    \n",
            "[43] {MAGGI, TEA}                  => {BREAD}      0.10    0.5000000  0.20    \n",
            "[44] {BREAD, MAGGI}                => {TEA}        0.10    0.6666667  0.15    \n",
            "[45] {BREAD, TEA}                  => {MAGGI}      0.10    0.5000000  0.20    \n",
            "[46] {COFFEE, SUGAR}               => {BREAD}      0.10    0.5000000  0.20    \n",
            "[47] {BREAD, SUGAR}                => {COFFEE}     0.10    0.5000000  0.20    \n",
            "[48] {BREAD, COFFEE}               => {SUGAR}      0.10    0.6666667  0.15    \n",
            "[49] {BISCUIT, CORNFLAKES}         => {COFFEE}     0.10    0.6666667  0.15    \n",
            "[50] {COFFEE, CORNFLAKES}          => {BISCUIT}    0.10    0.5000000  0.20    \n",
            "[51] {BISCUIT, COFFEE}             => {CORNFLAKES} 0.10    1.0000000  0.10    \n",
            "[52] {BISCUIT, COCK, CORNFLAKES}   => {COFFEE}     0.10    1.0000000  0.10    \n",
            "[53] {COCK, COFFEE, CORNFLAKES}    => {BISCUIT}    0.10    1.0000000  0.10    \n",
            "[54] {BISCUIT, COCK, COFFEE}       => {CORNFLAKES} 0.10    1.0000000  0.10    \n",
            "[55] {BISCUIT, COFFEE, CORNFLAKES} => {COCK}       0.10    1.0000000  0.10    \n",
            "     lift      count\n",
            "[1]  1.0000000 13   \n",
            "[2]  4.0000000  2   \n",
            "[3]  1.5384615  2   \n",
            "[4]  2.2222222  2   \n",
            "[5]  1.9047619  2   \n",
            "[6]  2.5000000  3   \n",
            "[7]  1.6666667  2   \n",
            "[8]  1.4285714  2   \n",
            "[9]  1.1538462  3   \n",
            "[10] 1.2307692  4   \n",
            "[11] 2.2857143  4   \n",
            "[12] 2.2857143  4   \n",
            "[13] 0.9230769  3   \n",
            "[14] 1.6666667  4   \n",
            "[15] 1.6666667  4   \n",
            "[16] 1.0256410  4   \n",
            "[17] 1.4285714  3   \n",
            "[18] 1.6666667  4   \n",
            "[19] 1.6666667  4   \n",
            "[20] 0.8791209  4   \n",
            "[21] 0.8791209  4   \n",
            "[22] 1.5384615  2   \n",
            "[23] 4.0000000  2   \n",
            "[24] 6.6666667  2   \n",
            "[25] 2.8571429  2   \n",
            "[26] 3.3333333  2   \n",
            "[27] 4.4444444  2   \n",
            "[28] 2.5000000  2   \n",
            "[29] 2.2222222  2   \n",
            "[30] 3.3333333  2   \n",
            "[31] 2.5000000  2   \n",
            "[32] 1.9047619  2   \n",
            "[33] 6.6666667  2   \n",
            "[34] 1.5384615  2   \n",
            "[35] 1.9047619  2   \n",
            "[36] 2.5000000  2   \n",
            "[37] 1.5384615  2   \n",
            "[38] 1.4285714  2   \n",
            "[39] 2.0000000  2   \n",
            "[40] 1.4285714  2   \n",
            "[41] 2.8571429  2   \n",
            "[42] 4.0000000  2   \n",
            "[43] 0.7692308  2   \n",
            "[44] 1.9047619  2   \n",
            "[45] 2.0000000  2   \n",
            "[46] 0.7692308  2   \n",
            "[47] 1.2500000  2   \n",
            "[48] 2.2222222  2   \n",
            "[49] 1.6666667  2   \n",
            "[50] 1.4285714  2   \n",
            "[51] 3.3333333  2   \n",
            "[52] 2.5000000  2   \n",
            "[53] 2.8571429  2   \n",
            "[54] 3.3333333  2   \n",
            "[55] 6.6666667  2   \n"
          ]
        }
      ]
    },
    {
      "cell_type": "code",
      "source": [
        "inspect(sort(regras, by=\"confidence\")[1:30])"
      ],
      "metadata": {
        "colab": {
          "base_uri": "https://localhost:8080/"
        },
        "id": "j6bom7qKfFEF",
        "outputId": "da749eeb-31ee-473e-cb75-bc3f5c3d7fca"
      },
      "execution_count": null,
      "outputs": [
        {
          "output_type": "stream",
          "name": "stdout",
          "text": [
            "     lhs                              rhs          support confidence coverage\n",
            "[1]  {JAM}                         => {MAGGI}      0.10    1.0000000  0.10    \n",
            "[2]  {JAM}                         => {BREAD}      0.10    1.0000000  0.10    \n",
            "[3]  {COCK}                        => {COFFEE}     0.15    1.0000000  0.15    \n",
            "[4]  {JAM, MAGGI}                  => {BREAD}      0.10    1.0000000  0.10    \n",
            "[5]  {BREAD, JAM}                  => {MAGGI}      0.10    1.0000000  0.10    \n",
            "[6]  {COCK, CORNFLAKES}            => {BISCUIT}    0.10    1.0000000  0.10    \n",
            "[7]  {BISCUIT, COCK}               => {CORNFLAKES} 0.10    1.0000000  0.10    \n",
            "[8]  {COCK, CORNFLAKES}            => {COFFEE}     0.10    1.0000000  0.10    \n",
            "[9]  {BISCUIT, COCK}               => {COFFEE}     0.10    1.0000000  0.10    \n",
            "[10] {BISCUIT, COFFEE}             => {COCK}       0.10    1.0000000  0.10    \n",
            "[11] {BOURNVITA, TEA}              => {BREAD}      0.10    1.0000000  0.10    \n",
            "[12] {BISCUIT, MILK}               => {BREAD}      0.10    1.0000000  0.10    \n",
            "[13] {BISCUIT, MAGGI}              => {TEA}        0.10    1.0000000  0.10    \n",
            "[14] {BISCUIT, TEA}                => {MAGGI}      0.10    1.0000000  0.10    \n",
            "[15] {BISCUIT, COFFEE}             => {CORNFLAKES} 0.10    1.0000000  0.10    \n",
            "[16] {BISCUIT, COCK, CORNFLAKES}   => {COFFEE}     0.10    1.0000000  0.10    \n",
            "[17] {COCK, COFFEE, CORNFLAKES}    => {BISCUIT}    0.10    1.0000000  0.10    \n",
            "[18] {BISCUIT, COCK, COFFEE}       => {CORNFLAKES} 0.10    1.0000000  0.10    \n",
            "[19] {BISCUIT, COFFEE, CORNFLAKES} => {COCK}       0.10    1.0000000  0.10    \n",
            "[20] {MILK}                        => {BREAD}      0.20    0.8000000  0.25    \n",
            "[21] {MAGGI}                       => {TEA}        0.20    0.8000000  0.25    \n",
            "[22] {BOURNVITA}                   => {BREAD}      0.15    0.7500000  0.20    \n",
            "[23] {COCK}                        => {CORNFLAKES} 0.10    0.6666667  0.15    \n",
            "[24] {COCK}                        => {BISCUIT}    0.10    0.6666667  0.15    \n",
            "[25] {SUGAR}                       => {COFFEE}     0.20    0.6666667  0.30    \n",
            "[26] {SUGAR}                       => {BREAD}      0.20    0.6666667  0.30    \n",
            "[27] {CORNFLAKES}                  => {COFFEE}     0.20    0.6666667  0.30    \n",
            "[28] {BREAD, MAGGI}                => {JAM}        0.10    0.6666667  0.15    \n",
            "[29] {BISCUIT, CORNFLAKES}         => {COCK}       0.10    0.6666667  0.15    \n",
            "[30] {COCK, COFFEE}                => {CORNFLAKES} 0.10    0.6666667  0.15    \n",
            "     lift     count\n",
            "[1]  4.000000 2    \n",
            "[2]  1.538462 2    \n",
            "[3]  2.500000 3    \n",
            "[4]  1.538462 2    \n",
            "[5]  4.000000 2    \n",
            "[6]  2.857143 2    \n",
            "[7]  3.333333 2    \n",
            "[8]  2.500000 2    \n",
            "[9]  2.500000 2    \n",
            "[10] 6.666667 2    \n",
            "[11] 1.538462 2    \n",
            "[12] 1.538462 2    \n",
            "[13] 2.857143 2    \n",
            "[14] 4.000000 2    \n",
            "[15] 3.333333 2    \n",
            "[16] 2.500000 2    \n",
            "[17] 2.857143 2    \n",
            "[18] 3.333333 2    \n",
            "[19] 6.666667 2    \n",
            "[20] 1.230769 4    \n",
            "[21] 2.285714 4    \n",
            "[22] 1.153846 3    \n",
            "[23] 2.222222 2    \n",
            "[24] 1.904762 2    \n",
            "[25] 1.666667 4    \n",
            "[26] 1.025641 4    \n",
            "[27] 1.666667 4    \n",
            "[28] 6.666667 2    \n",
            "[29] 4.444444 2    \n",
            "[30] 2.222222 2    \n"
          ]
        }
      ]
    },
    {
      "cell_type": "code",
      "source": [
        "regras1 = apriori(base3, parameter = list(sup=0.001, conf=0.5))\n"
      ],
      "metadata": {
        "colab": {
          "base_uri": "https://localhost:8080/"
        },
        "id": "4wzPruzohLCo",
        "outputId": "e1fc181f-59dd-4d30-f060-3a64bee99f19"
      },
      "execution_count": null,
      "outputs": [
        {
          "output_type": "stream",
          "name": "stdout",
          "text": [
            "Apriori\n",
            "\n",
            "Parameter specification:\n",
            " confidence minval smax arem  aval originalSupport maxtime support minlen\n",
            "        0.5    0.1    1 none FALSE            TRUE       5   0.001      1\n",
            " maxlen target  ext\n",
            "     10  rules TRUE\n",
            "\n",
            "Algorithmic control:\n",
            " filter tree heap memopt load sort verbose\n",
            "    0.1 TRUE TRUE  FALSE TRUE    2    TRUE\n",
            "\n",
            "Absolute minimum support count: 0 \n",
            "\n",
            "set item appearances ...[0 item(s)] done [0.00s].\n",
            "set transactions ...[11 item(s), 20 transaction(s)] done [0.00s].\n",
            "sorting and recoding items ... [11 item(s)] done [0.00s].\n",
            "creating transaction tree ... done [0.00s].\n",
            "checking subsets of size 1 2 3 4 done [0.00s].\n",
            "writing ... [112 rule(s)] done [0.00s].\n",
            "creating S4 object  ... done [0.00s].\n"
          ]
        }
      ]
    },
    {
      "cell_type": "code",
      "source": [
        "inspect(regras1)"
      ],
      "metadata": {
        "colab": {
          "base_uri": "https://localhost:8080/"
        },
        "id": "foiJ5NHrhryg",
        "outputId": "4c04c793-5e97-4390-ae06-00ba9e07c9e7"
      },
      "execution_count": null,
      "outputs": [
        {
          "output_type": "stream",
          "name": "stdout",
          "text": [
            "      lhs                              rhs          support confidence coverage\n",
            "[1]   {}                            => {BREAD}      0.65    0.6500000  1.00    \n",
            "[2]   {JAM}                         => {MILK}       0.05    0.5000000  0.10    \n",
            "[3]   {JAM}                         => {MAGGI}      0.10    1.0000000  0.10    \n",
            "[4]   {JAM}                         => {TEA}        0.05    0.5000000  0.10    \n",
            "[5]   {JAM}                         => {BREAD}      0.10    1.0000000  0.10    \n",
            "[6]   {COCK}                        => {CORNFLAKES} 0.10    0.6666667  0.15    \n",
            "[7]   {COCK}                        => {BISCUIT}    0.10    0.6666667  0.15    \n",
            "[8]   {COCK}                        => {COFFEE}     0.15    1.0000000  0.15    \n",
            "[9]   {BOURNVITA}                   => {SUGAR}      0.10    0.5000000  0.20    \n",
            "[10]  {BOURNVITA}                   => {TEA}        0.10    0.5000000  0.20    \n",
            "[11]  {BOURNVITA}                   => {BREAD}      0.15    0.7500000  0.20    \n",
            "[12]  {MILK}                        => {BREAD}      0.20    0.8000000  0.25    \n",
            "[13]  {MAGGI}                       => {TEA}        0.20    0.8000000  0.25    \n",
            "[14]  {TEA}                         => {MAGGI}      0.20    0.5714286  0.35    \n",
            "[15]  {MAGGI}                       => {BREAD}      0.15    0.6000000  0.25    \n",
            "[16]  {SUGAR}                       => {COFFEE}     0.20    0.6666667  0.30    \n",
            "[17]  {COFFEE}                      => {SUGAR}      0.20    0.5000000  0.40    \n",
            "[18]  {SUGAR}                       => {BREAD}      0.20    0.6666667  0.30    \n",
            "[19]  {CORNFLAKES}                  => {BISCUIT}    0.15    0.5000000  0.30    \n",
            "[20]  {CORNFLAKES}                  => {COFFEE}     0.20    0.6666667  0.30    \n",
            "[21]  {COFFEE}                      => {CORNFLAKES} 0.20    0.5000000  0.40    \n",
            "[22]  {TEA}                         => {BREAD}      0.20    0.5714286  0.35    \n",
            "[23]  {BISCUIT}                     => {BREAD}      0.20    0.5714286  0.35    \n",
            "[24]  {JAM, MILK}                   => {MAGGI}      0.05    1.0000000  0.05    \n",
            "[25]  {JAM, MAGGI}                  => {MILK}       0.05    0.5000000  0.10    \n",
            "[26]  {MAGGI, MILK}                 => {JAM}        0.05    1.0000000  0.05    \n",
            "[27]  {JAM, MILK}                   => {BREAD}      0.05    1.0000000  0.05    \n",
            "[28]  {BREAD, JAM}                  => {MILK}       0.05    0.5000000  0.10    \n",
            "[29]  {JAM, MAGGI}                  => {TEA}        0.05    0.5000000  0.10    \n",
            "[30]  {JAM, TEA}                    => {MAGGI}      0.05    1.0000000  0.05    \n",
            "[31]  {JAM, MAGGI}                  => {BREAD}      0.10    1.0000000  0.10    \n",
            "[32]  {BREAD, JAM}                  => {MAGGI}      0.10    1.0000000  0.10    \n",
            "[33]  {BREAD, MAGGI}                => {JAM}        0.10    0.6666667  0.15    \n",
            "[34]  {JAM, TEA}                    => {BREAD}      0.05    1.0000000  0.05    \n",
            "[35]  {BREAD, JAM}                  => {TEA}        0.05    0.5000000  0.10    \n",
            "[36]  {COCK, CORNFLAKES}            => {BISCUIT}    0.10    1.0000000  0.10    \n",
            "[37]  {BISCUIT, COCK}               => {CORNFLAKES} 0.10    1.0000000  0.10    \n",
            "[38]  {BISCUIT, CORNFLAKES}         => {COCK}       0.10    0.6666667  0.15    \n",
            "[39]  {COCK, CORNFLAKES}            => {COFFEE}     0.10    1.0000000  0.10    \n",
            "[40]  {COCK, COFFEE}                => {CORNFLAKES} 0.10    0.6666667  0.15    \n",
            "[41]  {COFFEE, CORNFLAKES}          => {COCK}       0.10    0.5000000  0.20    \n",
            "[42]  {BISCUIT, COCK}               => {COFFEE}     0.10    1.0000000  0.10    \n",
            "[43]  {COCK, COFFEE}                => {BISCUIT}    0.10    0.6666667  0.15    \n",
            "[44]  {BISCUIT, COFFEE}             => {COCK}       0.10    1.0000000  0.10    \n",
            "[45]  {BREAD, COCK}                 => {COFFEE}     0.05    1.0000000  0.05    \n",
            "[46]  {BOURNVITA, SUGAR}            => {COFFEE}     0.05    0.5000000  0.10    \n",
            "[47]  {BOURNVITA, COFFEE}           => {SUGAR}      0.05    1.0000000  0.05    \n",
            "[48]  {BOURNVITA, SUGAR}            => {BREAD}      0.05    0.5000000  0.10    \n",
            "[49]  {BOURNVITA, TEA}              => {BREAD}      0.10    1.0000000  0.10    \n",
            "[50]  {BOURNVITA, BREAD}            => {TEA}        0.10    0.6666667  0.15    \n",
            "[51]  {BREAD, TEA}                  => {BOURNVITA}  0.10    0.5000000  0.20    \n",
            "[52]  {MAGGI, MILK}                 => {BREAD}      0.05    1.0000000  0.05    \n",
            "[53]  {CORNFLAKES, MILK}            => {TEA}        0.05    0.5000000  0.10    \n",
            "[54]  {MILK, TEA}                   => {CORNFLAKES} 0.05    1.0000000  0.05    \n",
            "[55]  {CORNFLAKES, TEA}             => {MILK}       0.05    0.5000000  0.10    \n",
            "[56]  {CORNFLAKES, MILK}            => {BISCUIT}    0.05    0.5000000  0.10    \n",
            "[57]  {BISCUIT, MILK}               => {CORNFLAKES} 0.05    0.5000000  0.10    \n",
            "[58]  {CORNFLAKES, MILK}            => {COFFEE}     0.05    0.5000000  0.10    \n",
            "[59]  {COFFEE, MILK}                => {CORNFLAKES} 0.05    1.0000000  0.05    \n",
            "[60]  {CORNFLAKES, MILK}            => {BREAD}      0.05    0.5000000  0.10    \n",
            "[61]  {BREAD, CORNFLAKES}           => {MILK}       0.05    1.0000000  0.05    \n",
            "[62]  {MILK, TEA}                   => {COFFEE}     0.05    1.0000000  0.05    \n",
            "[63]  {COFFEE, MILK}                => {TEA}        0.05    1.0000000  0.05    \n",
            "[64]  {COFFEE, TEA}                 => {MILK}       0.05    1.0000000  0.05    \n",
            "[65]  {BISCUIT, MILK}               => {BREAD}      0.10    1.0000000  0.10    \n",
            "[66]  {BREAD, MILK}                 => {BISCUIT}    0.10    0.5000000  0.20    \n",
            "[67]  {BISCUIT, BREAD}              => {MILK}       0.10    0.5000000  0.20    \n",
            "[68]  {CORNFLAKES, MAGGI}           => {TEA}        0.05    1.0000000  0.05    \n",
            "[69]  {CORNFLAKES, TEA}             => {MAGGI}      0.05    0.5000000  0.10    \n",
            "[70]  {MAGGI, TEA}                  => {BISCUIT}    0.10    0.5000000  0.20    \n",
            "[71]  {BISCUIT, MAGGI}              => {TEA}        0.10    1.0000000  0.10    \n",
            "[72]  {BISCUIT, TEA}                => {MAGGI}      0.10    1.0000000  0.10    \n",
            "[73]  {MAGGI, TEA}                  => {BREAD}      0.10    0.5000000  0.20    \n",
            "[74]  {BREAD, MAGGI}                => {TEA}        0.10    0.6666667  0.15    \n",
            "[75]  {BREAD, TEA}                  => {MAGGI}      0.10    0.5000000  0.20    \n",
            "[76]  {BISCUIT, MAGGI}              => {BREAD}      0.05    0.5000000  0.10    \n",
            "[77]  {CORNFLAKES, SUGAR}           => {COFFEE}     0.05    1.0000000  0.05    \n",
            "[78]  {BISCUIT, SUGAR}              => {BREAD}      0.05    1.0000000  0.05    \n",
            "[79]  {COFFEE, SUGAR}               => {BREAD}      0.10    0.5000000  0.20    \n",
            "[80]  {BREAD, SUGAR}                => {COFFEE}     0.10    0.5000000  0.20    \n",
            "[81]  {BREAD, COFFEE}               => {SUGAR}      0.10    0.6666667  0.15    \n",
            "[82]  {CORNFLAKES, TEA}             => {COFFEE}     0.05    0.5000000  0.10    \n",
            "[83]  {COFFEE, TEA}                 => {CORNFLAKES} 0.05    1.0000000  0.05    \n",
            "[84]  {BISCUIT, CORNFLAKES}         => {COFFEE}     0.10    0.6666667  0.15    \n",
            "[85]  {COFFEE, CORNFLAKES}          => {BISCUIT}    0.10    0.5000000  0.20    \n",
            "[86]  {BISCUIT, COFFEE}             => {CORNFLAKES} 0.10    1.0000000  0.10    \n",
            "[87]  {BREAD, CORNFLAKES}           => {BISCUIT}    0.05    1.0000000  0.05    \n",
            "[88]  {BISCUIT, TEA}                => {BREAD}      0.05    0.5000000  0.10    \n",
            "[89]  {JAM, MAGGI, MILK}            => {BREAD}      0.05    1.0000000  0.05    \n",
            "[90]  {BREAD, JAM, MILK}            => {MAGGI}      0.05    1.0000000  0.05    \n",
            "[91]  {BREAD, JAM, MAGGI}           => {MILK}       0.05    0.5000000  0.10    \n",
            "[92]  {BREAD, MAGGI, MILK}          => {JAM}        0.05    1.0000000  0.05    \n",
            "[93]  {JAM, MAGGI, TEA}             => {BREAD}      0.05    1.0000000  0.05    \n",
            "[94]  {BREAD, JAM, MAGGI}           => {TEA}        0.05    0.5000000  0.10    \n",
            "[95]  {BREAD, JAM, TEA}             => {MAGGI}      0.05    1.0000000  0.05    \n",
            "[96]  {BREAD, MAGGI, TEA}           => {JAM}        0.05    0.5000000  0.10    \n",
            "[97]  {BISCUIT, COCK, CORNFLAKES}   => {COFFEE}     0.10    1.0000000  0.10    \n",
            "[98]  {COCK, COFFEE, CORNFLAKES}    => {BISCUIT}    0.10    1.0000000  0.10    \n",
            "[99]  {BISCUIT, COCK, COFFEE}       => {CORNFLAKES} 0.10    1.0000000  0.10    \n",
            "[100] {BISCUIT, COFFEE, CORNFLAKES} => {COCK}       0.10    1.0000000  0.10    \n",
            "[101] {CORNFLAKES, MILK, TEA}       => {COFFEE}     0.05    1.0000000  0.05    \n",
            "[102] {COFFEE, CORNFLAKES, MILK}    => {TEA}        0.05    1.0000000  0.05    \n",
            "[103] {COFFEE, MILK, TEA}           => {CORNFLAKES} 0.05    1.0000000  0.05    \n",
            "[104] {COFFEE, CORNFLAKES, TEA}     => {MILK}       0.05    1.0000000  0.05    \n",
            "[105] {BISCUIT, CORNFLAKES, MILK}   => {BREAD}      0.05    1.0000000  0.05    \n",
            "[106] {BREAD, CORNFLAKES, MILK}     => {BISCUIT}    0.05    1.0000000  0.05    \n",
            "[107] {BISCUIT, BREAD, MILK}        => {CORNFLAKES} 0.05    0.5000000  0.10    \n",
            "[108] {BISCUIT, BREAD, CORNFLAKES}  => {MILK}       0.05    1.0000000  0.05    \n",
            "[109] {BISCUIT, MAGGI, TEA}         => {BREAD}      0.05    0.5000000  0.10    \n",
            "[110] {BREAD, MAGGI, TEA}           => {BISCUIT}    0.05    0.5000000  0.10    \n",
            "[111] {BISCUIT, BREAD, MAGGI}       => {TEA}        0.05    1.0000000  0.05    \n",
            "[112] {BISCUIT, BREAD, TEA}         => {MAGGI}      0.05    1.0000000  0.05    \n",
            "      lift       count\n",
            "[1]    1.0000000 13   \n",
            "[2]    2.0000000  1   \n",
            "[3]    4.0000000  2   \n",
            "[4]    1.4285714  1   \n",
            "[5]    1.5384615  2   \n",
            "[6]    2.2222222  2   \n",
            "[7]    1.9047619  2   \n",
            "[8]    2.5000000  3   \n",
            "[9]    1.6666667  2   \n",
            "[10]   1.4285714  2   \n",
            "[11]   1.1538462  3   \n",
            "[12]   1.2307692  4   \n",
            "[13]   2.2857143  4   \n",
            "[14]   2.2857143  4   \n",
            "[15]   0.9230769  3   \n",
            "[16]   1.6666667  4   \n",
            "[17]   1.6666667  4   \n",
            "[18]   1.0256410  4   \n",
            "[19]   1.4285714  3   \n",
            "[20]   1.6666667  4   \n",
            "[21]   1.6666667  4   \n",
            "[22]   0.8791209  4   \n",
            "[23]   0.8791209  4   \n",
            "[24]   4.0000000  1   \n",
            "[25]   2.0000000  1   \n",
            "[26]  10.0000000  1   \n",
            "[27]   1.5384615  1   \n",
            "[28]   2.0000000  1   \n",
            "[29]   1.4285714  1   \n",
            "[30]   4.0000000  1   \n",
            "[31]   1.5384615  2   \n",
            "[32]   4.0000000  2   \n",
            "[33]   6.6666667  2   \n",
            "[34]   1.5384615  1   \n",
            "[35]   1.4285714  1   \n",
            "[36]   2.8571429  2   \n",
            "[37]   3.3333333  2   \n",
            "[38]   4.4444444  2   \n",
            "[39]   2.5000000  2   \n",
            "[40]   2.2222222  2   \n",
            "[41]   3.3333333  2   \n",
            "[42]   2.5000000  2   \n",
            "[43]   1.9047619  2   \n",
            "[44]   6.6666667  2   \n",
            "[45]   2.5000000  1   \n",
            "[46]   1.2500000  1   \n",
            "[47]   3.3333333  1   \n",
            "[48]   0.7692308  1   \n",
            "[49]   1.5384615  2   \n",
            "[50]   1.9047619  2   \n",
            "[51]   2.5000000  2   \n",
            "[52]   1.5384615  1   \n",
            "[53]   1.4285714  1   \n",
            "[54]   3.3333333  1   \n",
            "[55]   2.0000000  1   \n",
            "[56]   1.4285714  1   \n",
            "[57]   1.6666667  1   \n",
            "[58]   1.2500000  1   \n",
            "[59]   3.3333333  1   \n",
            "[60]   0.7692308  1   \n",
            "[61]   4.0000000  1   \n",
            "[62]   2.5000000  1   \n",
            "[63]   2.8571429  1   \n",
            "[64]   4.0000000  1   \n",
            "[65]   1.5384615  2   \n",
            "[66]   1.4285714  2   \n",
            "[67]   2.0000000  2   \n",
            "[68]   2.8571429  1   \n",
            "[69]   2.0000000  1   \n",
            "[70]   1.4285714  2   \n",
            "[71]   2.8571429  2   \n",
            "[72]   4.0000000  2   \n",
            "[73]   0.7692308  2   \n",
            "[74]   1.9047619  2   \n",
            "[75]   2.0000000  2   \n",
            "[76]   0.7692308  1   \n",
            "[77]   2.5000000  1   \n",
            "[78]   1.5384615  1   \n",
            "[79]   0.7692308  2   \n",
            "[80]   1.2500000  2   \n",
            "[81]   2.2222222  2   \n",
            "[82]   1.2500000  1   \n",
            "[83]   3.3333333  1   \n",
            "[84]   1.6666667  2   \n",
            "[85]   1.4285714  2   \n",
            "[86]   3.3333333  2   \n",
            "[87]   2.8571429  1   \n",
            "[88]   0.7692308  1   \n",
            "[89]   1.5384615  1   \n",
            "[90]   4.0000000  1   \n",
            "[91]   2.0000000  1   \n",
            "[92]  10.0000000  1   \n",
            "[93]   1.5384615  1   \n",
            "[94]   1.4285714  1   \n",
            "[95]   4.0000000  1   \n",
            "[96]   5.0000000  1   \n",
            "[97]   2.5000000  2   \n",
            "[98]   2.8571429  2   \n",
            "[99]   3.3333333  2   \n",
            "[100]  6.6666667  2   \n",
            "[101]  2.5000000  1   \n",
            "[102]  2.8571429  1   \n",
            "[103]  3.3333333  1   \n",
            "[104]  4.0000000  1   \n",
            "[105]  1.5384615  1   \n",
            "[106]  2.8571429  1   \n",
            "[107]  1.6666667  1   \n",
            "[108]  4.0000000  1   \n",
            "[109]  0.7692308  1   \n",
            "[110]  1.4285714  1   \n",
            "[111]  2.8571429  1   \n",
            "[112]  4.0000000  1   \n"
          ]
        }
      ]
    },
    {
      "cell_type": "code",
      "source": [
        "inspect(sort(regras1, by=\"confidence\")[40:70])"
      ],
      "metadata": {
        "colab": {
          "base_uri": "https://localhost:8080/"
        },
        "id": "Opb7dAI2h27P",
        "outputId": "fc051eb8-513b-494e-876f-2f41f338acbf"
      },
      "execution_count": null,
      "outputs": [
        {
          "output_type": "stream",
          "name": "stdout",
          "text": [
            "     lhs                              rhs          support confidence coverage\n",
            "[1]  {BISCUIT, COCK, CORNFLAKES}   => {COFFEE}     0.10    1.0000000  0.10    \n",
            "[2]  {COCK, COFFEE, CORNFLAKES}    => {BISCUIT}    0.10    1.0000000  0.10    \n",
            "[3]  {BISCUIT, COCK, COFFEE}       => {CORNFLAKES} 0.10    1.0000000  0.10    \n",
            "[4]  {BISCUIT, COFFEE, CORNFLAKES} => {COCK}       0.10    1.0000000  0.10    \n",
            "[5]  {CORNFLAKES, MILK, TEA}       => {COFFEE}     0.05    1.0000000  0.05    \n",
            "[6]  {COFFEE, CORNFLAKES, MILK}    => {TEA}        0.05    1.0000000  0.05    \n",
            "[7]  {COFFEE, MILK, TEA}           => {CORNFLAKES} 0.05    1.0000000  0.05    \n",
            "[8]  {COFFEE, CORNFLAKES, TEA}     => {MILK}       0.05    1.0000000  0.05    \n",
            "[9]  {BISCUIT, CORNFLAKES, MILK}   => {BREAD}      0.05    1.0000000  0.05    \n",
            "[10] {BREAD, CORNFLAKES, MILK}     => {BISCUIT}    0.05    1.0000000  0.05    \n",
            "[11] {BISCUIT, BREAD, CORNFLAKES}  => {MILK}       0.05    1.0000000  0.05    \n",
            "[12] {BISCUIT, BREAD, MAGGI}       => {TEA}        0.05    1.0000000  0.05    \n",
            "[13] {BISCUIT, BREAD, TEA}         => {MAGGI}      0.05    1.0000000  0.05    \n",
            "[14] {MILK}                        => {BREAD}      0.20    0.8000000  0.25    \n",
            "[15] {MAGGI}                       => {TEA}        0.20    0.8000000  0.25    \n",
            "[16] {BOURNVITA}                   => {BREAD}      0.15    0.7500000  0.20    \n",
            "[17] {COCK}                        => {CORNFLAKES} 0.10    0.6666667  0.15    \n",
            "[18] {COCK}                        => {BISCUIT}    0.10    0.6666667  0.15    \n",
            "[19] {SUGAR}                       => {COFFEE}     0.20    0.6666667  0.30    \n",
            "[20] {SUGAR}                       => {BREAD}      0.20    0.6666667  0.30    \n",
            "[21] {CORNFLAKES}                  => {COFFEE}     0.20    0.6666667  0.30    \n",
            "[22] {BREAD, MAGGI}                => {JAM}        0.10    0.6666667  0.15    \n",
            "[23] {BISCUIT, CORNFLAKES}         => {COCK}       0.10    0.6666667  0.15    \n",
            "[24] {COCK, COFFEE}                => {CORNFLAKES} 0.10    0.6666667  0.15    \n",
            "[25] {COCK, COFFEE}                => {BISCUIT}    0.10    0.6666667  0.15    \n",
            "[26] {BOURNVITA, BREAD}            => {TEA}        0.10    0.6666667  0.15    \n",
            "[27] {BREAD, MAGGI}                => {TEA}        0.10    0.6666667  0.15    \n",
            "[28] {BREAD, COFFEE}               => {SUGAR}      0.10    0.6666667  0.15    \n",
            "[29] {BISCUIT, CORNFLAKES}         => {COFFEE}     0.10    0.6666667  0.15    \n",
            "[30] {}                            => {BREAD}      0.65    0.6500000  1.00    \n",
            "[31] {MAGGI}                       => {BREAD}      0.15    0.6000000  0.25    \n",
            "     lift      count\n",
            "[1]  2.5000000  2   \n",
            "[2]  2.8571429  2   \n",
            "[3]  3.3333333  2   \n",
            "[4]  6.6666667  2   \n",
            "[5]  2.5000000  1   \n",
            "[6]  2.8571429  1   \n",
            "[7]  3.3333333  1   \n",
            "[8]  4.0000000  1   \n",
            "[9]  1.5384615  1   \n",
            "[10] 2.8571429  1   \n",
            "[11] 4.0000000  1   \n",
            "[12] 2.8571429  1   \n",
            "[13] 4.0000000  1   \n",
            "[14] 1.2307692  4   \n",
            "[15] 2.2857143  4   \n",
            "[16] 1.1538462  3   \n",
            "[17] 2.2222222  2   \n",
            "[18] 1.9047619  2   \n",
            "[19] 1.6666667  4   \n",
            "[20] 1.0256410  4   \n",
            "[21] 1.6666667  4   \n",
            "[22] 6.6666667  2   \n",
            "[23] 4.4444444  2   \n",
            "[24] 2.2222222  2   \n",
            "[25] 1.9047619  2   \n",
            "[26] 1.9047619  2   \n",
            "[27] 1.9047619  2   \n",
            "[28] 2.2222222  2   \n",
            "[29] 1.6666667  2   \n",
            "[30] 1.0000000 13   \n",
            "[31] 0.9230769  3   \n"
          ]
        }
      ]
    },
    {
      "cell_type": "code",
      "source": [
        "base = read.csv(url,header = F,sep = \",\")\n",
        "summary(base)"
      ],
      "metadata": {
        "colab": {
          "base_uri": "https://localhost:8080/",
          "height": 236
        },
        "id": "268jnIUVaGV5",
        "outputId": "f3cb6697-d9d5-4830-a495-d2b849b9d79b"
      },
      "execution_count": null,
      "outputs": [
        {
          "output_type": "display_data",
          "data": {
            "text/plain": [
              "      V1                 V2                 V3                 V4           \n",
              " Length:20          Length:20          Length:20          Length:20         \n",
              " Class :character   Class :character   Class :character   Class :character  \n",
              " Mode  :character   Mode  :character   Mode  :character   Mode  :character  \n",
              "      V5                 V6                 V7                 V8           \n",
              " Length:20          Length:20          Length:20          Length:20         \n",
              " Class :character   Class :character   Class :character   Class :character  \n",
              " Mode  :character   Mode  :character   Mode  :character   Mode  :character  \n",
              "      V9                V10                V11           \n",
              " Length:20          Length:20          Length:20         \n",
              " Class :character   Class :character   Class :character  \n",
              " Mode  :character   Mode  :character   Mode  :character  "
            ]
          },
          "metadata": {}
        }
      ]
    }
  ]
}